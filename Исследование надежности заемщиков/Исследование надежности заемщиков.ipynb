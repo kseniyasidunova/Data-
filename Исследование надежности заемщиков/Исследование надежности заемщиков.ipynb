{
 "cells": [
  {
   "cell_type": "markdown",
   "id": "81bef02d",
   "metadata": {
    "deletable": false,
    "editable": false,
    "id": "c81daeeb"
   },
   "source": [
    "# Исследование надежности заемщиков\n"
   ]
  },
  {
   "cell_type": "markdown",
   "id": "4661af89",
   "metadata": {
    "deletable": false,
    "editable": false,
    "id": "827c20bf"
   },
   "source": [
    "## Открываем таблицу и изучаем общую информацию о данных"
   ]
  },
  {
   "cell_type": "markdown",
   "id": "741579bd",
   "metadata": {
    "deletable": false,
    "editable": false,
    "id": "e7a14c31"
   },
   "source": [
    "**Импортируем библиотеку pandas. Считаем данные из csv-файла в датафрейм и сохраняем в переменную `data`. Путь к файлу:**\n",
    "\n",
    "`/datasets/data.csv`"
   ]
  },
  {
   "cell_type": "code",
   "execution_count": 1,
   "id": "48e3309b",
   "metadata": {
    "deletable": false,
    "id": "7bcf75c9"
   },
   "outputs": [],
   "source": [
    "import pandas as pd\n",
    "\n",
    "try:\n",
    "    data = pd.read_csv('/datasets/data.csv')\n",
    "except:\n",
    "    data = pd.read_csv('https://code.s3.yandex.net/datasets/data.csv')"
   ]
  },
  {
   "cell_type": "markdown",
   "id": "74a04d16",
   "metadata": {
    "deletable": false,
    "editable": false,
    "id": "b8038fe3"
   },
   "source": [
    "** Выведим первые 20 строчек датафрейма `data` на экран.**"
   ]
  },
  {
   "cell_type": "code",
   "execution_count": 2,
   "id": "278e4906",
   "metadata": {
    "deletable": false,
    "id": "2a7cab99",
    "outputId": "1a8f3ef2-d323-4ec2-ddf7-89670b5944c4"
   },
   "outputs": [
    {
     "data": {
      "text/html": [
       "<div>\n",
       "<style scoped>\n",
       "    .dataframe tbody tr th:only-of-type {\n",
       "        vertical-align: middle;\n",
       "    }\n",
       "\n",
       "    .dataframe tbody tr th {\n",
       "        vertical-align: top;\n",
       "    }\n",
       "\n",
       "    .dataframe thead th {\n",
       "        text-align: right;\n",
       "    }\n",
       "</style>\n",
       "<table border=\"1\" class=\"dataframe\">\n",
       "  <thead>\n",
       "    <tr style=\"text-align: right;\">\n",
       "      <th></th>\n",
       "      <th>children</th>\n",
       "      <th>days_employed</th>\n",
       "      <th>dob_years</th>\n",
       "      <th>education</th>\n",
       "      <th>education_id</th>\n",
       "      <th>family_status</th>\n",
       "      <th>family_status_id</th>\n",
       "      <th>gender</th>\n",
       "      <th>income_type</th>\n",
       "      <th>debt</th>\n",
       "      <th>total_income</th>\n",
       "      <th>purpose</th>\n",
       "    </tr>\n",
       "  </thead>\n",
       "  <tbody>\n",
       "    <tr>\n",
       "      <th>0</th>\n",
       "      <td>1</td>\n",
       "      <td>-8437.673028</td>\n",
       "      <td>42</td>\n",
       "      <td>высшее</td>\n",
       "      <td>0</td>\n",
       "      <td>женат / замужем</td>\n",
       "      <td>0</td>\n",
       "      <td>F</td>\n",
       "      <td>сотрудник</td>\n",
       "      <td>0</td>\n",
       "      <td>253875.639453</td>\n",
       "      <td>покупка жилья</td>\n",
       "    </tr>\n",
       "    <tr>\n",
       "      <th>1</th>\n",
       "      <td>1</td>\n",
       "      <td>-4024.803754</td>\n",
       "      <td>36</td>\n",
       "      <td>среднее</td>\n",
       "      <td>1</td>\n",
       "      <td>женат / замужем</td>\n",
       "      <td>0</td>\n",
       "      <td>F</td>\n",
       "      <td>сотрудник</td>\n",
       "      <td>0</td>\n",
       "      <td>112080.014102</td>\n",
       "      <td>приобретение автомобиля</td>\n",
       "    </tr>\n",
       "    <tr>\n",
       "      <th>2</th>\n",
       "      <td>0</td>\n",
       "      <td>-5623.422610</td>\n",
       "      <td>33</td>\n",
       "      <td>Среднее</td>\n",
       "      <td>1</td>\n",
       "      <td>женат / замужем</td>\n",
       "      <td>0</td>\n",
       "      <td>M</td>\n",
       "      <td>сотрудник</td>\n",
       "      <td>0</td>\n",
       "      <td>145885.952297</td>\n",
       "      <td>покупка жилья</td>\n",
       "    </tr>\n",
       "    <tr>\n",
       "      <th>3</th>\n",
       "      <td>3</td>\n",
       "      <td>-4124.747207</td>\n",
       "      <td>32</td>\n",
       "      <td>среднее</td>\n",
       "      <td>1</td>\n",
       "      <td>женат / замужем</td>\n",
       "      <td>0</td>\n",
       "      <td>M</td>\n",
       "      <td>сотрудник</td>\n",
       "      <td>0</td>\n",
       "      <td>267628.550329</td>\n",
       "      <td>дополнительное образование</td>\n",
       "    </tr>\n",
       "    <tr>\n",
       "      <th>4</th>\n",
       "      <td>0</td>\n",
       "      <td>340266.072047</td>\n",
       "      <td>53</td>\n",
       "      <td>среднее</td>\n",
       "      <td>1</td>\n",
       "      <td>гражданский брак</td>\n",
       "      <td>1</td>\n",
       "      <td>F</td>\n",
       "      <td>пенсионер</td>\n",
       "      <td>0</td>\n",
       "      <td>158616.077870</td>\n",
       "      <td>сыграть свадьбу</td>\n",
       "    </tr>\n",
       "    <tr>\n",
       "      <th>5</th>\n",
       "      <td>0</td>\n",
       "      <td>-926.185831</td>\n",
       "      <td>27</td>\n",
       "      <td>высшее</td>\n",
       "      <td>0</td>\n",
       "      <td>гражданский брак</td>\n",
       "      <td>1</td>\n",
       "      <td>M</td>\n",
       "      <td>компаньон</td>\n",
       "      <td>0</td>\n",
       "      <td>255763.565419</td>\n",
       "      <td>покупка жилья</td>\n",
       "    </tr>\n",
       "    <tr>\n",
       "      <th>6</th>\n",
       "      <td>0</td>\n",
       "      <td>-2879.202052</td>\n",
       "      <td>43</td>\n",
       "      <td>высшее</td>\n",
       "      <td>0</td>\n",
       "      <td>женат / замужем</td>\n",
       "      <td>0</td>\n",
       "      <td>F</td>\n",
       "      <td>компаньон</td>\n",
       "      <td>0</td>\n",
       "      <td>240525.971920</td>\n",
       "      <td>операции с жильем</td>\n",
       "    </tr>\n",
       "    <tr>\n",
       "      <th>7</th>\n",
       "      <td>0</td>\n",
       "      <td>-152.779569</td>\n",
       "      <td>50</td>\n",
       "      <td>СРЕДНЕЕ</td>\n",
       "      <td>1</td>\n",
       "      <td>женат / замужем</td>\n",
       "      <td>0</td>\n",
       "      <td>M</td>\n",
       "      <td>сотрудник</td>\n",
       "      <td>0</td>\n",
       "      <td>135823.934197</td>\n",
       "      <td>образование</td>\n",
       "    </tr>\n",
       "    <tr>\n",
       "      <th>8</th>\n",
       "      <td>2</td>\n",
       "      <td>-6929.865299</td>\n",
       "      <td>35</td>\n",
       "      <td>ВЫСШЕЕ</td>\n",
       "      <td>0</td>\n",
       "      <td>гражданский брак</td>\n",
       "      <td>1</td>\n",
       "      <td>F</td>\n",
       "      <td>сотрудник</td>\n",
       "      <td>0</td>\n",
       "      <td>95856.832424</td>\n",
       "      <td>на проведение свадьбы</td>\n",
       "    </tr>\n",
       "    <tr>\n",
       "      <th>9</th>\n",
       "      <td>0</td>\n",
       "      <td>-2188.756445</td>\n",
       "      <td>41</td>\n",
       "      <td>среднее</td>\n",
       "      <td>1</td>\n",
       "      <td>женат / замужем</td>\n",
       "      <td>0</td>\n",
       "      <td>M</td>\n",
       "      <td>сотрудник</td>\n",
       "      <td>0</td>\n",
       "      <td>144425.938277</td>\n",
       "      <td>покупка жилья для семьи</td>\n",
       "    </tr>\n",
       "    <tr>\n",
       "      <th>10</th>\n",
       "      <td>2</td>\n",
       "      <td>-4171.483647</td>\n",
       "      <td>36</td>\n",
       "      <td>высшее</td>\n",
       "      <td>0</td>\n",
       "      <td>женат / замужем</td>\n",
       "      <td>0</td>\n",
       "      <td>M</td>\n",
       "      <td>компаньон</td>\n",
       "      <td>0</td>\n",
       "      <td>113943.491460</td>\n",
       "      <td>покупка недвижимости</td>\n",
       "    </tr>\n",
       "    <tr>\n",
       "      <th>11</th>\n",
       "      <td>0</td>\n",
       "      <td>-792.701887</td>\n",
       "      <td>40</td>\n",
       "      <td>среднее</td>\n",
       "      <td>1</td>\n",
       "      <td>женат / замужем</td>\n",
       "      <td>0</td>\n",
       "      <td>F</td>\n",
       "      <td>сотрудник</td>\n",
       "      <td>0</td>\n",
       "      <td>77069.234271</td>\n",
       "      <td>покупка коммерческой недвижимости</td>\n",
       "    </tr>\n",
       "    <tr>\n",
       "      <th>12</th>\n",
       "      <td>0</td>\n",
       "      <td>NaN</td>\n",
       "      <td>65</td>\n",
       "      <td>среднее</td>\n",
       "      <td>1</td>\n",
       "      <td>гражданский брак</td>\n",
       "      <td>1</td>\n",
       "      <td>M</td>\n",
       "      <td>пенсионер</td>\n",
       "      <td>0</td>\n",
       "      <td>NaN</td>\n",
       "      <td>сыграть свадьбу</td>\n",
       "    </tr>\n",
       "    <tr>\n",
       "      <th>13</th>\n",
       "      <td>0</td>\n",
       "      <td>-1846.641941</td>\n",
       "      <td>54</td>\n",
       "      <td>неоконченное высшее</td>\n",
       "      <td>2</td>\n",
       "      <td>женат / замужем</td>\n",
       "      <td>0</td>\n",
       "      <td>F</td>\n",
       "      <td>сотрудник</td>\n",
       "      <td>0</td>\n",
       "      <td>130458.228857</td>\n",
       "      <td>приобретение автомобиля</td>\n",
       "    </tr>\n",
       "    <tr>\n",
       "      <th>14</th>\n",
       "      <td>0</td>\n",
       "      <td>-1844.956182</td>\n",
       "      <td>56</td>\n",
       "      <td>высшее</td>\n",
       "      <td>0</td>\n",
       "      <td>гражданский брак</td>\n",
       "      <td>1</td>\n",
       "      <td>F</td>\n",
       "      <td>компаньон</td>\n",
       "      <td>1</td>\n",
       "      <td>165127.911772</td>\n",
       "      <td>покупка жилой недвижимости</td>\n",
       "    </tr>\n",
       "    <tr>\n",
       "      <th>15</th>\n",
       "      <td>1</td>\n",
       "      <td>-972.364419</td>\n",
       "      <td>26</td>\n",
       "      <td>среднее</td>\n",
       "      <td>1</td>\n",
       "      <td>женат / замужем</td>\n",
       "      <td>0</td>\n",
       "      <td>F</td>\n",
       "      <td>сотрудник</td>\n",
       "      <td>0</td>\n",
       "      <td>116820.904450</td>\n",
       "      <td>строительство собственной недвижимости</td>\n",
       "    </tr>\n",
       "    <tr>\n",
       "      <th>16</th>\n",
       "      <td>0</td>\n",
       "      <td>-1719.934226</td>\n",
       "      <td>35</td>\n",
       "      <td>среднее</td>\n",
       "      <td>1</td>\n",
       "      <td>женат / замужем</td>\n",
       "      <td>0</td>\n",
       "      <td>F</td>\n",
       "      <td>сотрудник</td>\n",
       "      <td>0</td>\n",
       "      <td>289202.704229</td>\n",
       "      <td>недвижимость</td>\n",
       "    </tr>\n",
       "    <tr>\n",
       "      <th>17</th>\n",
       "      <td>0</td>\n",
       "      <td>-2369.999720</td>\n",
       "      <td>33</td>\n",
       "      <td>высшее</td>\n",
       "      <td>0</td>\n",
       "      <td>гражданский брак</td>\n",
       "      <td>1</td>\n",
       "      <td>M</td>\n",
       "      <td>сотрудник</td>\n",
       "      <td>0</td>\n",
       "      <td>90410.586745</td>\n",
       "      <td>строительство недвижимости</td>\n",
       "    </tr>\n",
       "    <tr>\n",
       "      <th>18</th>\n",
       "      <td>0</td>\n",
       "      <td>400281.136913</td>\n",
       "      <td>53</td>\n",
       "      <td>среднее</td>\n",
       "      <td>1</td>\n",
       "      <td>вдовец / вдова</td>\n",
       "      <td>2</td>\n",
       "      <td>F</td>\n",
       "      <td>пенсионер</td>\n",
       "      <td>0</td>\n",
       "      <td>56823.777243</td>\n",
       "      <td>на покупку подержанного автомобиля</td>\n",
       "    </tr>\n",
       "    <tr>\n",
       "      <th>19</th>\n",
       "      <td>0</td>\n",
       "      <td>-10038.818549</td>\n",
       "      <td>48</td>\n",
       "      <td>СРЕДНЕЕ</td>\n",
       "      <td>1</td>\n",
       "      <td>в разводе</td>\n",
       "      <td>3</td>\n",
       "      <td>F</td>\n",
       "      <td>сотрудник</td>\n",
       "      <td>0</td>\n",
       "      <td>242831.107982</td>\n",
       "      <td>на покупку своего автомобиля</td>\n",
       "    </tr>\n",
       "  </tbody>\n",
       "</table>\n",
       "</div>"
      ],
      "text/plain": [
       "    children  days_employed  dob_years            education  education_id  \\\n",
       "0          1   -8437.673028         42               высшее             0   \n",
       "1          1   -4024.803754         36              среднее             1   \n",
       "2          0   -5623.422610         33              Среднее             1   \n",
       "3          3   -4124.747207         32              среднее             1   \n",
       "4          0  340266.072047         53              среднее             1   \n",
       "5          0    -926.185831         27               высшее             0   \n",
       "6          0   -2879.202052         43               высшее             0   \n",
       "7          0    -152.779569         50              СРЕДНЕЕ             1   \n",
       "8          2   -6929.865299         35               ВЫСШЕЕ             0   \n",
       "9          0   -2188.756445         41              среднее             1   \n",
       "10         2   -4171.483647         36               высшее             0   \n",
       "11         0    -792.701887         40              среднее             1   \n",
       "12         0            NaN         65              среднее             1   \n",
       "13         0   -1846.641941         54  неоконченное высшее             2   \n",
       "14         0   -1844.956182         56               высшее             0   \n",
       "15         1    -972.364419         26              среднее             1   \n",
       "16         0   -1719.934226         35              среднее             1   \n",
       "17         0   -2369.999720         33               высшее             0   \n",
       "18         0  400281.136913         53              среднее             1   \n",
       "19         0  -10038.818549         48              СРЕДНЕЕ             1   \n",
       "\n",
       "       family_status  family_status_id gender income_type  debt  \\\n",
       "0    женат / замужем                 0      F   сотрудник     0   \n",
       "1    женат / замужем                 0      F   сотрудник     0   \n",
       "2    женат / замужем                 0      M   сотрудник     0   \n",
       "3    женат / замужем                 0      M   сотрудник     0   \n",
       "4   гражданский брак                 1      F   пенсионер     0   \n",
       "5   гражданский брак                 1      M   компаньон     0   \n",
       "6    женат / замужем                 0      F   компаньон     0   \n",
       "7    женат / замужем                 0      M   сотрудник     0   \n",
       "8   гражданский брак                 1      F   сотрудник     0   \n",
       "9    женат / замужем                 0      M   сотрудник     0   \n",
       "10   женат / замужем                 0      M   компаньон     0   \n",
       "11   женат / замужем                 0      F   сотрудник     0   \n",
       "12  гражданский брак                 1      M   пенсионер     0   \n",
       "13   женат / замужем                 0      F   сотрудник     0   \n",
       "14  гражданский брак                 1      F   компаньон     1   \n",
       "15   женат / замужем                 0      F   сотрудник     0   \n",
       "16   женат / замужем                 0      F   сотрудник     0   \n",
       "17  гражданский брак                 1      M   сотрудник     0   \n",
       "18    вдовец / вдова                 2      F   пенсионер     0   \n",
       "19         в разводе                 3      F   сотрудник     0   \n",
       "\n",
       "     total_income                                 purpose  \n",
       "0   253875.639453                           покупка жилья  \n",
       "1   112080.014102                 приобретение автомобиля  \n",
       "2   145885.952297                           покупка жилья  \n",
       "3   267628.550329              дополнительное образование  \n",
       "4   158616.077870                         сыграть свадьбу  \n",
       "5   255763.565419                           покупка жилья  \n",
       "6   240525.971920                       операции с жильем  \n",
       "7   135823.934197                             образование  \n",
       "8    95856.832424                   на проведение свадьбы  \n",
       "9   144425.938277                 покупка жилья для семьи  \n",
       "10  113943.491460                    покупка недвижимости  \n",
       "11   77069.234271       покупка коммерческой недвижимости  \n",
       "12            NaN                         сыграть свадьбу  \n",
       "13  130458.228857                 приобретение автомобиля  \n",
       "14  165127.911772              покупка жилой недвижимости  \n",
       "15  116820.904450  строительство собственной недвижимости  \n",
       "16  289202.704229                            недвижимость  \n",
       "17   90410.586745              строительство недвижимости  \n",
       "18   56823.777243      на покупку подержанного автомобиля  \n",
       "19  242831.107982            на покупку своего автомобиля  "
      ]
     },
     "execution_count": 2,
     "metadata": {},
     "output_type": "execute_result"
    }
   ],
   "source": [
    "data.head(20)"
   ]
  },
  {
   "cell_type": "markdown",
   "id": "b30ee3b4",
   "metadata": {
    "deletable": false,
    "editable": false,
    "id": "1c12e233"
   },
   "source": [
    "**Выведим основную информацию о датафрейме с помощью метода `info()`.**"
   ]
  },
  {
   "cell_type": "code",
   "execution_count": 3,
   "id": "ca753d9d",
   "metadata": {
    "deletable": false,
    "id": "2b757bca",
    "outputId": "15376089-8dad-46c9-b520-c05248d43158"
   },
   "outputs": [
    {
     "name": "stdout",
     "output_type": "stream",
     "text": [
      "<class 'pandas.core.frame.DataFrame'>\n",
      "RangeIndex: 21525 entries, 0 to 21524\n",
      "Data columns (total 12 columns):\n",
      " #   Column            Non-Null Count  Dtype  \n",
      "---  ------            --------------  -----  \n",
      " 0   children          21525 non-null  int64  \n",
      " 1   days_employed     19351 non-null  float64\n",
      " 2   dob_years         21525 non-null  int64  \n",
      " 3   education         21525 non-null  object \n",
      " 4   education_id      21525 non-null  int64  \n",
      " 5   family_status     21525 non-null  object \n",
      " 6   family_status_id  21525 non-null  int64  \n",
      " 7   gender            21525 non-null  object \n",
      " 8   income_type       21525 non-null  object \n",
      " 9   debt              21525 non-null  int64  \n",
      " 10  total_income      19351 non-null  float64\n",
      " 11  purpose           21525 non-null  object \n",
      "dtypes: float64(2), int64(5), object(5)\n",
      "memory usage: 2.0+ MB\n"
     ]
    }
   ],
   "source": [
    "data.info()"
   ]
  },
  {
   "cell_type": "markdown",
   "id": "c1a10518",
   "metadata": {
    "deletable": false,
    "editable": false,
    "id": "333ec665"
   },
   "source": [
    "## Предобработка данных"
   ]
  },
  {
   "cell_type": "markdown",
   "id": "c50b6441",
   "metadata": {
    "deletable": false,
    "editable": false,
    "id": "02d92d53"
   },
   "source": [
    "### Удаление пропусков"
   ]
  },
  {
   "cell_type": "markdown",
   "id": "84179747",
   "metadata": {
    "deletable": false,
    "editable": false,
    "id": "cd84967c"
   },
   "source": [
    "**Выведим количество пропущенных значений для каждого столбца. Используем комбинацию двух методов.**"
   ]
  },
  {
   "cell_type": "code",
   "execution_count": 4,
   "id": "c91dd7e8",
   "metadata": {
    "deletable": false,
    "id": "7f9b2309",
    "outputId": "81f4d817-781c-465c-ed15-91ce4446810d"
   },
   "outputs": [
    {
     "data": {
      "text/plain": [
       "children               0\n",
       "days_employed       2174\n",
       "dob_years              0\n",
       "education              0\n",
       "education_id           0\n",
       "family_status          0\n",
       "family_status_id       0\n",
       "gender                 0\n",
       "income_type            0\n",
       "debt                   0\n",
       "total_income        2174\n",
       "purpose                0\n",
       "dtype: int64"
      ]
     },
     "execution_count": 4,
     "metadata": {},
     "output_type": "execute_result"
    }
   ],
   "source": [
    "data.isna().sum()"
   ]
  },
  {
   "cell_type": "markdown",
   "id": "0dc90c27",
   "metadata": {
    "deletable": false,
    "editable": false,
    "id": "db86e27b"
   },
   "source": [
    "**В двух столбцах есть пропущенные значения. Один из них — `days_employed`. Пропуски в этом столбце обработаем на следующем этапе. Другой столбец с пропущенными значениями — `total_income` — хранит данные о доходах. На сумму дохода сильнее всего влияет тип занятости, поэтому заполнить пропуски в этом столбце нужно медианным значением по каждому типу из столбца `income_type`. Например, у человека с типом занятости `сотрудник` пропуск в столбце `total_income` должен быть заполнен медианным доходом среди всех записей с тем же типом.**"
   ]
  },
  {
   "cell_type": "code",
   "execution_count": 5,
   "id": "f6c29c5c",
   "metadata": {
    "deletable": false,
    "id": "42006a93"
   },
   "outputs": [],
   "source": [
    "for t in data['income_type'].unique():\n",
    "    data.loc[(data['income_type'] == t) & (data['total_income'].isna()), 'total_income'] = \\\n",
    "    data.loc[(data['income_type'] == t), 'total_income'].median()"
   ]
  },
  {
   "cell_type": "markdown",
   "id": "a9b2e1ce",
   "metadata": {
    "deletable": false,
    "editable": false,
    "id": "89da5ece"
   },
   "source": [
    "### Обработка аномальных значений"
   ]
  },
  {
   "cell_type": "markdown",
   "id": "1bf27012",
   "metadata": {
    "deletable": false,
    "editable": false,
    "id": "57964554"
   },
   "source": [
    "** Обработаем значения в столбце `days_employed`: заменим все отрицательные значения положительными с помощью метода `abs()`.**"
   ]
  },
  {
   "cell_type": "code",
   "execution_count": 6,
   "id": "85eccfec",
   "metadata": {
    "deletable": false,
    "id": "f6f055bf"
   },
   "outputs": [],
   "source": [
    "data['days_employed'] = data['days_employed'].abs()"
   ]
  },
  {
   "cell_type": "markdown",
   "id": "06e2568f",
   "metadata": {
    "deletable": false,
    "editable": false,
    "id": "6107dd2f"
   },
   "source": [
    "**З Для каждого типа занятости выведем медианное значение трудового стажа `days_employed` в днях.**"
   ]
  },
  {
   "cell_type": "code",
   "execution_count": 7,
   "id": "9b6ad33c",
   "metadata": {
    "deletable": false,
    "id": "85a5faf6",
    "outputId": "801ef80e-522b-4668-f34e-565af7432bcf"
   },
   "outputs": [
    {
     "data": {
      "text/plain": [
       "income_type\n",
       "безработный        366413.652744\n",
       "в декрете            3296.759962\n",
       "госслужащий          2689.368353\n",
       "компаньон            1547.382223\n",
       "пенсионер          365213.306266\n",
       "предприниматель       520.848083\n",
       "сотрудник            1574.202821\n",
       "студент               578.751554\n",
       "Name: days_employed, dtype: float64"
      ]
     },
     "execution_count": 7,
     "metadata": {},
     "output_type": "execute_result"
    }
   ],
   "source": [
    "data.groupby('income_type')['days_employed'].agg('median')"
   ]
  },
  {
   "cell_type": "markdown",
   "id": "b9721f9e",
   "metadata": {
    "deletable": false,
    "editable": false,
    "id": "38d1a030"
   },
   "source": [
    "У двух типов (безработные и пенсионеры) получатся аномально большие значения. Исправить такие значения сложно, поэтому оставим их как есть. Тем более этот столбец не понадобится вам для исследования."
   ]
  },
  {
   "cell_type": "markdown",
   "id": "68b463e8",
   "metadata": {
    "deletable": false,
    "editable": false,
    "id": "d8a9f147"
   },
   "source": [
    "** Выведем перечень уникальных значений столбца `children`.**"
   ]
  },
  {
   "cell_type": "code",
   "execution_count": 8,
   "id": "b5e27658",
   "metadata": {
    "deletable": false,
    "id": "ef5056eb",
    "outputId": "6975b15c-7f95-4697-d16d-a0c79b657b03"
   },
   "outputs": [
    {
     "data": {
      "text/plain": [
       "array([ 1,  0,  3,  2, -1,  4, 20,  5])"
      ]
     },
     "execution_count": 8,
     "metadata": {},
     "output_type": "execute_result"
    }
   ],
   "source": [
    "data['children'].unique()"
   ]
  },
  {
   "cell_type": "markdown",
   "id": "8640641b",
   "metadata": {
    "deletable": false,
    "editable": false,
    "id": "40b9ebf2"
   },
   "source": [
    "** В столбце `children` есть два аномальных значения. Удалим строки, в которых встречаются такие аномальные значения из датафрейма `data`.**"
   ]
  },
  {
   "cell_type": "code",
   "execution_count": 9,
   "id": "08af73f9",
   "metadata": {
    "deletable": false,
    "id": "3ff9801d"
   },
   "outputs": [],
   "source": [
    "data = data[(data['children'] != -1) & (data['children'] != 20)]"
   ]
  },
  {
   "cell_type": "markdown",
   "id": "c3e6edc1",
   "metadata": {
    "deletable": false,
    "editable": false,
    "id": "bbc4d0ce"
   },
   "source": [
    "**Задание 10. Ещё раз выведите перечень уникальных значений столбца `children`, чтобы убедиться, что артефакты удалены.**"
   ]
  },
  {
   "cell_type": "code",
   "execution_count": 10,
   "id": "f45b5ecd",
   "metadata": {
    "deletable": false,
    "id": "ad4fa8b7",
    "outputId": "b2097101-d49d-44d9-901b-32a65c9463d1"
   },
   "outputs": [
    {
     "data": {
      "text/plain": [
       "array([1, 0, 3, 2, 4, 5])"
      ]
     },
     "execution_count": 10,
     "metadata": {},
     "output_type": "execute_result"
    }
   ],
   "source": [
    "data['children'].unique()"
   ]
  },
  {
   "cell_type": "markdown",
   "id": "31c2a515",
   "metadata": {
    "deletable": false,
    "editable": false,
    "id": "75440b63"
   },
   "source": [
    "### Удаление пропусков (продолжение)"
   ]
  },
  {
   "cell_type": "markdown",
   "id": "510e1f71",
   "metadata": {
    "deletable": false,
    "editable": false,
    "id": "f4ea573f"
   },
   "source": [
    "**Задание 11. Заполните пропуски в столбце `days_employed` медианными значениями по каждого типа занятости `income_type`.**"
   ]
  },
  {
   "cell_type": "code",
   "execution_count": 11,
   "id": "5dbf52c3",
   "metadata": {
    "deletable": false,
    "id": "af6b1a7e"
   },
   "outputs": [],
   "source": [
    "for t in data['income_type'].unique():\n",
    "    data.loc[(data['income_type'] == t) & (data['days_employed'].isna()), 'days_employed'] = \\\n",
    "    data.loc[(data['income_type'] == t), 'days_employed'].median()"
   ]
  },
  {
   "cell_type": "markdown",
   "id": "6fe525e9",
   "metadata": {
    "deletable": false,
    "editable": false,
    "id": "2753f40d"
   },
   "source": [
    "**Задание 12. Убедитесь, что все пропуски заполнены. Проверьте себя и ещё раз выведите количество пропущенных значений для каждого столбца с помощью двух методов.**"
   ]
  },
  {
   "cell_type": "code",
   "execution_count": 12,
   "id": "428aba76",
   "metadata": {
    "deletable": false,
    "id": "55f78bc2",
    "outputId": "8da1e4e1-358e-4e87-98c9-f261bce0a7b2"
   },
   "outputs": [
    {
     "data": {
      "text/plain": [
       "children            0\n",
       "days_employed       0\n",
       "dob_years           0\n",
       "education           0\n",
       "education_id        0\n",
       "family_status       0\n",
       "family_status_id    0\n",
       "gender              0\n",
       "income_type         0\n",
       "debt                0\n",
       "total_income        0\n",
       "purpose             0\n",
       "dtype: int64"
      ]
     },
     "execution_count": 12,
     "metadata": {},
     "output_type": "execute_result"
    }
   ],
   "source": [
    "data.isna().sum()"
   ]
  },
  {
   "cell_type": "markdown",
   "id": "5c7df886",
   "metadata": {
    "deletable": false,
    "editable": false,
    "id": "ddc81e43"
   },
   "source": [
    "### Изменение типов данных"
   ]
  },
  {
   "cell_type": "markdown",
   "id": "c43ff770",
   "metadata": {
    "deletable": false,
    "editable": false,
    "id": "42d19d24"
   },
   "source": [
    "**Задание 13. Замените вещественный тип данных в столбце `total_income` на целочисленный с помощью метода `astype()`.**"
   ]
  },
  {
   "cell_type": "code",
   "execution_count": 13,
   "id": "27dd76bf",
   "metadata": {
    "deletable": false,
    "id": "920b65ad"
   },
   "outputs": [],
   "source": [
    "data['total_income'] = data['total_income'].astype(int)"
   ]
  },
  {
   "cell_type": "markdown",
   "id": "836faccb",
   "metadata": {
    "deletable": false,
    "editable": false,
    "id": "80c420ba"
   },
   "source": [
    "### Обработка дубликатов"
   ]
  },
  {
   "cell_type": "markdown",
   "id": "6a4562b6",
   "metadata": {
    "deletable": false,
    "editable": false
   },
   "source": [
    "**Задание 14. Обработайте неявные дубликаты в столбце `education`. В этом столбце есть одни и те же значения, но записанные по-разному: с использованием заглавных и строчных букв. Приведите их к нижнему регистру. Проверьте остальные столбцы.**"
   ]
  },
  {
   "cell_type": "code",
   "execution_count": 14,
   "id": "10ed6749",
   "metadata": {
    "deletable": false
   },
   "outputs": [],
   "source": [
    "data['education'] = data['education'].str.lower()"
   ]
  },
  {
   "cell_type": "markdown",
   "id": "973d0f5e",
   "metadata": {
    "deletable": false,
    "editable": false,
    "id": "dc587695"
   },
   "source": [
    "**Задание 15. Выведите на экран количество строк-дубликатов в данных. Если такие строки присутствуют, удалите их.**"
   ]
  },
  {
   "cell_type": "code",
   "execution_count": 15,
   "id": "de46307b",
   "metadata": {
    "deletable": false,
    "id": "3ee445e4",
    "outputId": "9684deba-1934-42d1-99e1-cda61740f822"
   },
   "outputs": [
    {
     "data": {
      "text/plain": [
       "71"
      ]
     },
     "execution_count": 15,
     "metadata": {},
     "output_type": "execute_result"
    }
   ],
   "source": [
    "data.duplicated().sum()"
   ]
  },
  {
   "cell_type": "code",
   "execution_count": 16,
   "id": "333d4cdb",
   "metadata": {
    "deletable": false,
    "id": "8575fe05"
   },
   "outputs": [],
   "source": [
    "data = data.drop_duplicates()"
   ]
  },
  {
   "cell_type": "markdown",
   "id": "26206ec5",
   "metadata": {
    "deletable": false,
    "editable": false,
    "id": "9904cf55"
   },
   "source": [
    "### Категоризация данных"
   ]
  },
  {
   "cell_type": "markdown",
   "id": "369d7a58",
   "metadata": {
    "deletable": false,
    "editable": false,
    "id": "72fcc8a2"
   },
   "source": [
    "**Задание 16. На основании диапазонов, указанных ниже, создайте в датафрейме `data` столбец `total_income_category` с категориями:**\n",
    "\n",
    "- 0–30000 — `'E'`;\n",
    "- 30001–50000 — `'D'`;\n",
    "- 50001–200000 — `'C'`;\n",
    "- 200001–1000000 — `'B'`;\n",
    "- 1000001 и выше — `'A'`.\n",
    "\n",
    "\n",
    "**Например, кредитополучателю с доходом 25000 нужно назначить категорию `'E'`, а клиенту, получающему 235000, — `'B'`. Используйте собственную функцию с именем `categorize_income()` и метод `apply()`.**"
   ]
  },
  {
   "cell_type": "code",
   "execution_count": 17,
   "id": "b804f2a6",
   "metadata": {
    "deletable": false,
    "id": "e1771346"
   },
   "outputs": [],
   "source": [
    "def categorize_income(income):\n",
    "    try:\n",
    "        if 0 <= income <= 30000:\n",
    "            return 'E'\n",
    "        elif 30001 <= income <= 50000:\n",
    "            return 'D'\n",
    "        elif 50001 <= income <= 200000:\n",
    "            return 'C'\n",
    "        elif 200001 <= income <= 1000000:\n",
    "            return 'B'\n",
    "        elif income >= 1000001:\n",
    "            return 'A'\n",
    "    except:\n",
    "        pass"
   ]
  },
  {
   "cell_type": "code",
   "execution_count": 18,
   "id": "c680d20e",
   "metadata": {
    "deletable": false,
    "id": "d5f3586d"
   },
   "outputs": [],
   "source": [
    "data['total_income_category'] = data['total_income'].apply(categorize_income)"
   ]
  },
  {
   "cell_type": "markdown",
   "id": "fa3805c9",
   "metadata": {
    "deletable": false,
    "editable": false,
    "id": "dde49b5c"
   },
   "source": [
    "**Задание 17. Выведите на экран перечень уникальных целей взятия кредита из столбца `purpose`.**"
   ]
  },
  {
   "cell_type": "code",
   "execution_count": 19,
   "id": "44cd5441",
   "metadata": {
    "deletable": false,
    "id": "f67ce9b3",
    "outputId": "673c12d9-7d7e-4ae0-9812-c622c89dd244"
   },
   "outputs": [
    {
     "data": {
      "text/plain": [
       "array(['покупка жилья', 'приобретение автомобиля',\n",
       "       'дополнительное образование', 'сыграть свадьбу',\n",
       "       'операции с жильем', 'образование', 'на проведение свадьбы',\n",
       "       'покупка жилья для семьи', 'покупка недвижимости',\n",
       "       'покупка коммерческой недвижимости', 'покупка жилой недвижимости',\n",
       "       'строительство собственной недвижимости', 'недвижимость',\n",
       "       'строительство недвижимости', 'на покупку подержанного автомобиля',\n",
       "       'на покупку своего автомобиля',\n",
       "       'операции с коммерческой недвижимостью',\n",
       "       'строительство жилой недвижимости', 'жилье',\n",
       "       'операции со своей недвижимостью', 'автомобили',\n",
       "       'заняться образованием', 'сделка с подержанным автомобилем',\n",
       "       'получение образования', 'автомобиль', 'свадьба',\n",
       "       'получение дополнительного образования', 'покупка своего жилья',\n",
       "       'операции с недвижимостью', 'получение высшего образования',\n",
       "       'свой автомобиль', 'сделка с автомобилем',\n",
       "       'профильное образование', 'высшее образование',\n",
       "       'покупка жилья для сдачи', 'на покупку автомобиля', 'ремонт жилью',\n",
       "       'заняться высшим образованием'], dtype=object)"
      ]
     },
     "execution_count": 19,
     "metadata": {},
     "output_type": "execute_result"
    }
   ],
   "source": [
    "data['purpose'].unique()"
   ]
  },
  {
   "cell_type": "markdown",
   "id": "35ddad05",
   "metadata": {
    "deletable": false,
    "editable": false,
    "id": "85d0aef0"
   },
   "source": [
    "**Задание 18. Создайте функцию, которая на основании данных из столбца `purpose` сформирует новый столбец `purpose_category`, в который войдут следующие категории:**\n",
    "\n",
    "- `'операции с автомобилем'`,\n",
    "- `'операции с недвижимостью'`,\n",
    "- `'проведение свадьбы'`,\n",
    "- `'получение образования'`.\n",
    "\n",
    "**Например, если в столбце `purpose` находится подстрока `'на покупку автомобиля'`, то в столбце `purpose_category` должна появиться строка `'операции с автомобилем'`.**\n",
    "\n",
    "**Используйте собственную функцию с именем `categorize_purpose()` и метод `apply()`. Изучите данные в столбце `purpose` и определите, какие подстроки помогут вам правильно определить категорию.**"
   ]
  },
  {
   "cell_type": "code",
   "execution_count": 20,
   "id": "2fc5308e",
   "metadata": {
    "deletable": false,
    "id": "e149fab4"
   },
   "outputs": [],
   "source": [
    "def categorize_purpose(row):\n",
    "    try:\n",
    "        if 'автом' in row:\n",
    "            return 'операции с автомобилем'\n",
    "        elif 'жил' in row or 'недвиж' in row:\n",
    "            return 'операции с недвижимостью'\n",
    "        elif 'свад' in row:\n",
    "            return 'проведение свадьбы'\n",
    "        elif 'образов' in row:\n",
    "            return 'получение образования'\n",
    "    except:\n",
    "        return 'нет категории'"
   ]
  },
  {
   "cell_type": "code",
   "execution_count": 21,
   "id": "ab6354b3",
   "metadata": {
    "deletable": false,
    "id": "bf36e69b"
   },
   "outputs": [],
   "source": [
    "data['purpose_category'] = data['purpose'].apply(categorize_purpose)"
   ]
  },
  {
   "cell_type": "markdown",
   "id": "27440348",
   "metadata": {
    "deletable": false,
    "editable": false,
    "id": "09b242bf"
   },
   "source": [
    "### Шаг 3. Исследуйте данные и ответьте на вопросы"
   ]
  },
  {
   "cell_type": "markdown",
   "id": "6e5718f2",
   "metadata": {
    "deletable": false,
    "editable": false,
    "id": "c5d66278"
   },
   "source": [
    "#### 3.1 Есть ли зависимость между количеством детей и возвратом кредита в срок?"
   ]
  },
  {
   "cell_type": "code",
   "execution_count": 22,
   "id": "63e27234",
   "metadata": {
    "deletable": false,
    "id": "2cacfc4a",
    "scrolled": false
   },
   "outputs": [
    {
     "data": {
      "text/html": [
       "<div>\n",
       "<style scoped>\n",
       "    .dataframe tbody tr th:only-of-type {\n",
       "        vertical-align: middle;\n",
       "    }\n",
       "\n",
       "    .dataframe tbody tr th {\n",
       "        vertical-align: top;\n",
       "    }\n",
       "\n",
       "    .dataframe thead tr th {\n",
       "        text-align: left;\n",
       "    }\n",
       "\n",
       "    .dataframe thead tr:last-of-type th {\n",
       "        text-align: right;\n",
       "    }\n",
       "</style>\n",
       "<table border=\"1\" class=\"dataframe\">\n",
       "  <thead>\n",
       "    <tr>\n",
       "      <th></th>\n",
       "      <th colspan=\"3\" halign=\"left\">debt</th>\n",
       "    </tr>\n",
       "    <tr>\n",
       "      <th></th>\n",
       "      <th>count</th>\n",
       "      <th>sum</th>\n",
       "      <th>&lt;lambda_0&gt;</th>\n",
       "    </tr>\n",
       "    <tr>\n",
       "      <th>children</th>\n",
       "      <th></th>\n",
       "      <th></th>\n",
       "      <th></th>\n",
       "    </tr>\n",
       "  </thead>\n",
       "  <tbody>\n",
       "    <tr>\n",
       "      <th>0</th>\n",
       "      <td>14091</td>\n",
       "      <td>1063</td>\n",
       "      <td>7.543822</td>\n",
       "    </tr>\n",
       "    <tr>\n",
       "      <th>1</th>\n",
       "      <td>4808</td>\n",
       "      <td>444</td>\n",
       "      <td>9.234609</td>\n",
       "    </tr>\n",
       "    <tr>\n",
       "      <th>2</th>\n",
       "      <td>2052</td>\n",
       "      <td>194</td>\n",
       "      <td>9.454191</td>\n",
       "    </tr>\n",
       "    <tr>\n",
       "      <th>3</th>\n",
       "      <td>330</td>\n",
       "      <td>27</td>\n",
       "      <td>8.181818</td>\n",
       "    </tr>\n",
       "    <tr>\n",
       "      <th>4</th>\n",
       "      <td>41</td>\n",
       "      <td>4</td>\n",
       "      <td>9.756098</td>\n",
       "    </tr>\n",
       "    <tr>\n",
       "      <th>5</th>\n",
       "      <td>9</td>\n",
       "      <td>0</td>\n",
       "      <td>0.000000</td>\n",
       "    </tr>\n",
       "  </tbody>\n",
       "</table>\n",
       "</div>"
      ],
      "text/plain": [
       "           debt                 \n",
       "          count   sum <lambda_0>\n",
       "children                        \n",
       "0         14091  1063   7.543822\n",
       "1          4808   444   9.234609\n",
       "2          2052   194   9.454191\n",
       "3           330    27   8.181818\n",
       "4            41     4   9.756098\n",
       "5             9     0   0.000000"
      ]
     },
     "execution_count": 22,
     "metadata": {},
     "output_type": "execute_result"
    }
   ],
   "source": [
    "# Ваш код будет здесь. Вы можете создавать новые ячейки.\n",
    "data.groupby('children').agg({'debt':['count','sum', lambda x: x.mean()*100]})"
   ]
  },
  {
   "cell_type": "markdown",
   "id": "f42befc1",
   "metadata": {
    "deletable": false,
    "id": "3a6b99ec"
   },
   "source": [
    "**Вывод:** \n",
    "В целом можно говорить о том, что коливчество детей в семей не влияет на возврат кредита в срок, поскольку данные разнятся незначительно. Однако бездетные семьи возвращают кредит в срок - чуть чаще. Нулевые значения для семей с пятью детьми, скорее всего, связаны, с маленькой выборкой. "
   ]
  },
  {
   "cell_type": "markdown",
   "id": "5938be17",
   "metadata": {
    "deletable": false,
    "editable": false,
    "id": "97be82ca"
   },
   "source": [
    "#### 3.2 Есть ли зависимость между семейным положением и возвратом кредита в срок?"
   ]
  },
  {
   "cell_type": "code",
   "execution_count": 23,
   "id": "42f8449d",
   "metadata": {
    "deletable": false,
    "id": "dc3f7ee8"
   },
   "outputs": [
    {
     "data": {
      "text/html": [
       "<div>\n",
       "<style scoped>\n",
       "    .dataframe tbody tr th:only-of-type {\n",
       "        vertical-align: middle;\n",
       "    }\n",
       "\n",
       "    .dataframe tbody tr th {\n",
       "        vertical-align: top;\n",
       "    }\n",
       "\n",
       "    .dataframe thead tr th {\n",
       "        text-align: left;\n",
       "    }\n",
       "\n",
       "    .dataframe thead tr:last-of-type th {\n",
       "        text-align: right;\n",
       "    }\n",
       "</style>\n",
       "<table border=\"1\" class=\"dataframe\">\n",
       "  <thead>\n",
       "    <tr>\n",
       "      <th></th>\n",
       "      <th colspan=\"3\" halign=\"left\">debt</th>\n",
       "    </tr>\n",
       "    <tr>\n",
       "      <th></th>\n",
       "      <th>count</th>\n",
       "      <th>sum</th>\n",
       "      <th>&lt;lambda_0&gt;</th>\n",
       "    </tr>\n",
       "    <tr>\n",
       "      <th>family_status</th>\n",
       "      <th></th>\n",
       "      <th></th>\n",
       "      <th></th>\n",
       "    </tr>\n",
       "  </thead>\n",
       "  <tbody>\n",
       "    <tr>\n",
       "      <th>Не женат / не замужем</th>\n",
       "      <td>2796</td>\n",
       "      <td>273</td>\n",
       "      <td>9.76%</td>\n",
       "    </tr>\n",
       "    <tr>\n",
       "      <th>в разводе</th>\n",
       "      <td>1189</td>\n",
       "      <td>84</td>\n",
       "      <td>7.06%</td>\n",
       "    </tr>\n",
       "    <tr>\n",
       "      <th>вдовец / вдова</th>\n",
       "      <td>951</td>\n",
       "      <td>63</td>\n",
       "      <td>6.62%</td>\n",
       "    </tr>\n",
       "    <tr>\n",
       "      <th>гражданский брак</th>\n",
       "      <td>4134</td>\n",
       "      <td>385</td>\n",
       "      <td>9.31%</td>\n",
       "    </tr>\n",
       "    <tr>\n",
       "      <th>женат / замужем</th>\n",
       "      <td>12261</td>\n",
       "      <td>927</td>\n",
       "      <td>7.56%</td>\n",
       "    </tr>\n",
       "  </tbody>\n",
       "</table>\n",
       "</div>"
      ],
      "text/plain": [
       "                        debt                \n",
       "                       count  sum <lambda_0>\n",
       "family_status                               \n",
       "Не женат / не замужем   2796  273      9.76%\n",
       "в разводе               1189   84      7.06%\n",
       "вдовец / вдова           951   63      6.62%\n",
       "гражданский брак        4134  385      9.31%\n",
       "женат / замужем        12261  927      7.56%"
      ]
     },
     "execution_count": 23,
     "metadata": {},
     "output_type": "execute_result"
    }
   ],
   "source": [
    "# Ваш код будет здесь. Вы можете создавать новые ячейки.\n",
    "# data.groupby('family_status_id').agg({'debt':['count','sum', lambda x: (str(round((x.mean()*100),2)) + '%' )]})\n",
    "\n",
    "#сделала по family status - так действительно проще.\n",
    "data.groupby('family_status').agg({'debt':['count','sum', lambda x: (str(round((x.mean()*100),2)) + '%' )]})\n",
    "\n"
   ]
  },
  {
   "cell_type": "markdown",
   "id": "01492960",
   "metadata": {
    "deletable": false,
    "id": "1cef7837"
   },
   "source": [
    "**Вывод:** \n",
    "Те, кто был или сотоит в барке, реже возвращают кредит в срок. \n",
    "\n",
    "\n",
    "**комменатрий студента** \n",
    "\n",
    "Те, кто был или состоит в браке, чаще возвращают кредит в срок. То же касается, и вдовцов. Есть предположение, что это связано с тем, что эти люди уже привыкли брать на себя ответмственность не только за себя и свои дела, но и за других людей. Вероятно , они более умеют. управлять финансами и планировать траты. "
   ]
  },
  {
   "cell_type": "markdown",
   "id": "319a62b3",
   "metadata": {
    "deletable": false,
    "editable": false,
    "id": "1e8b2fca"
   },
   "source": [
    "#### 3.3 Есть ли зависимость между уровнем дохода и возвратом кредита в срок?"
   ]
  },
  {
   "cell_type": "code",
   "execution_count": 24,
   "id": "8ca4fc28",
   "metadata": {
    "deletable": false,
    "id": "cd7e3720"
   },
   "outputs": [
    {
     "data": {
      "text/html": [
       "<div>\n",
       "<style scoped>\n",
       "    .dataframe tbody tr th:only-of-type {\n",
       "        vertical-align: middle;\n",
       "    }\n",
       "\n",
       "    .dataframe tbody tr th {\n",
       "        vertical-align: top;\n",
       "    }\n",
       "\n",
       "    .dataframe thead tr th {\n",
       "        text-align: left;\n",
       "    }\n",
       "\n",
       "    .dataframe thead tr:last-of-type th {\n",
       "        text-align: right;\n",
       "    }\n",
       "</style>\n",
       "<table border=\"1\" class=\"dataframe\">\n",
       "  <thead>\n",
       "    <tr>\n",
       "      <th></th>\n",
       "      <th colspan=\"3\" halign=\"left\">debt</th>\n",
       "    </tr>\n",
       "    <tr>\n",
       "      <th></th>\n",
       "      <th>count</th>\n",
       "      <th>sum</th>\n",
       "      <th>&lt;lambda_0&gt;</th>\n",
       "    </tr>\n",
       "    <tr>\n",
       "      <th>total_income_category</th>\n",
       "      <th></th>\n",
       "      <th></th>\n",
       "      <th></th>\n",
       "    </tr>\n",
       "  </thead>\n",
       "  <tbody>\n",
       "    <tr>\n",
       "      <th>A</th>\n",
       "      <td>25</td>\n",
       "      <td>2</td>\n",
       "      <td>8.0%</td>\n",
       "    </tr>\n",
       "    <tr>\n",
       "      <th>B</th>\n",
       "      <td>5014</td>\n",
       "      <td>354</td>\n",
       "      <td>7.06%</td>\n",
       "    </tr>\n",
       "    <tr>\n",
       "      <th>C</th>\n",
       "      <td>15921</td>\n",
       "      <td>1353</td>\n",
       "      <td>8.5%</td>\n",
       "    </tr>\n",
       "    <tr>\n",
       "      <th>D</th>\n",
       "      <td>349</td>\n",
       "      <td>21</td>\n",
       "      <td>6.02%</td>\n",
       "    </tr>\n",
       "    <tr>\n",
       "      <th>E</th>\n",
       "      <td>22</td>\n",
       "      <td>2</td>\n",
       "      <td>9.09%</td>\n",
       "    </tr>\n",
       "  </tbody>\n",
       "</table>\n",
       "</div>"
      ],
      "text/plain": [
       "                        debt                 \n",
       "                       count   sum <lambda_0>\n",
       "total_income_category                        \n",
       "A                         25     2       8.0%\n",
       "B                       5014   354      7.06%\n",
       "C                      15921  1353       8.5%\n",
       "D                        349    21      6.02%\n",
       "E                         22     2      9.09%"
      ]
     },
     "execution_count": 24,
     "metadata": {},
     "output_type": "execute_result"
    }
   ],
   "source": [
    "# Ваш код будет здесь. Вы можете создавать новые ячейки.\n",
    "data.groupby('total_income_category').agg({'debt':['count','sum', lambda x: (str(round((x.mean()*100),2)) + '%' )]})"
   ]
  },
  {
   "cell_type": "markdown",
   "id": "49d87184",
   "metadata": {
    "deletable": false,
    "id": "e8593def"
   },
   "source": [
    "    **Вывод:** Фактически можем сравнивать только две категории людей с доходом от 30 до 50 тыс. рублей, и от 50 до 200 тысяч рублей, поскольку в других категориях кредитов слишком мало. В этих двух категориях чаще кредит в во время возращают люди с меньшим доходом. "
   ]
  },
  {
   "cell_type": "markdown",
   "id": "6f9e353c",
   "metadata": {
    "deletable": false,
    "editable": false,
    "id": "99ecbd1f"
   },
   "source": [
    "#### 3.4 Как разные цели кредита влияют на его возврат в срок?"
   ]
  },
  {
   "cell_type": "code",
   "execution_count": 25,
   "id": "cbd5f392",
   "metadata": {
    "deletable": false,
    "id": "2b687290"
   },
   "outputs": [
    {
     "data": {
      "text/html": [
       "<div>\n",
       "<style scoped>\n",
       "    .dataframe tbody tr th:only-of-type {\n",
       "        vertical-align: middle;\n",
       "    }\n",
       "\n",
       "    .dataframe tbody tr th {\n",
       "        vertical-align: top;\n",
       "    }\n",
       "\n",
       "    .dataframe thead tr th {\n",
       "        text-align: left;\n",
       "    }\n",
       "\n",
       "    .dataframe thead tr:last-of-type th {\n",
       "        text-align: right;\n",
       "    }\n",
       "</style>\n",
       "<table border=\"1\" class=\"dataframe\">\n",
       "  <thead>\n",
       "    <tr>\n",
       "      <th></th>\n",
       "      <th colspan=\"3\" halign=\"left\">debt</th>\n",
       "    </tr>\n",
       "    <tr>\n",
       "      <th></th>\n",
       "      <th>count</th>\n",
       "      <th>sum</th>\n",
       "      <th>&lt;lambda_0&gt;</th>\n",
       "    </tr>\n",
       "    <tr>\n",
       "      <th>purpose_category</th>\n",
       "      <th></th>\n",
       "      <th></th>\n",
       "      <th></th>\n",
       "    </tr>\n",
       "  </thead>\n",
       "  <tbody>\n",
       "    <tr>\n",
       "      <th>операции с автомобилем</th>\n",
       "      <td>4279</td>\n",
       "      <td>400</td>\n",
       "      <td>9.35%</td>\n",
       "    </tr>\n",
       "    <tr>\n",
       "      <th>операции с недвижимостью</th>\n",
       "      <td>10751</td>\n",
       "      <td>780</td>\n",
       "      <td>7.26%</td>\n",
       "    </tr>\n",
       "    <tr>\n",
       "      <th>получение образования</th>\n",
       "      <td>3988</td>\n",
       "      <td>369</td>\n",
       "      <td>9.25%</td>\n",
       "    </tr>\n",
       "    <tr>\n",
       "      <th>проведение свадьбы</th>\n",
       "      <td>2313</td>\n",
       "      <td>183</td>\n",
       "      <td>7.91%</td>\n",
       "    </tr>\n",
       "  </tbody>\n",
       "</table>\n",
       "</div>"
      ],
      "text/plain": [
       "                           debt                \n",
       "                          count  sum <lambda_0>\n",
       "purpose_category                               \n",
       "операции с автомобилем     4279  400      9.35%\n",
       "операции с недвижимостью  10751  780      7.26%\n",
       "получение образования      3988  369      9.25%\n",
       "проведение свадьбы         2313  183      7.91%"
      ]
     },
     "execution_count": 25,
     "metadata": {},
     "output_type": "execute_result"
    }
   ],
   "source": [
    "# Ваш код будет здесь. Вы можете создавать новые ячейки.\n",
    "\n",
    "data.groupby('purpose_category').agg({'debt':['count','sum', lambda x: (str(round((x.mean()*100),2)) + '%' )]})"
   ]
  },
  {
   "cell_type": "markdown",
   "id": "61c30518",
   "metadata": {
    "deletable": false,
    "id": "b4bb2ce6"
   },
   "source": [
    "**Вывод:** Люди, которые берут кредит на операции с автомобилем и получение образования, реже возврщают кредит в срок. "
   ]
  },
  {
   "cell_type": "markdown",
   "id": "229c03ca",
   "metadata": {
    "deletable": false,
    "editable": false,
    "id": "09c3ac4c"
   },
   "source": [
    "#### 3.5 Приведите возможные причины появления пропусков в исходных данных."
   ]
  },
  {
   "cell_type": "markdown",
   "id": "3e762d14",
   "metadata": {
    "deletable": false,
    "id": "9da2ceda"
   },
   "source": [
    "*Ответ:* невнимательность сотрудников, которые вносят данные, опечатки в данных. "
   ]
  },
  {
   "cell_type": "markdown",
   "id": "26360de9",
   "metadata": {
    "deletable": false,
    "editable": false,
    "id": "7b0487d6"
   },
   "source": [
    "#### 3.6 Объясните, почему заполнить пропуски медианным значением — лучшее решение для количественных переменных."
   ]
  },
  {
   "cell_type": "markdown",
   "id": "9d39c3a4",
   "metadata": {
    "deletable": false,
    "id": "7ecf2b8e"
   },
   "source": [
    "Медианные значения точнее срених значений отражают количественные данные в рамках одной катогории. Среднее значение гораздо проще и понятно всем, его можно использовать, когда выбросы не имеют значения. То есть ксли мы будем считать среднуюю зарпалату в Москве с учетом самой высокой зп - мы получим значение, далекое от реальных средних зарплат большинства людей, здесь больше подойдет медиана. Если же мы считаем средний доход в рамках одной семьи - нам подойдет среднее значение. \n",
    "\n"
   ]
  },
  {
   "cell_type": "markdown",
   "id": "391311d4",
   "metadata": {
    "deletable": false,
    "editable": false,
    "id": "6db5255a"
   },
   "source": [
    "### Шаг 4: общий вывод."
   ]
  },
  {
   "cell_type": "markdown",
   "id": "dc3f7cb2",
   "metadata": {
    "deletable": false,
    "id": "bad65432"
   },
   "source": [
    "Напишите ваш общий вывод.\n",
    "\n",
    "1. В процессе работы мы проверили доли возврата кредита в срок в зависимости от разных категорий заемщиков: семейное положение, наличие и количество детей, уровень дохода, а так же от целей кредита. \n",
    "\n",
    "2. В целом проценты невозврата кредита разнятся незначительно - примерно 1-2 пп, при этом значаени чаще всего не достигают 10%. \n",
    "\n",
    "3. Проанализировать каждую категорию в полной мере - не представляется возможным, так в некоторых категориях данных, например, заещиков с высоким уровнем дохода выше 1 млн рублей в месяц, а также семей с пятью детьми - слишком мало. \n",
    "\n",
    "4. Самыми надежными заемщиками по уровню дохода можно земщиков с доходом от 30 до 50 тысяч рублей в месяц, далее от 50 до 200 тысяч рублей. Однако эти данные вызываю сомнения, и стоит проследить регионы проживаения эти заещиков.Так как уровень дохода в городах-милионниках или небольших населенных пунктах разнится. \n",
    "\n",
    "5. Те, кто был или состоит в браке, чаще возвращают кредит в срок. То же касается, и вдовцов. Есть предположение, что это связано с тем, что эти люди уже привыкли брать на себя ответмственность не только за себя и свои дела, но и за других людей. Вероятно , они более умеют. управлять финансами и планировать траты. \n",
    "\n",
    "6. В целом можно говорить о том, что коливчество детей в семей не влияет на возврат кредита в срок, поскольку данные разнятся незначительно. Однако бездетные семьи возвращают кредит в срок - чуть чаще. Вероятно, у семей с детьми случаются внезапные траты и расходые на детей, которые позволяют возвращать кредит в срок. Нулевые значения для семей с пятью детьми, скорее всего, связаны, с маленькой выборкой.\n",
    "\n",
    "7. Что касается целей кредита, то люди, которые берут кредит на операции с автомобилем и получение образования, реже возврщают кредит в срок. Здесь можно говорить о том, что в большинстве случаев автомобиль - это все-таки дополнительные расходы на использование и обслуживание и при покупке люди ьпросто не учитывают этот момент и дпополнительные расходы. В случае с образованием, вероятно, несколько иная история  - люди предполагают, что образование будет приносить им более высокий доход, однако это случается не всегда. А вот более высокий уровень возврата кредита на недвижимость и свадьбу могут быть связаны с тем, что эти кредиты люди чаще всего берут, рассчитывая на две зарплаты в семье."
   ]
  },
  {
   "cell_type": "code",
   "execution_count": null,
   "id": "f0294175",
   "metadata": {},
   "outputs": [],
   "source": []
  }
 ],
 "metadata": {
  "ExecuteTimeLog": [
   {
    "duration": 46,
    "start_time": "2022-09-10T21:51:31.770Z"
   },
   {
    "duration": 7,
    "start_time": "2022-09-10T21:51:44.610Z"
   },
   {
    "duration": 7,
    "start_time": "2022-09-10T21:52:09.069Z"
   },
   {
    "duration": 6,
    "start_time": "2022-09-10T21:53:14.714Z"
   },
   {
    "duration": 407,
    "start_time": "2022-09-10T21:53:32.698Z"
   },
   {
    "duration": 21,
    "start_time": "2022-09-10T21:53:34.531Z"
   },
   {
    "duration": 15,
    "start_time": "2022-09-10T21:53:36.328Z"
   },
   {
    "duration": 10,
    "start_time": "2022-09-10T21:53:38.681Z"
   },
   {
    "duration": 32,
    "start_time": "2022-09-10T21:53:39.474Z"
   },
   {
    "duration": 3,
    "start_time": "2022-09-10T21:53:40.523Z"
   },
   {
    "duration": 8,
    "start_time": "2022-09-10T21:53:40.815Z"
   },
   {
    "duration": 5,
    "start_time": "2022-09-10T21:53:41.798Z"
   },
   {
    "duration": 6,
    "start_time": "2022-09-10T21:53:42.621Z"
   },
   {
    "duration": 5,
    "start_time": "2022-09-10T21:53:43.869Z"
   },
   {
    "duration": 39,
    "start_time": "2022-09-10T21:53:45.362Z"
   },
   {
    "duration": 10,
    "start_time": "2022-09-10T21:53:46.458Z"
   },
   {
    "duration": 5,
    "start_time": "2022-09-10T21:53:48.911Z"
   },
   {
    "duration": 11,
    "start_time": "2022-09-10T21:53:50.485Z"
   },
   {
    "duration": 20,
    "start_time": "2022-09-10T21:53:51.640Z"
   },
   {
    "duration": 17,
    "start_time": "2022-09-10T21:53:52.212Z"
   },
   {
    "duration": 4,
    "start_time": "2022-09-10T21:53:54.103Z"
   },
   {
    "duration": 10,
    "start_time": "2022-09-10T21:53:55.580Z"
   },
   {
    "duration": 7,
    "start_time": "2022-09-10T21:53:56.679Z"
   },
   {
    "duration": 4,
    "start_time": "2022-09-10T21:53:58.120Z"
   },
   {
    "duration": 8,
    "start_time": "2022-09-10T21:54:01.529Z"
   },
   {
    "duration": 17,
    "start_time": "2022-09-10T21:54:03.732Z"
   },
   {
    "duration": 28,
    "start_time": "2022-09-10T22:01:53.972Z"
   },
   {
    "duration": 14,
    "start_time": "2022-09-10T22:02:26.964Z"
   },
   {
    "duration": 14,
    "start_time": "2022-09-10T22:02:29.966Z"
   },
   {
    "duration": 49,
    "start_time": "2022-09-10T22:02:55.783Z"
   },
   {
    "duration": 14,
    "start_time": "2022-09-10T22:03:02.002Z"
   },
   {
    "duration": 47,
    "start_time": "2022-09-11T08:54:21.018Z"
   },
   {
    "duration": 4,
    "start_time": "2022-09-11T08:54:34.403Z"
   },
   {
    "duration": 7,
    "start_time": "2022-09-11T08:54:35.597Z"
   },
   {
    "duration": 699,
    "start_time": "2022-09-11T08:54:44.346Z"
   },
   {
    "duration": 21,
    "start_time": "2022-09-11T08:54:45.417Z"
   },
   {
    "duration": 20,
    "start_time": "2022-09-11T08:54:46.550Z"
   },
   {
    "duration": 12,
    "start_time": "2022-09-11T08:54:48.805Z"
   },
   {
    "duration": 32,
    "start_time": "2022-09-11T08:54:49.868Z"
   },
   {
    "duration": 3,
    "start_time": "2022-09-11T08:54:51.593Z"
   },
   {
    "duration": 7,
    "start_time": "2022-09-11T08:54:52.732Z"
   },
   {
    "duration": 4,
    "start_time": "2022-09-11T08:54:54.352Z"
   },
   {
    "duration": 8,
    "start_time": "2022-09-11T08:54:55.122Z"
   },
   {
    "duration": 5,
    "start_time": "2022-09-11T08:54:55.764Z"
   },
   {
    "duration": 32,
    "start_time": "2022-09-11T08:54:56.902Z"
   },
   {
    "duration": 14,
    "start_time": "2022-09-11T08:54:57.458Z"
   },
   {
    "duration": 4,
    "start_time": "2022-09-11T08:54:58.551Z"
   },
   {
    "duration": 11,
    "start_time": "2022-09-11T08:54:59.260Z"
   },
   {
    "duration": 19,
    "start_time": "2022-09-11T08:54:59.793Z"
   },
   {
    "duration": 17,
    "start_time": "2022-09-11T08:55:00.031Z"
   },
   {
    "duration": 3,
    "start_time": "2022-09-11T08:55:00.805Z"
   },
   {
    "duration": 10,
    "start_time": "2022-09-11T08:55:01.047Z"
   },
   {
    "duration": 6,
    "start_time": "2022-09-11T08:55:01.546Z"
   },
   {
    "duration": 3,
    "start_time": "2022-09-11T08:55:02.092Z"
   },
   {
    "duration": 8,
    "start_time": "2022-09-11T08:55:02.372Z"
   },
   {
    "duration": 14,
    "start_time": "2022-09-11T08:55:03.339Z"
   },
   {
    "duration": 18,
    "start_time": "2022-09-11T08:55:04.285Z"
   },
   {
    "duration": 14,
    "start_time": "2022-09-11T08:55:05.329Z"
   },
   {
    "duration": 13,
    "start_time": "2022-09-11T08:58:50.163Z"
   },
   {
    "duration": 15,
    "start_time": "2022-09-11T09:05:12.918Z"
   },
   {
    "duration": 992,
    "start_time": "2022-09-11T11:47:17.449Z"
   },
   {
    "duration": 21,
    "start_time": "2022-09-11T11:47:18.443Z"
   },
   {
    "duration": 12,
    "start_time": "2022-09-11T11:47:18.466Z"
   },
   {
    "duration": 13,
    "start_time": "2022-09-11T11:47:18.479Z"
   },
   {
    "duration": 42,
    "start_time": "2022-09-11T11:47:18.493Z"
   },
   {
    "duration": 4,
    "start_time": "2022-09-11T11:47:18.536Z"
   },
   {
    "duration": 23,
    "start_time": "2022-09-11T11:47:18.541Z"
   },
   {
    "duration": 11,
    "start_time": "2022-09-11T11:47:18.565Z"
   },
   {
    "duration": 25,
    "start_time": "2022-09-11T11:47:18.577Z"
   },
   {
    "duration": 11,
    "start_time": "2022-09-11T11:47:18.605Z"
   },
   {
    "duration": 43,
    "start_time": "2022-09-11T11:47:18.617Z"
   },
   {
    "duration": 8,
    "start_time": "2022-09-11T11:47:18.662Z"
   },
   {
    "duration": 12,
    "start_time": "2022-09-11T11:47:18.672Z"
   },
   {
    "duration": 30,
    "start_time": "2022-09-11T11:47:18.686Z"
   },
   {
    "duration": 45,
    "start_time": "2022-09-11T11:47:18.718Z"
   },
   {
    "duration": 19,
    "start_time": "2022-09-11T11:47:18.764Z"
   },
   {
    "duration": 9,
    "start_time": "2022-09-11T11:47:18.784Z"
   },
   {
    "duration": 35,
    "start_time": "2022-09-11T11:47:18.795Z"
   },
   {
    "duration": 20,
    "start_time": "2022-09-11T11:47:18.832Z"
   },
   {
    "duration": 20,
    "start_time": "2022-09-11T11:47:18.854Z"
   },
   {
    "duration": 23,
    "start_time": "2022-09-11T11:47:18.876Z"
   },
   {
    "duration": 22,
    "start_time": "2022-09-11T11:47:18.900Z"
   },
   {
    "duration": 69,
    "start_time": "2022-09-11T11:47:23.587Z"
   },
   {
    "duration": 13,
    "start_time": "2022-09-11T11:47:27.805Z"
   },
   {
    "duration": 13,
    "start_time": "2022-09-11T11:51:15.397Z"
   },
   {
    "duration": 477,
    "start_time": "2022-09-11T11:59:28.689Z"
   },
   {
    "duration": 20,
    "start_time": "2022-09-11T11:59:29.168Z"
   },
   {
    "duration": 16,
    "start_time": "2022-09-11T11:59:29.190Z"
   },
   {
    "duration": 8,
    "start_time": "2022-09-11T11:59:29.208Z"
   },
   {
    "duration": 33,
    "start_time": "2022-09-11T11:59:29.217Z"
   },
   {
    "duration": 3,
    "start_time": "2022-09-11T11:59:29.252Z"
   },
   {
    "duration": 10,
    "start_time": "2022-09-11T11:59:29.257Z"
   },
   {
    "duration": 15,
    "start_time": "2022-09-11T11:59:29.269Z"
   },
   {
    "duration": 23,
    "start_time": "2022-09-11T11:59:29.286Z"
   },
   {
    "duration": 5,
    "start_time": "2022-09-11T11:59:29.311Z"
   },
   {
    "duration": 34,
    "start_time": "2022-09-11T11:59:29.317Z"
   },
   {
    "duration": 8,
    "start_time": "2022-09-11T11:59:29.352Z"
   },
   {
    "duration": 3,
    "start_time": "2022-09-11T11:59:29.362Z"
   },
   {
    "duration": 13,
    "start_time": "2022-09-11T11:59:29.366Z"
   },
   {
    "duration": 35,
    "start_time": "2022-09-11T11:59:29.380Z"
   },
   {
    "duration": 15,
    "start_time": "2022-09-11T11:59:29.416Z"
   },
   {
    "duration": 3,
    "start_time": "2022-09-11T11:59:29.433Z"
   },
   {
    "duration": 19,
    "start_time": "2022-09-11T11:59:29.438Z"
   },
   {
    "duration": 8,
    "start_time": "2022-09-11T11:59:29.458Z"
   },
   {
    "duration": 7,
    "start_time": "2022-09-11T11:59:29.468Z"
   },
   {
    "duration": 18,
    "start_time": "2022-09-11T11:59:29.476Z"
   },
   {
    "duration": 40,
    "start_time": "2022-09-11T11:59:29.495Z"
   },
   {
    "duration": 12,
    "start_time": "2022-09-11T11:59:29.536Z"
   },
   {
    "duration": 12,
    "start_time": "2022-09-11T11:59:29.550Z"
   },
   {
    "duration": 12,
    "start_time": "2022-09-11T11:59:29.564Z"
   },
   {
    "duration": 110,
    "start_time": "2022-09-18T11:37:25.467Z"
   },
   {
    "duration": 547,
    "start_time": "2022-09-18T11:37:35.709Z"
   },
   {
    "duration": 21,
    "start_time": "2022-09-18T11:37:37.119Z"
   },
   {
    "duration": 15,
    "start_time": "2022-09-18T11:37:38.476Z"
   },
   {
    "duration": 9,
    "start_time": "2022-09-18T11:37:40.056Z"
   },
   {
    "duration": 28,
    "start_time": "2022-09-18T11:37:40.564Z"
   },
   {
    "duration": 3,
    "start_time": "2022-09-18T11:37:41.206Z"
   },
   {
    "duration": 7,
    "start_time": "2022-09-18T11:37:41.668Z"
   },
   {
    "duration": 4,
    "start_time": "2022-09-18T11:37:42.382Z"
   },
   {
    "duration": 6,
    "start_time": "2022-09-18T11:37:43.010Z"
   },
   {
    "duration": 5,
    "start_time": "2022-09-18T11:37:43.406Z"
   },
   {
    "duration": 41,
    "start_time": "2022-09-18T11:37:44.464Z"
   },
   {
    "duration": 9,
    "start_time": "2022-09-18T11:37:45.180Z"
   },
   {
    "duration": 4,
    "start_time": "2022-09-18T11:37:46.543Z"
   },
   {
    "duration": 13,
    "start_time": "2022-09-18T11:37:47.802Z"
   },
   {
    "duration": 20,
    "start_time": "2022-09-18T11:37:48.804Z"
   },
   {
    "duration": 17,
    "start_time": "2022-09-18T11:37:49.314Z"
   },
   {
    "duration": 4,
    "start_time": "2022-09-18T11:37:50.472Z"
   },
   {
    "duration": 9,
    "start_time": "2022-09-18T11:37:51.518Z"
   },
   {
    "duration": 5,
    "start_time": "2022-09-18T11:37:52.563Z"
   },
   {
    "duration": 3,
    "start_time": "2022-09-18T11:37:54.563Z"
   },
   {
    "duration": 8,
    "start_time": "2022-09-18T11:37:55.052Z"
   },
   {
    "duration": 14,
    "start_time": "2022-09-18T11:37:57.756Z"
   },
   {
    "duration": 83,
    "start_time": "2022-09-18T11:38:03.417Z"
   },
   {
    "duration": 15,
    "start_time": "2022-09-18T11:39:10.076Z"
   },
   {
    "duration": 4,
    "start_time": "2022-09-18T12:28:01.608Z"
   },
   {
    "duration": 8,
    "start_time": "2022-09-18T12:28:03.560Z"
   },
   {
    "duration": 539,
    "start_time": "2022-09-18T19:27:46.072Z"
   },
   {
    "duration": 22,
    "start_time": "2022-09-18T19:27:46.613Z"
   },
   {
    "duration": 15,
    "start_time": "2022-09-18T19:27:46.636Z"
   },
   {
    "duration": 9,
    "start_time": "2022-09-18T19:27:46.653Z"
   },
   {
    "duration": 46,
    "start_time": "2022-09-18T19:27:46.663Z"
   },
   {
    "duration": 3,
    "start_time": "2022-09-18T19:27:46.711Z"
   },
   {
    "duration": 8,
    "start_time": "2022-09-18T19:27:46.716Z"
   },
   {
    "duration": 4,
    "start_time": "2022-09-18T19:27:46.726Z"
   },
   {
    "duration": 7,
    "start_time": "2022-09-18T19:27:46.731Z"
   },
   {
    "duration": 4,
    "start_time": "2022-09-18T19:27:46.741Z"
   },
   {
    "duration": 62,
    "start_time": "2022-09-18T19:27:46.746Z"
   },
   {
    "duration": 9,
    "start_time": "2022-09-18T19:27:46.810Z"
   },
   {
    "duration": 3,
    "start_time": "2022-09-18T19:27:46.821Z"
   },
   {
    "duration": 11,
    "start_time": "2022-09-18T19:27:46.826Z"
   },
   {
    "duration": 21,
    "start_time": "2022-09-18T19:27:46.839Z"
   },
   {
    "duration": 41,
    "start_time": "2022-09-18T19:27:46.862Z"
   },
   {
    "duration": 3,
    "start_time": "2022-09-18T19:27:46.905Z"
   },
   {
    "duration": 12,
    "start_time": "2022-09-18T19:27:46.909Z"
   },
   {
    "duration": 5,
    "start_time": "2022-09-18T19:27:46.922Z"
   },
   {
    "duration": 3,
    "start_time": "2022-09-18T19:27:46.929Z"
   },
   {
    "duration": 21,
    "start_time": "2022-09-18T19:27:46.933Z"
   },
   {
    "duration": 77,
    "start_time": "2022-09-18T19:28:45.556Z"
   },
   {
    "duration": 100,
    "start_time": "2022-09-18T19:30:28.043Z"
   },
   {
    "duration": 91,
    "start_time": "2022-09-18T19:30:31.910Z"
   },
   {
    "duration": 18,
    "start_time": "2022-09-18T19:31:39.553Z"
   },
   {
    "duration": 12,
    "start_time": "2022-09-18T19:31:51.614Z"
   },
   {
    "duration": 16,
    "start_time": "2022-09-18T19:32:37.309Z"
   },
   {
    "duration": 16,
    "start_time": "2022-09-18T19:32:41.909Z"
   },
   {
    "duration": 16,
    "start_time": "2022-09-18T19:32:45.441Z"
   },
   {
    "duration": 15,
    "start_time": "2022-09-18T19:32:58.108Z"
   },
   {
    "duration": 480,
    "start_time": "2022-09-18T19:36:39.104Z"
   },
   {
    "duration": 22,
    "start_time": "2022-09-18T19:36:39.586Z"
   },
   {
    "duration": 16,
    "start_time": "2022-09-18T19:36:39.610Z"
   },
   {
    "duration": 9,
    "start_time": "2022-09-18T19:36:39.628Z"
   },
   {
    "duration": 55,
    "start_time": "2022-09-18T19:36:39.639Z"
   },
   {
    "duration": 3,
    "start_time": "2022-09-18T19:36:39.696Z"
   },
   {
    "duration": 10,
    "start_time": "2022-09-18T19:36:39.701Z"
   },
   {
    "duration": 6,
    "start_time": "2022-09-18T19:36:39.713Z"
   },
   {
    "duration": 11,
    "start_time": "2022-09-18T19:36:39.721Z"
   },
   {
    "duration": 8,
    "start_time": "2022-09-18T19:36:39.735Z"
   },
   {
    "duration": 59,
    "start_time": "2022-09-18T19:36:39.745Z"
   },
   {
    "duration": 12,
    "start_time": "2022-09-18T19:36:39.806Z"
   },
   {
    "duration": 9,
    "start_time": "2022-09-18T19:36:39.821Z"
   },
   {
    "duration": 22,
    "start_time": "2022-09-18T19:36:39.833Z"
   },
   {
    "duration": 45,
    "start_time": "2022-09-18T19:36:39.857Z"
   },
   {
    "duration": 25,
    "start_time": "2022-09-18T19:36:39.904Z"
   },
   {
    "duration": 4,
    "start_time": "2022-09-18T19:36:39.931Z"
   },
   {
    "duration": 17,
    "start_time": "2022-09-18T19:36:39.937Z"
   },
   {
    "duration": 11,
    "start_time": "2022-09-18T19:36:39.956Z"
   },
   {
    "duration": 4,
    "start_time": "2022-09-18T19:36:39.969Z"
   },
   {
    "duration": 9,
    "start_time": "2022-09-18T19:36:39.989Z"
   },
   {
    "duration": 21,
    "start_time": "2022-09-18T19:36:40.000Z"
   },
   {
    "duration": 16,
    "start_time": "2022-09-18T19:36:40.023Z"
   },
   {
    "duration": 16,
    "start_time": "2022-09-18T19:36:40.040Z"
   },
   {
    "duration": 41,
    "start_time": "2022-09-18T19:36:40.058Z"
   },
   {
    "duration": 618,
    "start_time": "2023-07-18T08:27:15.513Z"
   },
   {
    "duration": 28,
    "start_time": "2023-07-18T08:27:17.211Z"
   }
  ],
  "colab": {
   "name": "dpp_template_part2.ipynb",
   "provenance": []
  },
  "kernelspec": {
   "display_name": "Python 3 (ipykernel)",
   "language": "python",
   "name": "python3"
  },
  "language_info": {
   "codemirror_mode": {
    "name": "ipython",
    "version": 3
   },
   "file_extension": ".py",
   "mimetype": "text/x-python",
   "name": "python",
   "nbconvert_exporter": "python",
   "pygments_lexer": "ipython3",
   "version": "3.10.9"
  },
  "toc": {
   "base_numbering": 1,
   "nav_menu": {},
   "number_sections": true,
   "sideBar": true,
   "skip_h1_title": true,
   "title_cell": "Table of Contents",
   "title_sidebar": "Contents",
   "toc_cell": false,
   "toc_position": {},
   "toc_section_display": true,
   "toc_window_display": false
  }
 },
 "nbformat": 4,
 "nbformat_minor": 5
}
