{
 "cells": [
  {
   "cell_type": "markdown",
   "id": "ff47cfb8",
   "metadata": {},
   "source": [
    "### A/B тестирование: Эффективность рекомендательной системы\n",
    "\n",
    "\n",
    "Цель проекта: провести оценку результатов A/B-теста и оценить, влияет ли рекомендательная система на вовлечение покупателей. "
   ]
  },
  {
   "cell_type": "markdown",
   "id": "c2d12797",
   "metadata": {},
   "source": [
    "### Загрузка дата-фреймов и предобратка данных "
   ]
  },
  {
   "cell_type": "code",
   "execution_count": 149,
   "id": "643ddbca",
   "metadata": {},
   "outputs": [],
   "source": [
    "#импортируем необходимые библиотеки\n",
    "import pandas as pd\n",
    "import numpy as np \n",
    "from scipy import stats\n",
    "import matplotlib.pyplot as plt \n",
    "import seaborn as sns\n",
    "import datetime as dt\n",
    "import plotly.graph_objects as go\n",
    "from statsmodels.stats.proportion import proportions_ztest"
   ]
  },
  {
   "cell_type": "code",
   "execution_count": 150,
   "id": "577dfa1f",
   "metadata": {},
   "outputs": [],
   "source": [
    "#загрузим сразу все дата-сеты\n",
    "\n",
    "marketing_events = pd.read_csv('/datasets/ab_project_marketing_events.csv')\n",
    "new_users = pd.read_csv('/datasets/final_ab_new_users.csv')\n",
    "events = pd.read_csv('/datasets/final_ab_events.csv')\n",
    "participants = pd.read_csv('/datasets/final_ab_participants.csv')"
   ]
  },
  {
   "cell_type": "code",
   "execution_count": 103,
   "id": "0b52bad1",
   "metadata": {},
   "outputs": [
    {
     "data": {
      "text/html": [
       "<div>\n",
       "<style scoped>\n",
       "    .dataframe tbody tr th:only-of-type {\n",
       "        vertical-align: middle;\n",
       "    }\n",
       "\n",
       "    .dataframe tbody tr th {\n",
       "        vertical-align: top;\n",
       "    }\n",
       "\n",
       "    .dataframe thead th {\n",
       "        text-align: right;\n",
       "    }\n",
       "</style>\n",
       "<table border=\"1\" class=\"dataframe\">\n",
       "  <thead>\n",
       "    <tr style=\"text-align: right;\">\n",
       "      <th></th>\n",
       "      <th>name</th>\n",
       "      <th>regions</th>\n",
       "      <th>start_dt</th>\n",
       "      <th>finish_dt</th>\n",
       "    </tr>\n",
       "  </thead>\n",
       "  <tbody>\n",
       "    <tr>\n",
       "      <th>0</th>\n",
       "      <td>Christmas&amp;New Year Promo</td>\n",
       "      <td>EU, N.America</td>\n",
       "      <td>2020-12-25</td>\n",
       "      <td>2021-01-03</td>\n",
       "    </tr>\n",
       "    <tr>\n",
       "      <th>1</th>\n",
       "      <td>St. Valentine's Day Giveaway</td>\n",
       "      <td>EU, CIS, APAC, N.America</td>\n",
       "      <td>2020-02-14</td>\n",
       "      <td>2020-02-16</td>\n",
       "    </tr>\n",
       "    <tr>\n",
       "      <th>2</th>\n",
       "      <td>St. Patric's Day Promo</td>\n",
       "      <td>EU, N.America</td>\n",
       "      <td>2020-03-17</td>\n",
       "      <td>2020-03-19</td>\n",
       "    </tr>\n",
       "    <tr>\n",
       "      <th>3</th>\n",
       "      <td>Easter Promo</td>\n",
       "      <td>EU, CIS, APAC, N.America</td>\n",
       "      <td>2020-04-12</td>\n",
       "      <td>2020-04-19</td>\n",
       "    </tr>\n",
       "    <tr>\n",
       "      <th>4</th>\n",
       "      <td>4th of July Promo</td>\n",
       "      <td>N.America</td>\n",
       "      <td>2020-07-04</td>\n",
       "      <td>2020-07-11</td>\n",
       "    </tr>\n",
       "  </tbody>\n",
       "</table>\n",
       "</div>"
      ],
      "text/plain": [
       "                           name                   regions    start_dt  \\\n",
       "0      Christmas&New Year Promo             EU, N.America  2020-12-25   \n",
       "1  St. Valentine's Day Giveaway  EU, CIS, APAC, N.America  2020-02-14   \n",
       "2        St. Patric's Day Promo             EU, N.America  2020-03-17   \n",
       "3                  Easter Promo  EU, CIS, APAC, N.America  2020-04-12   \n",
       "4             4th of July Promo                 N.America  2020-07-04   \n",
       "\n",
       "    finish_dt  \n",
       "0  2021-01-03  \n",
       "1  2020-02-16  \n",
       "2  2020-03-19  \n",
       "3  2020-04-19  \n",
       "4  2020-07-11  "
      ]
     },
     "execution_count": 103,
     "metadata": {},
     "output_type": "execute_result"
    }
   ],
   "source": [
    "#изучим дата-сет marketing_events\n",
    "marketing_events.head()"
   ]
  },
  {
   "cell_type": "code",
   "execution_count": 104,
   "id": "85682a58",
   "metadata": {},
   "outputs": [
    {
     "data": {
      "text/plain": [
       "0"
      ]
     },
     "execution_count": 104,
     "metadata": {},
     "output_type": "execute_result"
    }
   ],
   "source": [
    "marketing_events.duplicated().sum()"
   ]
  },
  {
   "cell_type": "code",
   "execution_count": 105,
   "id": "ea5f4f60",
   "metadata": {},
   "outputs": [
    {
     "name": "stdout",
     "output_type": "stream",
     "text": [
      "<class 'pandas.core.frame.DataFrame'>\n",
      "RangeIndex: 14 entries, 0 to 13\n",
      "Data columns (total 4 columns):\n",
      " #   Column     Non-Null Count  Dtype \n",
      "---  ------     --------------  ----- \n",
      " 0   name       14 non-null     object\n",
      " 1   regions    14 non-null     object\n",
      " 2   start_dt   14 non-null     object\n",
      " 3   finish_dt  14 non-null     object\n",
      "dtypes: object(4)\n",
      "memory usage: 576.0+ bytes\n"
     ]
    }
   ],
   "source": [
    "marketing_events.info()"
   ]
  },
  {
   "cell_type": "code",
   "execution_count": 106,
   "id": "065572c2",
   "metadata": {},
   "outputs": [
    {
     "name": "stdout",
     "output_type": "stream",
     "text": [
      "<class 'pandas.core.frame.DataFrame'>\n",
      "RangeIndex: 14 entries, 0 to 13\n",
      "Data columns (total 4 columns):\n",
      " #   Column     Non-Null Count  Dtype         \n",
      "---  ------     --------------  -----         \n",
      " 0   name       14 non-null     object        \n",
      " 1   regions    14 non-null     object        \n",
      " 2   start_dt   14 non-null     datetime64[ns]\n",
      " 3   finish_dt  14 non-null     datetime64[ns]\n",
      "dtypes: datetime64[ns](2), object(2)\n",
      "memory usage: 576.0+ bytes\n"
     ]
    }
   ],
   "source": [
    "#изменим тип данных\n",
    "\n",
    "marketing_events['start_dt'] = pd.to_datetime(marketing_events['start_dt'])\n",
    "marketing_events['finish_dt'] = pd.to_datetime(marketing_events['finish_dt'])\n",
    "marketing_events.info()"
   ]
  },
  {
   "cell_type": "code",
   "execution_count": 107,
   "id": "80d3a247",
   "metadata": {},
   "outputs": [
    {
     "data": {
      "text/html": [
       "<div>\n",
       "<style scoped>\n",
       "    .dataframe tbody tr th:only-of-type {\n",
       "        vertical-align: middle;\n",
       "    }\n",
       "\n",
       "    .dataframe tbody tr th {\n",
       "        vertical-align: top;\n",
       "    }\n",
       "\n",
       "    .dataframe thead th {\n",
       "        text-align: right;\n",
       "    }\n",
       "</style>\n",
       "<table border=\"1\" class=\"dataframe\">\n",
       "  <thead>\n",
       "    <tr style=\"text-align: right;\">\n",
       "      <th></th>\n",
       "      <th>user_id</th>\n",
       "      <th>first_date</th>\n",
       "      <th>region</th>\n",
       "      <th>device</th>\n",
       "    </tr>\n",
       "  </thead>\n",
       "  <tbody>\n",
       "    <tr>\n",
       "      <th>0</th>\n",
       "      <td>D72A72121175D8BE</td>\n",
       "      <td>2020-12-07</td>\n",
       "      <td>EU</td>\n",
       "      <td>PC</td>\n",
       "    </tr>\n",
       "    <tr>\n",
       "      <th>1</th>\n",
       "      <td>F1C668619DFE6E65</td>\n",
       "      <td>2020-12-07</td>\n",
       "      <td>N.America</td>\n",
       "      <td>Android</td>\n",
       "    </tr>\n",
       "    <tr>\n",
       "      <th>2</th>\n",
       "      <td>2E1BF1D4C37EA01F</td>\n",
       "      <td>2020-12-07</td>\n",
       "      <td>EU</td>\n",
       "      <td>PC</td>\n",
       "    </tr>\n",
       "    <tr>\n",
       "      <th>3</th>\n",
       "      <td>50734A22C0C63768</td>\n",
       "      <td>2020-12-07</td>\n",
       "      <td>EU</td>\n",
       "      <td>iPhone</td>\n",
       "    </tr>\n",
       "    <tr>\n",
       "      <th>4</th>\n",
       "      <td>E1BDDCE0DAFA2679</td>\n",
       "      <td>2020-12-07</td>\n",
       "      <td>N.America</td>\n",
       "      <td>iPhone</td>\n",
       "    </tr>\n",
       "  </tbody>\n",
       "</table>\n",
       "</div>"
      ],
      "text/plain": [
       "            user_id  first_date     region   device\n",
       "0  D72A72121175D8BE  2020-12-07         EU       PC\n",
       "1  F1C668619DFE6E65  2020-12-07  N.America  Android\n",
       "2  2E1BF1D4C37EA01F  2020-12-07         EU       PC\n",
       "3  50734A22C0C63768  2020-12-07         EU   iPhone\n",
       "4  E1BDDCE0DAFA2679  2020-12-07  N.America   iPhone"
      ]
     },
     "execution_count": 107,
     "metadata": {},
     "output_type": "execute_result"
    }
   ],
   "source": [
    "#изучим дата-фрейм new_users\n",
    "\n",
    "new_users.head()"
   ]
  },
  {
   "cell_type": "code",
   "execution_count": 108,
   "id": "257ea0f1",
   "metadata": {},
   "outputs": [
    {
     "name": "stdout",
     "output_type": "stream",
     "text": [
      "<class 'pandas.core.frame.DataFrame'>\n",
      "RangeIndex: 61733 entries, 0 to 61732\n",
      "Data columns (total 4 columns):\n",
      " #   Column      Non-Null Count  Dtype \n",
      "---  ------      --------------  ----- \n",
      " 0   user_id     61733 non-null  object\n",
      " 1   first_date  61733 non-null  object\n",
      " 2   region      61733 non-null  object\n",
      " 3   device      61733 non-null  object\n",
      "dtypes: object(4)\n",
      "memory usage: 1.9+ MB\n"
     ]
    }
   ],
   "source": [
    "new_users.info()"
   ]
  },
  {
   "cell_type": "code",
   "execution_count": 109,
   "id": "0922d077",
   "metadata": {},
   "outputs": [
    {
     "data": {
      "text/plain": [
       "0"
      ]
     },
     "execution_count": 109,
     "metadata": {},
     "output_type": "execute_result"
    }
   ],
   "source": [
    "new_users.duplicated().sum()"
   ]
  },
  {
   "cell_type": "code",
   "execution_count": 110,
   "id": "bb6e7634",
   "metadata": {},
   "outputs": [
    {
     "data": {
      "text/html": [
       "<div>\n",
       "<style scoped>\n",
       "    .dataframe tbody tr th:only-of-type {\n",
       "        vertical-align: middle;\n",
       "    }\n",
       "\n",
       "    .dataframe tbody tr th {\n",
       "        vertical-align: top;\n",
       "    }\n",
       "\n",
       "    .dataframe thead th {\n",
       "        text-align: right;\n",
       "    }\n",
       "</style>\n",
       "<table border=\"1\" class=\"dataframe\">\n",
       "  <thead>\n",
       "    <tr style=\"text-align: right;\">\n",
       "      <th></th>\n",
       "      <th>user_id</th>\n",
       "      <th>event_dt</th>\n",
       "      <th>event_name</th>\n",
       "      <th>details</th>\n",
       "    </tr>\n",
       "  </thead>\n",
       "  <tbody>\n",
       "    <tr>\n",
       "      <th>0</th>\n",
       "      <td>E1BDDCE0DAFA2679</td>\n",
       "      <td>2020-12-07 20:22:03</td>\n",
       "      <td>purchase</td>\n",
       "      <td>99.99</td>\n",
       "    </tr>\n",
       "    <tr>\n",
       "      <th>1</th>\n",
       "      <td>7B6452F081F49504</td>\n",
       "      <td>2020-12-07 09:22:53</td>\n",
       "      <td>purchase</td>\n",
       "      <td>9.99</td>\n",
       "    </tr>\n",
       "    <tr>\n",
       "      <th>2</th>\n",
       "      <td>9CD9F34546DF254C</td>\n",
       "      <td>2020-12-07 12:59:29</td>\n",
       "      <td>purchase</td>\n",
       "      <td>4.99</td>\n",
       "    </tr>\n",
       "    <tr>\n",
       "      <th>3</th>\n",
       "      <td>96F27A054B191457</td>\n",
       "      <td>2020-12-07 04:02:40</td>\n",
       "      <td>purchase</td>\n",
       "      <td>4.99</td>\n",
       "    </tr>\n",
       "    <tr>\n",
       "      <th>4</th>\n",
       "      <td>1FD7660FDF94CA1F</td>\n",
       "      <td>2020-12-07 10:15:09</td>\n",
       "      <td>purchase</td>\n",
       "      <td>4.99</td>\n",
       "    </tr>\n",
       "  </tbody>\n",
       "</table>\n",
       "</div>"
      ],
      "text/plain": [
       "            user_id             event_dt event_name  details\n",
       "0  E1BDDCE0DAFA2679  2020-12-07 20:22:03   purchase    99.99\n",
       "1  7B6452F081F49504  2020-12-07 09:22:53   purchase     9.99\n",
       "2  9CD9F34546DF254C  2020-12-07 12:59:29   purchase     4.99\n",
       "3  96F27A054B191457  2020-12-07 04:02:40   purchase     4.99\n",
       "4  1FD7660FDF94CA1F  2020-12-07 10:15:09   purchase     4.99"
      ]
     },
     "execution_count": 110,
     "metadata": {},
     "output_type": "execute_result"
    }
   ],
   "source": [
    "#изучим дата-фрейм events\n",
    "\n",
    "events.head ()"
   ]
  },
  {
   "cell_type": "code",
   "execution_count": 111,
   "id": "588179c1",
   "metadata": {
    "scrolled": false
   },
   "outputs": [
    {
     "name": "stdout",
     "output_type": "stream",
     "text": [
      "<class 'pandas.core.frame.DataFrame'>\n",
      "RangeIndex: 440317 entries, 0 to 440316\n",
      "Data columns (total 4 columns):\n",
      " #   Column      Non-Null Count   Dtype  \n",
      "---  ------      --------------   -----  \n",
      " 0   user_id     440317 non-null  object \n",
      " 1   event_dt    440317 non-null  object \n",
      " 2   event_name  440317 non-null  object \n",
      " 3   details     62740 non-null   float64\n",
      "dtypes: float64(1), object(3)\n",
      "memory usage: 13.4+ MB\n"
     ]
    }
   ],
   "source": [
    "events.info ()"
   ]
  },
  {
   "cell_type": "code",
   "execution_count": 112,
   "id": "07c5b8ad",
   "metadata": {},
   "outputs": [
    {
     "data": {
      "text/plain": [
       "0"
      ]
     },
     "execution_count": 112,
     "metadata": {},
     "output_type": "execute_result"
    }
   ],
   "source": [
    "events.duplicated().sum()"
   ]
  },
  {
   "cell_type": "code",
   "execution_count": 113,
   "id": "f2ff9241",
   "metadata": {
    "scrolled": true
   },
   "outputs": [
    {
     "name": "stdout",
     "output_type": "stream",
     "text": [
      "count    62740.000000\n",
      "mean        23.877631\n",
      "std         72.180465\n",
      "min          4.990000\n",
      "25%          4.990000\n",
      "50%          4.990000\n",
      "75%          9.990000\n",
      "max        499.990000\n",
      "Name: details, dtype: float64\n",
      "4\n"
     ]
    }
   ],
   "source": [
    "print (events['details'].describe())\n",
    "print (events['details'].nunique ())"
   ]
  },
  {
   "cell_type": "code",
   "execution_count": 114,
   "id": "6582afd9",
   "metadata": {},
   "outputs": [
    {
     "name": "stdout",
     "output_type": "stream",
     "text": [
      "377577\n",
      "<class 'pandas.core.series.Series'>\n",
      "RangeIndex: 440317 entries, 0 to 440316\n",
      "Series name: details\n",
      "Non-Null Count   Dtype  \n",
      "--------------   -----  \n",
      "440317 non-null  float64\n",
      "dtypes: float64(1)\n",
      "memory usage: 3.4 MB\n"
     ]
    }
   ],
   "source": [
    "print (events['details'].isnull().sum())\n",
    "events['details'] = events['details'].fillna(0)\n",
    "events['details'].info()"
   ]
  },
  {
   "cell_type": "markdown",
   "id": "0b6bae06",
   "metadata": {},
   "source": [
    "Вывод: Пропуски в этой колонке, скорее всего, говорят о том, что эти люди не платили ничего, и продолжали пользоваться продуктом бесплатно. Соответствнно, мы можем заменить их на 0, чтобы было удобнее в случае подсчета. "
   ]
  },
  {
   "cell_type": "code",
   "execution_count": 115,
   "id": "8f262bc7",
   "metadata": {
    "scrolled": true
   },
   "outputs": [
    {
     "name": "stdout",
     "output_type": "stream",
     "text": [
      "<class 'pandas.core.frame.DataFrame'>\n",
      "RangeIndex: 440317 entries, 0 to 440316\n",
      "Data columns (total 4 columns):\n",
      " #   Column      Non-Null Count   Dtype         \n",
      "---  ------      --------------   -----         \n",
      " 0   user_id     440317 non-null  object        \n",
      " 1   event_dt    440317 non-null  datetime64[ns]\n",
      " 2   event_name  440317 non-null  object        \n",
      " 3   details     440317 non-null  float64       \n",
      "dtypes: datetime64[ns](1), float64(1), object(2)\n",
      "memory usage: 13.4+ MB\n"
     ]
    }
   ],
   "source": [
    "events['event_dt'] = pd.to_datetime(events['event_dt'])\n",
    "events.info ()"
   ]
  },
  {
   "cell_type": "code",
   "execution_count": 116,
   "id": "662f5458",
   "metadata": {
    "scrolled": false
   },
   "outputs": [
    {
     "data": {
      "text/html": [
       "<div>\n",
       "<style scoped>\n",
       "    .dataframe tbody tr th:only-of-type {\n",
       "        vertical-align: middle;\n",
       "    }\n",
       "\n",
       "    .dataframe tbody tr th {\n",
       "        vertical-align: top;\n",
       "    }\n",
       "\n",
       "    .dataframe thead th {\n",
       "        text-align: right;\n",
       "    }\n",
       "</style>\n",
       "<table border=\"1\" class=\"dataframe\">\n",
       "  <thead>\n",
       "    <tr style=\"text-align: right;\">\n",
       "      <th></th>\n",
       "      <th>user_id</th>\n",
       "      <th>group</th>\n",
       "      <th>ab_test</th>\n",
       "    </tr>\n",
       "  </thead>\n",
       "  <tbody>\n",
       "    <tr>\n",
       "      <th>0</th>\n",
       "      <td>D1ABA3E2887B6A73</td>\n",
       "      <td>A</td>\n",
       "      <td>recommender_system_test</td>\n",
       "    </tr>\n",
       "    <tr>\n",
       "      <th>1</th>\n",
       "      <td>A7A3664BD6242119</td>\n",
       "      <td>A</td>\n",
       "      <td>recommender_system_test</td>\n",
       "    </tr>\n",
       "    <tr>\n",
       "      <th>2</th>\n",
       "      <td>DABC14FDDFADD29E</td>\n",
       "      <td>A</td>\n",
       "      <td>recommender_system_test</td>\n",
       "    </tr>\n",
       "    <tr>\n",
       "      <th>3</th>\n",
       "      <td>04988C5DF189632E</td>\n",
       "      <td>A</td>\n",
       "      <td>recommender_system_test</td>\n",
       "    </tr>\n",
       "    <tr>\n",
       "      <th>4</th>\n",
       "      <td>482F14783456D21B</td>\n",
       "      <td>B</td>\n",
       "      <td>recommender_system_test</td>\n",
       "    </tr>\n",
       "  </tbody>\n",
       "</table>\n",
       "</div>"
      ],
      "text/plain": [
       "            user_id group                  ab_test\n",
       "0  D1ABA3E2887B6A73     A  recommender_system_test\n",
       "1  A7A3664BD6242119     A  recommender_system_test\n",
       "2  DABC14FDDFADD29E     A  recommender_system_test\n",
       "3  04988C5DF189632E     A  recommender_system_test\n",
       "4  482F14783456D21B     B  recommender_system_test"
      ]
     },
     "execution_count": 116,
     "metadata": {},
     "output_type": "execute_result"
    }
   ],
   "source": [
    "#изучим дата-фрейм participants\n",
    "\n",
    "participants.head()"
   ]
  },
  {
   "cell_type": "code",
   "execution_count": 117,
   "id": "cce48479",
   "metadata": {},
   "outputs": [
    {
     "name": "stdout",
     "output_type": "stream",
     "text": [
      "['recommender_system_test' 'interface_eu_test']\n",
      "['A' 'B']\n"
     ]
    }
   ],
   "source": [
    "print (participants ['ab_test'].unique())\n",
    "print (participants ['group'].unique())"
   ]
  },
  {
   "cell_type": "code",
   "execution_count": 118,
   "id": "ec872375",
   "metadata": {},
   "outputs": [
    {
     "data": {
      "text/plain": [
       "0"
      ]
     },
     "execution_count": 118,
     "metadata": {},
     "output_type": "execute_result"
    }
   ],
   "source": [
    "events.duplicated().sum()"
   ]
  },
  {
   "cell_type": "code",
   "execution_count": 119,
   "id": "723c250d",
   "metadata": {},
   "outputs": [
    {
     "name": "stdout",
     "output_type": "stream",
     "text": [
      "<class 'pandas.core.frame.DataFrame'>\n",
      "RangeIndex: 18268 entries, 0 to 18267\n",
      "Data columns (total 3 columns):\n",
      " #   Column   Non-Null Count  Dtype \n",
      "---  ------   --------------  ----- \n",
      " 0   user_id  18268 non-null  object\n",
      " 1   group    18268 non-null  object\n",
      " 2   ab_test  18268 non-null  object\n",
      "dtypes: object(3)\n",
      "memory usage: 428.3+ KB\n"
     ]
    }
   ],
   "source": [
    "participants.info()"
   ]
  },
  {
   "cell_type": "markdown",
   "id": "3e578d94",
   "metadata": {},
   "source": [
    "Вывод: Дата-фреймы, в целом, оказадись чистыми. Заменили по необходимости типы данных и заполнили пропуски. Можно переходить к непосредественному исследованию. "
   ]
  },
  {
   "cell_type": "markdown",
   "id": "ac083257",
   "metadata": {},
   "source": [
    "### Оценка корректности проведения теста\n",
    "\n",
    "- Посмотрим на:\n",
    "    - Соответствие данных требованиям технического задания. Проверьте корректность всех пунктов технического задания.\n",
    "    - Время проведения теста. Убедитесь, что оно не совпадает с маркетинговыми и другими активностями.\n",
    "    - Аудиторию теста. Удостоверьтесь, что нет пересечений с конкурирующим тестом и нет пользователей, участвующих в двух группах теста одновременно. Проверьте равномерность распределения по тестовым группам и правильность их формирования."
   ]
  },
  {
   "cell_type": "code",
   "execution_count": null,
   "id": "d68ad55f",
   "metadata": {},
   "outputs": [],
   "source": []
  },
  {
   "cell_type": "code",
   "execution_count": 120,
   "id": "84cd2d5a",
   "metadata": {},
   "outputs": [
    {
     "name": "stdout",
     "output_type": "stream",
     "text": [
      "Уникальных пользователей из EU, зарегистрировавшихся с 7 по 21 декабря 2020 года: 42340\n"
     ]
    }
   ],
   "source": [
    "# найдем пользователей, которые зарегистрировали с 7 по 21 декабря 2020 года\n",
    "new_users_dates = new_users.query('first_date >= \"2020-12-07\" and first_date <= \"2020-12-21\"')\n",
    "\n",
    "#найдем пользователей, у которых регион EU в нашем же временном промежутке \n",
    "eu_users = new_users_dates.query('region == \"EU\"')\n",
    "\n",
    "print(\"Уникальных пользователей из EU, зарегистрировавшихся с 7 по 21 декабря 2020 года:\", eu_users['user_id'].nunique())"
   ]
  },
  {
   "cell_type": "code",
   "execution_count": 121,
   "id": "092e8e7b",
   "metadata": {},
   "outputs": [
    {
     "name": "stdout",
     "output_type": "stream",
     "text": [
      "События, которые пересекаются с тестом по датам проведения теста: Empty DataFrame\n",
      "Columns: [name, regions, start_dt, finish_dt]\n",
      "Index: []\n"
     ]
    }
   ],
   "source": [
    "# проверим пересечение по датам с маркетнинговыми активностями \n",
    "\n",
    "#введем переменные даты начала и конца проведения теста\n",
    "test_sd = '2020-12-07'\n",
    "test_ed = '2021-01-04'\n",
    "\n",
    "\n",
    "cross_events = marketing_events.query('start_dt <= @test_ed and finish_dt >= @test_sd and \"EU\" in regions')\n",
    "print(f\"События, которые пересекаются с тестом по датам проведения теста: {cross_events}\")\n"
   ]
  },
  {
   "cell_type": "markdown",
   "id": "ee393fe5",
   "metadata": {},
   "source": [
    "Вывод: условие технического задание выполнено - нет пересекающихся маркетинговых мероприятий. "
   ]
  },
  {
   "cell_type": "code",
   "execution_count": 122,
   "id": "d3f7657e",
   "metadata": {},
   "outputs": [
    {
     "name": "stdout",
     "output_type": "stream",
     "text": [
      "Количество пересечений с конкурирующим тестом: 1602\n"
     ]
    }
   ],
   "source": [
    "# проверим пересечения с конкурирующим тестом, для этого нам нужен датафрейм participants\n",
    "\n",
    "#выберем участников recommender_system_test\n",
    "recommender_participants = participants.query('ab_test == \"recommender_system_test\"')\n",
    "\n",
    "# Проверка пересечений с конкурирующим тестом\n",
    "\n",
    "cross_participants_test = recommender_participants ['user_id'].isin(participants.query('ab_test != \"recommender_system_test\"')['user_id'])\n",
    "\n",
    "if cross_participants_test.sum() == 0:    \n",
    "    print(\"Пересечений пользователей с конкурирующим тестом нет.\")\n",
    "else:    \n",
    "    print(f\"Количество пересечений с конкурирующим тестом: {cross_participants_test.sum()}\")"
   ]
  },
  {
   "cell_type": "code",
   "execution_count": 123,
   "id": "4a3f0df8",
   "metadata": {},
   "outputs": [
    {
     "name": "stdout",
     "output_type": "stream",
     "text": [
      "Пользователей, участвующих в двух группах теста одновременно, нет.\n"
     ]
    }
   ],
   "source": [
    "#проверим наличие польхователей, одновременно участвующих в двух группах\n",
    "\n",
    "duplicated_users = recommender_participants['user_id'].duplicated().sum()\n",
    "\n",
    "if duplicated_users == 0:\n",
    "    print(\"Пользователей, участвующих в двух группах теста одновременно, нет.\")\n",
    "else:\n",
    "    print(f\"Количество пользователей, участвующих в двух группах теста одновременно: {duplicated_users}\")"
   ]
  },
  {
   "cell_type": "code",
   "execution_count": 124,
   "id": "168c9ac0",
   "metadata": {
    "scrolled": false
   },
   "outputs": [
    {
     "name": "stdout",
     "output_type": "stream",
     "text": [
      "Количество пользователей в каждой группе: group\n",
      "A    3824\n",
      "B    2877\n",
      "Name: user_id, dtype: int64\n"
     ]
    }
   ],
   "source": [
    "# проверим, равномерно ли распределены пользователи по группам\n",
    "\n",
    "group_count = recommender_participants.groupby('group')['user_id'].count()\n",
    "\n",
    "\n",
    "print(f\"Количество пользователей в каждой группе: {group_count}\")"
   ]
  },
  {
   "cell_type": "markdown",
   "id": "91a5901b",
   "metadata": {},
   "source": [
    "Группы распределены не совсем равномерно, что может сказаться на результатах теста. Будем использовать тест пропорций для сглаживания этой неточности. "
   ]
  },
  {
   "cell_type": "code",
   "execution_count": 125,
   "id": "ae77b97f",
   "metadata": {},
   "outputs": [
    {
     "name": "stdout",
     "output_type": "stream",
     "text": [
      "Доля пользователей, участвующих в тесте: 15.83\n"
     ]
    }
   ],
   "source": [
    "#проверим правильность формирования групп\n",
    "\n",
    "total_test_users = recommender_participants['user_id'].nunique()\n",
    "unique_eu_users = eu_users['user_id'].nunique()\n",
    "\n",
    "print(\"Доля пользователей, участвующих в тесте:\", round (total_test_users / unique_eu_users*100,2) )\n"
   ]
  },
  {
   "cell_type": "markdown",
   "id": "fcf59cb0",
   "metadata": {},
   "source": [
    "Вывод: по результату оценки данных можем сказать, что данные соответствуют техническим требованиям проверки: \n",
    "- время проведения теста не пересекается с маркетинговыми активностями \n",
    "- пользоватили в выборках набрались с 7 по 21 декабря\n",
    "- не обнаружены пересечения аудиторий с конкурирующим тестов\n",
    "- нет пользователей, участвующих в двух группах \n",
    "- доля участвующих пользователей - 15,83% \n",
    "\n",
    "Соответствие данных требованиям технического задания. Проверьте корректность всех пунктов технического задания.\n",
    "Время проведения теста. Убедитесь, что оно не совпадает с маркетинговыми и другими активностями.\n",
    "Аудиторию теста. Удостоверьтесь, что нет пересечений с конкурирующим тестом и нет пользователей, участвующих в двух группах теста одновременно. Проверьте равномерность распределения по тестовым группам и правильность их формирования."
   ]
  },
  {
   "cell_type": "markdown",
   "id": "8db76cd7",
   "metadata": {},
   "source": [
    "### Исследовательский анализ данных \n",
    "\n",
    "- Количество событий на пользователя одинаково распределены в выборках?\n",
    "- Как число событий в выборках распределено по дням?\n",
    "- Как меняется конверсия в воронке в выборках на разных этапах?\n",
    "- Какие особенности данных нужно учесть, прежде чем приступать к A/B-тестированию?"
   ]
  },
  {
   "cell_type": "code",
   "execution_count": 126,
   "id": "c1ab6eed",
   "metadata": {},
   "outputs": [
    {
     "data": {
      "text/html": [
       "<div>\n",
       "<style scoped>\n",
       "    .dataframe tbody tr th:only-of-type {\n",
       "        vertical-align: middle;\n",
       "    }\n",
       "\n",
       "    .dataframe tbody tr th {\n",
       "        vertical-align: top;\n",
       "    }\n",
       "\n",
       "    .dataframe thead th {\n",
       "        text-align: right;\n",
       "    }\n",
       "</style>\n",
       "<table border=\"1\" class=\"dataframe\">\n",
       "  <thead>\n",
       "    <tr style=\"text-align: right;\">\n",
       "      <th></th>\n",
       "      <th>user_id</th>\n",
       "      <th>group</th>\n",
       "      <th>event_name</th>\n",
       "    </tr>\n",
       "  </thead>\n",
       "  <tbody>\n",
       "    <tr>\n",
       "      <th>0</th>\n",
       "      <td>0002CE61FF2C4011</td>\n",
       "      <td>A</td>\n",
       "      <td>12</td>\n",
       "    </tr>\n",
       "    <tr>\n",
       "      <th>2</th>\n",
       "      <td>0010A1C096941592</td>\n",
       "      <td>A</td>\n",
       "      <td>12</td>\n",
       "    </tr>\n",
       "    <tr>\n",
       "      <th>4</th>\n",
       "      <td>002412F1EB3F6E38</td>\n",
       "      <td>A</td>\n",
       "      <td>8</td>\n",
       "    </tr>\n",
       "    <tr>\n",
       "      <th>5</th>\n",
       "      <td>002540BE89C930FB</td>\n",
       "      <td>A</td>\n",
       "      <td>9</td>\n",
       "    </tr>\n",
       "    <tr>\n",
       "      <th>7</th>\n",
       "      <td>003346BB64227D0C</td>\n",
       "      <td>A</td>\n",
       "      <td>3</td>\n",
       "    </tr>\n",
       "    <tr>\n",
       "      <th>...</th>\n",
       "      <td>...</td>\n",
       "      <td>...</td>\n",
       "      <td>...</td>\n",
       "    </tr>\n",
       "    <tr>\n",
       "      <th>14067</th>\n",
       "      <td>FFC676CB3E0A60B8</td>\n",
       "      <td>A</td>\n",
       "      <td>6</td>\n",
       "    </tr>\n",
       "    <tr>\n",
       "      <th>14069</th>\n",
       "      <td>FFDA3BD9A090A179</td>\n",
       "      <td>A</td>\n",
       "      <td>6</td>\n",
       "    </tr>\n",
       "    <tr>\n",
       "      <th>14070</th>\n",
       "      <td>FFDC1BEFD27A66D5</td>\n",
       "      <td>A</td>\n",
       "      <td>2</td>\n",
       "    </tr>\n",
       "    <tr>\n",
       "      <th>14073</th>\n",
       "      <td>FFE600EEC4BA7685</td>\n",
       "      <td>A</td>\n",
       "      <td>6</td>\n",
       "    </tr>\n",
       "    <tr>\n",
       "      <th>14076</th>\n",
       "      <td>FFF28D02B1EACBE1</td>\n",
       "      <td>A</td>\n",
       "      <td>9</td>\n",
       "    </tr>\n",
       "  </tbody>\n",
       "</table>\n",
       "<p>7874 rows × 3 columns</p>\n",
       "</div>"
      ],
      "text/plain": [
       "                user_id group  event_name\n",
       "0      0002CE61FF2C4011     A          12\n",
       "2      0010A1C096941592     A          12\n",
       "4      002412F1EB3F6E38     A           8\n",
       "5      002540BE89C930FB     A           9\n",
       "7      003346BB64227D0C     A           3\n",
       "...                 ...   ...         ...\n",
       "14067  FFC676CB3E0A60B8     A           6\n",
       "14069  FFDA3BD9A090A179     A           6\n",
       "14070  FFDC1BEFD27A66D5     A           2\n",
       "14073  FFE600EEC4BA7685     A           6\n",
       "14076  FFF28D02B1EACBE1     A           9\n",
       "\n",
       "[7874 rows x 3 columns]"
      ]
     },
     "metadata": {},
     "output_type": "display_data"
    },
    {
     "data": {
      "text/html": [
       "<div>\n",
       "<style scoped>\n",
       "    .dataframe tbody tr th:only-of-type {\n",
       "        vertical-align: middle;\n",
       "    }\n",
       "\n",
       "    .dataframe tbody tr th {\n",
       "        vertical-align: top;\n",
       "    }\n",
       "\n",
       "    .dataframe thead th {\n",
       "        text-align: right;\n",
       "    }\n",
       "</style>\n",
       "<table border=\"1\" class=\"dataframe\">\n",
       "  <thead>\n",
       "    <tr style=\"text-align: right;\">\n",
       "      <th></th>\n",
       "      <th>user_id</th>\n",
       "      <th>group</th>\n",
       "      <th>event_name</th>\n",
       "    </tr>\n",
       "  </thead>\n",
       "  <tbody>\n",
       "    <tr>\n",
       "      <th>1</th>\n",
       "      <td>001064FEAAB631A1</td>\n",
       "      <td>B</td>\n",
       "      <td>12</td>\n",
       "    </tr>\n",
       "    <tr>\n",
       "      <th>3</th>\n",
       "      <td>001E72F50D1C48FA</td>\n",
       "      <td>B</td>\n",
       "      <td>6</td>\n",
       "    </tr>\n",
       "    <tr>\n",
       "      <th>6</th>\n",
       "      <td>0031F1B5E9FBF708</td>\n",
       "      <td>B</td>\n",
       "      <td>4</td>\n",
       "    </tr>\n",
       "    <tr>\n",
       "      <th>9</th>\n",
       "      <td>0036BE15EE4D319D</td>\n",
       "      <td>B</td>\n",
       "      <td>2</td>\n",
       "    </tr>\n",
       "    <tr>\n",
       "      <th>11</th>\n",
       "      <td>003F86A34B575D27</td>\n",
       "      <td>B</td>\n",
       "      <td>4</td>\n",
       "    </tr>\n",
       "    <tr>\n",
       "      <th>...</th>\n",
       "      <td>...</td>\n",
       "      <td>...</td>\n",
       "      <td>...</td>\n",
       "    </tr>\n",
       "    <tr>\n",
       "      <th>14072</th>\n",
       "      <td>FFE5B14BD55C1C5C</td>\n",
       "      <td>B</td>\n",
       "      <td>4</td>\n",
       "    </tr>\n",
       "    <tr>\n",
       "      <th>14074</th>\n",
       "      <td>FFE7FC140521F5F6</td>\n",
       "      <td>B</td>\n",
       "      <td>20</td>\n",
       "    </tr>\n",
       "    <tr>\n",
       "      <th>14075</th>\n",
       "      <td>FFEFC0E55C1CCD4F</td>\n",
       "      <td>B</td>\n",
       "      <td>4</td>\n",
       "    </tr>\n",
       "    <tr>\n",
       "      <th>14077</th>\n",
       "      <td>FFF28D02B1EACBE1</td>\n",
       "      <td>B</td>\n",
       "      <td>9</td>\n",
       "    </tr>\n",
       "    <tr>\n",
       "      <th>14078</th>\n",
       "      <td>FFF58BC33966EB51</td>\n",
       "      <td>B</td>\n",
       "      <td>3</td>\n",
       "    </tr>\n",
       "  </tbody>\n",
       "</table>\n",
       "<p>6205 rows × 3 columns</p>\n",
       "</div>"
      ],
      "text/plain": [
       "                user_id group  event_name\n",
       "1      001064FEAAB631A1     B          12\n",
       "3      001E72F50D1C48FA     B           6\n",
       "6      0031F1B5E9FBF708     B           4\n",
       "9      0036BE15EE4D319D     B           2\n",
       "11     003F86A34B575D27     B           4\n",
       "...                 ...   ...         ...\n",
       "14072  FFE5B14BD55C1C5C     B           4\n",
       "14074  FFE7FC140521F5F6     B          20\n",
       "14075  FFEFC0E55C1CCD4F     B           4\n",
       "14077  FFF28D02B1EACBE1     B           9\n",
       "14078  FFF58BC33966EB51     B           3\n",
       "\n",
       "[6205 rows x 3 columns]"
      ]
     },
     "metadata": {},
     "output_type": "display_data"
    }
   ],
   "source": [
    "#проверим количество событий на пользователя: одинаково ли они распределены в выборках\n",
    "\n",
    "events_groups = events.merge(participants, on=\"user_id\", how=\"inner\")\n",
    "event_counts = events_groups.groupby([\"user_id\", \"group\"])[\"event_name\"].count().reset_index()\n",
    "\n",
    "group_a = event_counts.query('group == \"A\"')\n",
    "group_b = event_counts.query('group == \"B\"')\n",
    "\n",
    "display (group_a)\n",
    "display (group_b)"
   ]
  },
  {
   "cell_type": "code",
   "execution_count": 127,
   "id": "3d4f4c51",
   "metadata": {},
   "outputs": [
    {
     "data": {
      "image/png": "[encoded data removed]",
      "text/plain": [
       "<Figure size 1000x600 with 1 Axes>"
      ]
     },
     "metadata": {},
     "output_type": "display_data"
    }
   ],
   "source": [
    "#считаем количество событий по названию событий\n",
    "group_a_counts = group_a['event_name'].value_counts().sort_index()\n",
    "group_b_counts = group_b['event_name'].value_counts().sort_index()\n",
    "\n",
    "#делаем сводную таблицу \n",
    "groups_chart = pd.DataFrame({'Группа A': group_a_counts, 'Группа B': group_b_counts})\n",
    "\n",
    "#строим график\n",
    "ax = data.plot.bar(stacked=True, figsize=(10, 6))\n",
    "ax.set_title('Распеределение пользователей по событиям из разных групп')\n",
    "ax.set_xlabel('Название события')\n",
    "ax.set_ylabel('Количество пользователей')\n",
    "plt.show()\n"
   ]
  },
  {
   "cell_type": "markdown",
   "id": "cb947fd6",
   "metadata": {},
   "source": [
    "Вывод: самые популярные события 6, 4, 8, 12 и 9. Причем как для грцппы  А, так и для группы B. Самые не популярные - практически нет пользователей: 40. 36, 22, 23, 26. \n",
    "    "
   ]
  },
  {
   "cell_type": "code",
   "execution_count": 128,
   "id": "f2b5082e",
   "metadata": {},
   "outputs": [
    {
     "data": {
      "text/html": [
       "<div>\n",
       "<style scoped>\n",
       "    .dataframe tbody tr th:only-of-type {\n",
       "        vertical-align: middle;\n",
       "    }\n",
       "\n",
       "    .dataframe tbody tr th {\n",
       "        vertical-align: top;\n",
       "    }\n",
       "\n",
       "    .dataframe thead th {\n",
       "        text-align: right;\n",
       "    }\n",
       "</style>\n",
       "<table border=\"1\" class=\"dataframe\">\n",
       "  <thead>\n",
       "    <tr style=\"text-align: right;\">\n",
       "      <th></th>\n",
       "      <th>user_id</th>\n",
       "      <th>event_dt</th>\n",
       "      <th>event_name</th>\n",
       "      <th>details</th>\n",
       "      <th>group</th>\n",
       "      <th>ab_test</th>\n",
       "    </tr>\n",
       "  </thead>\n",
       "  <tbody>\n",
       "    <tr>\n",
       "      <th>0</th>\n",
       "      <td>96F27A054B191457</td>\n",
       "      <td>2020-12-07</td>\n",
       "      <td>purchase</td>\n",
       "      <td>4.99</td>\n",
       "      <td>B</td>\n",
       "      <td>interface_eu_test</td>\n",
       "    </tr>\n",
       "    <tr>\n",
       "      <th>1</th>\n",
       "      <td>96F27A054B191457</td>\n",
       "      <td>2020-12-08</td>\n",
       "      <td>purchase</td>\n",
       "      <td>4.99</td>\n",
       "      <td>B</td>\n",
       "      <td>interface_eu_test</td>\n",
       "    </tr>\n",
       "    <tr>\n",
       "      <th>2</th>\n",
       "      <td>96F27A054B191457</td>\n",
       "      <td>2020-12-09</td>\n",
       "      <td>purchase</td>\n",
       "      <td>4.99</td>\n",
       "      <td>B</td>\n",
       "      <td>interface_eu_test</td>\n",
       "    </tr>\n",
       "    <tr>\n",
       "      <th>3</th>\n",
       "      <td>96F27A054B191457</td>\n",
       "      <td>2020-12-26</td>\n",
       "      <td>purchase</td>\n",
       "      <td>9.99</td>\n",
       "      <td>B</td>\n",
       "      <td>interface_eu_test</td>\n",
       "    </tr>\n",
       "    <tr>\n",
       "      <th>4</th>\n",
       "      <td>96F27A054B191457</td>\n",
       "      <td>2020-12-07</td>\n",
       "      <td>product_page</td>\n",
       "      <td>0.00</td>\n",
       "      <td>B</td>\n",
       "      <td>interface_eu_test</td>\n",
       "    </tr>\n",
       "    <tr>\n",
       "      <th>...</th>\n",
       "      <td>...</td>\n",
       "      <td>...</td>\n",
       "      <td>...</td>\n",
       "      <td>...</td>\n",
       "      <td>...</td>\n",
       "      <td>...</td>\n",
       "    </tr>\n",
       "    <tr>\n",
       "      <th>106620</th>\n",
       "      <td>40076B77CFC12421</td>\n",
       "      <td>2020-12-24</td>\n",
       "      <td>login</td>\n",
       "      <td>0.00</td>\n",
       "      <td>B</td>\n",
       "      <td>interface_eu_test</td>\n",
       "    </tr>\n",
       "    <tr>\n",
       "      <th>106621</th>\n",
       "      <td>40076B77CFC12421</td>\n",
       "      <td>2020-12-25</td>\n",
       "      <td>login</td>\n",
       "      <td>0.00</td>\n",
       "      <td>B</td>\n",
       "      <td>interface_eu_test</td>\n",
       "    </tr>\n",
       "    <tr>\n",
       "      <th>106622</th>\n",
       "      <td>40076B77CFC12421</td>\n",
       "      <td>2020-12-26</td>\n",
       "      <td>login</td>\n",
       "      <td>0.00</td>\n",
       "      <td>B</td>\n",
       "      <td>interface_eu_test</td>\n",
       "    </tr>\n",
       "    <tr>\n",
       "      <th>106623</th>\n",
       "      <td>301C602AF78BABAD</td>\n",
       "      <td>2020-12-23</td>\n",
       "      <td>login</td>\n",
       "      <td>0.00</td>\n",
       "      <td>B</td>\n",
       "      <td>interface_eu_test</td>\n",
       "    </tr>\n",
       "    <tr>\n",
       "      <th>106624</th>\n",
       "      <td>85500F5DD194ADBA</td>\n",
       "      <td>2020-12-23</td>\n",
       "      <td>login</td>\n",
       "      <td>0.00</td>\n",
       "      <td>B</td>\n",
       "      <td>interface_eu_test</td>\n",
       "    </tr>\n",
       "  </tbody>\n",
       "</table>\n",
       "<p>106625 rows × 6 columns</p>\n",
       "</div>"
      ],
      "text/plain": [
       "                 user_id    event_dt    event_name  details group  \\\n",
       "0       96F27A054B191457  2020-12-07      purchase     4.99     B   \n",
       "1       96F27A054B191457  2020-12-08      purchase     4.99     B   \n",
       "2       96F27A054B191457  2020-12-09      purchase     4.99     B   \n",
       "3       96F27A054B191457  2020-12-26      purchase     9.99     B   \n",
       "4       96F27A054B191457  2020-12-07  product_page     0.00     B   \n",
       "...                  ...         ...           ...      ...   ...   \n",
       "106620  40076B77CFC12421  2020-12-24         login     0.00     B   \n",
       "106621  40076B77CFC12421  2020-12-25         login     0.00     B   \n",
       "106622  40076B77CFC12421  2020-12-26         login     0.00     B   \n",
       "106623  301C602AF78BABAD  2020-12-23         login     0.00     B   \n",
       "106624  85500F5DD194ADBA  2020-12-23         login     0.00     B   \n",
       "\n",
       "                  ab_test  \n",
       "0       interface_eu_test  \n",
       "1       interface_eu_test  \n",
       "2       interface_eu_test  \n",
       "3       interface_eu_test  \n",
       "4       interface_eu_test  \n",
       "...                   ...  \n",
       "106620  interface_eu_test  \n",
       "106621  interface_eu_test  \n",
       "106622  interface_eu_test  \n",
       "106623  interface_eu_test  \n",
       "106624  interface_eu_test  \n",
       "\n",
       "[106625 rows x 6 columns]"
      ]
     },
     "metadata": {},
     "output_type": "display_data"
    }
   ],
   "source": [
    "# посмотрим, как число событий в выборках распределено по дням\n",
    "\n",
    "#выделим из event_dt только дату\n",
    "events['event_dt'] = pd.to_datetime(events['event_dt']).dt.date\n",
    "\n",
    "#объединим таблицы events и participants\n",
    "events_participants = events.merge(participants, on='user_id', how='inner')\n",
    "display (events_participants) "
   ]
  },
  {
   "cell_type": "code",
   "execution_count": 129,
   "id": "be19a42f",
   "metadata": {
    "scrolled": true
   },
   "outputs": [
    {
     "data": {
      "text/html": [
       "<div>\n",
       "<style scoped>\n",
       "    .dataframe tbody tr th:only-of-type {\n",
       "        vertical-align: middle;\n",
       "    }\n",
       "\n",
       "    .dataframe tbody tr th {\n",
       "        vertical-align: top;\n",
       "    }\n",
       "\n",
       "    .dataframe thead th {\n",
       "        text-align: right;\n",
       "    }\n",
       "</style>\n",
       "<table border=\"1\" class=\"dataframe\">\n",
       "  <thead>\n",
       "    <tr style=\"text-align: right;\">\n",
       "      <th></th>\n",
       "      <th>event_dt</th>\n",
       "      <th>group</th>\n",
       "      <th>user_id</th>\n",
       "      <th>event_name</th>\n",
       "      <th>details</th>\n",
       "      <th>ab_test</th>\n",
       "    </tr>\n",
       "  </thead>\n",
       "  <tbody>\n",
       "    <tr>\n",
       "      <th>0</th>\n",
       "      <td>2020-12-07</td>\n",
       "      <td>A</td>\n",
       "      <td>1375</td>\n",
       "      <td>1375</td>\n",
       "      <td>1375</td>\n",
       "      <td>1375</td>\n",
       "    </tr>\n",
       "    <tr>\n",
       "      <th>2</th>\n",
       "      <td>2020-12-08</td>\n",
       "      <td>A</td>\n",
       "      <td>1493</td>\n",
       "      <td>1493</td>\n",
       "      <td>1493</td>\n",
       "      <td>1493</td>\n",
       "    </tr>\n",
       "    <tr>\n",
       "      <th>4</th>\n",
       "      <td>2020-12-09</td>\n",
       "      <td>A</td>\n",
       "      <td>1557</td>\n",
       "      <td>1557</td>\n",
       "      <td>1557</td>\n",
       "      <td>1557</td>\n",
       "    </tr>\n",
       "    <tr>\n",
       "      <th>6</th>\n",
       "      <td>2020-12-10</td>\n",
       "      <td>A</td>\n",
       "      <td>1638</td>\n",
       "      <td>1638</td>\n",
       "      <td>1638</td>\n",
       "      <td>1638</td>\n",
       "    </tr>\n",
       "    <tr>\n",
       "      <th>8</th>\n",
       "      <td>2020-12-11</td>\n",
       "      <td>A</td>\n",
       "      <td>1672</td>\n",
       "      <td>1672</td>\n",
       "      <td>1672</td>\n",
       "      <td>1672</td>\n",
       "    </tr>\n",
       "    <tr>\n",
       "      <th>10</th>\n",
       "      <td>2020-12-12</td>\n",
       "      <td>A</td>\n",
       "      <td>2173</td>\n",
       "      <td>2173</td>\n",
       "      <td>2173</td>\n",
       "      <td>2173</td>\n",
       "    </tr>\n",
       "    <tr>\n",
       "      <th>12</th>\n",
       "      <td>2020-12-13</td>\n",
       "      <td>A</td>\n",
       "      <td>2335</td>\n",
       "      <td>2335</td>\n",
       "      <td>2335</td>\n",
       "      <td>2335</td>\n",
       "    </tr>\n",
       "    <tr>\n",
       "      <th>14</th>\n",
       "      <td>2020-12-14</td>\n",
       "      <td>A</td>\n",
       "      <td>3582</td>\n",
       "      <td>3582</td>\n",
       "      <td>3582</td>\n",
       "      <td>3582</td>\n",
       "    </tr>\n",
       "    <tr>\n",
       "      <th>16</th>\n",
       "      <td>2020-12-15</td>\n",
       "      <td>A</td>\n",
       "      <td>3294</td>\n",
       "      <td>3294</td>\n",
       "      <td>3294</td>\n",
       "      <td>3294</td>\n",
       "    </tr>\n",
       "    <tr>\n",
       "      <th>18</th>\n",
       "      <td>2020-12-16</td>\n",
       "      <td>A</td>\n",
       "      <td>3179</td>\n",
       "      <td>3179</td>\n",
       "      <td>3179</td>\n",
       "      <td>3179</td>\n",
       "    </tr>\n",
       "    <tr>\n",
       "      <th>20</th>\n",
       "      <td>2020-12-17</td>\n",
       "      <td>A</td>\n",
       "      <td>3366</td>\n",
       "      <td>3366</td>\n",
       "      <td>3366</td>\n",
       "      <td>3366</td>\n",
       "    </tr>\n",
       "    <tr>\n",
       "      <th>22</th>\n",
       "      <td>2020-12-18</td>\n",
       "      <td>A</td>\n",
       "      <td>3496</td>\n",
       "      <td>3496</td>\n",
       "      <td>3496</td>\n",
       "      <td>3496</td>\n",
       "    </tr>\n",
       "    <tr>\n",
       "      <th>24</th>\n",
       "      <td>2020-12-19</td>\n",
       "      <td>A</td>\n",
       "      <td>3706</td>\n",
       "      <td>3706</td>\n",
       "      <td>3706</td>\n",
       "      <td>3706</td>\n",
       "    </tr>\n",
       "    <tr>\n",
       "      <th>26</th>\n",
       "      <td>2020-12-20</td>\n",
       "      <td>A</td>\n",
       "      <td>4040</td>\n",
       "      <td>4040</td>\n",
       "      <td>4040</td>\n",
       "      <td>4040</td>\n",
       "    </tr>\n",
       "    <tr>\n",
       "      <th>28</th>\n",
       "      <td>2020-12-21</td>\n",
       "      <td>A</td>\n",
       "      <td>5057</td>\n",
       "      <td>5057</td>\n",
       "      <td>5057</td>\n",
       "      <td>5057</td>\n",
       "    </tr>\n",
       "    <tr>\n",
       "      <th>30</th>\n",
       "      <td>2020-12-22</td>\n",
       "      <td>A</td>\n",
       "      <td>3970</td>\n",
       "      <td>3970</td>\n",
       "      <td>3970</td>\n",
       "      <td>3970</td>\n",
       "    </tr>\n",
       "    <tr>\n",
       "      <th>32</th>\n",
       "      <td>2020-12-23</td>\n",
       "      <td>A</td>\n",
       "      <td>3454</td>\n",
       "      <td>3454</td>\n",
       "      <td>3454</td>\n",
       "      <td>3454</td>\n",
       "    </tr>\n",
       "    <tr>\n",
       "      <th>34</th>\n",
       "      <td>2020-12-24</td>\n",
       "      <td>A</td>\n",
       "      <td>2730</td>\n",
       "      <td>2730</td>\n",
       "      <td>2730</td>\n",
       "      <td>2730</td>\n",
       "    </tr>\n",
       "    <tr>\n",
       "      <th>36</th>\n",
       "      <td>2020-12-25</td>\n",
       "      <td>A</td>\n",
       "      <td>2169</td>\n",
       "      <td>2169</td>\n",
       "      <td>2169</td>\n",
       "      <td>2169</td>\n",
       "    </tr>\n",
       "    <tr>\n",
       "      <th>38</th>\n",
       "      <td>2020-12-26</td>\n",
       "      <td>A</td>\n",
       "      <td>1929</td>\n",
       "      <td>1929</td>\n",
       "      <td>1929</td>\n",
       "      <td>1929</td>\n",
       "    </tr>\n",
       "    <tr>\n",
       "      <th>40</th>\n",
       "      <td>2020-12-27</td>\n",
       "      <td>A</td>\n",
       "      <td>1802</td>\n",
       "      <td>1802</td>\n",
       "      <td>1802</td>\n",
       "      <td>1802</td>\n",
       "    </tr>\n",
       "    <tr>\n",
       "      <th>42</th>\n",
       "      <td>2020-12-28</td>\n",
       "      <td>A</td>\n",
       "      <td>1537</td>\n",
       "      <td>1537</td>\n",
       "      <td>1537</td>\n",
       "      <td>1537</td>\n",
       "    </tr>\n",
       "    <tr>\n",
       "      <th>44</th>\n",
       "      <td>2020-12-29</td>\n",
       "      <td>A</td>\n",
       "      <td>1306</td>\n",
       "      <td>1306</td>\n",
       "      <td>1306</td>\n",
       "      <td>1306</td>\n",
       "    </tr>\n",
       "    <tr>\n",
       "      <th>46</th>\n",
       "      <td>2020-12-30</td>\n",
       "      <td>A</td>\n",
       "      <td>14</td>\n",
       "      <td>14</td>\n",
       "      <td>14</td>\n",
       "      <td>14</td>\n",
       "    </tr>\n",
       "  </tbody>\n",
       "</table>\n",
       "</div>"
      ],
      "text/plain": [
       "      event_dt group  user_id  event_name  details  ab_test\n",
       "0   2020-12-07     A     1375        1375     1375     1375\n",
       "2   2020-12-08     A     1493        1493     1493     1493\n",
       "4   2020-12-09     A     1557        1557     1557     1557\n",
       "6   2020-12-10     A     1638        1638     1638     1638\n",
       "8   2020-12-11     A     1672        1672     1672     1672\n",
       "10  2020-12-12     A     2173        2173     2173     2173\n",
       "12  2020-12-13     A     2335        2335     2335     2335\n",
       "14  2020-12-14     A     3582        3582     3582     3582\n",
       "16  2020-12-15     A     3294        3294     3294     3294\n",
       "18  2020-12-16     A     3179        3179     3179     3179\n",
       "20  2020-12-17     A     3366        3366     3366     3366\n",
       "22  2020-12-18     A     3496        3496     3496     3496\n",
       "24  2020-12-19     A     3706        3706     3706     3706\n",
       "26  2020-12-20     A     4040        4040     4040     4040\n",
       "28  2020-12-21     A     5057        5057     5057     5057\n",
       "30  2020-12-22     A     3970        3970     3970     3970\n",
       "32  2020-12-23     A     3454        3454     3454     3454\n",
       "34  2020-12-24     A     2730        2730     2730     2730\n",
       "36  2020-12-25     A     2169        2169     2169     2169\n",
       "38  2020-12-26     A     1929        1929     1929     1929\n",
       "40  2020-12-27     A     1802        1802     1802     1802\n",
       "42  2020-12-28     A     1537        1537     1537     1537\n",
       "44  2020-12-29     A     1306        1306     1306     1306\n",
       "46  2020-12-30     A       14          14       14       14"
      ]
     },
     "metadata": {},
     "output_type": "display_data"
    }
   ],
   "source": [
    "#посчитаем количество участников групп по мероприятиям\n",
    "events_daily = events_participants.groupby(['event_dt', 'group']).count().reset_index()\n",
    "events_daily_group_a = events_daily.query('group == \"A\"')\n",
    "events_daily_group_b = events_daily.query('group == \"B\"')\n",
    "display (events_daily_group_a)"
   ]
  },
  {
   "cell_type": "code",
   "execution_count": 130,
   "id": "9d5bc690",
   "metadata": {},
   "outputs": [
    {
     "data": {
      "image/png": "[encoded data removed]",
      "text/plain": [
       "<Figure size 640x480 with 1 Axes>"
      ]
     },
     "metadata": {},
     "output_type": "display_data"
    }
   ],
   "source": [
    "\n",
    "plt.plot(events_daily_group_a['event_dt'], events_daily_group_a['user_id'], label='Group A')\n",
    "plt.plot(events_daily_group_b['event_dt'], events_daily_group_b['user_id'], label='Group B')\n",
    "plt.xlabel('Даты ')\n",
    "plt.ylabel('Количество участников')\n",
    "plt.title('Количество участников в группах А и B по дням')\n",
    "plt.xticks(rotation=45)\n",
    "plt.legend()\n",
    "plt.show()"
   ]
  },
  {
   "cell_type": "markdown",
   "id": "011c65f0",
   "metadata": {},
   "source": [
    "Вывод: наиболее активный день, в который было наибольшее количество участников - 21 декабря, так же был пик 13 декабря. Наименьшее количество участников пришлось на самый конец теста - 29 декабря. "
   ]
  },
  {
   "cell_type": "code",
   "execution_count": 144,
   "id": "01db6889",
   "metadata": {},
   "outputs": [],
   "source": [
    "#проверим, как меняется конверсия в воронке в выборках на разных этапах\n",
    "#display (events_participants)\n",
    "# создадтим таблицу для использования воронки\n",
    "funnel_data = events_participants.groupby(['group', 'event_name']).count().reset_index().sort_values(by = 'group', ascending = False)\n",
    "funnel_data_group_a = funnel_data[funnel_data['group'] == \"A\"].sort_values(by='user_id', ascending=False)\n",
    "funnel_data_group_b = funnel_data[funnel_data['group'] == \"B\"].sort_values(by='user_id', ascending=False)\n",
    "\n"
   ]
  },
  {
   "cell_type": "code",
   "execution_count": 156,
   "id": "1a551dc6",
   "metadata": {},
   "outputs": [
    {
     "data": {
      "application/vnd.plotly.v1+json": {
       "config": {
        "plotlyServerURL": "https://plot.ly"
       },
       "data": [
        {
         "name": "Группа A",
         "textinfo": "value+percent initial",
         "type": "funnel",
         "x": [
          26320,
          17275,
          8955,
          8324
         ],
         "y": [
          "login",
          "product_page",
          "purchase",
          "product_cart"
         ]
        },
        {
         "name": "Группа B",
         "textinfo": "value+percent initial",
         "type": "funnel",
         "x": [
          20015,
          12750,
          6525,
          6461
         ],
         "y": [
          "login",
          "product_page",
          "product_cart",
          "purchase"
         ]
        }
       ],
       "layout": {
        "height": 500,
        "template": {
         "data": {
          "bar": [
           {
            "error_x": {
             "color": "#2a3f5f"
            },
            "error_y": {
             "color": "#2a3f5f"
            },
            "marker": {
             "line": {
              "color": "#E5ECF6",
              "width": 0.5
             },
             "pattern": {
              "fillmode": "overlay",
              "size": 10,
              "solidity": 0.2
             }
            },
            "type": "bar"
           }
          ],
          "barpolar": [
           {
            "marker": {
             "line": {
              "color": "#E5ECF6",
              "width": 0.5
             },
             "pattern": {
              "fillmode": "overlay",
              "size": 10,
              "solidity": 0.2
             }
            },
            "type": "barpolar"
           }
          ],
          "carpet": [
           {
            "aaxis": {
             "endlinecolor": "#2a3f5f",
             "gridcolor": "white",
             "linecolor": "white",
             "minorgridcolor": "white",
             "startlinecolor": "#2a3f5f"
            },
            "baxis": {
             "endlinecolor": "#2a3f5f",
             "gridcolor": "white",
             "linecolor": "white",
             "minorgridcolor": "white",
             "startlinecolor": "#2a3f5f"
            },
            "type": "carpet"
           }
          ],
          "choropleth": [
           {
            "colorbar": {
             "outlinewidth": 0,
             "ticks": ""
            },
            "type": "choropleth"
           }
          ],
          "contour": [
           {
            "colorbar": {
             "outlinewidth": 0,
             "ticks": ""
            },
            "colorscale": [
             [
              0,
              "#0d0887"
             ],
             [
              0.1111111111111111,
              "#46039f"
             ],
             [
              0.2222222222222222,
              "#7201a8"
             ],
             [
              0.3333333333333333,
              "#9c179e"
             ],
             [
              0.4444444444444444,
              "#bd3786"
             ],
             [
              0.5555555555555556,
              "#d8576b"
             ],
             [
              0.6666666666666666,
              "#ed7953"
             ],
             [
              0.7777777777777778,
              "#fb9f3a"
             ],
             [
              0.8888888888888888,
              "#fdca26"
             ],
             [
              1,
              "#f0f921"
             ]
            ],
            "type": "contour"
           }
          ],
          "contourcarpet": [
           {
            "colorbar": {
             "outlinewidth": 0,
             "ticks": ""
            },
            "type": "contourcarpet"
           }
          ],
          "heatmap": [
           {
            "colorbar": {
             "outlinewidth": 0,
             "ticks": ""
            },
            "colorscale": [
             [
              0,
              "#0d0887"
             ],
             [
              0.1111111111111111,
              "#46039f"
             ],
             [
              0.2222222222222222,
              "#7201a8"
             ],
             [
              0.3333333333333333,
              "#9c179e"
             ],
             [
              0.4444444444444444,
              "#bd3786"
             ],
             [
              0.5555555555555556,
              "#d8576b"
             ],
             [
              0.6666666666666666,
              "#ed7953"
             ],
             [
              0.7777777777777778,
              "#fb9f3a"
             ],
             [
              0.8888888888888888,
              "#fdca26"
             ],
             [
              1,
              "#f0f921"
             ]
            ],
            "type": "heatmap"
           }
          ],
          "heatmapgl": [
           {
            "colorbar": {
             "outlinewidth": 0,
             "ticks": ""
            },
            "colorscale": [
             [
              0,
              "#0d0887"
             ],
             [
              0.1111111111111111,
              "#46039f"
             ],
             [
              0.2222222222222222,
              "#7201a8"
             ],
             [
              0.3333333333333333,
              "#9c179e"
             ],
             [
              0.4444444444444444,
              "#bd3786"
             ],
             [
              0.5555555555555556,
              "#d8576b"
             ],
             [
              0.6666666666666666,
              "#ed7953"
             ],
             [
              0.7777777777777778,
              "#fb9f3a"
             ],
             [
              0.8888888888888888,
              "#fdca26"
             ],
             [
              1,
              "#f0f921"
             ]
            ],
            "type": "heatmapgl"
           }
          ],
          "histogram": [
           {
            "marker": {
             "pattern": {
              "fillmode": "overlay",
              "size": 10,
              "solidity": 0.2
             }
            },
            "type": "histogram"
           }
          ],
          "histogram2d": [
           {
            "colorbar": {
             "outlinewidth": 0,
             "ticks": ""
            },
            "colorscale": [
             [
              0,
              "#0d0887"
             ],
             [
              0.1111111111111111,
              "#46039f"
             ],
             [
              0.2222222222222222,
              "#7201a8"
             ],
             [
              0.3333333333333333,
              "#9c179e"
             ],
             [
              0.4444444444444444,
              "#bd3786"
             ],
             [
              0.5555555555555556,
              "#d8576b"
             ],
             [
              0.6666666666666666,
              "#ed7953"
             ],
             [
              0.7777777777777778,
              "#fb9f3a"
             ],
             [
              0.8888888888888888,
              "#fdca26"
             ],
             [
              1,
              "#f0f921"
             ]
            ],
            "type": "histogram2d"
           }
          ],
          "histogram2dcontour": [
           {
            "colorbar": {
             "outlinewidth": 0,
             "ticks": ""
            },
            "colorscale": [
             [
              0,
              "#0d0887"
             ],
             [
              0.1111111111111111,
              "#46039f"
             ],
             [
              0.2222222222222222,
              "#7201a8"
             ],
             [
              0.3333333333333333,
              "#9c179e"
             ],
             [
              0.4444444444444444,
              "#bd3786"
             ],
             [
              0.5555555555555556,
              "#d8576b"
             ],
             [
              0.6666666666666666,
              "#ed7953"
             ],
             [
              0.7777777777777778,
              "#fb9f3a"
             ],
             [
              0.8888888888888888,
              "#fdca26"
             ],
             [
              1,
              "#f0f921"
             ]
            ],
            "type": "histogram2dcontour"
           }
          ],
          "mesh3d": [
           {
            "colorbar": {
             "outlinewidth": 0,
             "ticks": ""
            },
            "type": "mesh3d"
           }
          ],
          "parcoords": [
           {
            "line": {
             "colorbar": {
              "outlinewidth": 0,
              "ticks": ""
             }
            },
            "type": "parcoords"
           }
          ],
          "pie": [
           {
            "automargin": true,
            "type": "pie"
           }
          ],
          "scatter": [
           {
            "fillpattern": {
             "fillmode": "overlay",
             "size": 10,
             "solidity": 0.2
            },
            "type": "scatter"
           }
          ],
          "scatter3d": [
           {
            "line": {
             "colorbar": {
              "outlinewidth": 0,
              "ticks": ""
             }
            },
            "marker": {
             "colorbar": {
              "outlinewidth": 0,
              "ticks": ""
             }
            },
            "type": "scatter3d"
           }
          ],
          "scattercarpet": [
           {
            "marker": {
             "colorbar": {
              "outlinewidth": 0,
              "ticks": ""
             }
            },
            "type": "scattercarpet"
           }
          ],
          "scattergeo": [
           {
            "marker": {
             "colorbar": {
              "outlinewidth": 0,
              "ticks": ""
             }
            },
            "type": "scattergeo"
           }
          ],
          "scattergl": [
           {
            "marker": {
             "colorbar": {
              "outlinewidth": 0,
              "ticks": ""
             }
            },
            "type": "scattergl"
           }
          ],
          "scattermapbox": [
           {
            "marker": {
             "colorbar": {
              "outlinewidth": 0,
              "ticks": ""
             }
            },
            "type": "scattermapbox"
           }
          ],
          "scatterpolar": [
           {
            "marker": {
             "colorbar": {
              "outlinewidth": 0,
              "ticks": ""
             }
            },
            "type": "scatterpolar"
           }
          ],
          "scatterpolargl": [
           {
            "marker": {
             "colorbar": {
              "outlinewidth": 0,
              "ticks": ""
             }
            },
            "type": "scatterpolargl"
           }
          ],
          "scatterternary": [
           {
            "marker": {
             "colorbar": {
              "outlinewidth": 0,
              "ticks": ""
             }
            },
            "type": "scatterternary"
           }
          ],
          "surface": [
           {
            "colorbar": {
             "outlinewidth": 0,
             "ticks": ""
            },
            "colorscale": [
             [
              0,
              "#0d0887"
             ],
             [
              0.1111111111111111,
              "#46039f"
             ],
             [
              0.2222222222222222,
              "#7201a8"
             ],
             [
              0.3333333333333333,
              "#9c179e"
             ],
             [
              0.4444444444444444,
              "#bd3786"
             ],
             [
              0.5555555555555556,
              "#d8576b"
             ],
             [
              0.6666666666666666,
              "#ed7953"
             ],
             [
              0.7777777777777778,
              "#fb9f3a"
             ],
             [
              0.8888888888888888,
              "#fdca26"
             ],
             [
              1,
              "#f0f921"
             ]
            ],
            "type": "surface"
           }
          ],
          "table": [
           {
            "cells": {
             "fill": {
              "color": "#EBF0F8"
             },
             "line": {
              "color": "white"
             }
            },
            "header": {
             "fill": {
              "color": "#C8D4E3"
             },
             "line": {
              "color": "white"
             }
            },
            "type": "table"
           }
          ]
         },
         "layout": {
          "annotationdefaults": {
           "arrowcolor": "#2a3f5f",
           "arrowhead": 0,
           "arrowwidth": 1
          },
          "autotypenumbers": "strict",
          "coloraxis": {
           "colorbar": {
            "outlinewidth": 0,
            "ticks": ""
           }
          },
          "colorscale": {
           "diverging": [
            [
             0,
             "#8e0152"
            ],
            [
             0.1,
             "#c51b7d"
            ],
            [
             0.2,
             "#de77ae"
            ],
            [
             0.3,
             "#f1b6da"
            ],
            [
             0.4,
             "#fde0ef"
            ],
            [
             0.5,
             "#f7f7f7"
            ],
            [
             0.6,
             "#e6f5d0"
            ],
            [
             0.7,
             "#b8e186"
            ],
            [
             0.8,
             "#7fbc41"
            ],
            [
             0.9,
             "#4d9221"
            ],
            [
             1,
             "#276419"
            ]
           ],
           "sequential": [
            [
             0,
             "#0d0887"
            ],
            [
             0.1111111111111111,
             "#46039f"
            ],
            [
             0.2222222222222222,
             "#7201a8"
            ],
            [
             0.3333333333333333,
             "#9c179e"
            ],
            [
             0.4444444444444444,
             "#bd3786"
            ],
            [
             0.5555555555555556,
             "#d8576b"
            ],
            [
             0.6666666666666666,
             "#ed7953"
            ],
            [
             0.7777777777777778,
             "#fb9f3a"
            ],
            [
             0.8888888888888888,
             "#fdca26"
            ],
            [
             1,
             "#f0f921"
            ]
           ],
           "sequentialminus": [
            [
             0,
             "#0d0887"
            ],
            [
             0.1111111111111111,
             "#46039f"
            ],
            [
             0.2222222222222222,
             "#7201a8"
            ],
            [
             0.3333333333333333,
             "#9c179e"
            ],
            [
             0.4444444444444444,
             "#bd3786"
            ],
            [
             0.5555555555555556,
             "#d8576b"
            ],
            [
             0.6666666666666666,
             "#ed7953"
            ],
            [
             0.7777777777777778,
             "#fb9f3a"
            ],
            [
             0.8888888888888888,
             "#fdca26"
            ],
            [
             1,
             "#f0f921"
            ]
           ]
          },
          "colorway": [
           "#636efa",
           "#EF553B",
           "#00cc96",
           "#ab63fa",
           "#FFA15A",
           "#19d3f3",
           "#FF6692",
           "#B6E880",
           "#FF97FF",
           "#FECB52"
          ],
          "font": {
           "color": "#2a3f5f"
          },
          "geo": {
           "bgcolor": "white",
           "lakecolor": "white",
           "landcolor": "#E5ECF6",
           "showlakes": true,
           "showland": true,
           "subunitcolor": "white"
          },
          "hoverlabel": {
           "align": "left"
          },
          "hovermode": "closest",
          "mapbox": {
           "style": "light"
          },
          "paper_bgcolor": "white",
          "plot_bgcolor": "#E5ECF6",
          "polar": {
           "angularaxis": {
            "gridcolor": "white",
            "linecolor": "white",
            "ticks": ""
           },
           "bgcolor": "#E5ECF6",
           "radialaxis": {
            "gridcolor": "white",
            "linecolor": "white",
            "ticks": ""
           }
          },
          "scene": {
           "xaxis": {
            "backgroundcolor": "#E5ECF6",
            "gridcolor": "white",
            "gridwidth": 2,
            "linecolor": "white",
            "showbackground": true,
            "ticks": "",
            "zerolinecolor": "white"
           },
           "yaxis": {
            "backgroundcolor": "#E5ECF6",
            "gridcolor": "white",
            "gridwidth": 2,
            "linecolor": "white",
            "showbackground": true,
            "ticks": "",
            "zerolinecolor": "white"
           },
           "zaxis": {
            "backgroundcolor": "#E5ECF6",
            "gridcolor": "white",
            "gridwidth": 2,
            "linecolor": "white",
            "showbackground": true,
            "ticks": "",
            "zerolinecolor": "white"
           }
          },
          "shapedefaults": {
           "line": {
            "color": "#2a3f5f"
           }
          },
          "ternary": {
           "aaxis": {
            "gridcolor": "white",
            "linecolor": "white",
            "ticks": ""
           },
           "baxis": {
            "gridcolor": "white",
            "linecolor": "white",
            "ticks": ""
           },
           "bgcolor": "#E5ECF6",
           "caxis": {
            "gridcolor": "white",
            "linecolor": "white",
            "ticks": ""
           }
          },
          "title": {
           "x": 0.05
          },
          "xaxis": {
           "automargin": true,
           "gridcolor": "white",
           "linecolor": "white",
           "ticks": "",
           "title": {
            "standoff": 15
           },
           "zerolinecolor": "white",
           "zerolinewidth": 2
          },
          "yaxis": {
           "automargin": true,
           "gridcolor": "white",
           "linecolor": "white",
           "ticks": "",
           "title": {
            "standoff": 15
           },
           "zerolinecolor": "white",
           "zerolinewidth": 2
          }
         }
        },
        "title": {
         "text": "Воронка по событиям для групп А и В"
        },
        "width": 800
       }
      },
      "text/html": [
       "<div>                            <div id=\"70e23e73-3cf6-4e9d-9d44-cb868b5ea237\" class=\"plotly-graph-div\" style=\"height:500px; width:800px;\"></div>            <script type=\"text/javascript\">                require([\"plotly\"], function(Plotly) {                    window.PLOTLYENV=window.PLOTLYENV || {};                                    if (document.getElementById(\"70e23e73-3cf6-4e9d-9d44-cb868b5ea237\")) {                    Plotly.newPlot(                        \"70e23e73-3cf6-4e9d-9d44-cb868b5ea237\",                        [{\"name\":\"\\u0413\\u0440\\u0443\\u043f\\u043f\\u0430 A\",\"textinfo\":\"value+percent initial\",\"x\":[26320,17275,8955,8324],\"y\":[\"login\",\"product_page\",\"purchase\",\"product_cart\"],\"type\":\"funnel\"},{\"name\":\"\\u0413\\u0440\\u0443\\u043f\\u043f\\u0430 B\",\"textinfo\":\"value+percent initial\",\"x\":[20015,12750,6525,6461],\"y\":[\"login\",\"product_page\",\"product_cart\",\"purchase\"],\"type\":\"funnel\"}],                        {\"template\":{\"data\":{\"histogram2dcontour\":[{\"type\":\"histogram2dcontour\",\"colorbar\":{\"outlinewidth\":0,\"ticks\":\"\"},\"colorscale\":[[0.0,\"#0d0887\"],[0.1111111111111111,\"#46039f\"],[0.2222222222222222,\"#7201a8\"],[0.3333333333333333,\"#9c179e\"],[0.4444444444444444,\"#bd3786\"],[0.5555555555555556,\"#d8576b\"],[0.6666666666666666,\"#ed7953\"],[0.7777777777777778,\"#fb9f3a\"],[0.8888888888888888,\"#fdca26\"],[1.0,\"#f0f921\"]]}],\"choropleth\":[{\"type\":\"choropleth\",\"colorbar\":{\"outlinewidth\":0,\"ticks\":\"\"}}],\"histogram2d\":[{\"type\":\"histogram2d\",\"colorbar\":{\"outlinewidth\":0,\"ticks\":\"\"},\"colorscale\":[[0.0,\"#0d0887\"],[0.1111111111111111,\"#46039f\"],[0.2222222222222222,\"#7201a8\"],[0.3333333333333333,\"#9c179e\"],[0.4444444444444444,\"#bd3786\"],[0.5555555555555556,\"#d8576b\"],[0.6666666666666666,\"#ed7953\"],[0.7777777777777778,\"#fb9f3a\"],[0.8888888888888888,\"#fdca26\"],[1.0,\"#f0f921\"]]}],\"heatmap\":[{\"type\":\"heatmap\",\"colorbar\":{\"outlinewidth\":0,\"ticks\":\"\"},\"colorscale\":[[0.0,\"#0d0887\"],[0.1111111111111111,\"#46039f\"],[0.2222222222222222,\"#7201a8\"],[0.3333333333333333,\"#9c179e\"],[0.4444444444444444,\"#bd3786\"],[0.5555555555555556,\"#d8576b\"],[0.6666666666666666,\"#ed7953\"],[0.7777777777777778,\"#fb9f3a\"],[0.8888888888888888,\"#fdca26\"],[1.0,\"#f0f921\"]]}],\"heatmapgl\":[{\"type\":\"heatmapgl\",\"colorbar\":{\"outlinewidth\":0,\"ticks\":\"\"},\"colorscale\":[[0.0,\"#0d0887\"],[0.1111111111111111,\"#46039f\"],[0.2222222222222222,\"#7201a8\"],[0.3333333333333333,\"#9c179e\"],[0.4444444444444444,\"#bd3786\"],[0.5555555555555556,\"#d8576b\"],[0.6666666666666666,\"#ed7953\"],[0.7777777777777778,\"#fb9f3a\"],[0.8888888888888888,\"#fdca26\"],[1.0,\"#f0f921\"]]}],\"contourcarpet\":[{\"type\":\"contourcarpet\",\"colorbar\":{\"outlinewidth\":0,\"ticks\":\"\"}}],\"contour\":[{\"type\":\"contour\",\"colorbar\":{\"outlinewidth\":0,\"ticks\":\"\"},\"colorscale\":[[0.0,\"#0d0887\"],[0.1111111111111111,\"#46039f\"],[0.2222222222222222,\"#7201a8\"],[0.3333333333333333,\"#9c179e\"],[0.4444444444444444,\"#bd3786\"],[0.5555555555555556,\"#d8576b\"],[0.6666666666666666,\"#ed7953\"],[0.7777777777777778,\"#fb9f3a\"],[0.8888888888888888,\"#fdca26\"],[1.0,\"#f0f921\"]]}],\"surface\":[{\"type\":\"surface\",\"colorbar\":{\"outlinewidth\":0,\"ticks\":\"\"},\"colorscale\":[[0.0,\"#0d0887\"],[0.1111111111111111,\"#46039f\"],[0.2222222222222222,\"#7201a8\"],[0.3333333333333333,\"#9c179e\"],[0.4444444444444444,\"#bd3786\"],[0.5555555555555556,\"#d8576b\"],[0.6666666666666666,\"#ed7953\"],[0.7777777777777778,\"#fb9f3a\"],[0.8888888888888888,\"#fdca26\"],[1.0,\"#f0f921\"]]}],\"mesh3d\":[{\"type\":\"mesh3d\",\"colorbar\":{\"outlinewidth\":0,\"ticks\":\"\"}}],\"scatter\":[{\"fillpattern\":{\"fillmode\":\"overlay\",\"size\":10,\"solidity\":0.2},\"type\":\"scatter\"}],\"parcoords\":[{\"type\":\"parcoords\",\"line\":{\"colorbar\":{\"outlinewidth\":0,\"ticks\":\"\"}}}],\"scatterpolargl\":[{\"type\":\"scatterpolargl\",\"marker\":{\"colorbar\":{\"outlinewidth\":0,\"ticks\":\"\"}}}],\"bar\":[{\"error_x\":{\"color\":\"#2a3f5f\"},\"error_y\":{\"color\":\"#2a3f5f\"},\"marker\":{\"line\":{\"color\":\"#E5ECF6\",\"width\":0.5},\"pattern\":{\"fillmode\":\"overlay\",\"size\":10,\"solidity\":0.2}},\"type\":\"bar\"}],\"scattergeo\":[{\"type\":\"scattergeo\",\"marker\":{\"colorbar\":{\"outlinewidth\":0,\"ticks\":\"\"}}}],\"scatterpolar\":[{\"type\":\"scatterpolar\",\"marker\":{\"colorbar\":{\"outlinewidth\":0,\"ticks\":\"\"}}}],\"histogram\":[{\"marker\":{\"pattern\":{\"fillmode\":\"overlay\",\"size\":10,\"solidity\":0.2}},\"type\":\"histogram\"}],\"scattergl\":[{\"type\":\"scattergl\",\"marker\":{\"colorbar\":{\"outlinewidth\":0,\"ticks\":\"\"}}}],\"scatter3d\":[{\"type\":\"scatter3d\",\"line\":{\"colorbar\":{\"outlinewidth\":0,\"ticks\":\"\"}},\"marker\":{\"colorbar\":{\"outlinewidth\":0,\"ticks\":\"\"}}}],\"scattermapbox\":[{\"type\":\"scattermapbox\",\"marker\":{\"colorbar\":{\"outlinewidth\":0,\"ticks\":\"\"}}}],\"scatterternary\":[{\"type\":\"scatterternary\",\"marker\":{\"colorbar\":{\"outlinewidth\":0,\"ticks\":\"\"}}}],\"scattercarpet\":[{\"type\":\"scattercarpet\",\"marker\":{\"colorbar\":{\"outlinewidth\":0,\"ticks\":\"\"}}}],\"carpet\":[{\"aaxis\":{\"endlinecolor\":\"#2a3f5f\",\"gridcolor\":\"white\",\"linecolor\":\"white\",\"minorgridcolor\":\"white\",\"startlinecolor\":\"#2a3f5f\"},\"baxis\":{\"endlinecolor\":\"#2a3f5f\",\"gridcolor\":\"white\",\"linecolor\":\"white\",\"minorgridcolor\":\"white\",\"startlinecolor\":\"#2a3f5f\"},\"type\":\"carpet\"}],\"table\":[{\"cells\":{\"fill\":{\"color\":\"#EBF0F8\"},\"line\":{\"color\":\"white\"}},\"header\":{\"fill\":{\"color\":\"#C8D4E3\"},\"line\":{\"color\":\"white\"}},\"type\":\"table\"}],\"barpolar\":[{\"marker\":{\"line\":{\"color\":\"#E5ECF6\",\"width\":0.5},\"pattern\":{\"fillmode\":\"overlay\",\"size\":10,\"solidity\":0.2}},\"type\":\"barpolar\"}],\"pie\":[{\"automargin\":true,\"type\":\"pie\"}]},\"layout\":{\"autotypenumbers\":\"strict\",\"colorway\":[\"#636efa\",\"#EF553B\",\"#00cc96\",\"#ab63fa\",\"#FFA15A\",\"#19d3f3\",\"#FF6692\",\"#B6E880\",\"#FF97FF\",\"#FECB52\"],\"font\":{\"color\":\"#2a3f5f\"},\"hovermode\":\"closest\",\"hoverlabel\":{\"align\":\"left\"},\"paper_bgcolor\":\"white\",\"plot_bgcolor\":\"#E5ECF6\",\"polar\":{\"bgcolor\":\"#E5ECF6\",\"angularaxis\":{\"gridcolor\":\"white\",\"linecolor\":\"white\",\"ticks\":\"\"},\"radialaxis\":{\"gridcolor\":\"white\",\"linecolor\":\"white\",\"ticks\":\"\"}},\"ternary\":{\"bgcolor\":\"#E5ECF6\",\"aaxis\":{\"gridcolor\":\"white\",\"linecolor\":\"white\",\"ticks\":\"\"},\"baxis\":{\"gridcolor\":\"white\",\"linecolor\":\"white\",\"ticks\":\"\"},\"caxis\":{\"gridcolor\":\"white\",\"linecolor\":\"white\",\"ticks\":\"\"}},\"coloraxis\":{\"colorbar\":{\"outlinewidth\":0,\"ticks\":\"\"}},\"colorscale\":{\"sequential\":[[0.0,\"#0d0887\"],[0.1111111111111111,\"#46039f\"],[0.2222222222222222,\"#7201a8\"],[0.3333333333333333,\"#9c179e\"],[0.4444444444444444,\"#bd3786\"],[0.5555555555555556,\"#d8576b\"],[0.6666666666666666,\"#ed7953\"],[0.7777777777777778,\"#fb9f3a\"],[0.8888888888888888,\"#fdca26\"],[1.0,\"#f0f921\"]],\"sequentialminus\":[[0.0,\"#0d0887\"],[0.1111111111111111,\"#46039f\"],[0.2222222222222222,\"#7201a8\"],[0.3333333333333333,\"#9c179e\"],[0.4444444444444444,\"#bd3786\"],[0.5555555555555556,\"#d8576b\"],[0.6666666666666666,\"#ed7953\"],[0.7777777777777778,\"#fb9f3a\"],[0.8888888888888888,\"#fdca26\"],[1.0,\"#f0f921\"]],\"diverging\":[[0,\"#8e0152\"],[0.1,\"#c51b7d\"],[0.2,\"#de77ae\"],[0.3,\"#f1b6da\"],[0.4,\"#fde0ef\"],[0.5,\"#f7f7f7\"],[0.6,\"#e6f5d0\"],[0.7,\"#b8e186\"],[0.8,\"#7fbc41\"],[0.9,\"#4d9221\"],[1,\"#276419\"]]},\"xaxis\":{\"gridcolor\":\"white\",\"linecolor\":\"white\",\"ticks\":\"\",\"title\":{\"standoff\":15},\"zerolinecolor\":\"white\",\"automargin\":true,\"zerolinewidth\":2},\"yaxis\":{\"gridcolor\":\"white\",\"linecolor\":\"white\",\"ticks\":\"\",\"title\":{\"standoff\":15},\"zerolinecolor\":\"white\",\"automargin\":true,\"zerolinewidth\":2},\"scene\":{\"xaxis\":{\"backgroundcolor\":\"#E5ECF6\",\"gridcolor\":\"white\",\"linecolor\":\"white\",\"showbackground\":true,\"ticks\":\"\",\"zerolinecolor\":\"white\",\"gridwidth\":2},\"yaxis\":{\"backgroundcolor\":\"#E5ECF6\",\"gridcolor\":\"white\",\"linecolor\":\"white\",\"showbackground\":true,\"ticks\":\"\",\"zerolinecolor\":\"white\",\"gridwidth\":2},\"zaxis\":{\"backgroundcolor\":\"#E5ECF6\",\"gridcolor\":\"white\",\"linecolor\":\"white\",\"showbackground\":true,\"ticks\":\"\",\"zerolinecolor\":\"white\",\"gridwidth\":2}},\"shapedefaults\":{\"line\":{\"color\":\"#2a3f5f\"}},\"annotationdefaults\":{\"arrowcolor\":\"#2a3f5f\",\"arrowhead\":0,\"arrowwidth\":1},\"geo\":{\"bgcolor\":\"white\",\"landcolor\":\"#E5ECF6\",\"subunitcolor\":\"white\",\"showland\":true,\"showlakes\":true,\"lakecolor\":\"white\"},\"title\":{\"x\":0.05},\"mapbox\":{\"style\":\"light\"}}},\"title\":{\"text\":\"\\u0412\\u043e\\u0440\\u043e\\u043d\\u043a\\u0430 \\u043f\\u043e \\u0441\\u043e\\u0431\\u044b\\u0442\\u0438\\u044f\\u043c \\u0434\\u043b\\u044f \\u0433\\u0440\\u0443\\u043f\\u043f \\u0410 \\u0438 \\u0412\"},\"width\":800,\"height\":500},                        {\"responsive\": true}                    ).then(function(){\n",
       "                            \n",
       "var gd = document.getElementById('70e23e73-3cf6-4e9d-9d44-cb868b5ea237');\n",
       "var x = new MutationObserver(function (mutations, observer) {{\n",
       "        var display = window.getComputedStyle(gd).display;\n",
       "        if (!display || display === 'none') {{\n",
       "            console.log([gd, 'removed!']);\n",
       "            Plotly.purge(gd);\n",
       "            observer.disconnect();\n",
       "        }}\n",
       "}});\n",
       "\n",
       "// Listen for the removal of the full notebook cells\n",
       "var notebookContainer = gd.closest('#notebook-container');\n",
       "if (notebookContainer) {{\n",
       "    x.observe(notebookContainer, {childList: true});\n",
       "}}\n",
       "\n",
       "// Listen for the clearing of the current output cell\n",
       "var outputEl = gd.closest('.output');\n",
       "if (outputEl) {{\n",
       "    x.observe(outputEl, {childList: true});\n",
       "}}\n",
       "\n",
       "                        })                };                });            </script>        </div>"
      ]
     },
     "metadata": {},
     "output_type": "display_data"
    }
   ],
   "source": [
    "# создаем воронку\n",
    "fig = go.Figure()\n",
    "\n",
    "fig.add_trace(go.Funnel(\n",
    "    name='Группа A',\n",
    "    y=funnel_data_group_a['event_name'],\n",
    "    x=funnel_data_group_a['user_id'],\n",
    "    textinfo=\"value+percent initial\"\n",
    "))\n",
    "\n",
    "fig.add_trace(go.Funnel(\n",
    "    name='Группа B',\n",
    "    y=funnel_data_group_b['event_name'],\n",
    "    x=funnel_data_group_b['user_id'],\n",
    "    textinfo=\"value+percent initial\"\n",
    "))\n",
    "\n",
    "fig.update_layout(\n",
    "    title= 'Воронка по событиям для групп А и В',\n",
    "    width=800,\n",
    "    height=500\n",
    ")\n",
    "\n",
    "fig.show()\n"
   ]
  },
  {
   "cell_type": "markdown",
   "id": "0d919318",
   "metadata": {},
   "source": [
    "Вывод: провели исследовательский анализ данных. \n",
    "1. Самые популярные события 6, 4, 8, 12 и 9. Причем как для грцппы А, так и для группы B. Самые не популярные - практически нет пользователей: 40. 36, 22, 23, 26.\n",
    "2. Наиболее активный день, в который было наибольшее количество участников - 21 декабря, так же был пик 13 декабря. Наименьшее количество участников пришлось на самый конец теста - 29 декабря. \n",
    "3. Воронка наглядно показывает, насколько снижается количество участников в разрезе групп от регистрации до получения карты. \n"
   ]
  },
  {
   "cell_type": "markdown",
   "id": "01c94431",
   "metadata": {},
   "source": [
    "### Анализ результатов теста\n",
    "   - Что можно сказать про результаты A/В-тестирования?\n",
    "   - Проверьте статистическую разницу долей z-критерием."
   ]
  },
  {
   "cell_type": "code",
   "execution_count": 147,
   "id": "d7158501",
   "metadata": {},
   "outputs": [
    {
     "data": {
      "text/html": [
       "<div>\n",
       "<style scoped>\n",
       "    .dataframe tbody tr th:only-of-type {\n",
       "        vertical-align: middle;\n",
       "    }\n",
       "\n",
       "    .dataframe tbody tr th {\n",
       "        vertical-align: top;\n",
       "    }\n",
       "\n",
       "    .dataframe thead th {\n",
       "        text-align: right;\n",
       "    }\n",
       "</style>\n",
       "<table border=\"1\" class=\"dataframe\">\n",
       "  <thead>\n",
       "    <tr style=\"text-align: right;\">\n",
       "      <th>event_name</th>\n",
       "      <th>user_id</th>\n",
       "      <th>group</th>\n",
       "      <th>login</th>\n",
       "      <th>product_cart</th>\n",
       "      <th>product_page</th>\n",
       "      <th>purchase</th>\n",
       "    </tr>\n",
       "  </thead>\n",
       "  <tbody>\n",
       "    <tr>\n",
       "      <th>0</th>\n",
       "      <td>001064FEAAB631A1</td>\n",
       "      <td>B</td>\n",
       "      <td>3</td>\n",
       "      <td>0</td>\n",
       "      <td>3</td>\n",
       "      <td>0</td>\n",
       "    </tr>\n",
       "    <tr>\n",
       "      <th>1</th>\n",
       "      <td>0010A1C096941592</td>\n",
       "      <td>A</td>\n",
       "      <td>4</td>\n",
       "      <td>0</td>\n",
       "      <td>4</td>\n",
       "      <td>4</td>\n",
       "    </tr>\n",
       "    <tr>\n",
       "      <th>2</th>\n",
       "      <td>00341D8401F0F665</td>\n",
       "      <td>A</td>\n",
       "      <td>2</td>\n",
       "      <td>0</td>\n",
       "      <td>0</td>\n",
       "      <td>0</td>\n",
       "    </tr>\n",
       "    <tr>\n",
       "      <th>3</th>\n",
       "      <td>003DF44D7589BBD4</td>\n",
       "      <td>A</td>\n",
       "      <td>5</td>\n",
       "      <td>5</td>\n",
       "      <td>5</td>\n",
       "      <td>0</td>\n",
       "    </tr>\n",
       "    <tr>\n",
       "      <th>4</th>\n",
       "      <td>00505E15A9D81546</td>\n",
       "      <td>A</td>\n",
       "      <td>5</td>\n",
       "      <td>0</td>\n",
       "      <td>0</td>\n",
       "      <td>0</td>\n",
       "    </tr>\n",
       "    <tr>\n",
       "      <th>...</th>\n",
       "      <td>...</td>\n",
       "      <td>...</td>\n",
       "      <td>...</td>\n",
       "      <td>...</td>\n",
       "      <td>...</td>\n",
       "      <td>...</td>\n",
       "    </tr>\n",
       "    <tr>\n",
       "      <th>3670</th>\n",
       "      <td>FF5B24BCE4387F86</td>\n",
       "      <td>A</td>\n",
       "      <td>3</td>\n",
       "      <td>0</td>\n",
       "      <td>3</td>\n",
       "      <td>3</td>\n",
       "    </tr>\n",
       "    <tr>\n",
       "      <th>3671</th>\n",
       "      <td>FF825C1D791989B5</td>\n",
       "      <td>A</td>\n",
       "      <td>4</td>\n",
       "      <td>4</td>\n",
       "      <td>0</td>\n",
       "      <td>0</td>\n",
       "    </tr>\n",
       "    <tr>\n",
       "      <th>3672</th>\n",
       "      <td>FF8CF7057415EB29</td>\n",
       "      <td>B</td>\n",
       "      <td>2</td>\n",
       "      <td>0</td>\n",
       "      <td>2</td>\n",
       "      <td>0</td>\n",
       "    </tr>\n",
       "    <tr>\n",
       "      <th>3673</th>\n",
       "      <td>FFAE9489C76F352B</td>\n",
       "      <td>A</td>\n",
       "      <td>3</td>\n",
       "      <td>0</td>\n",
       "      <td>3</td>\n",
       "      <td>0</td>\n",
       "    </tr>\n",
       "    <tr>\n",
       "      <th>3674</th>\n",
       "      <td>FFF28D02B1EACBE1</td>\n",
       "      <td>B</td>\n",
       "      <td>3</td>\n",
       "      <td>3</td>\n",
       "      <td>3</td>\n",
       "      <td>0</td>\n",
       "    </tr>\n",
       "  </tbody>\n",
       "</table>\n",
       "<p>3675 rows × 6 columns</p>\n",
       "</div>"
      ],
      "text/plain": [
       "event_name           user_id group  login  product_cart  product_page  \\\n",
       "0           001064FEAAB631A1     B      3             0             3   \n",
       "1           0010A1C096941592     A      4             0             4   \n",
       "2           00341D8401F0F665     A      2             0             0   \n",
       "3           003DF44D7589BBD4     A      5             5             5   \n",
       "4           00505E15A9D81546     A      5             0             0   \n",
       "...                      ...   ...    ...           ...           ...   \n",
       "3670        FF5B24BCE4387F86     A      3             0             3   \n",
       "3671        FF825C1D791989B5     A      4             4             0   \n",
       "3672        FF8CF7057415EB29     B      2             0             2   \n",
       "3673        FFAE9489C76F352B     A      3             0             3   \n",
       "3674        FFF28D02B1EACBE1     B      3             3             3   \n",
       "\n",
       "event_name  purchase  \n",
       "0                  0  \n",
       "1                  4  \n",
       "2                  0  \n",
       "3                  0  \n",
       "4                  0  \n",
       "...              ...  \n",
       "3670               3  \n",
       "3671               0  \n",
       "3672               0  \n",
       "3673               0  \n",
       "3674               0  \n",
       "\n",
       "[3675 rows x 6 columns]"
      ]
     },
     "metadata": {},
     "output_type": "display_data"
    }
   ],
   "source": [
    "# объединим таблицы events и recommender_participants\n",
    "merged_data = events.merge(recommender_participants, on='user_id')\n",
    "\n",
    "# сгрурпирцем данные по пользователям и событиям \n",
    "user_events = merged_data.pivot_table(index=['user_id', 'group'], columns='event_name', values='event_dt', aggfunc='count', fill_value=0).reset_index()\n",
    "\n",
    "display (user_events)"
   ]
  },
  {
   "cell_type": "code",
   "execution_count": 154,
   "id": "cbe05781",
   "metadata": {},
   "outputs": [
    {
     "name": "stdout",
     "output_type": "stream",
     "text": [
      "С поправкой Боннефоррни: 0.016666666666666666\n",
      "C поправкой Шиддака: 0.016952427508441503\n"
     ]
    }
   ],
   "source": [
    "alpha = 0.05 \n",
    "\n",
    "print ('С поправкой Боннефоррни:', alpha / 3)\n",
    "print ('C поправкой Шиддака:', (1- (1-alpha)**(1/3)))\n"
   ]
  },
  {
   "cell_type": "markdown",
   "id": "eb9705dd",
   "metadata": {},
   "source": [
    "Переходим к проверке пропорциональным z-тестом.\n",
    "\n",
    "Будем считать, что с поправкам разумной использовать alpha = 0.017\n",
    "\n",
    "В статистичнском анализе будем сравнивать пропорции долей по разным событиям - каждому из трех. \n",
    "\n",
    "H0: Доля пользователей группы A, совершивших событие, равна доле пользователей B. \n",
    "Н1: Доля пользователей гурппы А, совершивших событие, не равна доле пользователей B. "
   ]
  },
  {
   "cell_type": "code",
   "execution_count": 155,
   "id": "a9c00e23",
   "metadata": {},
   "outputs": [
    {
     "name": "stdout",
     "output_type": "stream",
     "text": [
      "Не удалось отвергнуть нулевую гипотезу: нет оснований считать доли разными для product_page\n",
      "\n",
      "Отвергаем нулевую гипотезу: между долями есть разница для product_cart\n",
      "\n",
      "Отвергаем нулевую гипотезу: между долями есть разница для purchase\n",
      "\n"
     ]
    },
    {
     "name": "stderr",
     "output_type": "stream",
     "text": [
      "/Users/kseniasidunova/anaconda3/lib/python3.10/site-packages/statsmodels/stats/proportion.py:866: RuntimeWarning:\n",
      "\n",
      "invalid value encountered in sqrt\n",
      "\n"
     ]
    }
   ],
   "source": [
    "def analyze_metric(data, metric):\n",
    "    alpha = 0.017\n",
    "\n",
    "    group_a = data.query('group == \"A\"')[metric]\n",
    "    group_b = data.query('group == \"B\"')[metric]\n",
    "\n",
    "    #посчитаем пропорции для каждой группы\n",
    "    prop_a = np.mean(group_a)\n",
    "    prop_b = np.mean(group_b)\n",
    "\n",
    "    # Расчет относительного изменения метрики\n",
    "    relative_difference = (prop_b - prop_a) / prop_a\n",
    "\n",
    "    # Проведение теста пропорций\n",
    "    counts = np.array([group_a.sum(), group_b.sum()])\n",
    "    nobs = np.array([len(group_a), len(group_b)])\n",
    "    zstat, pvalue = proportions_ztest(counts, nobs)\n",
    "\n",
    "    if pvalue < alpha:\n",
    "        print(f\"Отвергаем нулевую гипотезу: между долями есть разница для {metric}\")\n",
    "    else:\n",
    "        print(f\"Не удалось отвергнуть нулевую гипотезу: нет оснований считать доли разными для {metric}\")\n",
    "    print()\n",
    "\n",
    "metrics = ['product_page', 'product_cart', 'purchase']\n",
    "\n",
    "for metric in metrics:\n",
    "    analyze_metric(user_events, metric)\n",
    "\n"
   ]
  },
  {
   "cell_type": "markdown",
   "id": "f21c0fa5",
   "metadata": {},
   "source": [
    "Вывод: в целом, можно скзатать, что рекомендательная система положительно влияет на вовлечение пользователей и их покупательскую активность, это мы видим по статистическим выводам по product_cart и purchase. Однако следует отметить, что рекомендательная система не оказывает влияния на просмотр продуктовой страницы. Скорее всего, это связано с тем, что рекомендации становятся более полезными покупателю на следующем этапе взаимодействия с продуктом. "
   ]
  },
  {
   "cell_type": "code",
   "execution_count": null,
   "id": "7ded4f04",
   "metadata": {},
   "outputs": [],
   "source": []
  }
 ],
 "metadata": {
  "kernelspec": {
   "display_name": "Python 3 (ipykernel)",
   "language": "python",
   "name": "python3"
  },
  "language_info": {
   "codemirror_mode": {
    "name": "ipython",
    "version": 3
   },
   "file_extension": ".py",
   "mimetype": "text/x-python",
   "name": "python",
   "nbconvert_exporter": "python",
   "pygments_lexer": "ipython3",
   "version": "3.10.9"
  }
 },
 "nbformat": 4,
 "nbformat_minor": 5
}
