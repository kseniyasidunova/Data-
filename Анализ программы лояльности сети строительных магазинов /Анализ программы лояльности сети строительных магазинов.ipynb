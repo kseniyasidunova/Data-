{
 "cells": [
  {
   "cell_type": "markdown",
   "id": "d625b4b7",
   "metadata": {},
   "source": [
    "# Анализ программы лояльности сети строительных магазинов \n",
    "\n",
    "Цель: проанализировать программу лояльности и определить, эффективна ли программа лояльности и дать рекомендации по ее развитию. \n",
    "\n",
    "Задачи: \n",
    "\n",
    "- Провести исследовательский анализ данных;\n",
    "- Провести анализ программы лояльности;\n",
    "- Сформулировать и проверить статистические гипотезы.\n"
   ]
  },
  {
   "cell_type": "markdown",
   "id": "95a87cb1",
   "metadata": {},
   "source": [
    "### Часть 1. Загрузка библиотек и открытие дата-сета и знакомство с данными"
   ]
  },
  {
   "cell_type": "code",
   "execution_count": 194,
   "id": "12bf99fd",
   "metadata": {},
   "outputs": [],
   "source": [
    "import pandas as pd \n",
    "import datetime as dt\n",
    "import matplotlib.pyplot as plt\n",
    "import seaborn as sns\n",
    "from plotly import graph_objects as go\n",
    "from scipy.stats import ttest_ind  as st\n",
    "from scipy import stats as st\n",
    "import numpy as np\n",
    "import math as mth\n",
    "from matplotlib.ticker import FuncFormatter\n",
    "from scipy import stats\n",
    "from statsmodels.stats.proportion import proportions_ztest\n",
    "from io import BytesIO\n",
    "import requests\n",
    "from datetime import timedelta"
   ]
  },
  {
   "cell_type": "code",
   "execution_count": 195,
   "id": "7ff6ef19",
   "metadata": {
    "scrolled": true
   },
   "outputs": [
    {
     "data": {
      "text/html": [
       "<div>\n",
       "<style scoped>\n",
       "    .dataframe tbody tr th:only-of-type {\n",
       "        vertical-align: middle;\n",
       "    }\n",
       "\n",
       "    .dataframe tbody tr th {\n",
       "        vertical-align: top;\n",
       "    }\n",
       "\n",
       "    .dataframe thead th {\n",
       "        text-align: right;\n",
       "    }\n",
       "</style>\n",
       "<table border=\"1\" class=\"dataframe\">\n",
       "  <thead>\n",
       "    <tr style=\"text-align: right;\">\n",
       "      <th></th>\n",
       "      <th>purchaseid</th>\n",
       "      <th>item_ID</th>\n",
       "      <th>Quantity</th>\n",
       "      <th>purchasedate</th>\n",
       "      <th>CustomerID</th>\n",
       "      <th>ShopID</th>\n",
       "      <th>loyalty_program</th>\n",
       "    </tr>\n",
       "  </thead>\n",
       "  <tbody>\n",
       "    <tr>\n",
       "      <th>0</th>\n",
       "      <td>538280</td>\n",
       "      <td>21873</td>\n",
       "      <td>11</td>\n",
       "      <td>2016-12-10 12:50:00</td>\n",
       "      <td>18427.00</td>\n",
       "      <td>Shop 0</td>\n",
       "      <td>0.00</td>\n",
       "    </tr>\n",
       "    <tr>\n",
       "      <th>1</th>\n",
       "      <td>538862</td>\n",
       "      <td>22195</td>\n",
       "      <td>0</td>\n",
       "      <td>2016-12-14 14:11:00</td>\n",
       "      <td>22389.00</td>\n",
       "      <td>Shop 0</td>\n",
       "      <td>1.00</td>\n",
       "    </tr>\n",
       "    <tr>\n",
       "      <th>2</th>\n",
       "      <td>538855</td>\n",
       "      <td>21239</td>\n",
       "      <td>7</td>\n",
       "      <td>2016-12-14 13:50:00</td>\n",
       "      <td>22182.00</td>\n",
       "      <td>Shop 0</td>\n",
       "      <td>1.00</td>\n",
       "    </tr>\n",
       "    <tr>\n",
       "      <th>3</th>\n",
       "      <td>543543</td>\n",
       "      <td>22271</td>\n",
       "      <td>0</td>\n",
       "      <td>2017-02-09 15:33:00</td>\n",
       "      <td>23522.00</td>\n",
       "      <td>Shop 0</td>\n",
       "      <td>1.00</td>\n",
       "    </tr>\n",
       "    <tr>\n",
       "      <th>4</th>\n",
       "      <td>543812</td>\n",
       "      <td>79321</td>\n",
       "      <td>0</td>\n",
       "      <td>2017-02-13 14:40:00</td>\n",
       "      <td>23151.00</td>\n",
       "      <td>Shop 0</td>\n",
       "      <td>1.00</td>\n",
       "    </tr>\n",
       "    <tr>\n",
       "      <th>...</th>\n",
       "      <td>...</td>\n",
       "      <td>...</td>\n",
       "      <td>...</td>\n",
       "      <td>...</td>\n",
       "      <td>...</td>\n",
       "      <td>...</td>\n",
       "      <td>...</td>\n",
       "    </tr>\n",
       "    <tr>\n",
       "      <th>105330</th>\n",
       "      <td>538566</td>\n",
       "      <td>21826</td>\n",
       "      <td>1</td>\n",
       "      <td>2016-12-13 11:21:00</td>\n",
       "      <td>NaN</td>\n",
       "      <td>Shop 0</td>\n",
       "      <td>0.00</td>\n",
       "    </tr>\n",
       "    <tr>\n",
       "      <th>105331</th>\n",
       "      <td>540247</td>\n",
       "      <td>21742</td>\n",
       "      <td>0</td>\n",
       "      <td>2017-01-05 15:56:00</td>\n",
       "      <td>21143.00</td>\n",
       "      <td>Shop 0</td>\n",
       "      <td>0.00</td>\n",
       "    </tr>\n",
       "    <tr>\n",
       "      <th>105332</th>\n",
       "      <td>538068</td>\n",
       "      <td>85048</td>\n",
       "      <td>1</td>\n",
       "      <td>2016-12-09 14:05:00</td>\n",
       "      <td>23657.00</td>\n",
       "      <td>Shop 0</td>\n",
       "      <td>1.00</td>\n",
       "    </tr>\n",
       "    <tr>\n",
       "      <th>105333</th>\n",
       "      <td>538207</td>\n",
       "      <td>22818</td>\n",
       "      <td>11</td>\n",
       "      <td>2016-12-10 11:33:00</td>\n",
       "      <td>18427.00</td>\n",
       "      <td>Shop 0</td>\n",
       "      <td>0.00</td>\n",
       "    </tr>\n",
       "    <tr>\n",
       "      <th>105334</th>\n",
       "      <td>543977</td>\n",
       "      <td>22384</td>\n",
       "      <td>9</td>\n",
       "      <td>2017-02-14 15:35:00</td>\n",
       "      <td>21294.00</td>\n",
       "      <td>Shop 0</td>\n",
       "      <td>0.00</td>\n",
       "    </tr>\n",
       "  </tbody>\n",
       "</table>\n",
       "<p>105335 rows × 7 columns</p>\n",
       "</div>"
      ],
      "text/plain": [
       "       purchaseid item_ID  Quantity         purchasedate  CustomerID  ShopID  \\\n",
       "0          538280   21873        11  2016-12-10 12:50:00    18427.00  Shop 0   \n",
       "1          538862   22195         0  2016-12-14 14:11:00    22389.00  Shop 0   \n",
       "2          538855   21239         7  2016-12-14 13:50:00    22182.00  Shop 0   \n",
       "3          543543   22271         0  2017-02-09 15:33:00    23522.00  Shop 0   \n",
       "4          543812   79321         0  2017-02-13 14:40:00    23151.00  Shop 0   \n",
       "...           ...     ...       ...                  ...         ...     ...   \n",
       "105330     538566   21826         1  2016-12-13 11:21:00         NaN  Shop 0   \n",
       "105331     540247   21742         0  2017-01-05 15:56:00    21143.00  Shop 0   \n",
       "105332     538068   85048         1  2016-12-09 14:05:00    23657.00  Shop 0   \n",
       "105333     538207   22818        11  2016-12-10 11:33:00    18427.00  Shop 0   \n",
       "105334     543977   22384         9  2017-02-14 15:35:00    21294.00  Shop 0   \n",
       "\n",
       "        loyalty_program  \n",
       "0                  0.00  \n",
       "1                  1.00  \n",
       "2                  1.00  \n",
       "3                  1.00  \n",
       "4                  1.00  \n",
       "...                 ...  \n",
       "105330             0.00  \n",
       "105331             0.00  \n",
       "105332             1.00  \n",
       "105333             0.00  \n",
       "105334             0.00  \n",
       "\n",
       "[105335 rows x 7 columns]"
      ]
     },
     "metadata": {},
     "output_type": "display_data"
    }
   ],
   "source": [
    "#открываем дата-сет для первичного просмотра \n",
    "retail = pd.read_csv ('/datasets/retail_dataset.csv')\n",
    "display (retail) \n",
    "\n"
   ]
  },
  {
   "cell_type": "code",
   "execution_count": 196,
   "id": "772dc1b9",
   "metadata": {
    "scrolled": true
   },
   "outputs": [
    {
     "name": "stdout",
     "output_type": "stream",
     "text": [
      "<class 'pandas.core.frame.DataFrame'>\n",
      "RangeIndex: 105335 entries, 0 to 105334\n",
      "Data columns (total 7 columns):\n",
      " #   Column           Non-Null Count   Dtype  \n",
      "---  ------           --------------   -----  \n",
      " 0   purchaseid       105335 non-null  object \n",
      " 1   item_ID          105335 non-null  object \n",
      " 2   Quantity         105335 non-null  int64  \n",
      " 3   purchasedate     105335 non-null  object \n",
      " 4   CustomerID       69125 non-null   float64\n",
      " 5   ShopID           105335 non-null  object \n",
      " 6   loyalty_program  105335 non-null  float64\n",
      "dtypes: float64(2), int64(1), object(4)\n",
      "memory usage: 5.6+ MB\n"
     ]
    }
   ],
   "source": [
    "retail.describe ()\n",
    "retail.info ()"
   ]
  },
  {
   "cell_type": "code",
   "execution_count": 197,
   "id": "3623245e",
   "metadata": {
    "scrolled": false
   },
   "outputs": [
    {
     "name": "stdout",
     "output_type": "stream",
     "text": [
      "Всего уникальных покупателей: 1749\n",
      "Всего уникальных товаров: 3159\n",
      "Участие в программе лояльности обозначается следующим образом: [0. 1.]\n",
      "Уникальные названия магазинов: ['Shop 0' 'Shop 1' 'Shop 4' 'Shop 6' 'Shop 2' 'Shop 11' 'Shop 3' 'Shop 5'\n",
      " 'Shop 7' 'Shop 12' 'Shop 8' 'Shop 27' 'Shop 10' 'Shop 20' 'Shop 19'\n",
      " 'Shop 25' 'Shop 14' 'Shop 21' 'Shop 18' 'Shop 9' 'Shop 16' 'Shop 28'\n",
      " 'Shop 29' 'Shop 17' 'Shop 22' 'Shop 13' 'Shop 26' 'Shop 24' 'Shop 15'\n",
      " 'Shop 23' 'Shop 30']\n"
     ]
    }
   ],
   "source": [
    "#узнаем основную инфорамцию о данных в колонках дата-сета\n",
    "print ('Всего уникальных покупателей:', retail ['CustomerID'].nunique ())\n",
    "\n",
    "print ('Всего уникальных товаров:', retail ['item_ID'].nunique ())\n",
    "\n",
    "print ('Участие в программе лояльности обозначается следующим образом:', retail ['loyalty_program'].unique())\n",
    "\n",
    "print ('Уникальные названия магазинов:', retail ['ShopID'].unique())"
   ]
  },
  {
   "cell_type": "code",
   "execution_count": 198,
   "id": "77d0a880",
   "metadata": {},
   "outputs": [
    {
     "data": {
      "text/html": [
       "<div>\n",
       "<style scoped>\n",
       "    .dataframe tbody tr th:only-of-type {\n",
       "        vertical-align: middle;\n",
       "    }\n",
       "\n",
       "    .dataframe tbody tr th {\n",
       "        vertical-align: top;\n",
       "    }\n",
       "\n",
       "    .dataframe thead th {\n",
       "        text-align: right;\n",
       "    }\n",
       "</style>\n",
       "<table border=\"1\" class=\"dataframe\">\n",
       "  <thead>\n",
       "    <tr style=\"text-align: right;\">\n",
       "      <th></th>\n",
       "      <th>productID</th>\n",
       "      <th>price_per_one</th>\n",
       "    </tr>\n",
       "  </thead>\n",
       "  <tbody>\n",
       "    <tr>\n",
       "      <th>0</th>\n",
       "      <td>85123A</td>\n",
       "      <td>2.55</td>\n",
       "    </tr>\n",
       "    <tr>\n",
       "      <th>1</th>\n",
       "      <td>71053</td>\n",
       "      <td>3.39</td>\n",
       "    </tr>\n",
       "    <tr>\n",
       "      <th>2</th>\n",
       "      <td>84406B</td>\n",
       "      <td>2.75</td>\n",
       "    </tr>\n",
       "    <tr>\n",
       "      <th>3</th>\n",
       "      <td>84029G</td>\n",
       "      <td>3.39</td>\n",
       "    </tr>\n",
       "    <tr>\n",
       "      <th>4</th>\n",
       "      <td>84029E</td>\n",
       "      <td>3.39</td>\n",
       "    </tr>\n",
       "    <tr>\n",
       "      <th>...</th>\n",
       "      <td>...</td>\n",
       "      <td>...</td>\n",
       "    </tr>\n",
       "    <tr>\n",
       "      <th>9964</th>\n",
       "      <td>84306</td>\n",
       "      <td>8.29</td>\n",
       "    </tr>\n",
       "    <tr>\n",
       "      <th>9965</th>\n",
       "      <td>90001A</td>\n",
       "      <td>4.15</td>\n",
       "    </tr>\n",
       "    <tr>\n",
       "      <th>9966</th>\n",
       "      <td>90118</td>\n",
       "      <td>2.46</td>\n",
       "    </tr>\n",
       "    <tr>\n",
       "      <th>9967</th>\n",
       "      <td>DOT</td>\n",
       "      <td>172.62</td>\n",
       "    </tr>\n",
       "    <tr>\n",
       "      <th>9968</th>\n",
       "      <td>20738</td>\n",
       "      <td>0.00</td>\n",
       "    </tr>\n",
       "  </tbody>\n",
       "</table>\n",
       "<p>9969 rows × 2 columns</p>\n",
       "</div>"
      ],
      "text/plain": [
       "     productID  price_per_one\n",
       "0       85123A           2.55\n",
       "1        71053           3.39\n",
       "2       84406B           2.75\n",
       "3       84029G           3.39\n",
       "4       84029E           3.39\n",
       "...        ...            ...\n",
       "9964     84306           8.29\n",
       "9965    90001A           4.15\n",
       "9966     90118           2.46\n",
       "9967       DOT         172.62\n",
       "9968     20738           0.00\n",
       "\n",
       "[9969 rows x 2 columns]"
      ]
     },
     "metadata": {},
     "output_type": "display_data"
    }
   ],
   "source": [
    "#откроем второй дата-сет\n",
    "products = pd.read_csv ('datasets/product_codes.csv')\n",
    "display (products)"
   ]
  },
  {
   "cell_type": "markdown",
   "id": "a1248ca9",
   "metadata": {},
   "source": [
    "Вывод: среди всех продуктов явно выделяется DOT. Вероятнее всего, речь идет о доставке. "
   ]
  },
  {
   "cell_type": "code",
   "execution_count": 199,
   "id": "a7f6cad3",
   "metadata": {},
   "outputs": [
    {
     "name": "stdout",
     "output_type": "stream",
     "text": [
      "<class 'pandas.core.frame.DataFrame'>\n",
      "RangeIndex: 9969 entries, 0 to 9968\n",
      "Data columns (total 2 columns):\n",
      " #   Column         Non-Null Count  Dtype  \n",
      "---  ------         --------------  -----  \n",
      " 0   productID      9969 non-null   object \n",
      " 1   price_per_one  9969 non-null   float64\n",
      "dtypes: float64(1), object(1)\n",
      "memory usage: 155.9+ KB\n"
     ]
    }
   ],
   "source": [
    "products.info ()"
   ]
  },
  {
   "cell_type": "code",
   "execution_count": 200,
   "id": "914290f0",
   "metadata": {
    "scrolled": true
   },
   "outputs": [
    {
     "name": "stdout",
     "output_type": "stream",
     "text": [
      "Уникальных наименований продуктов: 3159\n",
      "Количество уникальнных ценников: 586\n"
     ]
    }
   ],
   "source": [
    "print ('Уникальных наименований продуктов:', products  ['productID']. nunique ())\n",
    "print ('Количество уникальнных ценников:', products  ['price_per_one']. nunique ())"
   ]
  },
  {
   "cell_type": "markdown",
   "id": "72866437",
   "metadata": {},
   "source": [
    "<b>Вывод:</b> \n",
    "Загрузили необходимые библиотеки и познакомились с двумя необходимыми дата-сетами. \n",
    "Удалось выяснить, что дата-сете, содержащем информацию о покупках и чеках, содержится: \n",
    "- всего уникальных покупателей: 1749\n",
    "- всего уникальных товаров: 3159\n",
    "\n",
    "В дата-сете о продуктах и их стоимостях содержатся: \n",
    "- уникальных наименований продуктов: 3159\n",
    "- количество уникальнных ценников: 586"
   ]
  },
  {
   "cell_type": "markdown",
   "id": "dfa7b9b0",
   "metadata": {},
   "source": [
    "### Часть 2. Предобработка данных \n",
    "\n",
    "В этой части проекта в приведем к правильным форматам данные, удалим лишнее и заполним пропуски, а так же совместим 2 таблицы. "
   ]
  },
  {
   "cell_type": "code",
   "execution_count": 201,
   "id": "d0da4589",
   "metadata": {
    "scrolled": true
   },
   "outputs": [
    {
     "name": "stdout",
     "output_type": "stream",
     "text": [
      "<class 'pandas.core.frame.DataFrame'>\n",
      "RangeIndex: 105335 entries, 0 to 105334\n",
      "Data columns (total 7 columns):\n",
      " #   Column           Non-Null Count   Dtype         \n",
      "---  ------           --------------   -----         \n",
      " 0   purchase_id      105335 non-null  object        \n",
      " 1   item_id          105335 non-null  object        \n",
      " 2   quantity         105335 non-null  int64         \n",
      " 3   purchase_date    105335 non-null  datetime64[ns]\n",
      " 4   customer_id      69125 non-null   float64       \n",
      " 5   shop_id          105335 non-null  object        \n",
      " 6   loyalty_program  105335 non-null  float64       \n",
      "dtypes: datetime64[ns](1), float64(2), int64(1), object(3)\n",
      "memory usage: 5.6+ MB\n"
     ]
    }
   ],
   "source": [
    "#изменим названия столбцов\n",
    "retail.columns = ['purchase_id', 'item_id', 'quantity', 'purchase_date', 'customer_id', 'shop_id', 'loyalty_program']\n",
    "\n",
    "#изменим тип данных в некотрых ячейках \n",
    "#retail['purchaseid'] =retail['purchaseid'].astype(int)\n",
    "#retail['item_ID'] =retail['item_ID'].astype(int)\n",
    "retail['purchase_date'] = pd.to_datetime(retail['purchase_date'], format='%Y-%m-%d %H:%M:%S')\n",
    "\n",
    "#изменим названия столбцов\n",
    "retail.columns = ['purchase_id', 'item_id', 'quantity', 'purchase_date', 'customer_id', 'shop_id', 'loyalty_program']\n",
    "\n",
    "retail.info ()"
   ]
  },
  {
   "cell_type": "code",
   "execution_count": 202,
   "id": "bf41f1af",
   "metadata": {
    "scrolled": true
   },
   "outputs": [
    {
     "name": "stdout",
     "output_type": "stream",
     "text": [
      "Количество абсолютных дубликатов в дата-сете 1033\n"
     ]
    },
    {
     "data": {
      "text/html": [
       "<div>\n",
       "<style scoped>\n",
       "    .dataframe tbody tr th:only-of-type {\n",
       "        vertical-align: middle;\n",
       "    }\n",
       "\n",
       "    .dataframe tbody tr th {\n",
       "        vertical-align: top;\n",
       "    }\n",
       "\n",
       "    .dataframe thead th {\n",
       "        text-align: right;\n",
       "    }\n",
       "</style>\n",
       "<table border=\"1\" class=\"dataframe\">\n",
       "  <thead>\n",
       "    <tr style=\"text-align: right;\">\n",
       "      <th></th>\n",
       "      <th>index</th>\n",
       "      <th>purchase_id</th>\n",
       "      <th>item_id</th>\n",
       "      <th>quantity</th>\n",
       "      <th>purchase_date</th>\n",
       "      <th>customer_id</th>\n",
       "      <th>shop_id</th>\n",
       "      <th>loyalty_program</th>\n",
       "    </tr>\n",
       "  </thead>\n",
       "  <tbody>\n",
       "    <tr>\n",
       "      <th>0</th>\n",
       "      <td>0</td>\n",
       "      <td>538280</td>\n",
       "      <td>21873</td>\n",
       "      <td>11</td>\n",
       "      <td>2016-12-10 12:50:00</td>\n",
       "      <td>18427.00</td>\n",
       "      <td>Shop 0</td>\n",
       "      <td>0.00</td>\n",
       "    </tr>\n",
       "    <tr>\n",
       "      <th>1</th>\n",
       "      <td>1</td>\n",
       "      <td>538862</td>\n",
       "      <td>22195</td>\n",
       "      <td>0</td>\n",
       "      <td>2016-12-14 14:11:00</td>\n",
       "      <td>22389.00</td>\n",
       "      <td>Shop 0</td>\n",
       "      <td>1.00</td>\n",
       "    </tr>\n",
       "    <tr>\n",
       "      <th>2</th>\n",
       "      <td>2</td>\n",
       "      <td>538855</td>\n",
       "      <td>21239</td>\n",
       "      <td>7</td>\n",
       "      <td>2016-12-14 13:50:00</td>\n",
       "      <td>22182.00</td>\n",
       "      <td>Shop 0</td>\n",
       "      <td>1.00</td>\n",
       "    </tr>\n",
       "    <tr>\n",
       "      <th>3</th>\n",
       "      <td>3</td>\n",
       "      <td>543543</td>\n",
       "      <td>22271</td>\n",
       "      <td>0</td>\n",
       "      <td>2017-02-09 15:33:00</td>\n",
       "      <td>23522.00</td>\n",
       "      <td>Shop 0</td>\n",
       "      <td>1.00</td>\n",
       "    </tr>\n",
       "    <tr>\n",
       "      <th>4</th>\n",
       "      <td>4</td>\n",
       "      <td>543812</td>\n",
       "      <td>79321</td>\n",
       "      <td>0</td>\n",
       "      <td>2017-02-13 14:40:00</td>\n",
       "      <td>23151.00</td>\n",
       "      <td>Shop 0</td>\n",
       "      <td>1.00</td>\n",
       "    </tr>\n",
       "    <tr>\n",
       "      <th>...</th>\n",
       "      <td>...</td>\n",
       "      <td>...</td>\n",
       "      <td>...</td>\n",
       "      <td>...</td>\n",
       "      <td>...</td>\n",
       "      <td>...</td>\n",
       "      <td>...</td>\n",
       "      <td>...</td>\n",
       "    </tr>\n",
       "    <tr>\n",
       "      <th>104297</th>\n",
       "      <td>105330</td>\n",
       "      <td>538566</td>\n",
       "      <td>21826</td>\n",
       "      <td>1</td>\n",
       "      <td>2016-12-13 11:21:00</td>\n",
       "      <td>NaN</td>\n",
       "      <td>Shop 0</td>\n",
       "      <td>0.00</td>\n",
       "    </tr>\n",
       "    <tr>\n",
       "      <th>104298</th>\n",
       "      <td>105331</td>\n",
       "      <td>540247</td>\n",
       "      <td>21742</td>\n",
       "      <td>0</td>\n",
       "      <td>2017-01-05 15:56:00</td>\n",
       "      <td>21143.00</td>\n",
       "      <td>Shop 0</td>\n",
       "      <td>0.00</td>\n",
       "    </tr>\n",
       "    <tr>\n",
       "      <th>104299</th>\n",
       "      <td>105332</td>\n",
       "      <td>538068</td>\n",
       "      <td>85048</td>\n",
       "      <td>1</td>\n",
       "      <td>2016-12-09 14:05:00</td>\n",
       "      <td>23657.00</td>\n",
       "      <td>Shop 0</td>\n",
       "      <td>1.00</td>\n",
       "    </tr>\n",
       "    <tr>\n",
       "      <th>104300</th>\n",
       "      <td>105333</td>\n",
       "      <td>538207</td>\n",
       "      <td>22818</td>\n",
       "      <td>11</td>\n",
       "      <td>2016-12-10 11:33:00</td>\n",
       "      <td>18427.00</td>\n",
       "      <td>Shop 0</td>\n",
       "      <td>0.00</td>\n",
       "    </tr>\n",
       "    <tr>\n",
       "      <th>104301</th>\n",
       "      <td>105334</td>\n",
       "      <td>543977</td>\n",
       "      <td>22384</td>\n",
       "      <td>9</td>\n",
       "      <td>2017-02-14 15:35:00</td>\n",
       "      <td>21294.00</td>\n",
       "      <td>Shop 0</td>\n",
       "      <td>0.00</td>\n",
       "    </tr>\n",
       "  </tbody>\n",
       "</table>\n",
       "<p>104302 rows × 8 columns</p>\n",
       "</div>"
      ],
      "text/plain": [
       "         index purchase_id item_id  quantity       purchase_date  customer_id  \\\n",
       "0            0      538280   21873        11 2016-12-10 12:50:00     18427.00   \n",
       "1            1      538862   22195         0 2016-12-14 14:11:00     22389.00   \n",
       "2            2      538855   21239         7 2016-12-14 13:50:00     22182.00   \n",
       "3            3      543543   22271         0 2017-02-09 15:33:00     23522.00   \n",
       "4            4      543812   79321         0 2017-02-13 14:40:00     23151.00   \n",
       "...        ...         ...     ...       ...                 ...          ...   \n",
       "104297  105330      538566   21826         1 2016-12-13 11:21:00          NaN   \n",
       "104298  105331      540247   21742         0 2017-01-05 15:56:00     21143.00   \n",
       "104299  105332      538068   85048         1 2016-12-09 14:05:00     23657.00   \n",
       "104300  105333      538207   22818        11 2016-12-10 11:33:00     18427.00   \n",
       "104301  105334      543977   22384         9 2017-02-14 15:35:00     21294.00   \n",
       "\n",
       "       shop_id  loyalty_program  \n",
       "0       Shop 0             0.00  \n",
       "1       Shop 0             1.00  \n",
       "2       Shop 0             1.00  \n",
       "3       Shop 0             1.00  \n",
       "4       Shop 0             1.00  \n",
       "...        ...              ...  \n",
       "104297  Shop 0             0.00  \n",
       "104298  Shop 0             0.00  \n",
       "104299  Shop 0             1.00  \n",
       "104300  Shop 0             0.00  \n",
       "104301  Shop 0             0.00  \n",
       "\n",
       "[104302 rows x 8 columns]"
      ]
     },
     "execution_count": 202,
     "metadata": {},
     "output_type": "execute_result"
    }
   ],
   "source": [
    "print ('Количество абсолютных дубликатов в дата-сете', retail.duplicated ().sum ())\n",
    "#удаляем дубликаты - из всего дата сета они составляют менее 1%\n",
    "retail.drop_duplicates().reset_index()"
   ]
  },
  {
   "cell_type": "code",
   "execution_count": 203,
   "id": "ade3724a",
   "metadata": {},
   "outputs": [
    {
     "data": {
      "text/plain": [
       "count   105335.00\n",
       "mean         7.82\n",
       "std        327.95\n",
       "min     -74216.00\n",
       "25%          0.00\n",
       "50%          2.00\n",
       "75%          7.00\n",
       "max      74214.00\n",
       "Name: quantity, dtype: float64"
      ]
     },
     "execution_count": 203,
     "metadata": {},
     "output_type": "execute_result"
    }
   ],
   "source": [
    "retail ['quantity'].describe()"
   ]
  },
  {
   "cell_type": "markdown",
   "id": "fc563176",
   "metadata": {},
   "source": [
    "<b> Вывод:</b>\n",
    "Значения количечества покупок со знаком минус, скорее всего, свидетельстввуют о взвратах. Тем более, что они совпадают с цифрами о покупке. Будем в дальнейшим их считать возвратами. "
   ]
  },
  {
   "cell_type": "code",
   "execution_count": 204,
   "id": "a912cbb3",
   "metadata": {
    "scrolled": true
   },
   "outputs": [
    {
     "name": "stdout",
     "output_type": "stream",
     "text": [
      "<class 'pandas.core.frame.DataFrame'>\n",
      "RangeIndex: 9969 entries, 0 to 9968\n",
      "Data columns (total 2 columns):\n",
      " #   Column         Non-Null Count  Dtype  \n",
      "---  ------         --------------  -----  \n",
      " 0   product_id     9969 non-null   object \n",
      " 1   price_per_one  9969 non-null   float64\n",
      "dtypes: float64(1), object(1)\n",
      "memory usage: 155.9+ KB\n"
     ]
    }
   ],
   "source": [
    "#заменим названия колонок в дата-сете products\n",
    "products.columns = ['product_id', 'price_per_one']\n",
    "products.info ()"
   ]
  },
  {
   "cell_type": "code",
   "execution_count": 205,
   "id": "b96b14d3",
   "metadata": {},
   "outputs": [
    {
     "name": "stdout",
     "output_type": "stream",
     "text": [
      "Количество абсолютных дубликатов в дата-сете 0\n"
     ]
    }
   ],
   "source": [
    "print ('Количество абсолютных дубликатов в дата-сете', products.duplicated ().sum ())"
   ]
  },
  {
   "cell_type": "code",
   "execution_count": 206,
   "id": "d0217376",
   "metadata": {
    "scrolled": true
   },
   "outputs": [
    {
     "data": {
      "image/png": "[encoded data removed]",
      "text/plain": [
       "<Figure size 432x288 with 1 Axes>"
      ]
     },
     "metadata": {
      "needs_background": "light"
     },
     "output_type": "display_data"
    }
   ],
   "source": [
    "#поскольку у нас странное расределение стоимостей и наименований товара, попробуем посмотретьо на графике\n",
    "sns.boxplot(y=products['price_per_one'], width=0.5)\n",
    "plt.title('Распределение стоимостей товара')\n",
    "plt.ylabel('Стоимость товара')\n",
    "plt.show()\n"
   ]
  },
  {
   "cell_type": "code",
   "execution_count": 207,
   "id": "34303878",
   "metadata": {
    "scrolled": false
   },
   "outputs": [
    {
     "name": "stdout",
     "output_type": "stream",
     "text": [
      "9476    1435.79\n",
      "8729    1715.85\n",
      "9733    5258.77\n",
      "4094    5519.25\n",
      "9732    5575.28\n",
      "4095    6706.71\n",
      "4089   13474.79\n",
      "3931   13541.33\n",
      "6134   16453.71\n",
      "6133   16888.02\n",
      "Name: price_per_one, dtype: float64\n"
     ]
    }
   ],
   "source": [
    "products['price_per_one'].describe ()\n",
    "\n",
    "print (products ['price_per_one'].sort_values().tail(10))"
   ]
  },
  {
   "cell_type": "code",
   "execution_count": 208,
   "id": "7009ea2f",
   "metadata": {},
   "outputs": [
    {
     "name": "stdout",
     "output_type": "stream",
     "text": [
      "     product_id  price_per_one\n",
      "6133  AMAZONFEE       16888.02\n",
      "     product_id  price_per_one\n",
      "3891  AMAZONFEE           1.00\n",
      "3931  AMAZONFEE       13541.33\n",
      "4089  AMAZONFEE       13474.79\n",
      "4094  AMAZONFEE        5519.25\n",
      "4095  AMAZONFEE        6706.71\n",
      "6133  AMAZONFEE       16888.02\n",
      "6134  AMAZONFEE       16453.71\n",
      "9732  AMAZONFEE        5575.28\n",
      "9733  AMAZONFEE        5258.77\n"
     ]
    }
   ],
   "source": [
    "#вычсилим, какому продукту принадлежат максимальный ценник\n",
    "max_price = products[products['price_per_one'] == 16888.020000]\n",
    "print (max_price)\n",
    "\n",
    "#посмотрим, какая цена есть для MAZONFEE \n",
    "AMAZONFEE_price = products[products['product_id'] == 'AMAZONFEE']\n",
    "print (AMAZONFEE_price)"
   ]
  },
  {
   "cell_type": "markdown",
   "id": "376d6254",
   "metadata": {},
   "source": [
    "Вывод: пока не будем удалять значения с 0, это может быть бесплатный упаковочный товар, например, посмотрим на него в общей таблице.В то же время, на примере одного товара мы видим явные выбросы, поэтому для дальнейших рассчетов будем использовать медианное значение цены для каждого товара, чтобы сразу отсечь все выбросы."
   ]
  },
  {
   "cell_type": "markdown",
   "id": "438642f9",
   "metadata": {},
   "source": [
    "Вывод: поскольку у нас очень много наименований товара, график получается не читамемым по оси X, но для нас это не так важно, - нам необходтимо было увидеть экстремальные выбросы. Их мы увидели. \n",
    "Далее нам необхолимо будет найти среднюю стоимость каждого товара. Предположительно покупатели могли купить их по любой их указанных цен. "
   ]
  },
  {
   "cell_type": "code",
   "execution_count": 209,
   "id": "0e96f31e",
   "metadata": {},
   "outputs": [
    {
     "data": {
      "text/html": [
       "<div>\n",
       "<style scoped>\n",
       "    .dataframe tbody tr th:only-of-type {\n",
       "        vertical-align: middle;\n",
       "    }\n",
       "\n",
       "    .dataframe tbody tr th {\n",
       "        vertical-align: top;\n",
       "    }\n",
       "\n",
       "    .dataframe thead th {\n",
       "        text-align: right;\n",
       "    }\n",
       "</style>\n",
       "<table border=\"1\" class=\"dataframe\">\n",
       "  <thead>\n",
       "    <tr style=\"text-align: right;\">\n",
       "      <th></th>\n",
       "      <th>item_id</th>\n",
       "      <th>mean_price</th>\n",
       "    </tr>\n",
       "  </thead>\n",
       "  <tbody>\n",
       "    <tr>\n",
       "      <th>0</th>\n",
       "      <td>10002</td>\n",
       "      <td>1.63</td>\n",
       "    </tr>\n",
       "    <tr>\n",
       "      <th>1</th>\n",
       "      <td>10080</td>\n",
       "      <td>0.85</td>\n",
       "    </tr>\n",
       "    <tr>\n",
       "      <th>2</th>\n",
       "      <td>10120</td>\n",
       "      <td>0.21</td>\n",
       "    </tr>\n",
       "    <tr>\n",
       "      <th>3</th>\n",
       "      <td>10123C</td>\n",
       "      <td>0.65</td>\n",
       "    </tr>\n",
       "    <tr>\n",
       "      <th>4</th>\n",
       "      <td>10124A</td>\n",
       "      <td>0.42</td>\n",
       "    </tr>\n",
       "    <tr>\n",
       "      <th>...</th>\n",
       "      <td>...</td>\n",
       "      <td>...</td>\n",
       "    </tr>\n",
       "    <tr>\n",
       "      <th>3154</th>\n",
       "      <td>gift_0001_20</td>\n",
       "      <td>16.84</td>\n",
       "    </tr>\n",
       "    <tr>\n",
       "      <th>3155</th>\n",
       "      <td>gift_0001_30</td>\n",
       "      <td>25.27</td>\n",
       "    </tr>\n",
       "    <tr>\n",
       "      <th>3156</th>\n",
       "      <td>gift_0001_40</td>\n",
       "      <td>34.04</td>\n",
       "    </tr>\n",
       "    <tr>\n",
       "      <th>3157</th>\n",
       "      <td>gift_0001_50</td>\n",
       "      <td>42.55</td>\n",
       "    </tr>\n",
       "    <tr>\n",
       "      <th>3158</th>\n",
       "      <td>m</td>\n",
       "      <td>2.55</td>\n",
       "    </tr>\n",
       "  </tbody>\n",
       "</table>\n",
       "<p>3159 rows × 2 columns</p>\n",
       "</div>"
      ],
      "text/plain": [
       "           item_id  mean_price\n",
       "0            10002        1.63\n",
       "1            10080        0.85\n",
       "2            10120        0.21\n",
       "3           10123C        0.65\n",
       "4           10124A        0.42\n",
       "...            ...         ...\n",
       "3154  gift_0001_20       16.84\n",
       "3155  gift_0001_30       25.27\n",
       "3156  gift_0001_40       34.04\n",
       "3157  gift_0001_50       42.55\n",
       "3158             m        2.55\n",
       "\n",
       "[3159 rows x 2 columns]"
      ]
     },
     "metadata": {},
     "output_type": "display_data"
    }
   ],
   "source": [
    "#составим таблтцу со средними значениями цены товара\n",
    "products_new = products.groupby ('product_id') ['price_per_one'].median().reset_index()\n",
    "products_new.columns = ['item_id', 'mean_price']\n",
    "display (products_new)"
   ]
  },
  {
   "cell_type": "code",
   "execution_count": 210,
   "id": "5e715ff8",
   "metadata": {
    "scrolled": true
   },
   "outputs": [
    {
     "data": {
      "text/html": [
       "<div>\n",
       "<style scoped>\n",
       "    .dataframe tbody tr th:only-of-type {\n",
       "        vertical-align: middle;\n",
       "    }\n",
       "\n",
       "    .dataframe tbody tr th {\n",
       "        vertical-align: top;\n",
       "    }\n",
       "\n",
       "    .dataframe thead th {\n",
       "        text-align: right;\n",
       "    }\n",
       "</style>\n",
       "<table border=\"1\" class=\"dataframe\">\n",
       "  <thead>\n",
       "    <tr style=\"text-align: right;\">\n",
       "      <th></th>\n",
       "      <th>purchase_id</th>\n",
       "      <th>item_id</th>\n",
       "      <th>quantity</th>\n",
       "      <th>purchase_date</th>\n",
       "      <th>customer_id</th>\n",
       "      <th>shop_id</th>\n",
       "      <th>loyalty_program</th>\n",
       "      <th>mean_price</th>\n",
       "      <th>income</th>\n",
       "    </tr>\n",
       "  </thead>\n",
       "  <tbody>\n",
       "    <tr>\n",
       "      <th>0</th>\n",
       "      <td>538280</td>\n",
       "      <td>21873</td>\n",
       "      <td>11</td>\n",
       "      <td>2016-12-10 12:50:00</td>\n",
       "      <td>18427.00</td>\n",
       "      <td>Shop 0</td>\n",
       "      <td>0.00</td>\n",
       "      <td>1.63</td>\n",
       "      <td>17.93</td>\n",
       "    </tr>\n",
       "    <tr>\n",
       "      <th>1</th>\n",
       "      <td>541104</td>\n",
       "      <td>21873</td>\n",
       "      <td>0</td>\n",
       "      <td>2017-01-13 14:29:00</td>\n",
       "      <td>NaN</td>\n",
       "      <td>Shop 0</td>\n",
       "      <td>0.00</td>\n",
       "      <td>1.63</td>\n",
       "      <td>0.00</td>\n",
       "    </tr>\n",
       "    <tr>\n",
       "      <th>2</th>\n",
       "      <td>540418</td>\n",
       "      <td>21873</td>\n",
       "      <td>1</td>\n",
       "      <td>2017-01-07 11:04:00</td>\n",
       "      <td>NaN</td>\n",
       "      <td>Shop 0</td>\n",
       "      <td>0.00</td>\n",
       "      <td>1.63</td>\n",
       "      <td>1.63</td>\n",
       "    </tr>\n",
       "    <tr>\n",
       "      <th>3</th>\n",
       "      <td>541516</td>\n",
       "      <td>21873</td>\n",
       "      <td>2</td>\n",
       "      <td>2017-01-18 17:34:00</td>\n",
       "      <td>NaN</td>\n",
       "      <td>Shop 0</td>\n",
       "      <td>0.00</td>\n",
       "      <td>1.63</td>\n",
       "      <td>3.26</td>\n",
       "    </tr>\n",
       "    <tr>\n",
       "      <th>4</th>\n",
       "      <td>541566</td>\n",
       "      <td>21873</td>\n",
       "      <td>35</td>\n",
       "      <td>2017-01-19 11:50:00</td>\n",
       "      <td>23401.00</td>\n",
       "      <td>Shop 0</td>\n",
       "      <td>1.00</td>\n",
       "      <td>1.63</td>\n",
       "      <td>57.05</td>\n",
       "    </tr>\n",
       "    <tr>\n",
       "      <th>...</th>\n",
       "      <td>...</td>\n",
       "      <td>...</td>\n",
       "      <td>...</td>\n",
       "      <td>...</td>\n",
       "      <td>...</td>\n",
       "      <td>...</td>\n",
       "      <td>...</td>\n",
       "      <td>...</td>\n",
       "      <td>...</td>\n",
       "    </tr>\n",
       "    <tr>\n",
       "      <th>105330</th>\n",
       "      <td>538852</td>\n",
       "      <td>90058B</td>\n",
       "      <td>35</td>\n",
       "      <td>2016-12-14 13:33:00</td>\n",
       "      <td>23051.00</td>\n",
       "      <td>Shop 0</td>\n",
       "      <td>1.00</td>\n",
       "      <td>0.38</td>\n",
       "      <td>13.30</td>\n",
       "    </tr>\n",
       "    <tr>\n",
       "      <th>105331</th>\n",
       "      <td>539988</td>\n",
       "      <td>46138B</td>\n",
       "      <td>1</td>\n",
       "      <td>2016-12-23 16:06:00</td>\n",
       "      <td>23795.00</td>\n",
       "      <td>Shop 0</td>\n",
       "      <td>1.00</td>\n",
       "      <td>1.95</td>\n",
       "      <td>1.95</td>\n",
       "    </tr>\n",
       "    <tr>\n",
       "      <th>105332</th>\n",
       "      <td>537025</td>\n",
       "      <td>90053</td>\n",
       "      <td>0</td>\n",
       "      <td>2016-12-03 16:21:00</td>\n",
       "      <td>NaN</td>\n",
       "      <td>Shop 0</td>\n",
       "      <td>0.00</td>\n",
       "      <td>2.55</td>\n",
       "      <td>0.00</td>\n",
       "    </tr>\n",
       "    <tr>\n",
       "      <th>105333</th>\n",
       "      <td>542731</td>\n",
       "      <td>17028J</td>\n",
       "      <td>5</td>\n",
       "      <td>2017-01-31 15:27:00</td>\n",
       "      <td>19279.00</td>\n",
       "      <td>Shop 0</td>\n",
       "      <td>0.00</td>\n",
       "      <td>0.42</td>\n",
       "      <td>2.10</td>\n",
       "    </tr>\n",
       "    <tr>\n",
       "      <th>105334</th>\n",
       "      <td>C540246</td>\n",
       "      <td>79320</td>\n",
       "      <td>-2</td>\n",
       "      <td>2017-01-05 15:43:00</td>\n",
       "      <td>18760.00</td>\n",
       "      <td>Shop 0</td>\n",
       "      <td>0.00</td>\n",
       "      <td>4.95</td>\n",
       "      <td>-9.90</td>\n",
       "    </tr>\n",
       "  </tbody>\n",
       "</table>\n",
       "<p>105335 rows × 9 columns</p>\n",
       "</div>"
      ],
      "text/plain": [
       "       purchase_id item_id  quantity       purchase_date  customer_id shop_id  \\\n",
       "0           538280   21873        11 2016-12-10 12:50:00     18427.00  Shop 0   \n",
       "1           541104   21873         0 2017-01-13 14:29:00          NaN  Shop 0   \n",
       "2           540418   21873         1 2017-01-07 11:04:00          NaN  Shop 0   \n",
       "3           541516   21873         2 2017-01-18 17:34:00          NaN  Shop 0   \n",
       "4           541566   21873        35 2017-01-19 11:50:00     23401.00  Shop 0   \n",
       "...            ...     ...       ...                 ...          ...     ...   \n",
       "105330      538852  90058B        35 2016-12-14 13:33:00     23051.00  Shop 0   \n",
       "105331      539988  46138B         1 2016-12-23 16:06:00     23795.00  Shop 0   \n",
       "105332      537025   90053         0 2016-12-03 16:21:00          NaN  Shop 0   \n",
       "105333      542731  17028J         5 2017-01-31 15:27:00     19279.00  Shop 0   \n",
       "105334     C540246   79320        -2 2017-01-05 15:43:00     18760.00  Shop 0   \n",
       "\n",
       "        loyalty_program  mean_price  income  \n",
       "0                  0.00        1.63   17.93  \n",
       "1                  0.00        1.63    0.00  \n",
       "2                  0.00        1.63    1.63  \n",
       "3                  0.00        1.63    3.26  \n",
       "4                  1.00        1.63   57.05  \n",
       "...                 ...         ...     ...  \n",
       "105330             1.00        0.38   13.30  \n",
       "105331             1.00        1.95    1.95  \n",
       "105332             0.00        2.55    0.00  \n",
       "105333             0.00        0.42    2.10  \n",
       "105334             0.00        4.95   -9.90  \n",
       "\n",
       "[105335 rows x 9 columns]"
      ]
     },
     "metadata": {},
     "output_type": "display_data"
    }
   ],
   "source": [
    "#объединяем таблицы (с чеками и с ценами товара) в одну\n",
    "retail_new = pd.merge(retail, products_new, on='item_id')\n",
    "retail_new ['income'] = retail_new ['mean_price'] * retail_new ['quantity']\n",
    "display (retail_new)"
   ]
  },
  {
   "cell_type": "code",
   "execution_count": 211,
   "id": "bca11169",
   "metadata": {
    "scrolled": true
   },
   "outputs": [
    {
     "data": {
      "text/plain": [
       "count   69125.00\n",
       "mean    21019.30\n",
       "std      1765.44\n",
       "min     18025.00\n",
       "25%     19544.00\n",
       "50%     20990.00\n",
       "75%     22659.00\n",
       "max     23962.00\n",
       "Name: customer_id, dtype: float64"
      ]
     },
     "execution_count": 211,
     "metadata": {},
     "output_type": "execute_result"
    }
   ],
   "source": [
    "retail_new ['customer_id'].describe()"
   ]
  },
  {
   "cell_type": "code",
   "execution_count": 212,
   "id": "18f989c7",
   "metadata": {},
   "outputs": [
    {
     "name": "stdout",
     "output_type": "stream",
     "text": [
      "2031130.6150000002\n"
     ]
    }
   ],
   "source": [
    "print (retail_new ['income'].sum())"
   ]
  },
  {
   "cell_type": "code",
   "execution_count": 213,
   "id": "360e4d0c",
   "metadata": {
    "scrolled": true
   },
   "outputs": [
    {
     "data": {
      "text/html": [
       "<div>\n",
       "<style scoped>\n",
       "    .dataframe tbody tr th:only-of-type {\n",
       "        vertical-align: middle;\n",
       "    }\n",
       "\n",
       "    .dataframe tbody tr th {\n",
       "        vertical-align: top;\n",
       "    }\n",
       "\n",
       "    .dataframe thead th {\n",
       "        text-align: right;\n",
       "    }\n",
       "</style>\n",
       "<table border=\"1\" class=\"dataframe\">\n",
       "  <thead>\n",
       "    <tr style=\"text-align: right;\">\n",
       "      <th></th>\n",
       "      <th>purchase_id</th>\n",
       "      <th>item_id</th>\n",
       "      <th>quantity</th>\n",
       "      <th>purchase_date</th>\n",
       "      <th>customer_id</th>\n",
       "      <th>shop_id</th>\n",
       "      <th>loyalty_program</th>\n",
       "      <th>mean_price</th>\n",
       "      <th>income</th>\n",
       "    </tr>\n",
       "  </thead>\n",
       "  <tbody>\n",
       "    <tr>\n",
       "      <th>0</th>\n",
       "      <td>538280</td>\n",
       "      <td>21873</td>\n",
       "      <td>11</td>\n",
       "      <td>2016-12-10 12:50:00</td>\n",
       "      <td>18427.00</td>\n",
       "      <td>Shop 0</td>\n",
       "      <td>0.00</td>\n",
       "      <td>1.63</td>\n",
       "      <td>17.93</td>\n",
       "    </tr>\n",
       "    <tr>\n",
       "      <th>2</th>\n",
       "      <td>540418</td>\n",
       "      <td>21873</td>\n",
       "      <td>1</td>\n",
       "      <td>2017-01-07 11:04:00</td>\n",
       "      <td>NaN</td>\n",
       "      <td>Shop 0</td>\n",
       "      <td>0.00</td>\n",
       "      <td>1.63</td>\n",
       "      <td>1.63</td>\n",
       "    </tr>\n",
       "    <tr>\n",
       "      <th>3</th>\n",
       "      <td>541516</td>\n",
       "      <td>21873</td>\n",
       "      <td>2</td>\n",
       "      <td>2017-01-18 17:34:00</td>\n",
       "      <td>NaN</td>\n",
       "      <td>Shop 0</td>\n",
       "      <td>0.00</td>\n",
       "      <td>1.63</td>\n",
       "      <td>3.26</td>\n",
       "    </tr>\n",
       "    <tr>\n",
       "      <th>4</th>\n",
       "      <td>541566</td>\n",
       "      <td>21873</td>\n",
       "      <td>35</td>\n",
       "      <td>2017-01-19 11:50:00</td>\n",
       "      <td>23401.00</td>\n",
       "      <td>Shop 0</td>\n",
       "      <td>1.00</td>\n",
       "      <td>1.63</td>\n",
       "      <td>57.05</td>\n",
       "    </tr>\n",
       "    <tr>\n",
       "      <th>5</th>\n",
       "      <td>538843</td>\n",
       "      <td>21873</td>\n",
       "      <td>1</td>\n",
       "      <td>2016-12-14 13:18:00</td>\n",
       "      <td>21712.00</td>\n",
       "      <td>Shop 0</td>\n",
       "      <td>0.00</td>\n",
       "      <td>1.63</td>\n",
       "      <td>1.63</td>\n",
       "    </tr>\n",
       "    <tr>\n",
       "      <th>...</th>\n",
       "      <td>...</td>\n",
       "      <td>...</td>\n",
       "      <td>...</td>\n",
       "      <td>...</td>\n",
       "      <td>...</td>\n",
       "      <td>...</td>\n",
       "      <td>...</td>\n",
       "      <td>...</td>\n",
       "      <td>...</td>\n",
       "    </tr>\n",
       "    <tr>\n",
       "      <th>105322</th>\n",
       "      <td>539988</td>\n",
       "      <td>16206B</td>\n",
       "      <td>1</td>\n",
       "      <td>2016-12-23 16:06:00</td>\n",
       "      <td>23795.00</td>\n",
       "      <td>Shop 0</td>\n",
       "      <td>1.00</td>\n",
       "      <td>1.25</td>\n",
       "      <td>1.25</td>\n",
       "    </tr>\n",
       "    <tr>\n",
       "      <th>105327</th>\n",
       "      <td>539009</td>\n",
       "      <td>79329</td>\n",
       "      <td>5</td>\n",
       "      <td>2016-12-15 13:24:00</td>\n",
       "      <td>18900.00</td>\n",
       "      <td>Shop 0</td>\n",
       "      <td>0.00</td>\n",
       "      <td>1.65</td>\n",
       "      <td>8.25</td>\n",
       "    </tr>\n",
       "    <tr>\n",
       "      <th>105330</th>\n",
       "      <td>538852</td>\n",
       "      <td>90058B</td>\n",
       "      <td>35</td>\n",
       "      <td>2016-12-14 13:33:00</td>\n",
       "      <td>23051.00</td>\n",
       "      <td>Shop 0</td>\n",
       "      <td>1.00</td>\n",
       "      <td>0.38</td>\n",
       "      <td>13.30</td>\n",
       "    </tr>\n",
       "    <tr>\n",
       "      <th>105331</th>\n",
       "      <td>539988</td>\n",
       "      <td>46138B</td>\n",
       "      <td>1</td>\n",
       "      <td>2016-12-23 16:06:00</td>\n",
       "      <td>23795.00</td>\n",
       "      <td>Shop 0</td>\n",
       "      <td>1.00</td>\n",
       "      <td>1.95</td>\n",
       "      <td>1.95</td>\n",
       "    </tr>\n",
       "    <tr>\n",
       "      <th>105333</th>\n",
       "      <td>542731</td>\n",
       "      <td>17028J</td>\n",
       "      <td>5</td>\n",
       "      <td>2017-01-31 15:27:00</td>\n",
       "      <td>19279.00</td>\n",
       "      <td>Shop 0</td>\n",
       "      <td>0.00</td>\n",
       "      <td>0.42</td>\n",
       "      <td>2.10</td>\n",
       "    </tr>\n",
       "  </tbody>\n",
       "</table>\n",
       "<p>70162 rows × 9 columns</p>\n",
       "</div>"
      ],
      "text/plain": [
       "       purchase_id item_id  quantity       purchase_date  customer_id shop_id  \\\n",
       "0           538280   21873        11 2016-12-10 12:50:00     18427.00  Shop 0   \n",
       "2           540418   21873         1 2017-01-07 11:04:00          NaN  Shop 0   \n",
       "3           541516   21873         2 2017-01-18 17:34:00          NaN  Shop 0   \n",
       "4           541566   21873        35 2017-01-19 11:50:00     23401.00  Shop 0   \n",
       "5           538843   21873         1 2016-12-14 13:18:00     21712.00  Shop 0   \n",
       "...            ...     ...       ...                 ...          ...     ...   \n",
       "105322      539988  16206B         1 2016-12-23 16:06:00     23795.00  Shop 0   \n",
       "105327      539009   79329         5 2016-12-15 13:24:00     18900.00  Shop 0   \n",
       "105330      538852  90058B        35 2016-12-14 13:33:00     23051.00  Shop 0   \n",
       "105331      539988  46138B         1 2016-12-23 16:06:00     23795.00  Shop 0   \n",
       "105333      542731  17028J         5 2017-01-31 15:27:00     19279.00  Shop 0   \n",
       "\n",
       "        loyalty_program  mean_price  income  \n",
       "0                  0.00        1.63   17.93  \n",
       "2                  0.00        1.63    1.63  \n",
       "3                  0.00        1.63    3.26  \n",
       "4                  1.00        1.63   57.05  \n",
       "5                  0.00        1.63    1.63  \n",
       "...                 ...         ...     ...  \n",
       "105322             1.00        1.25    1.25  \n",
       "105327             0.00        1.65    8.25  \n",
       "105330             1.00        0.38   13.30  \n",
       "105331             1.00        1.95    1.95  \n",
       "105333             0.00        0.42    2.10  \n",
       "\n",
       "[70162 rows x 9 columns]"
      ]
     },
     "metadata": {},
     "output_type": "display_data"
    }
   ],
   "source": [
    "#отфильтруем таблицу только по положительным значениям количества, это пригодится нам для просчета дохода, который получает магазин\n",
    "retail_filtered_quantity = retail_new[retail_new['quantity'] > 0]\n",
    "display (retail_filtered_quantity)"
   ]
  },
  {
   "cell_type": "code",
   "execution_count": 214,
   "id": "d2608f2f",
   "metadata": {},
   "outputs": [
    {
     "data": {
      "text/html": [
       "<div>\n",
       "<style scoped>\n",
       "    .dataframe tbody tr th:only-of-type {\n",
       "        vertical-align: middle;\n",
       "    }\n",
       "\n",
       "    .dataframe tbody tr th {\n",
       "        vertical-align: top;\n",
       "    }\n",
       "\n",
       "    .dataframe thead th {\n",
       "        text-align: right;\n",
       "    }\n",
       "</style>\n",
       "<table border=\"1\" class=\"dataframe\">\n",
       "  <thead>\n",
       "    <tr style=\"text-align: right;\">\n",
       "      <th></th>\n",
       "      <th>purchase_id</th>\n",
       "      <th>item_id</th>\n",
       "      <th>quantity</th>\n",
       "      <th>purchase_date</th>\n",
       "      <th>customer_id</th>\n",
       "      <th>shop_id</th>\n",
       "      <th>loyalty_program</th>\n",
       "      <th>mean_price</th>\n",
       "      <th>income</th>\n",
       "    </tr>\n",
       "  </thead>\n",
       "  <tbody>\n",
       "    <tr>\n",
       "      <th>1</th>\n",
       "      <td>541104</td>\n",
       "      <td>21873</td>\n",
       "      <td>0</td>\n",
       "      <td>2017-01-13 14:29:00</td>\n",
       "      <td>NaN</td>\n",
       "      <td>Shop 0</td>\n",
       "      <td>0.00</td>\n",
       "      <td>1.63</td>\n",
       "      <td>0.00</td>\n",
       "    </tr>\n",
       "    <tr>\n",
       "      <th>2</th>\n",
       "      <td>540418</td>\n",
       "      <td>21873</td>\n",
       "      <td>1</td>\n",
       "      <td>2017-01-07 11:04:00</td>\n",
       "      <td>NaN</td>\n",
       "      <td>Shop 0</td>\n",
       "      <td>0.00</td>\n",
       "      <td>1.63</td>\n",
       "      <td>1.63</td>\n",
       "    </tr>\n",
       "    <tr>\n",
       "      <th>3</th>\n",
       "      <td>541516</td>\n",
       "      <td>21873</td>\n",
       "      <td>2</td>\n",
       "      <td>2017-01-18 17:34:00</td>\n",
       "      <td>NaN</td>\n",
       "      <td>Shop 0</td>\n",
       "      <td>0.00</td>\n",
       "      <td>1.63</td>\n",
       "      <td>3.26</td>\n",
       "    </tr>\n",
       "    <tr>\n",
       "      <th>12</th>\n",
       "      <td>540352</td>\n",
       "      <td>21873</td>\n",
       "      <td>0</td>\n",
       "      <td>2017-01-06 14:27:00</td>\n",
       "      <td>NaN</td>\n",
       "      <td>Shop 0</td>\n",
       "      <td>0.00</td>\n",
       "      <td>1.63</td>\n",
       "      <td>0.00</td>\n",
       "    </tr>\n",
       "    <tr>\n",
       "      <th>13</th>\n",
       "      <td>539958</td>\n",
       "      <td>21873</td>\n",
       "      <td>0</td>\n",
       "      <td>2016-12-23 13:26:00</td>\n",
       "      <td>NaN</td>\n",
       "      <td>Shop 0</td>\n",
       "      <td>0.00</td>\n",
       "      <td>1.63</td>\n",
       "      <td>0.00</td>\n",
       "    </tr>\n",
       "    <tr>\n",
       "      <th>...</th>\n",
       "      <td>...</td>\n",
       "      <td>...</td>\n",
       "      <td>...</td>\n",
       "      <td>...</td>\n",
       "      <td>...</td>\n",
       "      <td>...</td>\n",
       "      <td>...</td>\n",
       "      <td>...</td>\n",
       "      <td>...</td>\n",
       "    </tr>\n",
       "    <tr>\n",
       "      <th>105323</th>\n",
       "      <td>545216</td>\n",
       "      <td>90157</td>\n",
       "      <td>0</td>\n",
       "      <td>2017-02-28 16:50:00</td>\n",
       "      <td>NaN</td>\n",
       "      <td>Shop 0</td>\n",
       "      <td>0.00</td>\n",
       "      <td>4.98</td>\n",
       "      <td>0.00</td>\n",
       "    </tr>\n",
       "    <tr>\n",
       "      <th>105324</th>\n",
       "      <td>538144</td>\n",
       "      <td>90042B</td>\n",
       "      <td>0</td>\n",
       "      <td>2016-12-09 15:58:00</td>\n",
       "      <td>NaN</td>\n",
       "      <td>Shop 0</td>\n",
       "      <td>0.00</td>\n",
       "      <td>0.00</td>\n",
       "      <td>0.00</td>\n",
       "    </tr>\n",
       "    <tr>\n",
       "      <th>105325</th>\n",
       "      <td>539740</td>\n",
       "      <td>85035b</td>\n",
       "      <td>0</td>\n",
       "      <td>2016-12-21 15:20:00</td>\n",
       "      <td>NaN</td>\n",
       "      <td>Shop 0</td>\n",
       "      <td>0.00</td>\n",
       "      <td>8.47</td>\n",
       "      <td>0.00</td>\n",
       "    </tr>\n",
       "    <tr>\n",
       "      <th>105329</th>\n",
       "      <td>540560</td>\n",
       "      <td>21589</td>\n",
       "      <td>-15</td>\n",
       "      <td>2017-01-10 10:08:00</td>\n",
       "      <td>NaN</td>\n",
       "      <td>Shop 0</td>\n",
       "      <td>0.00</td>\n",
       "      <td>0.00</td>\n",
       "      <td>-0.00</td>\n",
       "    </tr>\n",
       "    <tr>\n",
       "      <th>105332</th>\n",
       "      <td>537025</td>\n",
       "      <td>90053</td>\n",
       "      <td>0</td>\n",
       "      <td>2016-12-03 16:21:00</td>\n",
       "      <td>NaN</td>\n",
       "      <td>Shop 0</td>\n",
       "      <td>0.00</td>\n",
       "      <td>2.55</td>\n",
       "      <td>0.00</td>\n",
       "    </tr>\n",
       "  </tbody>\n",
       "</table>\n",
       "<p>36210 rows × 9 columns</p>\n",
       "</div>"
      ],
      "text/plain": [
       "       purchase_id item_id  quantity       purchase_date  customer_id shop_id  \\\n",
       "1           541104   21873         0 2017-01-13 14:29:00          NaN  Shop 0   \n",
       "2           540418   21873         1 2017-01-07 11:04:00          NaN  Shop 0   \n",
       "3           541516   21873         2 2017-01-18 17:34:00          NaN  Shop 0   \n",
       "12          540352   21873         0 2017-01-06 14:27:00          NaN  Shop 0   \n",
       "13          539958   21873         0 2016-12-23 13:26:00          NaN  Shop 0   \n",
       "...            ...     ...       ...                 ...          ...     ...   \n",
       "105323      545216   90157         0 2017-02-28 16:50:00          NaN  Shop 0   \n",
       "105324      538144  90042B         0 2016-12-09 15:58:00          NaN  Shop 0   \n",
       "105325      539740  85035b         0 2016-12-21 15:20:00          NaN  Shop 0   \n",
       "105329      540560   21589       -15 2017-01-10 10:08:00          NaN  Shop 0   \n",
       "105332      537025   90053         0 2016-12-03 16:21:00          NaN  Shop 0   \n",
       "\n",
       "        loyalty_program  mean_price  income  \n",
       "1                  0.00        1.63    0.00  \n",
       "2                  0.00        1.63    1.63  \n",
       "3                  0.00        1.63    3.26  \n",
       "12                 0.00        1.63    0.00  \n",
       "13                 0.00        1.63    0.00  \n",
       "...                 ...         ...     ...  \n",
       "105323             0.00        4.98    0.00  \n",
       "105324             0.00        0.00    0.00  \n",
       "105325             0.00        8.47    0.00  \n",
       "105329             0.00        0.00   -0.00  \n",
       "105332             0.00        2.55    0.00  \n",
       "\n",
       "[36210 rows x 9 columns]"
      ]
     },
     "metadata": {},
     "output_type": "display_data"
    }
   ],
   "source": [
    "#посмотрим на данные в NaN customer_id\n",
    "# Фильтрация строк с NaN в колонке 'customer_id'\n",
    "retail_custome_nan = retail_new[retail_new['customer_id'].isna()]\n",
    "\n",
    "# Отображение отфильтрованной таблицы\n",
    "display(retail_custome_nan)\n"
   ]
  },
  {
   "cell_type": "code",
   "execution_count": 215,
   "id": "fe8c8578",
   "metadata": {},
   "outputs": [
    {
     "name": "stdout",
     "output_type": "stream",
     "text": [
      "[0.]\n",
      "['Shop 0' 'Shop 6' 'Shop 25' 'Shop 21' 'Shop 23']\n"
     ]
    }
   ],
   "source": [
    "print (retail_custome_nan ['loyalty_program'].unique())\n",
    "print (retail_custome_nan ['shop_id'].unique())"
   ]
  },
  {
   "cell_type": "code",
   "execution_count": 216,
   "id": "2f86b620",
   "metadata": {
    "scrolled": true
   },
   "outputs": [
    {
     "name": "stdout",
     "output_type": "stream",
     "text": [
      "36210\n"
     ]
    }
   ],
   "source": [
    "nan_count = retail_new['customer_id'].isna().sum()\n",
    "print (nan_count)"
   ]
  },
  {
   "cell_type": "markdown",
   "id": "db40814b",
   "metadata": {
    "scrolled": true
   },
   "source": [
    "Вывод: несмотря на то, что у нас больше количество неопредленных покупателей, заполнить эти пропуски мы никак не сможем. Придется работать, с чем есть. Для анализа покупок мы отфильтруем таблицу, убрав оттуда все значения ниже нуля - возвраты, а к ним вернемся, когда будем изучать процент возвратов."
   ]
  },
  {
   "cell_type": "code",
   "execution_count": 217,
   "id": "7dd6cdc2",
   "metadata": {
    "scrolled": true
   },
   "outputs": [
    {
     "data": {
      "text/html": [
       "<div>\n",
       "<style scoped>\n",
       "    .dataframe tbody tr th:only-of-type {\n",
       "        vertical-align: middle;\n",
       "    }\n",
       "\n",
       "    .dataframe tbody tr th {\n",
       "        vertical-align: top;\n",
       "    }\n",
       "\n",
       "    .dataframe thead th {\n",
       "        text-align: right;\n",
       "    }\n",
       "</style>\n",
       "<table border=\"1\" class=\"dataframe\">\n",
       "  <thead>\n",
       "    <tr style=\"text-align: right;\">\n",
       "      <th></th>\n",
       "      <th>purchase_id</th>\n",
       "      <th>item_id</th>\n",
       "      <th>quantity</th>\n",
       "      <th>purchase_date</th>\n",
       "      <th>customer_id</th>\n",
       "      <th>shop_id</th>\n",
       "      <th>loyalty_program</th>\n",
       "      <th>mean_price</th>\n",
       "      <th>income</th>\n",
       "    </tr>\n",
       "  </thead>\n",
       "  <tbody>\n",
       "    <tr>\n",
       "      <th>0</th>\n",
       "      <td>538280</td>\n",
       "      <td>21873</td>\n",
       "      <td>11</td>\n",
       "      <td>2016-12-10 12:50:00</td>\n",
       "      <td>18427.00</td>\n",
       "      <td>Shop 0</td>\n",
       "      <td>0.00</td>\n",
       "      <td>1.63</td>\n",
       "      <td>17.93</td>\n",
       "    </tr>\n",
       "    <tr>\n",
       "      <th>2</th>\n",
       "      <td>540418</td>\n",
       "      <td>21873</td>\n",
       "      <td>1</td>\n",
       "      <td>2017-01-07 11:04:00</td>\n",
       "      <td>NaN</td>\n",
       "      <td>Shop 0</td>\n",
       "      <td>0.00</td>\n",
       "      <td>1.63</td>\n",
       "      <td>1.63</td>\n",
       "    </tr>\n",
       "    <tr>\n",
       "      <th>3</th>\n",
       "      <td>541516</td>\n",
       "      <td>21873</td>\n",
       "      <td>2</td>\n",
       "      <td>2017-01-18 17:34:00</td>\n",
       "      <td>NaN</td>\n",
       "      <td>Shop 0</td>\n",
       "      <td>0.00</td>\n",
       "      <td>1.63</td>\n",
       "      <td>3.26</td>\n",
       "    </tr>\n",
       "    <tr>\n",
       "      <th>4</th>\n",
       "      <td>541566</td>\n",
       "      <td>21873</td>\n",
       "      <td>35</td>\n",
       "      <td>2017-01-19 11:50:00</td>\n",
       "      <td>23401.00</td>\n",
       "      <td>Shop 0</td>\n",
       "      <td>1.00</td>\n",
       "      <td>1.63</td>\n",
       "      <td>57.05</td>\n",
       "    </tr>\n",
       "    <tr>\n",
       "      <th>5</th>\n",
       "      <td>538843</td>\n",
       "      <td>21873</td>\n",
       "      <td>1</td>\n",
       "      <td>2016-12-14 13:18:00</td>\n",
       "      <td>21712.00</td>\n",
       "      <td>Shop 0</td>\n",
       "      <td>0.00</td>\n",
       "      <td>1.63</td>\n",
       "      <td>1.63</td>\n",
       "    </tr>\n",
       "    <tr>\n",
       "      <th>...</th>\n",
       "      <td>...</td>\n",
       "      <td>...</td>\n",
       "      <td>...</td>\n",
       "      <td>...</td>\n",
       "      <td>...</td>\n",
       "      <td>...</td>\n",
       "      <td>...</td>\n",
       "      <td>...</td>\n",
       "      <td>...</td>\n",
       "    </tr>\n",
       "    <tr>\n",
       "      <th>105322</th>\n",
       "      <td>539988</td>\n",
       "      <td>16206B</td>\n",
       "      <td>1</td>\n",
       "      <td>2016-12-23 16:06:00</td>\n",
       "      <td>23795.00</td>\n",
       "      <td>Shop 0</td>\n",
       "      <td>1.00</td>\n",
       "      <td>1.25</td>\n",
       "      <td>1.25</td>\n",
       "    </tr>\n",
       "    <tr>\n",
       "      <th>105327</th>\n",
       "      <td>539009</td>\n",
       "      <td>79329</td>\n",
       "      <td>5</td>\n",
       "      <td>2016-12-15 13:24:00</td>\n",
       "      <td>18900.00</td>\n",
       "      <td>Shop 0</td>\n",
       "      <td>0.00</td>\n",
       "      <td>1.65</td>\n",
       "      <td>8.25</td>\n",
       "    </tr>\n",
       "    <tr>\n",
       "      <th>105330</th>\n",
       "      <td>538852</td>\n",
       "      <td>90058B</td>\n",
       "      <td>35</td>\n",
       "      <td>2016-12-14 13:33:00</td>\n",
       "      <td>23051.00</td>\n",
       "      <td>Shop 0</td>\n",
       "      <td>1.00</td>\n",
       "      <td>0.38</td>\n",
       "      <td>13.30</td>\n",
       "    </tr>\n",
       "    <tr>\n",
       "      <th>105331</th>\n",
       "      <td>539988</td>\n",
       "      <td>46138B</td>\n",
       "      <td>1</td>\n",
       "      <td>2016-12-23 16:06:00</td>\n",
       "      <td>23795.00</td>\n",
       "      <td>Shop 0</td>\n",
       "      <td>1.00</td>\n",
       "      <td>1.95</td>\n",
       "      <td>1.95</td>\n",
       "    </tr>\n",
       "    <tr>\n",
       "      <th>105333</th>\n",
       "      <td>542731</td>\n",
       "      <td>17028J</td>\n",
       "      <td>5</td>\n",
       "      <td>2017-01-31 15:27:00</td>\n",
       "      <td>19279.00</td>\n",
       "      <td>Shop 0</td>\n",
       "      <td>0.00</td>\n",
       "      <td>0.42</td>\n",
       "      <td>2.10</td>\n",
       "    </tr>\n",
       "  </tbody>\n",
       "</table>\n",
       "<p>70162 rows × 9 columns</p>\n",
       "</div>"
      ],
      "text/plain": [
       "       purchase_id item_id  quantity       purchase_date  customer_id shop_id  \\\n",
       "0           538280   21873        11 2016-12-10 12:50:00     18427.00  Shop 0   \n",
       "2           540418   21873         1 2017-01-07 11:04:00          NaN  Shop 0   \n",
       "3           541516   21873         2 2017-01-18 17:34:00          NaN  Shop 0   \n",
       "4           541566   21873        35 2017-01-19 11:50:00     23401.00  Shop 0   \n",
       "5           538843   21873         1 2016-12-14 13:18:00     21712.00  Shop 0   \n",
       "...            ...     ...       ...                 ...          ...     ...   \n",
       "105322      539988  16206B         1 2016-12-23 16:06:00     23795.00  Shop 0   \n",
       "105327      539009   79329         5 2016-12-15 13:24:00     18900.00  Shop 0   \n",
       "105330      538852  90058B        35 2016-12-14 13:33:00     23051.00  Shop 0   \n",
       "105331      539988  46138B         1 2016-12-23 16:06:00     23795.00  Shop 0   \n",
       "105333      542731  17028J         5 2017-01-31 15:27:00     19279.00  Shop 0   \n",
       "\n",
       "        loyalty_program  mean_price  income  \n",
       "0                  0.00        1.63   17.93  \n",
       "2                  0.00        1.63    1.63  \n",
       "3                  0.00        1.63    3.26  \n",
       "4                  1.00        1.63   57.05  \n",
       "5                  0.00        1.63    1.63  \n",
       "...                 ...         ...     ...  \n",
       "105322             1.00        1.25    1.25  \n",
       "105327             0.00        1.65    8.25  \n",
       "105330             1.00        0.38   13.30  \n",
       "105331             1.00        1.95    1.95  \n",
       "105333             0.00        0.42    2.10  \n",
       "\n",
       "[70162 rows x 9 columns]"
      ]
     },
     "metadata": {},
     "output_type": "display_data"
    }
   ],
   "source": [
    "#таблица без отрицательных значений\n",
    "retail_new_clean = retail_new[retail_new['quantity'] > 0]\n",
    "display (retail_new_clean )"
   ]
  },
  {
   "cell_type": "code",
   "execution_count": 219,
   "id": "a2bb5ec3",
   "metadata": {
    "scrolled": true
   },
   "outputs": [
    {
     "name": "stderr",
     "output_type": "stream",
     "text": [
      "/tmp/ipykernel_30/256987447.py:1: FutureWarning: Treating datetime data as categorical rather than numeric in `.describe` is deprecated and will be removed in a future version of pandas. Specify `datetime_is_numeric=True` to silence this warning and adopt the future behavior now.\n",
      "  retail_new_clean ['purchase_date'].describe()\n"
     ]
    },
    {
     "data": {
      "text/plain": [
       "count                   70162\n",
       "unique                   3468\n",
       "top       2016-12-06 16:57:00\n",
       "freq                      331\n",
       "first     2016-12-01 08:26:00\n",
       "last      2017-02-28 17:01:00\n",
       "Name: purchase_date, dtype: object"
      ]
     },
     "execution_count": 219,
     "metadata": {},
     "output_type": "execute_result"
    }
   ],
   "source": [
    "retail_new_clean ['purchase_date'].describe()"
   ]
  },
  {
   "cell_type": "markdown",
   "id": "f15d5bb2",
   "metadata": {},
   "source": [
    "<b>Вывод:</b>\n",
    "В этой части мы провели предобработку данных: удалили дубликаты, переименовали колонки для удобства дальнейшего анализа данных, вычислили медианные значения цены каждого товара, удалили выбросы и аномалии, а также совместили таблицы. \n",
    "\n",
    "Теперь можем приступать к исследовательскому анализу данных. "
   ]
  },
  {
   "cell_type": "markdown",
   "id": "f69159d3",
   "metadata": {},
   "source": [
    "### Часть 3. Исследовательский анализ данных\n",
    "\n",
    "Цели и задачи: \n",
    "1) Изучение отдельных магазинов: количество покупок, выручка. \n",
    "\n",
    "2) Изучение разных товаров и услуг: самые популярные продукты, частота заказа доствки. \n",
    "\n",
    "3) Изучение средней цены чека по магазинам, количества позиций в чеке. \n",
    "\n",
    "4) Самые популярные дни недели для покупок: в какие дни больше всего покупок, в какие дни самый высокий средний чек. \n",
    "\n",
    "5) Количество покупок по программе лояльности и без (в качесстве первого показателя). "
   ]
  },
  {
   "cell_type": "code",
   "execution_count": 133,
   "id": "459c8d2a",
   "metadata": {
    "scrolled": true
   },
   "outputs": [
    {
     "data": {
      "text/html": [
       "<div>\n",
       "<style scoped>\n",
       "    .dataframe tbody tr th:only-of-type {\n",
       "        vertical-align: middle;\n",
       "    }\n",
       "\n",
       "    .dataframe tbody tr th {\n",
       "        vertical-align: top;\n",
       "    }\n",
       "\n",
       "    .dataframe thead th {\n",
       "        text-align: right;\n",
       "    }\n",
       "</style>\n",
       "<table border=\"1\" class=\"dataframe\">\n",
       "  <thead>\n",
       "    <tr style=\"text-align: right;\">\n",
       "      <th></th>\n",
       "      <th>shop_id</th>\n",
       "      <th>purchase_count</th>\n",
       "    </tr>\n",
       "  </thead>\n",
       "  <tbody>\n",
       "    <tr>\n",
       "      <th>0</th>\n",
       "      <td>Shop 0</td>\n",
       "      <td>3383</td>\n",
       "    </tr>\n",
       "    <tr>\n",
       "      <th>25</th>\n",
       "      <td>Shop 4</td>\n",
       "      <td>79</td>\n",
       "    </tr>\n",
       "    <tr>\n",
       "      <th>1</th>\n",
       "      <td>Shop 1</td>\n",
       "      <td>70</td>\n",
       "    </tr>\n",
       "    <tr>\n",
       "      <th>27</th>\n",
       "      <td>Shop 6</td>\n",
       "      <td>37</td>\n",
       "    </tr>\n",
       "    <tr>\n",
       "      <th>12</th>\n",
       "      <td>Shop 2</td>\n",
       "      <td>17</td>\n",
       "    </tr>\n",
       "    <tr>\n",
       "      <th>4</th>\n",
       "      <td>Shop 12</td>\n",
       "      <td>16</td>\n",
       "    </tr>\n",
       "    <tr>\n",
       "      <th>29</th>\n",
       "      <td>Shop 8</td>\n",
       "      <td>16</td>\n",
       "    </tr>\n",
       "    <tr>\n",
       "      <th>23</th>\n",
       "      <td>Shop 3</td>\n",
       "      <td>13</td>\n",
       "    </tr>\n",
       "    <tr>\n",
       "      <th>2</th>\n",
       "      <td>Shop 10</td>\n",
       "      <td>12</td>\n",
       "    </tr>\n",
       "    <tr>\n",
       "      <th>28</th>\n",
       "      <td>Shop 7</td>\n",
       "      <td>10</td>\n",
       "    </tr>\n",
       "    <tr>\n",
       "      <th>3</th>\n",
       "      <td>Shop 11</td>\n",
       "      <td>6</td>\n",
       "    </tr>\n",
       "    <tr>\n",
       "      <th>10</th>\n",
       "      <td>Shop 18</td>\n",
       "      <td>6</td>\n",
       "    </tr>\n",
       "    <tr>\n",
       "      <th>11</th>\n",
       "      <td>Shop 19</td>\n",
       "      <td>5</td>\n",
       "    </tr>\n",
       "    <tr>\n",
       "      <th>26</th>\n",
       "      <td>Shop 5</td>\n",
       "      <td>4</td>\n",
       "    </tr>\n",
       "    <tr>\n",
       "      <th>15</th>\n",
       "      <td>Shop 22</td>\n",
       "      <td>4</td>\n",
       "    </tr>\n",
       "    <tr>\n",
       "      <th>6</th>\n",
       "      <td>Shop 14</td>\n",
       "      <td>4</td>\n",
       "    </tr>\n",
       "    <tr>\n",
       "      <th>5</th>\n",
       "      <td>Shop 13</td>\n",
       "      <td>4</td>\n",
       "    </tr>\n",
       "    <tr>\n",
       "      <th>30</th>\n",
       "      <td>Shop 9</td>\n",
       "      <td>4</td>\n",
       "    </tr>\n",
       "    <tr>\n",
       "      <th>13</th>\n",
       "      <td>Shop 20</td>\n",
       "      <td>3</td>\n",
       "    </tr>\n",
       "    <tr>\n",
       "      <th>8</th>\n",
       "      <td>Shop 16</td>\n",
       "      <td>3</td>\n",
       "    </tr>\n",
       "    <tr>\n",
       "      <th>14</th>\n",
       "      <td>Shop 21</td>\n",
       "      <td>2</td>\n",
       "    </tr>\n",
       "    <tr>\n",
       "      <th>9</th>\n",
       "      <td>Shop 17</td>\n",
       "      <td>2</td>\n",
       "    </tr>\n",
       "    <tr>\n",
       "      <th>7</th>\n",
       "      <td>Shop 15</td>\n",
       "      <td>2</td>\n",
       "    </tr>\n",
       "    <tr>\n",
       "      <th>16</th>\n",
       "      <td>Shop 23</td>\n",
       "      <td>1</td>\n",
       "    </tr>\n",
       "    <tr>\n",
       "      <th>17</th>\n",
       "      <td>Shop 24</td>\n",
       "      <td>1</td>\n",
       "    </tr>\n",
       "    <tr>\n",
       "      <th>18</th>\n",
       "      <td>Shop 25</td>\n",
       "      <td>1</td>\n",
       "    </tr>\n",
       "    <tr>\n",
       "      <th>19</th>\n",
       "      <td>Shop 26</td>\n",
       "      <td>1</td>\n",
       "    </tr>\n",
       "    <tr>\n",
       "      <th>20</th>\n",
       "      <td>Shop 27</td>\n",
       "      <td>1</td>\n",
       "    </tr>\n",
       "    <tr>\n",
       "      <th>21</th>\n",
       "      <td>Shop 28</td>\n",
       "      <td>1</td>\n",
       "    </tr>\n",
       "    <tr>\n",
       "      <th>22</th>\n",
       "      <td>Shop 29</td>\n",
       "      <td>1</td>\n",
       "    </tr>\n",
       "    <tr>\n",
       "      <th>24</th>\n",
       "      <td>Shop 30</td>\n",
       "      <td>1</td>\n",
       "    </tr>\n",
       "  </tbody>\n",
       "</table>\n",
       "</div>"
      ],
      "text/plain": [
       "    shop_id  purchase_count\n",
       "0    Shop 0            3383\n",
       "25   Shop 4              79\n",
       "1    Shop 1              70\n",
       "27   Shop 6              37\n",
       "12   Shop 2              17\n",
       "4   Shop 12              16\n",
       "29   Shop 8              16\n",
       "23   Shop 3              13\n",
       "2   Shop 10              12\n",
       "28   Shop 7              10\n",
       "3   Shop 11               6\n",
       "10  Shop 18               6\n",
       "11  Shop 19               5\n",
       "26   Shop 5               4\n",
       "15  Shop 22               4\n",
       "6   Shop 14               4\n",
       "5   Shop 13               4\n",
       "30   Shop 9               4\n",
       "13  Shop 20               3\n",
       "8   Shop 16               3\n",
       "14  Shop 21               2\n",
       "9   Shop 17               2\n",
       "7   Shop 15               2\n",
       "16  Shop 23               1\n",
       "17  Shop 24               1\n",
       "18  Shop 25               1\n",
       "19  Shop 26               1\n",
       "20  Shop 27               1\n",
       "21  Shop 28               1\n",
       "22  Shop 29               1\n",
       "24  Shop 30               1"
      ]
     },
     "metadata": {},
     "output_type": "display_data"
    }
   ],
   "source": [
    "#посчитаем количество уникальных покупок в каждом магазине\n",
    "shops_group = retail_new_clean.groupby ('shop_id')['purchase_id'].nunique().reset_index ()\n",
    "shops_group.columns = ['shop_id', 'purchase_count']\n",
    "shops_group = shops_group.sort_values (by = 'purchase_count', ascending = False)\n",
    "\n",
    "#shops_group ['income'] = retail_new.groupby('shop_id').apply(lambda x: (x['quantity'] * x['mean_price']).sum())\n",
    "\n",
    "display (shops_group)"
   ]
  },
  {
   "cell_type": "code",
   "execution_count": 134,
   "id": "4b35b125",
   "metadata": {},
   "outputs": [
    {
     "data": {
      "image/png": "[encoded data removed]",
      "text/plain": [
       "<Figure size 432x288 with 1 Axes>"
      ]
     },
     "metadata": {
      "needs_background": "light"
     },
     "output_type": "display_data"
    }
   ],
   "source": [
    "#посмотрим график общего количество покупок в 10 магазинах\n",
    "\n",
    "shops_group.head (10).plot(kind='bar', color = '#87C0C6')\n",
    "plt.xticks(rotation=45, ha='right')\n",
    "plt.title('Количество покупок по магазинам')\n",
    "plt.xlabel('Номер магазина')\n",
    "plt.ylabel('Количество покупок')\n",
    "plt.show()"
   ]
  },
  {
   "cell_type": "code",
   "execution_count": 135,
   "id": "3f42280e",
   "metadata": {
    "scrolled": true
   },
   "outputs": [
    {
     "data": {
      "text/html": [
       "<div>\n",
       "<style scoped>\n",
       "    .dataframe tbody tr th:only-of-type {\n",
       "        vertical-align: middle;\n",
       "    }\n",
       "\n",
       "    .dataframe tbody tr th {\n",
       "        vertical-align: top;\n",
       "    }\n",
       "\n",
       "    .dataframe thead th {\n",
       "        text-align: right;\n",
       "    }\n",
       "</style>\n",
       "<table border=\"1\" class=\"dataframe\">\n",
       "  <thead>\n",
       "    <tr style=\"text-align: right;\">\n",
       "      <th></th>\n",
       "      <th>purchase_id</th>\n",
       "      <th>item_id</th>\n",
       "      <th>quantity</th>\n",
       "      <th>purchase_date</th>\n",
       "      <th>customer_id</th>\n",
       "      <th>shop_id</th>\n",
       "      <th>loyalty_program</th>\n",
       "      <th>mean_price</th>\n",
       "      <th>income</th>\n",
       "    </tr>\n",
       "  </thead>\n",
       "  <tbody>\n",
       "    <tr>\n",
       "      <th>0</th>\n",
       "      <td>538280</td>\n",
       "      <td>21873</td>\n",
       "      <td>11</td>\n",
       "      <td>2016-12-10 12:50:00</td>\n",
       "      <td>18427.00</td>\n",
       "      <td>Shop 0</td>\n",
       "      <td>0.00</td>\n",
       "      <td>1.63</td>\n",
       "      <td>17.93</td>\n",
       "    </tr>\n",
       "    <tr>\n",
       "      <th>2</th>\n",
       "      <td>540418</td>\n",
       "      <td>21873</td>\n",
       "      <td>1</td>\n",
       "      <td>2017-01-07 11:04:00</td>\n",
       "      <td>NaN</td>\n",
       "      <td>Shop 0</td>\n",
       "      <td>0.00</td>\n",
       "      <td>1.63</td>\n",
       "      <td>1.63</td>\n",
       "    </tr>\n",
       "    <tr>\n",
       "      <th>3</th>\n",
       "      <td>541516</td>\n",
       "      <td>21873</td>\n",
       "      <td>2</td>\n",
       "      <td>2017-01-18 17:34:00</td>\n",
       "      <td>NaN</td>\n",
       "      <td>Shop 0</td>\n",
       "      <td>0.00</td>\n",
       "      <td>1.63</td>\n",
       "      <td>3.26</td>\n",
       "    </tr>\n",
       "    <tr>\n",
       "      <th>4</th>\n",
       "      <td>541566</td>\n",
       "      <td>21873</td>\n",
       "      <td>35</td>\n",
       "      <td>2017-01-19 11:50:00</td>\n",
       "      <td>23401.00</td>\n",
       "      <td>Shop 0</td>\n",
       "      <td>1.00</td>\n",
       "      <td>1.63</td>\n",
       "      <td>57.05</td>\n",
       "    </tr>\n",
       "    <tr>\n",
       "      <th>5</th>\n",
       "      <td>538843</td>\n",
       "      <td>21873</td>\n",
       "      <td>1</td>\n",
       "      <td>2016-12-14 13:18:00</td>\n",
       "      <td>21712.00</td>\n",
       "      <td>Shop 0</td>\n",
       "      <td>0.00</td>\n",
       "      <td>1.63</td>\n",
       "      <td>1.63</td>\n",
       "    </tr>\n",
       "    <tr>\n",
       "      <th>...</th>\n",
       "      <td>...</td>\n",
       "      <td>...</td>\n",
       "      <td>...</td>\n",
       "      <td>...</td>\n",
       "      <td>...</td>\n",
       "      <td>...</td>\n",
       "      <td>...</td>\n",
       "      <td>...</td>\n",
       "      <td>...</td>\n",
       "    </tr>\n",
       "    <tr>\n",
       "      <th>105322</th>\n",
       "      <td>539988</td>\n",
       "      <td>16206B</td>\n",
       "      <td>1</td>\n",
       "      <td>2016-12-23 16:06:00</td>\n",
       "      <td>23795.00</td>\n",
       "      <td>Shop 0</td>\n",
       "      <td>1.00</td>\n",
       "      <td>1.25</td>\n",
       "      <td>1.25</td>\n",
       "    </tr>\n",
       "    <tr>\n",
       "      <th>105327</th>\n",
       "      <td>539009</td>\n",
       "      <td>79329</td>\n",
       "      <td>5</td>\n",
       "      <td>2016-12-15 13:24:00</td>\n",
       "      <td>18900.00</td>\n",
       "      <td>Shop 0</td>\n",
       "      <td>0.00</td>\n",
       "      <td>1.65</td>\n",
       "      <td>8.25</td>\n",
       "    </tr>\n",
       "    <tr>\n",
       "      <th>105330</th>\n",
       "      <td>538852</td>\n",
       "      <td>90058B</td>\n",
       "      <td>35</td>\n",
       "      <td>2016-12-14 13:33:00</td>\n",
       "      <td>23051.00</td>\n",
       "      <td>Shop 0</td>\n",
       "      <td>1.00</td>\n",
       "      <td>0.38</td>\n",
       "      <td>13.30</td>\n",
       "    </tr>\n",
       "    <tr>\n",
       "      <th>105331</th>\n",
       "      <td>539988</td>\n",
       "      <td>46138B</td>\n",
       "      <td>1</td>\n",
       "      <td>2016-12-23 16:06:00</td>\n",
       "      <td>23795.00</td>\n",
       "      <td>Shop 0</td>\n",
       "      <td>1.00</td>\n",
       "      <td>1.95</td>\n",
       "      <td>1.95</td>\n",
       "    </tr>\n",
       "    <tr>\n",
       "      <th>105333</th>\n",
       "      <td>542731</td>\n",
       "      <td>17028J</td>\n",
       "      <td>5</td>\n",
       "      <td>2017-01-31 15:27:00</td>\n",
       "      <td>19279.00</td>\n",
       "      <td>Shop 0</td>\n",
       "      <td>0.00</td>\n",
       "      <td>0.42</td>\n",
       "      <td>2.10</td>\n",
       "    </tr>\n",
       "  </tbody>\n",
       "</table>\n",
       "<p>70162 rows × 9 columns</p>\n",
       "</div>"
      ],
      "text/plain": [
       "       purchase_id item_id  quantity       purchase_date  customer_id shop_id  \\\n",
       "0           538280   21873        11 2016-12-10 12:50:00     18427.00  Shop 0   \n",
       "2           540418   21873         1 2017-01-07 11:04:00          NaN  Shop 0   \n",
       "3           541516   21873         2 2017-01-18 17:34:00          NaN  Shop 0   \n",
       "4           541566   21873        35 2017-01-19 11:50:00     23401.00  Shop 0   \n",
       "5           538843   21873         1 2016-12-14 13:18:00     21712.00  Shop 0   \n",
       "...            ...     ...       ...                 ...          ...     ...   \n",
       "105322      539988  16206B         1 2016-12-23 16:06:00     23795.00  Shop 0   \n",
       "105327      539009   79329         5 2016-12-15 13:24:00     18900.00  Shop 0   \n",
       "105330      538852  90058B        35 2016-12-14 13:33:00     23051.00  Shop 0   \n",
       "105331      539988  46138B         1 2016-12-23 16:06:00     23795.00  Shop 0   \n",
       "105333      542731  17028J         5 2017-01-31 15:27:00     19279.00  Shop 0   \n",
       "\n",
       "        loyalty_program  mean_price  income  \n",
       "0                  0.00        1.63   17.93  \n",
       "2                  0.00        1.63    1.63  \n",
       "3                  0.00        1.63    3.26  \n",
       "4                  1.00        1.63   57.05  \n",
       "5                  0.00        1.63    1.63  \n",
       "...                 ...         ...     ...  \n",
       "105322             1.00        1.25    1.25  \n",
       "105327             0.00        1.65    8.25  \n",
       "105330             1.00        0.38   13.30  \n",
       "105331             1.00        1.95    1.95  \n",
       "105333             0.00        0.42    2.10  \n",
       "\n",
       "[70162 rows x 9 columns]"
      ]
     },
     "metadata": {},
     "output_type": "display_data"
    }
   ],
   "source": [
    "#проверим общую выручку магазинов по таблице с отрицательными значениями\n",
    "retail_new_clean = retail_new_clean.copy()\n",
    "retail_new_clean['income'] = retail_new['quantity'] * retail_new['mean_price']\n",
    "display(retail_new_clean)\n"
   ]
  },
  {
   "cell_type": "code",
   "execution_count": 136,
   "id": "b7040b98",
   "metadata": {
    "scrolled": true
   },
   "outputs": [
    {
     "data": {
      "text/html": [
       "<div>\n",
       "<style scoped>\n",
       "    .dataframe tbody tr th:only-of-type {\n",
       "        vertical-align: middle;\n",
       "    }\n",
       "\n",
       "    .dataframe tbody tr th {\n",
       "        vertical-align: top;\n",
       "    }\n",
       "\n",
       "    .dataframe thead th {\n",
       "        text-align: right;\n",
       "    }\n",
       "</style>\n",
       "<table border=\"1\" class=\"dataframe\">\n",
       "  <thead>\n",
       "    <tr style=\"text-align: right;\">\n",
       "      <th></th>\n",
       "      <th>shop_id</th>\n",
       "      <th>income</th>\n",
       "    </tr>\n",
       "  </thead>\n",
       "  <tbody>\n",
       "    <tr>\n",
       "      <th>0</th>\n",
       "      <td>Shop 0</td>\n",
       "      <td>1967824.66</td>\n",
       "    </tr>\n",
       "    <tr>\n",
       "      <th>23</th>\n",
       "      <td>Shop 3</td>\n",
       "      <td>102070.05</td>\n",
       "    </tr>\n",
       "    <tr>\n",
       "      <th>27</th>\n",
       "      <td>Shop 6</td>\n",
       "      <td>62468.20</td>\n",
       "    </tr>\n",
       "    <tr>\n",
       "      <th>25</th>\n",
       "      <td>Shop 4</td>\n",
       "      <td>53851.40</td>\n",
       "    </tr>\n",
       "    <tr>\n",
       "      <th>1</th>\n",
       "      <td>Shop 1</td>\n",
       "      <td>48615.33</td>\n",
       "    </tr>\n",
       "    <tr>\n",
       "      <th>12</th>\n",
       "      <td>Shop 2</td>\n",
       "      <td>39651.93</td>\n",
       "    </tr>\n",
       "    <tr>\n",
       "      <th>6</th>\n",
       "      <td>Shop 14</td>\n",
       "      <td>22346.06</td>\n",
       "    </tr>\n",
       "    <tr>\n",
       "      <th>29</th>\n",
       "      <td>Shop 8</td>\n",
       "      <td>17188.25</td>\n",
       "    </tr>\n",
       "    <tr>\n",
       "      <th>11</th>\n",
       "      <td>Shop 19</td>\n",
       "      <td>11299.83</td>\n",
       "    </tr>\n",
       "    <tr>\n",
       "      <th>28</th>\n",
       "      <td>Shop 7</td>\n",
       "      <td>11271.10</td>\n",
       "    </tr>\n",
       "    <tr>\n",
       "      <th>2</th>\n",
       "      <td>Shop 10</td>\n",
       "      <td>10140.66</td>\n",
       "    </tr>\n",
       "    <tr>\n",
       "      <th>4</th>\n",
       "      <td>Shop 12</td>\n",
       "      <td>6945.11</td>\n",
       "    </tr>\n",
       "    <tr>\n",
       "      <th>10</th>\n",
       "      <td>Shop 18</td>\n",
       "      <td>6656.67</td>\n",
       "    </tr>\n",
       "    <tr>\n",
       "      <th>26</th>\n",
       "      <td>Shop 5</td>\n",
       "      <td>6202.61</td>\n",
       "    </tr>\n",
       "    <tr>\n",
       "      <th>3</th>\n",
       "      <td>Shop 11</td>\n",
       "      <td>4146.20</td>\n",
       "    </tr>\n",
       "    <tr>\n",
       "      <th>17</th>\n",
       "      <td>Shop 24</td>\n",
       "      <td>3984.62</td>\n",
       "    </tr>\n",
       "    <tr>\n",
       "      <th>8</th>\n",
       "      <td>Shop 16</td>\n",
       "      <td>3896.06</td>\n",
       "    </tr>\n",
       "    <tr>\n",
       "      <th>18</th>\n",
       "      <td>Shop 25</td>\n",
       "      <td>3433.87</td>\n",
       "    </tr>\n",
       "    <tr>\n",
       "      <th>15</th>\n",
       "      <td>Shop 22</td>\n",
       "      <td>3003.47</td>\n",
       "    </tr>\n",
       "    <tr>\n",
       "      <th>19</th>\n",
       "      <td>Shop 26</td>\n",
       "      <td>2775.59</td>\n",
       "    </tr>\n",
       "    <tr>\n",
       "      <th>30</th>\n",
       "      <td>Shop 9</td>\n",
       "      <td>2415.11</td>\n",
       "    </tr>\n",
       "    <tr>\n",
       "      <th>5</th>\n",
       "      <td>Shop 13</td>\n",
       "      <td>2410.33</td>\n",
       "    </tr>\n",
       "    <tr>\n",
       "      <th>9</th>\n",
       "      <td>Shop 17</td>\n",
       "      <td>2236.45</td>\n",
       "    </tr>\n",
       "    <tr>\n",
       "      <th>20</th>\n",
       "      <td>Shop 27</td>\n",
       "      <td>2095.47</td>\n",
       "    </tr>\n",
       "    <tr>\n",
       "      <th>7</th>\n",
       "      <td>Shop 15</td>\n",
       "      <td>1736.52</td>\n",
       "    </tr>\n",
       "    <tr>\n",
       "      <th>14</th>\n",
       "      <td>Shop 21</td>\n",
       "      <td>1629.60</td>\n",
       "    </tr>\n",
       "    <tr>\n",
       "      <th>21</th>\n",
       "      <td>Shop 28</td>\n",
       "      <td>1621.89</td>\n",
       "    </tr>\n",
       "    <tr>\n",
       "      <th>13</th>\n",
       "      <td>Shop 20</td>\n",
       "      <td>1020.06</td>\n",
       "    </tr>\n",
       "    <tr>\n",
       "      <th>24</th>\n",
       "      <td>Shop 30</td>\n",
       "      <td>743.53</td>\n",
       "    </tr>\n",
       "    <tr>\n",
       "      <th>16</th>\n",
       "      <td>Shop 23</td>\n",
       "      <td>225.25</td>\n",
       "    </tr>\n",
       "    <tr>\n",
       "      <th>22</th>\n",
       "      <td>Shop 29</td>\n",
       "      <td>207.71</td>\n",
       "    </tr>\n",
       "  </tbody>\n",
       "</table>\n",
       "</div>"
      ],
      "text/plain": [
       "    shop_id     income\n",
       "0    Shop 0 1967824.66\n",
       "23   Shop 3  102070.05\n",
       "27   Shop 6   62468.20\n",
       "25   Shop 4   53851.40\n",
       "1    Shop 1   48615.33\n",
       "12   Shop 2   39651.93\n",
       "6   Shop 14   22346.06\n",
       "29   Shop 8   17188.25\n",
       "11  Shop 19   11299.83\n",
       "28   Shop 7   11271.10\n",
       "2   Shop 10   10140.66\n",
       "4   Shop 12    6945.11\n",
       "10  Shop 18    6656.67\n",
       "26   Shop 5    6202.61\n",
       "3   Shop 11    4146.20\n",
       "17  Shop 24    3984.62\n",
       "8   Shop 16    3896.06\n",
       "18  Shop 25    3433.87\n",
       "15  Shop 22    3003.47\n",
       "19  Shop 26    2775.59\n",
       "30   Shop 9    2415.11\n",
       "5   Shop 13    2410.33\n",
       "9   Shop 17    2236.45\n",
       "20  Shop 27    2095.47\n",
       "7   Shop 15    1736.52\n",
       "14  Shop 21    1629.60\n",
       "21  Shop 28    1621.89\n",
       "13  Shop 20    1020.06\n",
       "24  Shop 30     743.53\n",
       "16  Shop 23     225.25\n",
       "22  Shop 29     207.71"
      ]
     },
     "metadata": {},
     "output_type": "display_data"
    }
   ],
   "source": [
    "shops_group_income = retail_new_clean.groupby('shop_id')['income'].sum().reset_index()\n",
    "shops_group_income = shops_group_income.sort_values (by = 'income', ascending = False)\n",
    "pd.options.display.float_format = '{:.2f}'.format\n",
    "display (shops_group_income)"
   ]
  },
  {
   "cell_type": "code",
   "execution_count": 137,
   "id": "f810f501",
   "metadata": {},
   "outputs": [
    {
     "data": {
      "image/png": "[encoded data removed]",
      "text/plain": [
       "<Figure size 432x288 with 1 Axes>"
      ]
     },
     "metadata": {
      "needs_background": "light"
     },
     "output_type": "display_data"
    }
   ],
   "source": [
    "#посмотрим график общей выручки по магазинам \n",
    "\n",
    "def millions_formatter(x, pos):\n",
    "    return f'{x / 1_000_000:.2f}M'\n",
    "\n",
    "formatter = FuncFormatter(millions_formatter)\n",
    "\n",
    "ax = shops_group_income.head(10).plot(kind='bar', color='#87C0C6', legend=None)\n",
    "ax.yaxis.set_major_formatter(formatter)\n",
    "\n",
    "plt.xticks(range(0, 10), shops_group_income['shop_id'].head(10), rotation=45, ha='right')\n",
    "plt.title('Распределение общей выручки по магазинам')\n",
    "plt.xlabel('Номер магазина')\n",
    "plt.ylabel('Общая выручка')\n",
    "plt.show()"
   ]
  },
  {
   "cell_type": "code",
   "execution_count": 138,
   "id": "bfae294f",
   "metadata": {},
   "outputs": [
    {
     "data": {
      "text/html": [
       "<div>\n",
       "<style scoped>\n",
       "    .dataframe tbody tr th:only-of-type {\n",
       "        vertical-align: middle;\n",
       "    }\n",
       "\n",
       "    .dataframe tbody tr th {\n",
       "        vertical-align: top;\n",
       "    }\n",
       "\n",
       "    .dataframe thead th {\n",
       "        text-align: right;\n",
       "    }\n",
       "</style>\n",
       "<table border=\"1\" class=\"dataframe\">\n",
       "  <thead>\n",
       "    <tr style=\"text-align: right;\">\n",
       "      <th></th>\n",
       "      <th>item_id</th>\n",
       "      <th>quantity</th>\n",
       "    </tr>\n",
       "  </thead>\n",
       "  <tbody>\n",
       "    <tr>\n",
       "      <th>1763</th>\n",
       "      <td>23166</td>\n",
       "      <td>74214</td>\n",
       "    </tr>\n",
       "    <tr>\n",
       "      <th>2505</th>\n",
       "      <td>85123A</td>\n",
       "      <td>10614</td>\n",
       "    </tr>\n",
       "    <tr>\n",
       "      <th>2113</th>\n",
       "      <td>84077</td>\n",
       "      <td>10126</td>\n",
       "    </tr>\n",
       "    <tr>\n",
       "      <th>382</th>\n",
       "      <td>21212</td>\n",
       "      <td>9325</td>\n",
       "    </tr>\n",
       "    <tr>\n",
       "      <th>2487</th>\n",
       "      <td>85099B</td>\n",
       "      <td>7616</td>\n",
       "    </tr>\n",
       "    <tr>\n",
       "      <th>1014</th>\n",
       "      <td>22197</td>\n",
       "      <td>6954</td>\n",
       "    </tr>\n",
       "    <tr>\n",
       "      <th>1465</th>\n",
       "      <td>22693</td>\n",
       "      <td>6830</td>\n",
       "    </tr>\n",
       "    <tr>\n",
       "      <th>1392</th>\n",
       "      <td>22616</td>\n",
       "      <td>5764</td>\n",
       "    </tr>\n",
       "    <tr>\n",
       "      <th>1840</th>\n",
       "      <td>37413</td>\n",
       "      <td>5672</td>\n",
       "    </tr>\n",
       "    <tr>\n",
       "      <th>1255</th>\n",
       "      <td>22469</td>\n",
       "      <td>5602</td>\n",
       "    </tr>\n",
       "  </tbody>\n",
       "</table>\n",
       "</div>"
      ],
      "text/plain": [
       "     item_id  quantity\n",
       "1763   23166     74214\n",
       "2505  85123A     10614\n",
       "2113   84077     10126\n",
       "382    21212      9325\n",
       "2487  85099B      7616\n",
       "1014   22197      6954\n",
       "1465   22693      6830\n",
       "1392   22616      5764\n",
       "1840   37413      5672\n",
       "1255   22469      5602"
      ]
     },
     "metadata": {},
     "output_type": "display_data"
    }
   ],
   "source": [
    "# проверим самые популярные продукты по таблице без отрицательных знеачений\n",
    "\n",
    "products_popular = retail_new_clean.groupby ('item_id')['quantity'].sum().reset_index()\n",
    "products_popular = products_popular.sort_values (by = 'quantity', ascending = False)\n",
    "display (products_popular.head (10))"
   ]
  },
  {
   "cell_type": "code",
   "execution_count": 139,
   "id": "d82db4fe",
   "metadata": {
    "scrolled": true
   },
   "outputs": [
    {
     "name": "stdout",
     "output_type": "stream",
     "text": [
      "Количество заказов доставки: 175\n"
     ]
    }
   ],
   "source": [
    "\n",
    "deliver_count_not_clean = (retail_new['item_id'] == 'DOT').sum()\n",
    "print ('Количество заказов доставки:', deliver_count_not_clean)"
   ]
  },
  {
   "cell_type": "code",
   "execution_count": 140,
   "id": "7375eaa0",
   "metadata": {},
   "outputs": [
    {
     "data": {
      "text/html": [
       "<div>\n",
       "<style scoped>\n",
       "    .dataframe tbody tr th:only-of-type {\n",
       "        vertical-align: middle;\n",
       "    }\n",
       "\n",
       "    .dataframe tbody tr th {\n",
       "        vertical-align: top;\n",
       "    }\n",
       "\n",
       "    .dataframe thead th {\n",
       "        text-align: right;\n",
       "    }\n",
       "</style>\n",
       "<table border=\"1\" class=\"dataframe\">\n",
       "  <thead>\n",
       "    <tr style=\"text-align: right;\">\n",
       "      <th></th>\n",
       "      <th>shop_id</th>\n",
       "      <th>income</th>\n",
       "    </tr>\n",
       "  </thead>\n",
       "  <tbody>\n",
       "    <tr>\n",
       "      <th>0</th>\n",
       "      <td>Shop 0</td>\n",
       "      <td>1967824.66</td>\n",
       "    </tr>\n",
       "    <tr>\n",
       "      <th>23</th>\n",
       "      <td>Shop 3</td>\n",
       "      <td>102070.05</td>\n",
       "    </tr>\n",
       "    <tr>\n",
       "      <th>27</th>\n",
       "      <td>Shop 6</td>\n",
       "      <td>62468.20</td>\n",
       "    </tr>\n",
       "    <tr>\n",
       "      <th>25</th>\n",
       "      <td>Shop 4</td>\n",
       "      <td>53851.40</td>\n",
       "    </tr>\n",
       "    <tr>\n",
       "      <th>1</th>\n",
       "      <td>Shop 1</td>\n",
       "      <td>48615.33</td>\n",
       "    </tr>\n",
       "    <tr>\n",
       "      <th>12</th>\n",
       "      <td>Shop 2</td>\n",
       "      <td>39651.93</td>\n",
       "    </tr>\n",
       "    <tr>\n",
       "      <th>6</th>\n",
       "      <td>Shop 14</td>\n",
       "      <td>22346.06</td>\n",
       "    </tr>\n",
       "    <tr>\n",
       "      <th>29</th>\n",
       "      <td>Shop 8</td>\n",
       "      <td>17188.25</td>\n",
       "    </tr>\n",
       "    <tr>\n",
       "      <th>11</th>\n",
       "      <td>Shop 19</td>\n",
       "      <td>11299.83</td>\n",
       "    </tr>\n",
       "    <tr>\n",
       "      <th>28</th>\n",
       "      <td>Shop 7</td>\n",
       "      <td>11271.10</td>\n",
       "    </tr>\n",
       "    <tr>\n",
       "      <th>2</th>\n",
       "      <td>Shop 10</td>\n",
       "      <td>10140.66</td>\n",
       "    </tr>\n",
       "    <tr>\n",
       "      <th>4</th>\n",
       "      <td>Shop 12</td>\n",
       "      <td>6945.11</td>\n",
       "    </tr>\n",
       "    <tr>\n",
       "      <th>10</th>\n",
       "      <td>Shop 18</td>\n",
       "      <td>6656.67</td>\n",
       "    </tr>\n",
       "    <tr>\n",
       "      <th>26</th>\n",
       "      <td>Shop 5</td>\n",
       "      <td>6202.61</td>\n",
       "    </tr>\n",
       "    <tr>\n",
       "      <th>3</th>\n",
       "      <td>Shop 11</td>\n",
       "      <td>4146.20</td>\n",
       "    </tr>\n",
       "    <tr>\n",
       "      <th>17</th>\n",
       "      <td>Shop 24</td>\n",
       "      <td>3984.62</td>\n",
       "    </tr>\n",
       "    <tr>\n",
       "      <th>8</th>\n",
       "      <td>Shop 16</td>\n",
       "      <td>3896.06</td>\n",
       "    </tr>\n",
       "    <tr>\n",
       "      <th>18</th>\n",
       "      <td>Shop 25</td>\n",
       "      <td>3433.87</td>\n",
       "    </tr>\n",
       "    <tr>\n",
       "      <th>15</th>\n",
       "      <td>Shop 22</td>\n",
       "      <td>3003.47</td>\n",
       "    </tr>\n",
       "    <tr>\n",
       "      <th>19</th>\n",
       "      <td>Shop 26</td>\n",
       "      <td>2775.59</td>\n",
       "    </tr>\n",
       "    <tr>\n",
       "      <th>30</th>\n",
       "      <td>Shop 9</td>\n",
       "      <td>2415.11</td>\n",
       "    </tr>\n",
       "    <tr>\n",
       "      <th>5</th>\n",
       "      <td>Shop 13</td>\n",
       "      <td>2410.33</td>\n",
       "    </tr>\n",
       "    <tr>\n",
       "      <th>9</th>\n",
       "      <td>Shop 17</td>\n",
       "      <td>2236.45</td>\n",
       "    </tr>\n",
       "    <tr>\n",
       "      <th>20</th>\n",
       "      <td>Shop 27</td>\n",
       "      <td>2095.47</td>\n",
       "    </tr>\n",
       "    <tr>\n",
       "      <th>7</th>\n",
       "      <td>Shop 15</td>\n",
       "      <td>1736.52</td>\n",
       "    </tr>\n",
       "    <tr>\n",
       "      <th>14</th>\n",
       "      <td>Shop 21</td>\n",
       "      <td>1629.60</td>\n",
       "    </tr>\n",
       "    <tr>\n",
       "      <th>21</th>\n",
       "      <td>Shop 28</td>\n",
       "      <td>1621.89</td>\n",
       "    </tr>\n",
       "    <tr>\n",
       "      <th>13</th>\n",
       "      <td>Shop 20</td>\n",
       "      <td>1020.06</td>\n",
       "    </tr>\n",
       "    <tr>\n",
       "      <th>24</th>\n",
       "      <td>Shop 30</td>\n",
       "      <td>743.53</td>\n",
       "    </tr>\n",
       "    <tr>\n",
       "      <th>16</th>\n",
       "      <td>Shop 23</td>\n",
       "      <td>225.25</td>\n",
       "    </tr>\n",
       "    <tr>\n",
       "      <th>22</th>\n",
       "      <td>Shop 29</td>\n",
       "      <td>207.71</td>\n",
       "    </tr>\n",
       "  </tbody>\n",
       "</table>\n",
       "</div>"
      ],
      "text/plain": [
       "    shop_id     income\n",
       "0    Shop 0 1967824.66\n",
       "23   Shop 3  102070.05\n",
       "27   Shop 6   62468.20\n",
       "25   Shop 4   53851.40\n",
       "1    Shop 1   48615.33\n",
       "12   Shop 2   39651.93\n",
       "6   Shop 14   22346.06\n",
       "29   Shop 8   17188.25\n",
       "11  Shop 19   11299.83\n",
       "28   Shop 7   11271.10\n",
       "2   Shop 10   10140.66\n",
       "4   Shop 12    6945.11\n",
       "10  Shop 18    6656.67\n",
       "26   Shop 5    6202.61\n",
       "3   Shop 11    4146.20\n",
       "17  Shop 24    3984.62\n",
       "8   Shop 16    3896.06\n",
       "18  Shop 25    3433.87\n",
       "15  Shop 22    3003.47\n",
       "19  Shop 26    2775.59\n",
       "30   Shop 9    2415.11\n",
       "5   Shop 13    2410.33\n",
       "9   Shop 17    2236.45\n",
       "20  Shop 27    2095.47\n",
       "7   Shop 15    1736.52\n",
       "14  Shop 21    1629.60\n",
       "21  Shop 28    1621.89\n",
       "13  Shop 20    1020.06\n",
       "24  Shop 30     743.53\n",
       "16  Shop 23     225.25\n",
       "22  Shop 29     207.71"
      ]
     },
     "metadata": {},
     "output_type": "display_data"
    }
   ],
   "source": [
    "#Изучение средней выручки по магазинам\n",
    "shops_group_income_mean = retail_new_clean.groupby('shop_id')['income'].mean()\n",
    "shops_group_income_mean = shops_group_income_mean.reset_index ()\n",
    "shops_group_income_mean = shops_group_income.sort_values (by = 'income', ascending = False)\n",
    "pd.options.display.float_format = '{:.2f}'.format\n",
    "display (shops_group_income_mean)"
   ]
  },
  {
   "cell_type": "code",
   "execution_count": 141,
   "id": "98343467",
   "metadata": {
    "scrolled": false
   },
   "outputs": [
    {
     "data": {
      "image/png": "[encoded data removed]",
      "text/plain": [
       "<Figure size 432x288 with 1 Axes>"
      ]
     },
     "metadata": {
      "needs_background": "light"
     },
     "output_type": "display_data"
    }
   ],
   "source": [
    "shops_group_income_mean.head(10).plot(x='shop_id', y='income', kind='bar', color='#87C0C6')\n",
    "plt.xticks(rotation=45, ha='right')\n",
    "plt.title('Средняя выручка по магазинам')\n",
    "plt.xlabel('Номер магазина')\n",
    "plt.ylabel('Средняя выручка')\n",
    "plt.show()"
   ]
  },
  {
   "cell_type": "code",
   "execution_count": 142,
   "id": "f67647e6",
   "metadata": {
    "scrolled": true
   },
   "outputs": [
    {
     "data": {
      "text/html": [
       "<div>\n",
       "<style scoped>\n",
       "    .dataframe tbody tr th:only-of-type {\n",
       "        vertical-align: middle;\n",
       "    }\n",
       "\n",
       "    .dataframe tbody tr th {\n",
       "        vertical-align: top;\n",
       "    }\n",
       "\n",
       "    .dataframe thead th {\n",
       "        text-align: right;\n",
       "    }\n",
       "</style>\n",
       "<table border=\"1\" class=\"dataframe\">\n",
       "  <thead>\n",
       "    <tr style=\"text-align: right;\">\n",
       "      <th></th>\n",
       "      <th>purchase_id</th>\n",
       "      <th>item_id</th>\n",
       "    </tr>\n",
       "  </thead>\n",
       "  <tbody>\n",
       "    <tr>\n",
       "      <th>520</th>\n",
       "      <td>537434</td>\n",
       "      <td>331</td>\n",
       "    </tr>\n",
       "    <tr>\n",
       "      <th>1537</th>\n",
       "      <td>539958</td>\n",
       "      <td>309</td>\n",
       "    </tr>\n",
       "    <tr>\n",
       "      <th>793</th>\n",
       "      <td>538071</td>\n",
       "      <td>306</td>\n",
       "    </tr>\n",
       "    <tr>\n",
       "      <th>1791</th>\n",
       "      <td>540551</td>\n",
       "      <td>294</td>\n",
       "    </tr>\n",
       "    <tr>\n",
       "      <th>280</th>\n",
       "      <td>536876</td>\n",
       "      <td>294</td>\n",
       "    </tr>\n",
       "    <tr>\n",
       "      <th>...</th>\n",
       "      <td>...</td>\n",
       "      <td>...</td>\n",
       "    </tr>\n",
       "    <tr>\n",
       "      <th>826</th>\n",
       "      <td>538137</td>\n",
       "      <td>1</td>\n",
       "    </tr>\n",
       "    <tr>\n",
       "      <th>3292</th>\n",
       "      <td>544312</td>\n",
       "      <td>1</td>\n",
       "    </tr>\n",
       "    <tr>\n",
       "      <th>827</th>\n",
       "      <td>538138</td>\n",
       "      <td>1</td>\n",
       "    </tr>\n",
       "    <tr>\n",
       "      <th>828</th>\n",
       "      <td>538139</td>\n",
       "      <td>1</td>\n",
       "    </tr>\n",
       "    <tr>\n",
       "      <th>2516</th>\n",
       "      <td>542516</td>\n",
       "      <td>1</td>\n",
       "    </tr>\n",
       "  </tbody>\n",
       "</table>\n",
       "<p>3710 rows × 2 columns</p>\n",
       "</div>"
      ],
      "text/plain": [
       "     purchase_id  item_id\n",
       "520       537434      331\n",
       "1537      539958      309\n",
       "793       538071      306\n",
       "1791      540551      294\n",
       "280       536876      294\n",
       "...          ...      ...\n",
       "826       538137        1\n",
       "3292      544312        1\n",
       "827       538138        1\n",
       "828       538139        1\n",
       "2516      542516        1\n",
       "\n",
       "[3710 rows x 2 columns]"
      ]
     },
     "metadata": {},
     "output_type": "display_data"
    }
   ],
   "source": [
    "#посчитаем количество товара позиций в чеке\n",
    "purchase_item_count = retail_new_clean.groupby ('purchase_id')['item_id'].count().reset_index()\n",
    "purchase_item_count = purchase_item_count.sort_values(by = 'item_id', ascending = False)\n",
    "\n",
    "display (purchase_item_count)"
   ]
  },
  {
   "cell_type": "code",
   "execution_count": 143,
   "id": "08ccb31f",
   "metadata": {},
   "outputs": [
    {
     "data": {
      "text/html": [
       "<div>\n",
       "<style scoped>\n",
       "    .dataframe tbody tr th:only-of-type {\n",
       "        vertical-align: middle;\n",
       "    }\n",
       "\n",
       "    .dataframe tbody tr th {\n",
       "        vertical-align: top;\n",
       "    }\n",
       "\n",
       "    .dataframe thead th {\n",
       "        text-align: right;\n",
       "    }\n",
       "</style>\n",
       "<table border=\"1\" class=\"dataframe\">\n",
       "  <thead>\n",
       "    <tr style=\"text-align: right;\">\n",
       "      <th></th>\n",
       "      <th>shop_id</th>\n",
       "      <th>mean_item_count</th>\n",
       "    </tr>\n",
       "  </thead>\n",
       "  <tbody>\n",
       "    <tr>\n",
       "      <th>19</th>\n",
       "      <td>Shop 26</td>\n",
       "      <td>56.00</td>\n",
       "    </tr>\n",
       "    <tr>\n",
       "      <th>18</th>\n",
       "      <td>Shop 25</td>\n",
       "      <td>47.00</td>\n",
       "    </tr>\n",
       "    <tr>\n",
       "      <th>20</th>\n",
       "      <td>Shop 27</td>\n",
       "      <td>45.00</td>\n",
       "    </tr>\n",
       "    <tr>\n",
       "      <th>26</th>\n",
       "      <td>Shop 5</td>\n",
       "      <td>44.50</td>\n",
       "    </tr>\n",
       "    <tr>\n",
       "      <th>23</th>\n",
       "      <td>Shop 3</td>\n",
       "      <td>37.00</td>\n",
       "    </tr>\n",
       "    <tr>\n",
       "      <th>10</th>\n",
       "      <td>Shop 18</td>\n",
       "      <td>35.50</td>\n",
       "    </tr>\n",
       "    <tr>\n",
       "      <th>17</th>\n",
       "      <td>Shop 24</td>\n",
       "      <td>32.00</td>\n",
       "    </tr>\n",
       "    <tr>\n",
       "      <th>29</th>\n",
       "      <td>Shop 8</td>\n",
       "      <td>31.44</td>\n",
       "    </tr>\n",
       "    <tr>\n",
       "      <th>28</th>\n",
       "      <td>Shop 7</td>\n",
       "      <td>30.90</td>\n",
       "    </tr>\n",
       "    <tr>\n",
       "      <th>7</th>\n",
       "      <td>Shop 15</td>\n",
       "      <td>30.00</td>\n",
       "    </tr>\n",
       "    <tr>\n",
       "      <th>21</th>\n",
       "      <td>Shop 28</td>\n",
       "      <td>30.00</td>\n",
       "    </tr>\n",
       "    <tr>\n",
       "      <th>6</th>\n",
       "      <td>Shop 14</td>\n",
       "      <td>28.25</td>\n",
       "    </tr>\n",
       "    <tr>\n",
       "      <th>3</th>\n",
       "      <td>Shop 11</td>\n",
       "      <td>26.50</td>\n",
       "    </tr>\n",
       "    <tr>\n",
       "      <th>27</th>\n",
       "      <td>Shop 6</td>\n",
       "      <td>25.49</td>\n",
       "    </tr>\n",
       "    <tr>\n",
       "      <th>2</th>\n",
       "      <td>Shop 10</td>\n",
       "      <td>23.67</td>\n",
       "    </tr>\n",
       "    <tr>\n",
       "      <th>1</th>\n",
       "      <td>Shop 1</td>\n",
       "      <td>20.50</td>\n",
       "    </tr>\n",
       "    <tr>\n",
       "      <th>9</th>\n",
       "      <td>Shop 17</td>\n",
       "      <td>20.00</td>\n",
       "    </tr>\n",
       "    <tr>\n",
       "      <th>25</th>\n",
       "      <td>Shop 4</td>\n",
       "      <td>19.47</td>\n",
       "    </tr>\n",
       "    <tr>\n",
       "      <th>0</th>\n",
       "      <td>Shop 0</td>\n",
       "      <td>18.40</td>\n",
       "    </tr>\n",
       "    <tr>\n",
       "      <th>8</th>\n",
       "      <td>Shop 16</td>\n",
       "      <td>18.33</td>\n",
       "    </tr>\n",
       "    <tr>\n",
       "      <th>4</th>\n",
       "      <td>Shop 12</td>\n",
       "      <td>16.38</td>\n",
       "    </tr>\n",
       "    <tr>\n",
       "      <th>30</th>\n",
       "      <td>Shop 9</td>\n",
       "      <td>15.25</td>\n",
       "    </tr>\n",
       "    <tr>\n",
       "      <th>24</th>\n",
       "      <td>Shop 30</td>\n",
       "      <td>15.00</td>\n",
       "    </tr>\n",
       "    <tr>\n",
       "      <th>14</th>\n",
       "      <td>Shop 21</td>\n",
       "      <td>15.00</td>\n",
       "    </tr>\n",
       "    <tr>\n",
       "      <th>12</th>\n",
       "      <td>Shop 2</td>\n",
       "      <td>14.53</td>\n",
       "    </tr>\n",
       "    <tr>\n",
       "      <th>11</th>\n",
       "      <td>Shop 19</td>\n",
       "      <td>14.20</td>\n",
       "    </tr>\n",
       "    <tr>\n",
       "      <th>22</th>\n",
       "      <td>Shop 29</td>\n",
       "      <td>9.00</td>\n",
       "    </tr>\n",
       "    <tr>\n",
       "      <th>13</th>\n",
       "      <td>Shop 20</td>\n",
       "      <td>9.00</td>\n",
       "    </tr>\n",
       "    <tr>\n",
       "      <th>5</th>\n",
       "      <td>Shop 13</td>\n",
       "      <td>8.75</td>\n",
       "    </tr>\n",
       "    <tr>\n",
       "      <th>15</th>\n",
       "      <td>Shop 22</td>\n",
       "      <td>8.50</td>\n",
       "    </tr>\n",
       "    <tr>\n",
       "      <th>16</th>\n",
       "      <td>Shop 23</td>\n",
       "      <td>1.00</td>\n",
       "    </tr>\n",
       "  </tbody>\n",
       "</table>\n",
       "</div>"
      ],
      "text/plain": [
       "    shop_id  mean_item_count\n",
       "19  Shop 26            56.00\n",
       "18  Shop 25            47.00\n",
       "20  Shop 27            45.00\n",
       "26   Shop 5            44.50\n",
       "23   Shop 3            37.00\n",
       "10  Shop 18            35.50\n",
       "17  Shop 24            32.00\n",
       "29   Shop 8            31.44\n",
       "28   Shop 7            30.90\n",
       "7   Shop 15            30.00\n",
       "21  Shop 28            30.00\n",
       "6   Shop 14            28.25\n",
       "3   Shop 11            26.50\n",
       "27   Shop 6            25.49\n",
       "2   Shop 10            23.67\n",
       "1    Shop 1            20.50\n",
       "9   Shop 17            20.00\n",
       "25   Shop 4            19.47\n",
       "0    Shop 0            18.40\n",
       "8   Shop 16            18.33\n",
       "4   Shop 12            16.38\n",
       "30   Shop 9            15.25\n",
       "24  Shop 30            15.00\n",
       "14  Shop 21            15.00\n",
       "12   Shop 2            14.53\n",
       "11  Shop 19            14.20\n",
       "22  Shop 29             9.00\n",
       "13  Shop 20             9.00\n",
       "5   Shop 13             8.75\n",
       "15  Shop 22             8.50\n",
       "16  Shop 23             1.00"
      ]
     },
     "metadata": {},
     "output_type": "display_data"
    }
   ],
   "source": [
    "#посчитаем среднее количество позиций в чеке в разрезе по магазинам\n",
    "shop_item_mean = retail_new_clean.groupby(['shop_id', 'purchase_id'])['item_id'].nunique().reset_index()\n",
    "shop_item_mean.columns = ['shop_id', 'purchase_id', 'item_count']\n",
    "shop_item_mean = shop_item_mean.reset_index()\n",
    "mean_item_per_purchase = shop_item_mean.groupby('shop_id')['item_count'].mean().reset_index()\n",
    "mean_item_per_purchase.columns = ['shop_id', 'mean_item_count']\n",
    "mean_item_per_purchase = mean_item_per_purchase.sort_values (by = 'mean_item_count', ascending = False)\n",
    "\n",
    "display(mean_item_per_purchase)"
   ]
  },
  {
   "cell_type": "code",
   "execution_count": 144,
   "id": "6f73f01a",
   "metadata": {},
   "outputs": [
    {
     "data": {
      "image/png": "[encoded data removed]",
      "text/plain": [
       "<Figure size 432x288 with 1 Axes>"
      ]
     },
     "metadata": {
      "needs_background": "light"
     },
     "output_type": "display_data"
    }
   ],
   "source": [
    "shops_top10_mip = mean_item_per_purchase.head(10)\n",
    "plt.bar(shops_top10_mip['shop_id'], shops_top10_mip['mean_item_count'], color='#FF6347')\n",
    "plt.title('Топ-10 магазинов среднему количеству позиций в чеке')\n",
    "plt.xlabel('Номер магазина')\n",
    "plt.ylabel('Среднее количество позиций в чеке')\n",
    "plt.xticks(rotation=45, horizontalalignment='right')\n",
    "plt.show() \n"
   ]
  },
  {
   "cell_type": "code",
   "execution_count": 145,
   "id": "8b6e504f",
   "metadata": {},
   "outputs": [
    {
     "data": {
      "text/html": [
       "<div>\n",
       "<style scoped>\n",
       "    .dataframe tbody tr th:only-of-type {\n",
       "        vertical-align: middle;\n",
       "    }\n",
       "\n",
       "    .dataframe tbody tr th {\n",
       "        vertical-align: top;\n",
       "    }\n",
       "\n",
       "    .dataframe thead th {\n",
       "        text-align: right;\n",
       "    }\n",
       "</style>\n",
       "<table border=\"1\" class=\"dataframe\">\n",
       "  <thead>\n",
       "    <tr style=\"text-align: right;\">\n",
       "      <th></th>\n",
       "      <th>weekday</th>\n",
       "      <th>income</th>\n",
       "    </tr>\n",
       "  </thead>\n",
       "  <tbody>\n",
       "    <tr>\n",
       "      <th>5</th>\n",
       "      <td>Wednesday</td>\n",
       "      <td>590417.39</td>\n",
       "    </tr>\n",
       "    <tr>\n",
       "      <th>0</th>\n",
       "      <td>Friday</td>\n",
       "      <td>453496.40</td>\n",
       "    </tr>\n",
       "    <tr>\n",
       "      <th>3</th>\n",
       "      <td>Thursday</td>\n",
       "      <td>416460.97</td>\n",
       "    </tr>\n",
       "    <tr>\n",
       "      <th>2</th>\n",
       "      <td>Saturday</td>\n",
       "      <td>412388.82</td>\n",
       "    </tr>\n",
       "    <tr>\n",
       "      <th>4</th>\n",
       "      <td>Tuesday</td>\n",
       "      <td>384100.83</td>\n",
       "    </tr>\n",
       "    <tr>\n",
       "      <th>1</th>\n",
       "      <td>Monday</td>\n",
       "      <td>147249.19</td>\n",
       "    </tr>\n",
       "  </tbody>\n",
       "</table>\n",
       "</div>"
      ],
      "text/plain": [
       "     weekday    income\n",
       "5  Wednesday 590417.39\n",
       "0     Friday 453496.40\n",
       "3   Thursday 416460.97\n",
       "2   Saturday 412388.82\n",
       "4    Tuesday 384100.83\n",
       "1     Monday 147249.19"
      ]
     },
     "metadata": {},
     "output_type": "display_data"
    }
   ],
   "source": [
    "#изучим, в какие дни больше всего покупок - самая большая выручка\n",
    "retail_new_clean ['weekday'] = retail_new_clean ['purchase_date'].dt.day_name()\n",
    "\n",
    "#display (retail_new.head (10))\n",
    "weekday_income = retail_new_clean.groupby ('weekday')['income'].sum().reset_index ()\n",
    "weekday_income = weekday_income.sort_values (by = 'income', ascending = False)\n",
    "display (weekday_income)\n"
   ]
  },
  {
   "cell_type": "code",
   "execution_count": 146,
   "id": "bcd3b19b",
   "metadata": {},
   "outputs": [
    {
     "data": {
      "image/png": "[encoded data removed]",
      "text/plain": [
       "<Figure size 432x288 with 1 Axes>"
      ]
     },
     "metadata": {
      "needs_background": "light"
     },
     "output_type": "display_data"
    }
   ],
   "source": [
    "plt.bar(weekday_income['weekday'], weekday_income['income'], color='#FF7F50')\n",
    "plt.title('Распределение общего дохода по дням недели')\n",
    "plt.xlabel('День недели')\n",
    "plt.ylabel('Общая выручка')\n",
    "plt.xticks(rotation=45, horizontalalignment='right')\n",
    "plt.show() "
   ]
  },
  {
   "cell_type": "code",
   "execution_count": 147,
   "id": "a0144567",
   "metadata": {},
   "outputs": [
    {
     "data": {
      "text/html": [
       "<div>\n",
       "<style scoped>\n",
       "    .dataframe tbody tr th:only-of-type {\n",
       "        vertical-align: middle;\n",
       "    }\n",
       "\n",
       "    .dataframe tbody tr th {\n",
       "        vertical-align: top;\n",
       "    }\n",
       "\n",
       "    .dataframe thead th {\n",
       "        text-align: right;\n",
       "    }\n",
       "</style>\n",
       "<table border=\"1\" class=\"dataframe\">\n",
       "  <thead>\n",
       "    <tr style=\"text-align: right;\">\n",
       "      <th></th>\n",
       "      <th>weekday</th>\n",
       "      <th>mean_income</th>\n",
       "    </tr>\n",
       "  </thead>\n",
       "  <tbody>\n",
       "    <tr>\n",
       "      <th>5</th>\n",
       "      <td>Wednesday</td>\n",
       "      <td>923.97</td>\n",
       "    </tr>\n",
       "    <tr>\n",
       "      <th>2</th>\n",
       "      <td>Saturday</td>\n",
       "      <td>709.79</td>\n",
       "    </tr>\n",
       "    <tr>\n",
       "      <th>4</th>\n",
       "      <td>Tuesday</td>\n",
       "      <td>627.62</td>\n",
       "    </tr>\n",
       "    <tr>\n",
       "      <th>0</th>\n",
       "      <td>Friday</td>\n",
       "      <td>572.60</td>\n",
       "    </tr>\n",
       "    <tr>\n",
       "      <th>3</th>\n",
       "      <td>Thursday</td>\n",
       "      <td>571.28</td>\n",
       "    </tr>\n",
       "    <tr>\n",
       "      <th>1</th>\n",
       "      <td>Monday</td>\n",
       "      <td>412.46</td>\n",
       "    </tr>\n",
       "  </tbody>\n",
       "</table>\n",
       "</div>"
      ],
      "text/plain": [
       "     weekday  mean_income\n",
       "5  Wednesday       923.97\n",
       "2   Saturday       709.79\n",
       "4    Tuesday       627.62\n",
       "0     Friday       572.60\n",
       "3   Thursday       571.28\n",
       "1     Monday       412.46"
      ]
     },
     "metadata": {},
     "output_type": "display_data"
    }
   ],
   "source": [
    "#в какие дни недели самый высокий средний чек \n",
    "\n",
    "grouped_weekday_income = retail_new_clean.groupby(['purchase_id', 'weekday'])['income'].sum().reset_index()\n",
    "\n",
    "mean_income_per_weekday = grouped_weekday_income.groupby('weekday')['income'].mean().reset_index()\n",
    "mean_income_per_weekday.columns = ['weekday', 'mean_income']\n",
    "mean_income_per_weekday = mean_income_per_weekday.sort_values (by = 'mean_income', ascending = False)\n",
    "\n",
    "display(mean_income_per_weekday)"
   ]
  },
  {
   "cell_type": "code",
   "execution_count": 148,
   "id": "c0e63609",
   "metadata": {
    "scrolled": false
   },
   "outputs": [
    {
     "data": {
      "image/png": "[encoded data removed]",
      "text/plain": [
       "<Figure size 432x288 with 1 Axes>"
      ]
     },
     "metadata": {
      "needs_background": "light"
     },
     "output_type": "display_data"
    }
   ],
   "source": [
    "plt.bar(mean_income_per_weekday['weekday'], mean_income_per_weekday['mean_income'], color='#FF7F50')\n",
    "plt.title('Распределение среднего чека по дням недели')\n",
    "plt.xlabel('День недели')\n",
    "plt.ylabel('Средний чек')\n",
    "plt.xticks(rotation=45, horizontalalignment='right')\n",
    "plt.show() "
   ]
  },
  {
   "cell_type": "markdown",
   "id": "498ebcc6",
   "metadata": {},
   "source": [
    "<b>Вывод: </b>\n",
    "    \n",
    "Провели исследовательский анализ данных о продажах в строительном магазине: \n",
    "- топ магазинов по количество покупок: Shop 0 - 3383, Shop 4 - 79, Shop 1 - 70;\n",
    "- количество заказов доставки: 175;\n",
    "- топ-3 магазинов по общему доходу: Shop 0 - 1 967 824, 06, Shop 3 - 102 070,05, Shop 6 - 62 468, 20;\n",
    "- наиболее успешные магазины по количеству позиций в чеке: Shop 26 - 56, Shop 25 - 47, Shop 27 - 45, Shop 5 - 44,50;\n",
    "- распределение общего дохода по дням недели: самая большая выручка - в среду (590 417,39 р.), чуть меньше в пятницу (453 496.40 р.) и в четверг (416 460.97 р.);\n",
    "- наиболее высокий средений чек в разрезе по дням недели: в среду (923.97  р.), субботу (709.79  р.) и четверг (627.62 р.)."
   ]
  },
  {
   "cell_type": "markdown",
   "id": "68ec2080",
   "metadata": {},
   "source": [
    "### Часть 4. Решение основных вопросов заказчика\n",
    "\n",
    "1) Исследования количества покупок по карте лояльности и без.\n",
    "\n",
    "2) Исследование возратов по карте лояльности и без.\n",
    "\n",
    "3) Исследование повторных покупок у покупателей по карте лояльности и без.\n",
    "\n",
    "4) Исследование среднего чека покупок по карте лояльности и без. \n",
    "\n",
    "5) Количество общей выручки по картам лояльности и без."
   ]
  },
  {
   "cell_type": "code",
   "execution_count": 149,
   "id": "75839d48",
   "metadata": {},
   "outputs": [
    {
     "name": "stdout",
     "output_type": "stream",
     "text": [
      "Количество уникальных чеков/покупок: 3710\n",
      "Количество покупок по программе лояльности: 1120\n",
      "Процент покупок по программе лояльности: 30.19\n",
      "Процент покупок без карты лояльности: 69.81\n"
     ]
    }
   ],
   "source": [
    "# посчитаем количество покупок по уникальным чекам\n",
    "purchase_sum = retail_new_clean['purchase_id'].nunique()\n",
    "\n",
    "# посчитаем количество покупок по карте лояльности\n",
    "filtered_loyalty = retail_new_clean[retail_new_clean['loyalty_program'] == 1.0]\n",
    "filtered_non_loyalty = retail_new_clean[retail_new_clean['loyalty_program'] == 0.0]\n",
    "purchase_sum_loyalty = filtered_loyalty['purchase_id'].nunique()\n",
    "purchase_sum_non_loyalty = filtered_non_loyalty['purchase_id'].nunique()\n",
    "\n",
    "print('Количество уникальных чеков/покупок:', purchase_sum)\n",
    "print('Количество покупок по программе лояльности:', purchase_sum_loyalty) \n",
    "print('Процент покупок по программе лояльности:', round(purchase_sum_loyalty / purchase_sum * 100, 2)) \n",
    "print('Процент покупок без карты лояльности:', round(purchase_sum_non_loyalty / purchase_sum * 100, 2))"
   ]
  },
  {
   "cell_type": "code",
   "execution_count": 150,
   "id": "ed587846",
   "metadata": {},
   "outputs": [
    {
     "data": {
      "image/png": "[encoded data removed]",
      "text/plain": [
       "<Figure size 432x288 with 1 Axes>"
      ]
     },
     "metadata": {},
     "output_type": "display_data"
    }
   ],
   "source": [
    "pie_data = [purchase_sum_loyalty, purchase_sum - purchase_sum_loyalty]\n",
    "\n",
    "colors = ['#E6E6FA', '#4B0082']\n",
    "\n",
    "labels = ['По программе лояльности', 'Без программы лояльности']\n",
    "\n",
    "plt.pie(pie_data, colors=colors, labels=labels, autopct='%1.1f%%', startangle=90)\n",
    "\n",
    "plt.title('Доля покупок по карте лояльности и без')\n",
    "\n",
    "plt.show()"
   ]
  },
  {
   "cell_type": "code",
   "execution_count": 151,
   "id": "ca868394",
   "metadata": {},
   "outputs": [
    {
     "name": "stdout",
     "output_type": "stream",
     "text": [
      "Количество клиентов: 1671\n",
      "Количество клиентов по лояльной программе: 561\n",
      "Процент клиентов по программе лояльности: 33.57\n",
      "Процент клиентов без программы лояльности: 66.43\n"
     ]
    }
   ],
   "source": [
    "#посчитаем количество покупателей по карте лояльности и без\n",
    "customer_unique = retail_new_clean['customer_id'].nunique()\n",
    "customer_sum_loyalty = filtered_loyalty ['customer_id'].nunique()\n",
    "customer_sum_non_loyalty = filtered_non_loyalty ['customer_id'].nunique()\n",
    "\n",
    "\n",
    "print('Количество клиентов:', customer_unique)\n",
    "print('Количество клиентов по лояльной программе:', customer_sum_loyalty)\n",
    "print('Процент клиентов по программе лояльности:', round (customer_sum_loyalty/customer_unique*100,2))\n",
    "print('Процент клиентов без программы лояльности:', round (customer_sum_non_loyalty/customer_unique*100,2))\n"
   ]
  },
  {
   "cell_type": "code",
   "execution_count": 152,
   "id": "3e77107c",
   "metadata": {},
   "outputs": [
    {
     "data": {
      "image/png": "[encoded data removed]",
      "text/plain": [
       "<Figure size 432x288 with 1 Axes>"
      ]
     },
     "metadata": {},
     "output_type": "display_data"
    }
   ],
   "source": [
    "pie_customer_loyalty = [customer_sum_loyalty, customer_unique - customer_sum_loyalty]\n",
    "colors = ['#E6E6FA', '#4B0082']\n",
    "\n",
    "labels = ['По программе лояльности', 'Без программы лояльности']\n",
    "\n",
    "plt.pie(pie_customer_loyalty, colors=colors, labels=labels, autopct='%1.1f%%', startangle=90)\n",
    "\n",
    "plt.title('Доля покупателей по программе лояльности и без')\n",
    "\n",
    "plt.show()"
   ]
  },
  {
   "cell_type": "code",
   "execution_count": 153,
   "id": "3f5e7f88",
   "metadata": {},
   "outputs": [
    {
     "name": "stdout",
     "output_type": "stream",
     "text": [
      "Среднее количество покупок с участием в программе лояльности: 2.00\n",
      "Среднее количество покупок без участия в программе лояльности: 1.99\n"
     ]
    }
   ],
   "source": [
    "#исследование повторных покупок у покупателей по карте лояльности и без - как часто совершают повторные покупки по карте лояльности\n",
    "loyalty_program = retail_new_clean[retail_new_clean['loyalty_program'] == 1.0]\n",
    "non_loyalty_program = retail_new_clean[retail_new_clean['loyalty_program'] == 0.0]\n",
    "\n",
    "loyalty_grouped = loyalty_program.groupby('customer_id')['purchase_id'].nunique().reset_index()\n",
    "non_loyalty_grouped = non_loyalty_program.groupby('customer_id')['purchase_id'].nunique().reset_index()\n",
    "\n",
    "mean_purchases_loyalty = loyalty_grouped['purchase_id'].mean()\n",
    "mean_purchases_non_loyalty = non_loyalty_grouped['purchase_id'].mean()\n",
    "\n",
    "print(f\"Среднее количество покупок с участием в программе лояльности: {mean_purchases_loyalty:.2f}\")\n",
    "print(f\"Среднее количество покупок без участия в программе лояльности: {mean_purchases_non_loyalty:.2f}\")\n"
   ]
  },
  {
   "cell_type": "code",
   "execution_count": 154,
   "id": "3f5097ba",
   "metadata": {
    "scrolled": true
   },
   "outputs": [
    {
     "data": {
      "text/html": [
       "<div>\n",
       "<style scoped>\n",
       "    .dataframe tbody tr th:only-of-type {\n",
       "        vertical-align: middle;\n",
       "    }\n",
       "\n",
       "    .dataframe tbody tr th {\n",
       "        vertical-align: top;\n",
       "    }\n",
       "\n",
       "    .dataframe thead th {\n",
       "        text-align: right;\n",
       "    }\n",
       "</style>\n",
       "<table border=\"1\" class=\"dataframe\">\n",
       "  <thead>\n",
       "    <tr style=\"text-align: right;\">\n",
       "      <th></th>\n",
       "      <th>loyalty_program</th>\n",
       "      <th>income</th>\n",
       "    </tr>\n",
       "  </thead>\n",
       "  <tbody>\n",
       "    <tr>\n",
       "      <th>0</th>\n",
       "      <td>0.00</td>\n",
       "      <td>699.50</td>\n",
       "    </tr>\n",
       "    <tr>\n",
       "      <th>1</th>\n",
       "      <td>1.00</td>\n",
       "      <td>528.95</td>\n",
       "    </tr>\n",
       "  </tbody>\n",
       "</table>\n",
       "</div>"
      ],
      "text/plain": [
       "   loyalty_program  income\n",
       "0             0.00  699.50\n",
       "1             1.00  528.95"
      ]
     },
     "metadata": {},
     "output_type": "display_data"
    }
   ],
   "source": [
    "#исследование среднего чека покупок по карте лояльности и без \n",
    "\n",
    "\n",
    "total_purchase = retail_new_clean.groupby('purchase_id').agg({\n",
    "    'income': 'sum',\n",
    "    'loyalty_program': 'first',\n",
    "    'customer_id': 'first'\n",
    "})\n",
    "\n",
    "mean_bill_loyalty = total_purchase.groupby('loyalty_program').agg({'income': 'mean'}).reset_index()\n",
    "\n",
    "display(mean_bill_loyalty)"
   ]
  },
  {
   "cell_type": "code",
   "execution_count": 155,
   "id": "2f11ed8d",
   "metadata": {},
   "outputs": [
    {
     "data": {
      "image/png": "[encoded data removed]",
      "text/plain": [
       "<Figure size 432x288 with 1 Axes>"
      ]
     },
     "metadata": {
      "needs_background": "light"
     },
     "output_type": "display_data"
    }
   ],
   "source": [
    "fig, ax = plt.subplots()\n",
    "labels = ['Без карты лояльности', 'С картой лояльности']\n",
    "bars = ax.bar(mean_bill_loyalty['loyalty_program'], mean_bill_loyalty['income'], color='#FF7F50', tick_label=labels)\n",
    "ax.set_title('Количество общей выручки по картам лояльности и без')\n",
    "ax.set_xlabel('Наличие карты лояльности')\n",
    "ax.set_ylabel('Средний чек')\n",
    "plt.xticks(rotation=45, horizontalalignment='right')\n",
    "plt.show()"
   ]
  },
  {
   "cell_type": "code",
   "execution_count": 156,
   "id": "ac6254da",
   "metadata": {},
   "outputs": [
    {
     "data": {
      "text/html": [
       "<div>\n",
       "<style scoped>\n",
       "    .dataframe tbody tr th:only-of-type {\n",
       "        vertical-align: middle;\n",
       "    }\n",
       "\n",
       "    .dataframe tbody tr th {\n",
       "        vertical-align: top;\n",
       "    }\n",
       "\n",
       "    .dataframe thead th {\n",
       "        text-align: right;\n",
       "    }\n",
       "</style>\n",
       "<table border=\"1\" class=\"dataframe\">\n",
       "  <thead>\n",
       "    <tr style=\"text-align: right;\">\n",
       "      <th></th>\n",
       "      <th>loyalty_program</th>\n",
       "      <th>income</th>\n",
       "    </tr>\n",
       "  </thead>\n",
       "  <tbody>\n",
       "    <tr>\n",
       "      <th>0</th>\n",
       "      <td>0.00</td>\n",
       "      <td>1811692.80</td>\n",
       "    </tr>\n",
       "    <tr>\n",
       "      <th>1</th>\n",
       "      <td>1.00</td>\n",
       "      <td>592420.79</td>\n",
       "    </tr>\n",
       "  </tbody>\n",
       "</table>\n",
       "</div>"
      ],
      "text/plain": [
       "   loyalty_program     income\n",
       "0             0.00 1811692.80\n",
       "1             1.00  592420.79"
      ]
     },
     "metadata": {},
     "output_type": "display_data"
    }
   ],
   "source": [
    "#количество общей выручки по картам лояльности и без\n",
    "sum_bill_loyalty = total_purchase.groupby('loyalty_program').agg({'income': 'sum'}).reset_index ()\n",
    "display(sum_bill_loyalty)"
   ]
  },
  {
   "cell_type": "code",
   "execution_count": 157,
   "id": "f70bce3b",
   "metadata": {
    "scrolled": false
   },
   "outputs": [
    {
     "data": {
      "image/png": "[encoded data removed]",
      "text/plain": [
       "<Figure size 432x288 with 1 Axes>"
      ]
     },
     "metadata": {
      "needs_background": "light"
     },
     "output_type": "display_data"
    }
   ],
   "source": [
    "fig, ax = plt.subplots()\n",
    "labels = ['Без карты лояльности', 'С картой лояльности']\n",
    "bars = ax.bar(sum_bill_loyalty['loyalty_program'], sum_bill_loyalty['income'], color='#FF7F50', tick_label=labels)\n",
    "ax.set_title('Количество общей выручки по картам лояльности и без')\n",
    "ax.set_xlabel('Наличие карты лояльности')\n",
    "ax.set_ylabel('Общая выручка')\n",
    "plt.xticks(rotation=45, horizontalalignment='right')\n",
    "plt.show()"
   ]
  },
  {
   "cell_type": "code",
   "execution_count": 158,
   "id": "c5100276",
   "metadata": {},
   "outputs": [
    {
     "data": {
      "image/png": "[encoded data removed]",
      "text/plain": [
       "<Figure size 864x432 with 1 Axes>"
      ]
     },
     "metadata": {
      "needs_background": "light"
     },
     "output_type": "display_data"
    }
   ],
   "source": [
    "#рассчитаем кумулятивную выручку по каждой из групп\n",
    "\n",
    "loyalty_members = retail_new_clean[retail_new_clean['loyalty_program'] == 1.0]\n",
    "non_loyalty_members = retail_new_clean[retail_new_clean['loyalty_program'] == 0]\n",
    "loyalty_grouped = loyalty_members.groupby(['purchase_date', 'customer_id'])['income'].sum().reset_index()\n",
    "loyalty_grouped['income'] += 200\n",
    "loyalty_grouped = loyalty_grouped.groupby('purchase_date')['income'].sum()\n",
    "non_loyalty_grouped = non_loyalty_members.groupby('purchase_date')['income'].sum()\n",
    "\n",
    "cumulative_loyalty = np.cumsum(loyalty_grouped)\n",
    "cumulative_non_loyalty = np.cumsum(non_loyalty_grouped)\n",
    "\n",
    "# Построение графика LTV для каждой группы\n",
    "plt.figure(figsize=(12, 6))\n",
    "plt.plot(cumulative_loyalty.index, cumulative_loyalty.values, label='Участники программы лояльности')\n",
    "plt.plot(cumulative_non_loyalty.index, cumulative_non_loyalty.values, label='Неучастники программы лояльности')\n",
    "plt.xlabel('Дата покупки')\n",
    "plt.ylabel('Общая выручка')\n",
    "plt.title('Кумулятивная выручка')\n",
    "plt.legend()\n",
    "plt.show()"
   ]
  },
  {
   "cell_type": "code",
   "execution_count": 220,
   "id": "a16f0ea8",
   "metadata": {},
   "outputs": [
    {
     "name": "stdout",
     "output_type": "stream",
     "text": [
      "         group     NaN\n",
      "0      loyalty 1548.50\n",
      "1  non_loyalty 1508.65\n"
     ]
    }
   ],
   "source": [
    "def get_ltv(loyalty_group, non_loyalty_group, observation_date, horizon_days, dimensions=[]):    \n",
    "    \n",
    "    loyalty_group = loyalty_group.copy()\n",
    "    non_loyalty_group = non_loyalty_group.copy()\n",
    "\n",
    "    def calculate_ltv(group):\n",
    "        income_per_user = group.groupby('customer_id')['income'].sum()\n",
    "        mean_income = income_per_user.mean()\n",
    "        \n",
    "        if 'loyalty' in group['group'].unique():\n",
    "            mean_income += 200\n",
    "        purchase_count = group.groupby('customer_id')['purchase_id'].nunique()\n",
    "        mean_purchases = purchase_count.mean()\n",
    "        ltv = round(mean_income * mean_purchases, 2)\n",
    "\n",
    "        return ltv\n",
    "\n",
    "    # Добавляем новую колонку 'group' для каждого датафрейма\n",
    "    loyalty_group['group'] = 'loyalty'\n",
    "    non_loyalty_group['group'] = 'non_loyalty'\n",
    "\n",
    "    groups_common = pd.concat([loyalty_group, non_loyalty_group])\n",
    "\n",
    "    last_suitable_purchase_date = observation_date - timedelta(days=horizon_days - 1)\n",
    "    \n",
    "    result_raw = groups_common.query('purchase_date <= @last_suitable_purchase_date')\n",
    "    \n",
    "    if len(dimensions) == 0:\n",
    "        dimensions = ['group']\n",
    "    else:\n",
    "        dimensions = dimensions + ['group']\n",
    "\n",
    "    result_grouped = result_raw.groupby(dimensions, as_index=False).apply(calculate_ltv)\n",
    "  \n",
    "    return result_grouped\n",
    "\n",
    "observation_date = pd.to_datetime('2017-02-28')\n",
    "horizon_days = 60\n",
    "\n",
    "ltv_results = get_ltv(loyalty_members, non_loyalty_members, observation_date, horizon_days)\n",
    "\n",
    "print(ltv_results)"
   ]
  },
  {
   "cell_type": "markdown",
   "id": "a1beecfe",
   "metadata": {},
   "source": [
    "Вывод: LTV покупателей в разрезе 60 дней  по программе лояльности чуть выше, чем покупателей без карты лояльности. Соответственно, можно считать, что внедрение программы лояльности выгодно для бизнеса, и, возможно, в будущем будет приносить больше прибыли. "
   ]
  },
  {
   "cell_type": "markdown",
   "id": "2f147a26",
   "metadata": {},
   "source": [
    "\n",
    "Вывод: \n",
    "- Общее количество клиентов: 1671, из них по карте лояльности 33.57 %. Сложно оценить вовлеченность по этой цифре, посколько у нас нет информации о преиоде продаж карты лояльности, а также маркетинговых активностях, которые проводились для этого. \n",
    "- Общее количество уникальных чеков/покупок: 3710, из них 30.19% по карте лояльности. В целом процент покупок по карте лояльности чуть ниже, чем процент покупателей с картой лояльности. В целом - этоне самый хороший сигнал, получается, что люли с картой лояьности покупают реже. \n",
    "- Среднее количество покупок с участием в программе лояльности: 2.00. Среднее количество покупок без участия в программе лояльности: 1.99. Соответственно, отличается совсем не значительно. \n",
    "- Средний чек без карты лояльности - 699.5 р., по карте лояльности 528.95  р. Показатель, который говорит о том, что карта лояльности снижает средний чек. \n",
    "- Общий доход, который принесли магазины покупатели без карты лояльности - 1 811 692.80 р . , по карте лояльности 592 420.79 р. Разница, скорее всего обусловлена тем, что покупателей по карте лояльности - только терть. \n",
    "- График кусулятивной выручки также подтверждает, что покупатели без карты лояльности приносят больше прибыли, чем покупатели по карте лояльности. При этом необходимо учесть, что в расчете кумулятивной выручке учтена так же и стоимость самой карты лояльности, им даже в этой случае график покупателей с картой лояльности выглядит менее привклекательно. \n",
    "- Вывод: LTV покупателей в разрезе 60 дней  по программе лояльности чуть выше, чем покупателей без карты лояльности. Соответственно, можно считать, что внедрение программы лояльности выгодно для бизнеса, и, возможно, в будущем будет приносить больше прибыли. "
   ]
  },
  {
   "cell_type": "markdown",
   "id": "a83fdce6",
   "metadata": {},
   "source": [
    "### Часть 5.   Проверка статистических гипотез\n",
    "\n",
    "1) Cредний чек участников программы лояльности выше, чем у остальных покупателей. \n",
    "\n",
    "2) Покупатели по карте лояльности чаще возвращются в магазины, чем без."
   ]
  },
  {
   "cell_type": "markdown",
   "id": "4a83ba87",
   "metadata": {},
   "source": [
    "Нулевая гипотеза H0: Средний чек покупки по карте лояльности равен среднему чеку покупателя без карты лояльности.\n",
    "Альтернативной гипотезой H1 будем считать, что средний чек покупки по карте лояльности не равен среднему чеку покупателя без карты лояльности.\n",
    "\n",
    "Для проверки гипотезы будем использовать матод Манна-Уитни. "
   ]
  },
  {
   "cell_type": "code",
   "execution_count": 95,
   "id": "8ded2722",
   "metadata": {},
   "outputs": [
    {
     "name": "stdout",
     "output_type": "stream",
     "text": [
      "Не удалось отвергнуть нулевую гипотезу. Разница в средних чеках не является статистически значимой.\n"
     ]
    }
   ],
   "source": [
    "loyalty_bills = total_purchase[total_purchase['loyalty_program'] == 1]['income']\n",
    "no_loyalty_bills = total_purchase[total_purchase['loyalty_program'] == 0]['income']\n",
    "\n",
    "u_stat, p_value = stats.mannwhitneyu(loyalty_bills, no_loyalty_bills, alternative='greater')\n",
    "\n",
    "# Если p_value меньше 0.05, гипотеза о том, что средний чек участников программы лояльности выше, подтверждается.\n",
    "if p_value < 0.05:\n",
    "    print(\"Отвергаем нулевую гипотезу. Средний чек покупки по карте лояльности выше.\")\n",
    "else:\n",
    "    print(\"Не удалось отвергнуть нулевую гипотезу. Разница в средних чеках не является статистически значимой.\")\n"
   ]
  },
  {
   "cell_type": "markdown",
   "id": "c25a21d6",
   "metadata": {},
   "source": [
    "Нулевая гипотеза H0: доля повторных покупок среди покупателей с картой лояльности равна доле повторных покупок среди покупателей без карты лояльности.\n",
    "Альтернативная гипотеза H1: доля повторных покупок среди покупателей с картой лояльности выше, чем доля повторных покупок среди покупателей без карты лояльности."
   ]
  },
  {
   "cell_type": "code",
   "execution_count": 90,
   "id": "7ddc0858",
   "metadata": {},
   "outputs": [
    {
     "name": "stdout",
     "output_type": "stream",
     "text": [
      "Отвергаем нулевую гипотезу. Покупатели с картой лояльности чаще совершают повторные покупки.\n"
     ]
    }
   ],
   "source": [
    "customer_purchase = retail_new_clean.groupby(['customer_id', 'loyalty_program']).agg({'purchase_id': 'nunique'}).reset_index()\n",
    "\n",
    "\n",
    "customers_loyalty = customer_purchase[customer_purchase['loyalty_program'] == 1]\n",
    "customers_no_loyalty = customer_purchase[customer_purchase['loyalty_program'] == 0]\n",
    "\n",
    "customers_loyalty_rep = (customers_loyalty['purchase_id'] > 1).sum()\n",
    "customers_no_loyalty_rep = (customers_no_loyalty['purchase_id'] > 1).sum()\n",
    "\n",
    "count = [customers_loyalty_rep, customers_no_loyalty_rep]\n",
    "nobs = [len(customers_loyalty), len(customers_no_loyalty)]\n",
    "\n",
    "z_stat, p_value = proportions_ztest(count, nobs, alternative='larger')\n",
    "\n",
    "if p_value < 0.05:\n",
    "    print(\"Отвергаем нулевую гипотезу. Покупатели с картой лояльности чаще совершают повторные покупки.\")\n",
    "else:\n",
    "    print(\"Не удалось отвергнуть нулевую гипотезу. Доля повторных покупок примерно одинакова\")"
   ]
  },
  {
   "cell_type": "markdown",
   "id": "d993c13d",
   "metadata": {},
   "source": [
    "Вывод по проверке статистических гипотез: из результатов нашей статистической проверки можно сделать вывод, что при отсутствии разницы в средних чеках, покупатели с картой лояльности часще совершают повторные покупки. Соответственно, в будущем программа лояльности может стать весьма успешной в будущем. "
   ]
  },
  {
   "cell_type": "markdown",
   "id": "f77c41c7",
   "metadata": {},
   "source": [
    "### Общие выводы\n",
    "\n",
    "\n",
    "<b>Некоторые особенности данных в дата-сетах:</b> \n",
    "- не распреледелнная активность магазинов, больше всего продаж в Shop 0,\n",
    "- невысокий процент участников программы лояльности среди покупателей магазинов, \n",
    "- отсутствие точных данных о цене продажи товар;\n",
    "- отсутствие информации о доступных привелегиях по карте лояльности: скидки, подарки и тд;\n",
    "- неизвестно количество отаказов в приобритении карты лоряльности. \n",
    "\n",
    "<b>Основные выоводы по результатам работы карты лояльности: </b>\n",
    "По многим основынм важным показателям, например, среднему чеку, пользователи по карте лояльности незначительно устпуают пользователям без карты лояльности. Рассчет кумулятивной выручки также показывает, что покупатели без карты лояльности приносят больше прибыли, чем покупатели по карте лояльности. При этом необходимо учесть, что в ней учтена так же и стоимость самой карты лояльности, им даже в этой случае график покупателей с картой лояльности выглядит более плавным. \n",
    "\n",
    "Расчет LTV показал, что в среднем пользователи без карты лояльности приносят меньше дохода, чем пользователи по карте лояльности. Исходя из этого, следует сделать вывод, что на текущий момент - программа лояльности уже выгодня для бизнеса, однако разница пока не значительная и обеспечивается отчасти за счет продажти самой карты лояльности. \n",
    "\n",
    "Тем не менее, следует обратить на результаты статистической проверки.При отсутствии разницы в средних чеках, покупатели с картой лояльности часще совершают повторные покупки. Соответственно, в будущем программа лояльности может стать весьма успешной. \n",
    "\n",
    "<b> Общие рекомендации:</b>\n",
    "1. Продолжить эксперимент с внедрение карты лояльности и увеличить долю участников программы лояльности. \n",
    "2. Необходимо точнее учитываать стоимость проданного товара по реальной цене (возможны корреляции), а так же уточнить, нет ли скидок по карте лояльности. \n",
    "3. Усилить работу по увеличеению среднего чека покупателей с картой лояльности, скорее всего, в этом случае, доход от пользователей по карте лояльности будет занимать бОльшую долю. "
   ]
  },
  {
   "cell_type": "code",
   "execution_count": 101,
   "id": "b3d5c650",
   "metadata": {},
   "outputs": [],
   "source": [
    "#выгружаем файл для дальнейшего использования Tableu \n",
    "retail_new_clean.to_csv('retail_new_clean')"
   ]
  },
  {
   "cell_type": "markdown",
   "id": "495f83ca",
   "metadata": {},
   "source": [
    "Презентация: https://disk.yandex.ru/i/XREphY18ThMJEQ"
   ]
  },
  {
   "cell_type": "markdown",
   "id": "520b065d",
   "metadata": {},
   "source": [
    "Дашборд: https://public.tableau.com/app/profile/kseniya.sidunova/viz/___16817365931490/Dashboard1 "
   ]
  }
 ],
 "metadata": {
  "ExecuteTimeLog": [
   {
    "duration": 1267,
    "start_time": "2023-04-15T05:09:48.089Z"
   },
   {
    "duration": 178,
    "start_time": "2023-04-15T05:09:49.357Z"
   },
   {
    "duration": 0,
    "start_time": "2023-04-15T05:09:49.537Z"
   },
   {
    "duration": 0,
    "start_time": "2023-04-15T05:09:49.539Z"
   },
   {
    "duration": 0,
    "start_time": "2023-04-15T05:09:49.540Z"
   },
   {
    "duration": 0,
    "start_time": "2023-04-15T05:09:49.542Z"
   },
   {
    "duration": 0,
    "start_time": "2023-04-15T05:09:49.543Z"
   },
   {
    "duration": 0,
    "start_time": "2023-04-15T05:09:49.544Z"
   },
   {
    "duration": 0,
    "start_time": "2023-04-15T05:09:49.545Z"
   },
   {
    "duration": 0,
    "start_time": "2023-04-15T05:09:49.546Z"
   },
   {
    "duration": 0,
    "start_time": "2023-04-15T05:09:49.547Z"
   },
   {
    "duration": 0,
    "start_time": "2023-04-15T05:09:49.547Z"
   },
   {
    "duration": 0,
    "start_time": "2023-04-15T05:09:49.548Z"
   },
   {
    "duration": 0,
    "start_time": "2023-04-15T05:09:49.549Z"
   },
   {
    "duration": 0,
    "start_time": "2023-04-15T05:09:49.550Z"
   },
   {
    "duration": 0,
    "start_time": "2023-04-15T05:09:49.572Z"
   },
   {
    "duration": 0,
    "start_time": "2023-04-15T05:09:49.573Z"
   },
   {
    "duration": 0,
    "start_time": "2023-04-15T05:09:49.575Z"
   },
   {
    "duration": 0,
    "start_time": "2023-04-15T05:09:49.576Z"
   },
   {
    "duration": 0,
    "start_time": "2023-04-15T05:09:49.578Z"
   },
   {
    "duration": 0,
    "start_time": "2023-04-15T05:09:49.579Z"
   },
   {
    "duration": 0,
    "start_time": "2023-04-15T05:09:49.581Z"
   },
   {
    "duration": 0,
    "start_time": "2023-04-15T05:09:49.582Z"
   },
   {
    "duration": 0,
    "start_time": "2023-04-15T05:09:49.583Z"
   },
   {
    "duration": 0,
    "start_time": "2023-04-15T05:09:49.584Z"
   },
   {
    "duration": 0,
    "start_time": "2023-04-15T05:09:49.585Z"
   },
   {
    "duration": 0,
    "start_time": "2023-04-15T05:09:49.587Z"
   },
   {
    "duration": 0,
    "start_time": "2023-04-15T05:09:49.588Z"
   },
   {
    "duration": 0,
    "start_time": "2023-04-15T05:09:49.589Z"
   },
   {
    "duration": 0,
    "start_time": "2023-04-15T05:09:49.591Z"
   },
   {
    "duration": 0,
    "start_time": "2023-04-15T05:09:49.592Z"
   },
   {
    "duration": 0,
    "start_time": "2023-04-15T05:09:49.593Z"
   },
   {
    "duration": 0,
    "start_time": "2023-04-15T05:09:49.594Z"
   },
   {
    "duration": 0,
    "start_time": "2023-04-15T05:09:49.595Z"
   },
   {
    "duration": 0,
    "start_time": "2023-04-15T05:09:49.597Z"
   },
   {
    "duration": 0,
    "start_time": "2023-04-15T05:09:49.597Z"
   },
   {
    "duration": 0,
    "start_time": "2023-04-15T05:09:49.598Z"
   },
   {
    "duration": 1,
    "start_time": "2023-04-15T05:09:49.599Z"
   },
   {
    "duration": 0,
    "start_time": "2023-04-15T05:09:49.600Z"
   },
   {
    "duration": 0,
    "start_time": "2023-04-15T05:09:49.601Z"
   },
   {
    "duration": 0,
    "start_time": "2023-04-15T05:09:49.602Z"
   },
   {
    "duration": 0,
    "start_time": "2023-04-15T05:09:49.603Z"
   },
   {
    "duration": 0,
    "start_time": "2023-04-15T05:09:49.603Z"
   },
   {
    "duration": 447,
    "start_time": "2023-04-15T05:10:20.083Z"
   },
   {
    "duration": 46,
    "start_time": "2023-04-15T05:10:23.834Z"
   },
   {
    "duration": 99,
    "start_time": "2023-04-15T05:10:23.882Z"
   },
   {
    "duration": 184,
    "start_time": "2023-04-15T05:10:23.982Z"
   },
   {
    "duration": 0,
    "start_time": "2023-04-15T05:10:24.169Z"
   },
   {
    "duration": 0,
    "start_time": "2023-04-15T05:10:24.170Z"
   },
   {
    "duration": 0,
    "start_time": "2023-04-15T05:10:24.171Z"
   },
   {
    "duration": 0,
    "start_time": "2023-04-15T05:10:24.172Z"
   },
   {
    "duration": 0,
    "start_time": "2023-04-15T05:10:24.175Z"
   },
   {
    "duration": 1,
    "start_time": "2023-04-15T05:10:24.176Z"
   },
   {
    "duration": 0,
    "start_time": "2023-04-15T05:10:24.178Z"
   },
   {
    "duration": 0,
    "start_time": "2023-04-15T05:10:24.179Z"
   },
   {
    "duration": 0,
    "start_time": "2023-04-15T05:10:24.180Z"
   },
   {
    "duration": 0,
    "start_time": "2023-04-15T05:10:24.182Z"
   },
   {
    "duration": 0,
    "start_time": "2023-04-15T05:10:24.183Z"
   },
   {
    "duration": 0,
    "start_time": "2023-04-15T05:10:24.184Z"
   },
   {
    "duration": 0,
    "start_time": "2023-04-15T05:10:24.185Z"
   },
   {
    "duration": 0,
    "start_time": "2023-04-15T05:10:24.187Z"
   },
   {
    "duration": 0,
    "start_time": "2023-04-15T05:10:24.188Z"
   },
   {
    "duration": 0,
    "start_time": "2023-04-15T05:10:24.189Z"
   },
   {
    "duration": 0,
    "start_time": "2023-04-15T05:10:24.191Z"
   },
   {
    "duration": 0,
    "start_time": "2023-04-15T05:10:24.192Z"
   },
   {
    "duration": 0,
    "start_time": "2023-04-15T05:10:24.193Z"
   },
   {
    "duration": 0,
    "start_time": "2023-04-15T05:10:24.194Z"
   },
   {
    "duration": 0,
    "start_time": "2023-04-15T05:10:24.196Z"
   },
   {
    "duration": 0,
    "start_time": "2023-04-15T05:10:24.198Z"
   },
   {
    "duration": 0,
    "start_time": "2023-04-15T05:10:24.199Z"
   },
   {
    "duration": 0,
    "start_time": "2023-04-15T05:10:24.200Z"
   },
   {
    "duration": 0,
    "start_time": "2023-04-15T05:10:24.201Z"
   },
   {
    "duration": 0,
    "start_time": "2023-04-15T05:10:24.202Z"
   },
   {
    "duration": 0,
    "start_time": "2023-04-15T05:10:24.203Z"
   },
   {
    "duration": 0,
    "start_time": "2023-04-15T05:10:24.205Z"
   },
   {
    "duration": 0,
    "start_time": "2023-04-15T05:10:24.206Z"
   },
   {
    "duration": 0,
    "start_time": "2023-04-15T05:10:24.207Z"
   },
   {
    "duration": 0,
    "start_time": "2023-04-15T05:10:24.208Z"
   },
   {
    "duration": 0,
    "start_time": "2023-04-15T05:10:24.208Z"
   },
   {
    "duration": 0,
    "start_time": "2023-04-15T05:10:24.209Z"
   },
   {
    "duration": 0,
    "start_time": "2023-04-15T05:10:24.210Z"
   },
   {
    "duration": 0,
    "start_time": "2023-04-15T05:10:24.211Z"
   },
   {
    "duration": 0,
    "start_time": "2023-04-15T05:10:24.213Z"
   },
   {
    "duration": 0,
    "start_time": "2023-04-15T05:10:24.214Z"
   },
   {
    "duration": 0,
    "start_time": "2023-04-15T05:10:24.272Z"
   },
   {
    "duration": 0,
    "start_time": "2023-04-15T05:10:24.273Z"
   },
   {
    "duration": 0,
    "start_time": "2023-04-15T05:10:24.274Z"
   },
   {
    "duration": 119,
    "start_time": "2023-04-15T05:11:18.639Z"
   },
   {
    "duration": 10,
    "start_time": "2023-04-15T05:11:21.869Z"
   },
   {
    "duration": 7,
    "start_time": "2023-04-15T05:11:21.880Z"
   },
   {
    "duration": 48,
    "start_time": "2023-04-15T05:11:21.888Z"
   },
   {
    "duration": 114,
    "start_time": "2023-04-15T05:11:21.937Z"
   },
   {
    "duration": 20,
    "start_time": "2023-04-15T05:11:22.053Z"
   },
   {
    "duration": 9,
    "start_time": "2023-04-15T05:11:22.074Z"
   },
   {
    "duration": 8,
    "start_time": "2023-04-15T05:11:22.084Z"
   },
   {
    "duration": 28798,
    "start_time": "2023-04-15T05:11:22.093Z"
   },
   {
    "duration": 13,
    "start_time": "2023-04-15T05:11:50.893Z"
   },
   {
    "duration": 50,
    "start_time": "2023-04-15T05:11:50.907Z"
   },
   {
    "duration": 32,
    "start_time": "2023-04-15T05:11:50.959Z"
   },
   {
    "duration": 150,
    "start_time": "2023-04-15T05:11:50.992Z"
   },
   {
    "duration": 18,
    "start_time": "2023-04-15T05:11:51.143Z"
   },
   {
    "duration": 16,
    "start_time": "2023-04-15T05:11:51.173Z"
   },
   {
    "duration": 156,
    "start_time": "2023-04-15T05:11:51.190Z"
   },
   {
    "duration": 25,
    "start_time": "2023-04-15T05:11:51.347Z"
   },
   {
    "duration": 11,
    "start_time": "2023-04-15T05:11:51.373Z"
   },
   {
    "duration": 24,
    "start_time": "2023-04-15T05:11:51.385Z"
   },
   {
    "duration": 148,
    "start_time": "2023-04-15T05:11:51.411Z"
   },
   {
    "duration": 23,
    "start_time": "2023-04-15T05:11:51.561Z"
   },
   {
    "duration": 43,
    "start_time": "2023-04-15T05:11:51.586Z"
   },
   {
    "duration": 143,
    "start_time": "2023-04-15T05:11:51.631Z"
   },
   {
    "duration": 42,
    "start_time": "2023-04-15T05:11:51.775Z"
   },
   {
    "duration": 137,
    "start_time": "2023-04-15T05:11:51.819Z"
   },
   {
    "duration": 35,
    "start_time": "2023-04-15T05:11:51.958Z"
   },
   {
    "duration": 109,
    "start_time": "2023-04-15T05:11:51.994Z"
   },
   {
    "duration": 19,
    "start_time": "2023-04-15T05:11:52.104Z"
   },
   {
    "duration": 88,
    "start_time": "2023-04-15T05:11:52.124Z"
   },
   {
    "duration": 7,
    "start_time": "2023-04-15T05:11:52.214Z"
   },
   {
    "duration": 83,
    "start_time": "2023-04-15T05:11:52.223Z"
   },
   {
    "duration": 10,
    "start_time": "2023-04-15T05:11:52.307Z"
   },
   {
    "duration": 88,
    "start_time": "2023-04-15T05:11:52.318Z"
   },
   {
    "duration": 48,
    "start_time": "2023-04-15T05:11:52.408Z"
   },
   {
    "duration": 25,
    "start_time": "2023-04-15T05:11:52.471Z"
   },
   {
    "duration": 116,
    "start_time": "2023-04-15T05:11:52.498Z"
   },
   {
    "duration": 8,
    "start_time": "2023-04-15T05:11:52.616Z"
   },
   {
    "duration": 137,
    "start_time": "2023-04-15T05:11:52.626Z"
   },
   {
    "duration": 10,
    "start_time": "2023-04-15T05:11:52.765Z"
   },
   {
    "duration": 41,
    "start_time": "2023-04-15T05:11:52.777Z"
   },
   {
    "duration": 1091,
    "start_time": "2023-04-15T05:11:52.820Z"
   },
   {
    "duration": 9,
    "start_time": "2023-04-15T05:12:22.749Z"
   },
   {
    "duration": 3,
    "start_time": "2023-04-15T05:12:33.309Z"
   },
   {
    "duration": 4,
    "start_time": "2023-04-15T05:12:44.917Z"
   },
   {
    "duration": 108,
    "start_time": "2023-04-15T16:26:28.411Z"
   },
   {
    "duration": 1821,
    "start_time": "2023-04-15T16:26:41.054Z"
   },
   {
    "duration": 2000,
    "start_time": "2023-04-15T16:26:42.880Z"
   },
   {
    "duration": 149,
    "start_time": "2023-04-15T16:35:54.824Z"
   },
   {
    "duration": 3235,
    "start_time": "2023-04-15T16:48:39.832Z"
   },
   {
    "duration": 1347,
    "start_time": "2023-04-15T16:49:11.250Z"
   },
   {
    "duration": 223,
    "start_time": "2023-04-15T16:50:07.871Z"
   },
   {
    "duration": 194,
    "start_time": "2023-04-15T16:50:32.747Z"
   },
   {
    "duration": 19,
    "start_time": "2023-04-15T16:52:33.634Z"
   },
   {
    "duration": 5,
    "start_time": "2023-04-15T16:53:03.922Z"
   },
   {
    "duration": 190,
    "start_time": "2023-04-15T16:53:04.571Z"
   },
   {
    "duration": 92,
    "start_time": "2023-04-15T16:53:06.269Z"
   },
   {
    "duration": 54,
    "start_time": "2023-04-15T16:53:06.716Z"
   },
   {
    "duration": 89,
    "start_time": "2023-04-15T16:53:07.075Z"
   },
   {
    "duration": 19,
    "start_time": "2023-04-15T16:53:07.429Z"
   },
   {
    "duration": 10,
    "start_time": "2023-04-15T16:53:07.776Z"
   },
   {
    "duration": 86,
    "start_time": "2023-04-15T16:54:40.015Z"
   },
   {
    "duration": 19,
    "start_time": "2023-04-15T16:54:40.915Z"
   },
   {
    "duration": 16,
    "start_time": "2023-04-15T16:54:41.615Z"
   },
   {
    "duration": 71,
    "start_time": "2023-04-15T16:54:44.011Z"
   },
   {
    "duration": 213,
    "start_time": "2023-04-15T16:54:44.349Z"
   },
   {
    "duration": 14,
    "start_time": "2023-04-15T16:54:45.039Z"
   },
   {
    "duration": 12,
    "start_time": "2023-04-15T16:54:46.652Z"
   },
   {
    "duration": 7,
    "start_time": "2023-04-15T16:54:47.550Z"
   },
   {
    "duration": 36,
    "start_time": "2023-04-15T16:59:59.420Z"
   },
   {
    "duration": 14,
    "start_time": "2023-04-15T16:59:59.461Z"
   },
   {
    "duration": 91297,
    "start_time": "2023-04-15T16:59:59.477Z"
   },
   {
    "duration": 9,
    "start_time": "2023-04-15T17:12:33.978Z"
   },
   {
    "duration": 11,
    "start_time": "2023-04-15T17:19:34.920Z"
   },
   {
    "duration": 25,
    "start_time": "2023-04-15T17:19:52.007Z"
   },
   {
    "duration": 116,
    "start_time": "2023-04-15T17:20:03.434Z"
   },
   {
    "duration": 13,
    "start_time": "2023-04-15T17:20:04.047Z"
   },
   {
    "duration": 11,
    "start_time": "2023-04-15T17:20:05.222Z"
   },
   {
    "duration": 11,
    "start_time": "2023-04-15T17:20:05.811Z"
   },
   {
    "duration": 81200,
    "start_time": "2023-04-15T17:20:06.316Z"
   },
   {
    "duration": 10,
    "start_time": "2023-04-15T17:21:27.521Z"
   },
   {
    "duration": 21,
    "start_time": "2023-04-15T17:21:27.534Z"
   },
   {
    "duration": 78,
    "start_time": "2023-04-15T17:21:27.557Z"
   },
   {
    "duration": 14,
    "start_time": "2023-04-15T17:21:27.638Z"
   },
   {
    "duration": 47,
    "start_time": "2023-04-15T17:24:59.059Z"
   },
   {
    "duration": 19,
    "start_time": "2023-04-15T17:28:12.812Z"
   },
   {
    "duration": 12,
    "start_time": "2023-04-15T17:28:19.019Z"
   },
   {
    "duration": 22,
    "start_time": "2023-04-15T17:28:33.007Z"
   },
   {
    "duration": 29,
    "start_time": "2023-04-15T17:29:46.963Z"
   },
   {
    "duration": 21,
    "start_time": "2023-04-15T17:29:53.826Z"
   },
   {
    "duration": 11,
    "start_time": "2023-04-15T17:40:03.622Z"
   },
   {
    "duration": 9,
    "start_time": "2023-04-15T17:40:14.923Z"
   },
   {
    "duration": 12,
    "start_time": "2023-04-15T17:40:33.817Z"
   },
   {
    "duration": 13,
    "start_time": "2023-04-15T17:52:29.147Z"
   },
   {
    "duration": 4,
    "start_time": "2023-04-15T17:52:45.723Z"
   },
   {
    "duration": 5,
    "start_time": "2023-04-15T17:53:02.119Z"
   },
   {
    "duration": 12,
    "start_time": "2023-04-15T17:55:25.939Z"
   },
   {
    "duration": 6,
    "start_time": "2023-04-15T17:55:38.143Z"
   },
   {
    "duration": 5,
    "start_time": "2023-04-15T17:56:03.229Z"
   },
   {
    "duration": 14,
    "start_time": "2023-04-15T17:56:32.528Z"
   },
   {
    "duration": 18,
    "start_time": "2023-04-15T17:57:06.714Z"
   },
   {
    "duration": 12,
    "start_time": "2023-04-15T18:01:12.023Z"
   },
   {
    "duration": 24,
    "start_time": "2023-04-15T18:01:17.531Z"
   },
   {
    "duration": 105,
    "start_time": "2023-04-15T18:01:18.626Z"
   },
   {
    "duration": 9,
    "start_time": "2023-04-15T18:02:27.336Z"
   },
   {
    "duration": 119,
    "start_time": "2023-04-15T18:02:28.366Z"
   },
   {
    "duration": 17,
    "start_time": "2023-04-15T18:16:30.328Z"
   },
   {
    "duration": 14,
    "start_time": "2023-04-15T18:18:51.419Z"
   },
   {
    "duration": 14,
    "start_time": "2023-04-15T18:19:08.065Z"
   },
   {
    "duration": 41,
    "start_time": "2023-04-15T18:20:10.503Z"
   },
   {
    "duration": 39,
    "start_time": "2023-04-15T18:20:25.912Z"
   },
   {
    "duration": 33,
    "start_time": "2023-04-15T18:20:36.014Z"
   },
   {
    "duration": 300,
    "start_time": "2023-04-15T18:25:28.256Z"
   },
   {
    "duration": 29,
    "start_time": "2023-04-15T18:25:38.342Z"
   },
   {
    "duration": 27,
    "start_time": "2023-04-15T18:33:57.442Z"
   },
   {
    "duration": 8,
    "start_time": "2023-04-15T18:34:04.209Z"
   },
   {
    "duration": 23,
    "start_time": "2023-04-15T18:34:33.845Z"
   },
   {
    "duration": 9,
    "start_time": "2023-04-15T18:34:58.945Z"
   },
   {
    "duration": 49,
    "start_time": "2023-04-15T18:48:51.450Z"
   },
   {
    "duration": 162,
    "start_time": "2023-04-15T18:49:25.228Z"
   },
   {
    "duration": 12,
    "start_time": "2023-04-15T18:49:37.271Z"
   },
   {
    "duration": 176,
    "start_time": "2023-04-15T18:49:39.081Z"
   },
   {
    "duration": 55,
    "start_time": "2023-04-15T18:49:50.582Z"
   },
   {
    "duration": 61,
    "start_time": "2023-04-15T18:49:53.219Z"
   },
   {
    "duration": 44,
    "start_time": "2023-04-15T18:49:53.857Z"
   },
   {
    "duration": 15,
    "start_time": "2023-04-15T18:49:54.538Z"
   },
   {
    "duration": 12,
    "start_time": "2023-04-15T18:49:55.243Z"
   },
   {
    "duration": 161,
    "start_time": "2023-04-15T18:49:56.328Z"
   },
   {
    "duration": 63,
    "start_time": "2023-04-15T18:50:11.473Z"
   },
   {
    "duration": 265,
    "start_time": "2023-04-15T18:50:12.050Z"
   },
   {
    "duration": 23,
    "start_time": "2023-04-15T18:50:12.657Z"
   },
   {
    "duration": 26,
    "start_time": "2023-04-15T18:50:13.322Z"
   },
   {
    "duration": 289,
    "start_time": "2023-04-15T18:50:13.875Z"
   },
   {
    "duration": 36,
    "start_time": "2023-04-15T18:50:14.543Z"
   },
   {
    "duration": 19,
    "start_time": "2023-04-15T18:50:15.079Z"
   },
   {
    "duration": 27,
    "start_time": "2023-04-15T18:50:15.734Z"
   },
   {
    "duration": 273,
    "start_time": "2023-04-15T18:50:16.139Z"
   },
   {
    "duration": 42,
    "start_time": "2023-04-15T18:50:16.740Z"
   },
   {
    "duration": 95,
    "start_time": "2023-04-15T18:50:17.323Z"
   },
   {
    "duration": 266,
    "start_time": "2023-04-15T18:50:17.960Z"
   },
   {
    "duration": 82,
    "start_time": "2023-04-15T18:50:18.469Z"
   },
   {
    "duration": 263,
    "start_time": "2023-04-15T18:50:22.859Z"
   },
   {
    "duration": 81,
    "start_time": "2023-04-15T18:50:24.764Z"
   },
   {
    "duration": 228,
    "start_time": "2023-04-15T18:50:25.765Z"
   },
   {
    "duration": 39,
    "start_time": "2023-04-15T18:50:29.568Z"
   },
   {
    "duration": 121,
    "start_time": "2023-04-15T18:50:30.318Z"
   },
   {
    "duration": 19,
    "start_time": "2023-04-15T18:50:31.045Z"
   },
   {
    "duration": 145,
    "start_time": "2023-04-15T18:50:31.844Z"
   },
   {
    "duration": 31,
    "start_time": "2023-04-15T18:50:33.032Z"
   },
   {
    "duration": 89,
    "start_time": "2023-04-15T18:50:36.070Z"
   },
   {
    "duration": 53,
    "start_time": "2023-04-15T18:50:36.760Z"
   },
   {
    "duration": 165,
    "start_time": "2023-04-15T18:50:37.350Z"
   },
   {
    "duration": 24,
    "start_time": "2023-04-15T18:50:38.019Z"
   },
   {
    "duration": 201,
    "start_time": "2023-04-15T18:50:38.581Z"
   },
   {
    "duration": 335,
    "start_time": "2023-04-15T18:51:36.773Z"
   },
   {
    "duration": 401,
    "start_time": "2023-04-15T18:52:06.530Z"
   },
   {
    "duration": 160,
    "start_time": "2023-04-15T18:52:24.040Z"
   },
   {
    "duration": 92,
    "start_time": "2023-04-15T19:12:22.069Z"
   },
   {
    "duration": 27,
    "start_time": "2023-04-15T19:13:44.430Z"
   },
   {
    "duration": 32,
    "start_time": "2023-04-15T19:16:05.719Z"
   },
   {
    "duration": 27,
    "start_time": "2023-04-15T19:17:29.647Z"
   },
   {
    "duration": 11,
    "start_time": "2023-04-15T19:21:51.124Z"
   },
   {
    "duration": 7,
    "start_time": "2023-04-15T19:22:04.019Z"
   },
   {
    "duration": 20,
    "start_time": "2023-04-15T19:42:31.924Z"
   },
   {
    "duration": 47,
    "start_time": "2023-04-16T19:34:28.581Z"
   },
   {
    "duration": 1468,
    "start_time": "2023-04-16T19:36:33.402Z"
   },
   {
    "duration": 476,
    "start_time": "2023-04-16T19:36:34.872Z"
   },
   {
    "duration": 47,
    "start_time": "2023-04-16T19:36:35.349Z"
   },
   {
    "duration": 25,
    "start_time": "2023-04-16T19:36:35.555Z"
   },
   {
    "duration": 123,
    "start_time": "2023-04-16T19:36:35.975Z"
   },
   {
    "duration": 21,
    "start_time": "2023-04-16T19:36:37.133Z"
   },
   {
    "duration": 7,
    "start_time": "2023-04-16T19:36:37.748Z"
   },
   {
    "duration": 51,
    "start_time": "2023-04-16T19:36:39.071Z"
   },
   {
    "duration": 107,
    "start_time": "2023-04-16T19:36:39.658Z"
   },
   {
    "duration": 13,
    "start_time": "2023-04-16T19:36:40.139Z"
   },
   {
    "duration": 11,
    "start_time": "2023-04-16T19:36:41.325Z"
   },
   {
    "duration": 6,
    "start_time": "2023-04-16T19:36:41.846Z"
   },
   {
    "duration": 67028,
    "start_time": "2023-04-16T19:36:42.625Z"
   },
   {
    "duration": 8,
    "start_time": "2023-04-16T19:37:49.655Z"
   },
   {
    "duration": 36,
    "start_time": "2023-04-16T19:37:49.665Z"
   },
   {
    "duration": 28,
    "start_time": "2023-04-16T19:37:49.704Z"
   },
   {
    "duration": 63,
    "start_time": "2023-04-16T19:37:49.734Z"
   },
   {
    "duration": 17,
    "start_time": "2023-04-16T19:37:49.798Z"
   },
   {
    "duration": 34,
    "start_time": "2023-04-16T19:37:49.817Z"
   },
   {
    "duration": 81,
    "start_time": "2023-04-16T19:37:49.853Z"
   },
   {
    "duration": 0,
    "start_time": "2023-04-16T19:37:49.936Z"
   },
   {
    "duration": 0,
    "start_time": "2023-04-16T19:37:49.937Z"
   },
   {
    "duration": 0,
    "start_time": "2023-04-16T19:37:49.938Z"
   },
   {
    "duration": 0,
    "start_time": "2023-04-16T19:37:49.939Z"
   },
   {
    "duration": 27,
    "start_time": "2023-04-16T19:38:35.625Z"
   },
   {
    "duration": 9,
    "start_time": "2023-04-16T19:38:37.625Z"
   },
   {
    "duration": 4,
    "start_time": "2023-04-16T19:38:39.340Z"
   },
   {
    "duration": 5,
    "start_time": "2023-04-16T19:38:59.017Z"
   },
   {
    "duration": 3,
    "start_time": "2023-04-16T19:39:02.663Z"
   },
   {
    "duration": 34,
    "start_time": "2023-04-16T19:39:04.525Z"
   },
   {
    "duration": 26,
    "start_time": "2023-04-16T19:39:05.742Z"
   },
   {
    "duration": 28,
    "start_time": "2023-04-16T19:39:39.337Z"
   },
   {
    "duration": 198,
    "start_time": "2023-04-16T19:39:44.113Z"
   },
   {
    "duration": 21,
    "start_time": "2023-04-16T19:40:53.238Z"
   },
   {
    "duration": 163,
    "start_time": "2023-04-16T19:41:08.126Z"
   },
   {
    "duration": 21,
    "start_time": "2023-04-16T19:41:08.817Z"
   },
   {
    "duration": 21,
    "start_time": "2023-04-16T19:41:59.856Z"
   },
   {
    "duration": 21,
    "start_time": "2023-04-16T19:42:15.258Z"
   },
   {
    "duration": 21,
    "start_time": "2023-04-16T19:42:31.237Z"
   },
   {
    "duration": 29,
    "start_time": "2023-04-16T19:49:34.826Z"
   },
   {
    "duration": 5,
    "start_time": "2023-04-16T19:49:59.310Z"
   },
   {
    "duration": 140,
    "start_time": "2023-04-16T19:49:59.919Z"
   },
   {
    "duration": 52,
    "start_time": "2023-04-16T19:50:01.409Z"
   },
   {
    "duration": 24,
    "start_time": "2023-04-16T19:50:01.665Z"
   },
   {
    "duration": 224,
    "start_time": "2023-04-16T19:50:02.109Z"
   },
   {
    "duration": 11,
    "start_time": "2023-04-16T19:50:02.838Z"
   },
   {
    "duration": 8,
    "start_time": "2023-04-16T19:50:03.221Z"
   },
   {
    "duration": 51,
    "start_time": "2023-04-16T19:50:04.317Z"
   },
   {
    "duration": 106,
    "start_time": "2023-04-16T19:50:04.733Z"
   },
   {
    "duration": 12,
    "start_time": "2023-04-16T19:50:05.147Z"
   },
   {
    "duration": 12,
    "start_time": "2023-04-16T19:50:06.067Z"
   },
   {
    "duration": 6,
    "start_time": "2023-04-16T19:50:06.509Z"
   },
   {
    "duration": 67480,
    "start_time": "2023-04-16T19:50:06.867Z"
   },
   {
    "duration": 8,
    "start_time": "2023-04-16T19:51:14.348Z"
   },
   {
    "duration": 9,
    "start_time": "2023-04-16T19:51:14.358Z"
   },
   {
    "duration": 15,
    "start_time": "2023-04-16T19:51:14.369Z"
   },
   {
    "duration": 60,
    "start_time": "2023-04-16T19:51:14.386Z"
   },
   {
    "duration": 14,
    "start_time": "2023-04-16T19:51:14.447Z"
   },
   {
    "duration": 23,
    "start_time": "2023-04-16T19:51:14.462Z"
   },
   {
    "duration": 19,
    "start_time": "2023-04-16T19:51:14.487Z"
   },
   {
    "duration": 28,
    "start_time": "2023-04-16T19:51:14.508Z"
   },
   {
    "duration": 12,
    "start_time": "2023-04-16T19:51:14.538Z"
   },
   {
    "duration": 28,
    "start_time": "2023-04-16T19:51:14.551Z"
   },
   {
    "duration": 21,
    "start_time": "2023-04-16T19:51:14.581Z"
   },
   {
    "duration": 44,
    "start_time": "2023-04-16T19:51:14.603Z"
   },
   {
    "duration": 166,
    "start_time": "2023-04-16T19:51:14.649Z"
   },
   {
    "duration": 30,
    "start_time": "2023-04-16T19:51:14.817Z"
   },
   {
    "duration": 20,
    "start_time": "2023-04-16T19:52:25.717Z"
   },
   {
    "duration": 13,
    "start_time": "2023-04-16T19:52:36.377Z"
   },
   {
    "duration": 22,
    "start_time": "2023-04-16T19:53:06.751Z"
   },
   {
    "duration": 162,
    "start_time": "2023-04-16T19:53:19.563Z"
   },
   {
    "duration": 24,
    "start_time": "2023-04-16T19:54:22.530Z"
   },
   {
    "duration": 19,
    "start_time": "2023-04-16T20:03:35.364Z"
   },
   {
    "duration": 21,
    "start_time": "2023-04-16T20:18:44.227Z"
   },
   {
    "duration": 23,
    "start_time": "2023-04-16T20:18:49.365Z"
   },
   {
    "duration": 185,
    "start_time": "2023-04-16T20:18:51.534Z"
   },
   {
    "duration": 20,
    "start_time": "2023-04-16T20:18:53.014Z"
   },
   {
    "duration": 20,
    "start_time": "2023-04-16T20:18:56.318Z"
   },
   {
    "duration": 160,
    "start_time": "2023-04-16T20:18:59.534Z"
   },
   {
    "duration": 20,
    "start_time": "2023-04-16T20:19:01.877Z"
   },
   {
    "duration": 15,
    "start_time": "2023-04-16T20:19:24.777Z"
   },
   {
    "duration": 7,
    "start_time": "2023-04-16T20:19:42.710Z"
   },
   {
    "duration": 14,
    "start_time": "2023-04-16T20:21:21.952Z"
   },
   {
    "duration": 20,
    "start_time": "2023-04-16T20:21:44.402Z"
   },
   {
    "duration": 11,
    "start_time": "2023-04-16T20:22:07.189Z"
   },
   {
    "duration": 160,
    "start_time": "2023-04-16T20:22:21.740Z"
   },
   {
    "duration": 21,
    "start_time": "2023-04-16T20:22:22.377Z"
   },
   {
    "duration": 14,
    "start_time": "2023-04-16T20:22:23.142Z"
   },
   {
    "duration": 5,
    "start_time": "2023-04-16T20:24:16.066Z"
   },
   {
    "duration": 160,
    "start_time": "2023-04-16T20:24:16.650Z"
   },
   {
    "duration": 47,
    "start_time": "2023-04-16T20:24:18.522Z"
   },
   {
    "duration": 22,
    "start_time": "2023-04-16T20:24:19.130Z"
   },
   {
    "duration": 157,
    "start_time": "2023-04-16T20:24:20.056Z"
   },
   {
    "duration": 11,
    "start_time": "2023-04-16T20:24:21.068Z"
   },
   {
    "duration": 6,
    "start_time": "2023-04-16T20:24:21.550Z"
   },
   {
    "duration": 43,
    "start_time": "2023-04-16T20:24:23.573Z"
   },
   {
    "duration": 88,
    "start_time": "2023-04-16T20:24:25.459Z"
   },
   {
    "duration": 11,
    "start_time": "2023-04-16T20:24:30.210Z"
   },
   {
    "duration": 12,
    "start_time": "2023-04-16T20:24:32.236Z"
   },
   {
    "duration": 5,
    "start_time": "2023-04-16T20:24:32.866Z"
   },
   {
    "duration": 73009,
    "start_time": "2023-04-16T20:24:33.802Z"
   },
   {
    "duration": 23,
    "start_time": "2023-04-16T20:25:46.814Z"
   },
   {
    "duration": 9,
    "start_time": "2023-04-16T20:25:46.840Z"
   },
   {
    "duration": 32,
    "start_time": "2023-04-16T20:25:46.853Z"
   },
   {
    "duration": 71,
    "start_time": "2023-04-16T20:25:46.887Z"
   },
   {
    "duration": 17,
    "start_time": "2023-04-16T20:25:46.960Z"
   },
   {
    "duration": 44,
    "start_time": "2023-04-16T20:25:46.979Z"
   },
   {
    "duration": 22,
    "start_time": "2023-04-16T20:25:47.033Z"
   },
   {
    "duration": 7,
    "start_time": "2023-04-16T20:25:47.057Z"
   },
   {
    "duration": 5,
    "start_time": "2023-04-16T20:25:47.067Z"
   },
   {
    "duration": 45,
    "start_time": "2023-04-16T20:25:47.074Z"
   },
   {
    "duration": 23,
    "start_time": "2023-04-16T20:25:47.135Z"
   },
   {
    "duration": 26,
    "start_time": "2023-04-16T20:25:47.160Z"
   },
   {
    "duration": 226,
    "start_time": "2023-04-16T20:25:47.188Z"
   },
   {
    "duration": 28,
    "start_time": "2023-04-16T20:25:47.416Z"
   },
   {
    "duration": 16,
    "start_time": "2023-04-16T20:25:47.446Z"
   },
   {
    "duration": 0,
    "start_time": "2023-04-16T20:25:47.464Z"
   },
   {
    "duration": 0,
    "start_time": "2023-04-16T20:25:47.467Z"
   },
   {
    "duration": 0,
    "start_time": "2023-04-16T20:25:47.468Z"
   },
   {
    "duration": 0,
    "start_time": "2023-04-16T20:25:47.470Z"
   },
   {
    "duration": 0,
    "start_time": "2023-04-16T20:25:47.471Z"
   },
   {
    "duration": 0,
    "start_time": "2023-04-16T20:25:47.473Z"
   },
   {
    "duration": 0,
    "start_time": "2023-04-16T20:25:47.475Z"
   },
   {
    "duration": 0,
    "start_time": "2023-04-16T20:25:47.476Z"
   },
   {
    "duration": 67,
    "start_time": "2023-04-16T20:25:56.810Z"
   },
   {
    "duration": 10,
    "start_time": "2023-04-16T20:25:58.219Z"
   },
   {
    "duration": 20,
    "start_time": "2023-04-16T20:33:41.699Z"
   },
   {
    "duration": 31,
    "start_time": "2023-04-16T20:33:45.468Z"
   },
   {
    "duration": 180,
    "start_time": "2023-04-16T20:33:46.537Z"
   },
   {
    "duration": 9,
    "start_time": "2023-04-16T20:34:59.221Z"
   },
   {
    "duration": 18,
    "start_time": "2023-04-16T20:36:35.569Z"
   },
   {
    "duration": 14,
    "start_time": "2023-04-16T20:36:42.707Z"
   },
   {
    "duration": 199,
    "start_time": "2023-04-16T20:36:44.163Z"
   },
   {
    "duration": 11,
    "start_time": "2023-04-16T20:37:26.818Z"
   },
   {
    "duration": 12,
    "start_time": "2023-04-16T20:38:03.305Z"
   },
   {
    "duration": 23,
    "start_time": "2023-04-16T20:39:10.408Z"
   },
   {
    "duration": 17,
    "start_time": "2023-04-16T20:39:19.970Z"
   },
   {
    "duration": 160,
    "start_time": "2023-04-16T20:39:34.575Z"
   },
   {
    "duration": 16,
    "start_time": "2023-04-16T20:39:36.446Z"
   },
   {
    "duration": 13,
    "start_time": "2023-04-16T20:39:41.836Z"
   },
   {
    "duration": 34,
    "start_time": "2023-04-16T20:45:47.837Z"
   },
   {
    "duration": 3,
    "start_time": "2023-04-16T20:46:16.007Z"
   },
   {
    "duration": 29,
    "start_time": "2023-04-16T20:46:16.910Z"
   },
   {
    "duration": 16,
    "start_time": "2023-04-16T20:46:50.776Z"
   },
   {
    "duration": 25,
    "start_time": "2023-04-16T20:47:01.301Z"
   },
   {
    "duration": 27,
    "start_time": "2023-04-16T20:47:05.007Z"
   },
   {
    "duration": 166,
    "start_time": "2023-04-16T20:47:08.060Z"
   },
   {
    "duration": 25,
    "start_time": "2023-04-16T20:47:34.632Z"
   },
   {
    "duration": 9,
    "start_time": "2023-04-16T20:55:29.408Z"
   },
   {
    "duration": 10,
    "start_time": "2023-04-16T20:58:19.289Z"
   },
   {
    "duration": 18,
    "start_time": "2023-04-16T20:58:42.006Z"
   },
   {
    "duration": 14,
    "start_time": "2023-04-16T20:59:01.542Z"
   },
   {
    "duration": 10,
    "start_time": "2023-04-16T20:59:18.285Z"
   },
   {
    "duration": 8,
    "start_time": "2023-04-16T21:00:33.227Z"
   },
   {
    "duration": 61,
    "start_time": "2023-04-16T21:01:07.956Z"
   },
   {
    "duration": 12,
    "start_time": "2023-04-16T21:01:13.251Z"
   },
   {
    "duration": 10,
    "start_time": "2023-04-16T21:01:15.678Z"
   },
   {
    "duration": 175,
    "start_time": "2023-04-16T21:01:24.053Z"
   },
   {
    "duration": 18,
    "start_time": "2023-04-16T21:01:39.163Z"
   },
   {
    "duration": 17,
    "start_time": "2023-04-16T21:01:46.786Z"
   },
   {
    "duration": 9,
    "start_time": "2023-04-16T21:02:10.152Z"
   },
   {
    "duration": 9,
    "start_time": "2023-04-16T21:02:17.493Z"
   },
   {
    "duration": 20,
    "start_time": "2023-04-16T21:02:35.878Z"
   },
   {
    "duration": 177,
    "start_time": "2023-04-16T21:02:37.629Z"
   },
   {
    "duration": 28,
    "start_time": "2023-04-16T21:02:39.810Z"
   },
   {
    "duration": 21,
    "start_time": "2023-04-16T21:02:51.463Z"
   },
   {
    "duration": 50,
    "start_time": "2023-04-16T21:02:52.716Z"
   },
   {
    "duration": 38,
    "start_time": "2023-04-16T21:03:05.240Z"
   },
   {
    "duration": 146,
    "start_time": "2023-04-16T21:03:14.470Z"
   },
   {
    "duration": 62,
    "start_time": "2023-04-16T21:03:16.832Z"
   },
   {
    "duration": 143,
    "start_time": "2023-04-16T21:03:18.007Z"
   },
   {
    "duration": 32,
    "start_time": "2023-04-16T21:03:19.055Z"
   },
   {
    "duration": 16,
    "start_time": "2023-04-16T21:03:38.011Z"
   },
   {
    "duration": 130,
    "start_time": "2023-04-16T21:03:39.019Z"
   },
   {
    "duration": 36,
    "start_time": "2023-04-16T21:04:24.386Z"
   },
   {
    "duration": 131,
    "start_time": "2023-04-16T21:04:25.380Z"
   },
   {
    "duration": 29,
    "start_time": "2023-04-16T21:05:00.572Z"
   },
   {
    "duration": 28,
    "start_time": "2023-04-16T21:05:27.237Z"
   },
   {
    "duration": 89,
    "start_time": "2023-04-16T21:05:29.610Z"
   },
   {
    "duration": 7,
    "start_time": "2023-04-16T21:05:46.297Z"
   },
   {
    "duration": 12,
    "start_time": "2023-04-16T21:06:12.053Z"
   },
   {
    "duration": 47,
    "start_time": "2023-04-16T21:06:20.075Z"
   },
   {
    "duration": 40,
    "start_time": "2023-04-16T21:07:09.619Z"
   },
   {
    "duration": 103,
    "start_time": "2023-04-16T21:07:18.065Z"
   },
   {
    "duration": 10,
    "start_time": "2023-04-16T21:07:28.271Z"
   },
   {
    "duration": 11,
    "start_time": "2023-04-16T21:07:39.201Z"
   },
   {
    "duration": 23,
    "start_time": "2023-04-16T21:10:22.043Z"
   },
   {
    "duration": 29,
    "start_time": "2023-04-16T21:11:06.371Z"
   },
   {
    "duration": 58,
    "start_time": "2023-04-16T21:14:02.918Z"
   },
   {
    "duration": 141,
    "start_time": "2023-04-16T21:14:08.237Z"
   },
   {
    "duration": 180,
    "start_time": "2023-04-16T21:17:35.658Z"
   },
   {
    "duration": 1127,
    "start_time": "2023-04-16T21:26:11.409Z"
   },
   {
    "duration": 53,
    "start_time": "2023-04-17T04:08:45.532Z"
   },
   {
    "duration": 1399,
    "start_time": "2023-04-17T04:08:52.974Z"
   },
   {
    "duration": 213,
    "start_time": "2023-04-17T04:08:54.375Z"
   },
   {
    "duration": 47,
    "start_time": "2023-04-17T04:08:54.589Z"
   },
   {
    "duration": 35,
    "start_time": "2023-04-17T04:08:54.638Z"
   },
   {
    "duration": 90,
    "start_time": "2023-04-17T04:08:54.807Z"
   },
   {
    "duration": 10,
    "start_time": "2023-04-17T04:08:55.295Z"
   },
   {
    "duration": 6,
    "start_time": "2023-04-17T04:08:55.638Z"
   },
   {
    "duration": 53,
    "start_time": "2023-04-17T04:08:56.555Z"
   },
   {
    "duration": 110,
    "start_time": "2023-04-17T04:08:59.014Z"
   },
   {
    "duration": 10,
    "start_time": "2023-04-17T04:08:59.227Z"
   },
   {
    "duration": 15,
    "start_time": "2023-04-17T04:09:00.106Z"
   },
   {
    "duration": 6,
    "start_time": "2023-04-17T04:09:00.391Z"
   },
   {
    "duration": 68964,
    "start_time": "2023-04-17T04:09:00.635Z"
   },
   {
    "duration": 10,
    "start_time": "2023-04-17T04:10:09.601Z"
   },
   {
    "duration": 18,
    "start_time": "2023-04-17T04:10:09.613Z"
   },
   {
    "duration": 41,
    "start_time": "2023-04-17T04:10:09.633Z"
   },
   {
    "duration": 48,
    "start_time": "2023-04-17T04:10:09.676Z"
   },
   {
    "duration": 42,
    "start_time": "2023-04-17T04:10:09.726Z"
   },
   {
    "duration": 37,
    "start_time": "2023-04-17T04:10:09.773Z"
   },
   {
    "duration": 21,
    "start_time": "2023-04-17T04:10:09.811Z"
   },
   {
    "duration": 6,
    "start_time": "2023-04-17T04:10:09.833Z"
   },
   {
    "duration": 20,
    "start_time": "2023-04-17T04:10:09.841Z"
   },
   {
    "duration": 110,
    "start_time": "2023-04-17T04:10:09.866Z"
   },
   {
    "duration": 28,
    "start_time": "2023-04-17T04:12:34.004Z"
   },
   {
    "duration": 103,
    "start_time": "2023-04-17T04:47:53.001Z"
   },
   {
    "duration": 13,
    "start_time": "2023-04-17T04:47:53.109Z"
   },
   {
    "duration": 22,
    "start_time": "2023-04-17T04:47:56.742Z"
   },
   {
    "duration": 8,
    "start_time": "2023-04-17T04:47:57.293Z"
   },
   {
    "duration": 74854,
    "start_time": "2023-04-17T04:47:57.681Z"
   },
   {
    "duration": 26,
    "start_time": "2023-04-17T04:49:12.537Z"
   },
   {
    "duration": 27,
    "start_time": "2023-04-17T04:49:12.571Z"
   },
   {
    "duration": 22,
    "start_time": "2023-04-17T04:49:12.610Z"
   },
   {
    "duration": 24,
    "start_time": "2023-04-17T04:49:12.753Z"
   },
   {
    "duration": 0,
    "start_time": "2023-04-17T04:49:12.785Z"
   },
   {
    "duration": 0,
    "start_time": "2023-04-17T04:49:12.789Z"
   },
   {
    "duration": 0,
    "start_time": "2023-04-17T04:49:12.792Z"
   },
   {
    "duration": 0,
    "start_time": "2023-04-17T04:49:12.794Z"
   },
   {
    "duration": 0,
    "start_time": "2023-04-17T04:49:12.796Z"
   },
   {
    "duration": 0,
    "start_time": "2023-04-17T04:49:12.798Z"
   },
   {
    "duration": 0,
    "start_time": "2023-04-17T04:49:12.800Z"
   },
   {
    "duration": 0,
    "start_time": "2023-04-17T04:49:12.804Z"
   },
   {
    "duration": 0,
    "start_time": "2023-04-17T04:49:12.805Z"
   },
   {
    "duration": 0,
    "start_time": "2023-04-17T04:49:12.808Z"
   },
   {
    "duration": 0,
    "start_time": "2023-04-17T04:49:12.811Z"
   },
   {
    "duration": 0,
    "start_time": "2023-04-17T04:49:12.858Z"
   },
   {
    "duration": 0,
    "start_time": "2023-04-17T04:49:12.860Z"
   },
   {
    "duration": 0,
    "start_time": "2023-04-17T04:49:12.868Z"
   },
   {
    "duration": 0,
    "start_time": "2023-04-17T04:49:12.870Z"
   },
   {
    "duration": 0,
    "start_time": "2023-04-17T04:49:12.872Z"
   },
   {
    "duration": 0,
    "start_time": "2023-04-17T04:49:12.874Z"
   },
   {
    "duration": 0,
    "start_time": "2023-04-17T04:49:12.876Z"
   },
   {
    "duration": 0,
    "start_time": "2023-04-17T04:49:12.878Z"
   },
   {
    "duration": 0,
    "start_time": "2023-04-17T04:49:12.880Z"
   },
   {
    "duration": 0,
    "start_time": "2023-04-17T04:49:12.882Z"
   },
   {
    "duration": 0,
    "start_time": "2023-04-17T04:49:12.885Z"
   },
   {
    "duration": 4,
    "start_time": "2023-04-17T04:53:14.933Z"
   },
   {
    "duration": 169,
    "start_time": "2023-04-17T04:53:15.128Z"
   },
   {
    "duration": 42,
    "start_time": "2023-04-17T04:53:15.791Z"
   },
   {
    "duration": 30,
    "start_time": "2023-04-17T04:53:15.969Z"
   },
   {
    "duration": 74,
    "start_time": "2023-04-17T04:53:16.156Z"
   },
   {
    "duration": 11,
    "start_time": "2023-04-17T04:53:16.585Z"
   },
   {
    "duration": 6,
    "start_time": "2023-04-17T04:53:16.787Z"
   },
   {
    "duration": 54,
    "start_time": "2023-04-17T04:53:17.488Z"
   },
   {
    "duration": 104,
    "start_time": "2023-04-17T04:53:17.686Z"
   },
   {
    "duration": 12,
    "start_time": "2023-04-17T04:53:17.918Z"
   },
   {
    "duration": 12,
    "start_time": "2023-04-17T04:53:18.298Z"
   },
   {
    "duration": 5,
    "start_time": "2023-04-17T04:53:18.518Z"
   },
   {
    "duration": 74001,
    "start_time": "2023-04-17T04:53:18.725Z"
   },
   {
    "duration": 10,
    "start_time": "2023-04-17T04:54:32.728Z"
   },
   {
    "duration": 33,
    "start_time": "2023-04-17T04:54:32.741Z"
   },
   {
    "duration": 21,
    "start_time": "2023-04-17T04:54:32.787Z"
   },
   {
    "duration": 74,
    "start_time": "2023-04-17T04:54:32.811Z"
   },
   {
    "duration": 17,
    "start_time": "2023-04-17T04:54:32.889Z"
   },
   {
    "duration": 29,
    "start_time": "2023-04-17T04:54:32.908Z"
   },
   {
    "duration": 52,
    "start_time": "2023-04-17T04:54:32.939Z"
   },
   {
    "duration": 8,
    "start_time": "2023-04-17T04:54:32.993Z"
   },
   {
    "duration": 11,
    "start_time": "2023-04-17T04:54:33.004Z"
   },
   {
    "duration": 30,
    "start_time": "2023-04-17T04:54:33.017Z"
   },
   {
    "duration": 38,
    "start_time": "2023-04-17T04:54:33.048Z"
   },
   {
    "duration": 205,
    "start_time": "2023-04-17T04:54:33.087Z"
   },
   {
    "duration": 16,
    "start_time": "2023-04-17T04:54:33.294Z"
   },
   {
    "duration": 0,
    "start_time": "2023-04-17T04:54:33.312Z"
   },
   {
    "duration": 0,
    "start_time": "2023-04-17T04:54:33.313Z"
   },
   {
    "duration": 0,
    "start_time": "2023-04-17T04:54:33.314Z"
   },
   {
    "duration": 0,
    "start_time": "2023-04-17T04:54:33.315Z"
   },
   {
    "duration": 0,
    "start_time": "2023-04-17T04:54:33.316Z"
   },
   {
    "duration": 0,
    "start_time": "2023-04-17T04:54:33.318Z"
   },
   {
    "duration": 0,
    "start_time": "2023-04-17T04:54:33.319Z"
   },
   {
    "duration": 0,
    "start_time": "2023-04-17T04:54:33.319Z"
   },
   {
    "duration": 0,
    "start_time": "2023-04-17T04:54:33.320Z"
   },
   {
    "duration": 0,
    "start_time": "2023-04-17T04:54:33.321Z"
   },
   {
    "duration": 0,
    "start_time": "2023-04-17T04:54:33.322Z"
   },
   {
    "duration": 0,
    "start_time": "2023-04-17T04:54:33.323Z"
   },
   {
    "duration": 0,
    "start_time": "2023-04-17T04:54:33.324Z"
   },
   {
    "duration": 27,
    "start_time": "2023-04-17T05:04:02.804Z"
   },
   {
    "duration": 178,
    "start_time": "2023-04-17T05:04:03.719Z"
   },
   {
    "duration": 24,
    "start_time": "2023-04-17T05:04:04.863Z"
   },
   {
    "duration": 21,
    "start_time": "2023-04-17T05:04:06.001Z"
   },
   {
    "duration": 12,
    "start_time": "2023-04-17T05:04:07.033Z"
   },
   {
    "duration": 10,
    "start_time": "2023-04-17T05:04:08.697Z"
   },
   {
    "duration": 4,
    "start_time": "2023-04-17T05:04:16.748Z"
   },
   {
    "duration": 124,
    "start_time": "2023-04-17T05:04:17.801Z"
   },
   {
    "duration": 56,
    "start_time": "2023-04-17T05:04:21.387Z"
   },
   {
    "duration": 29,
    "start_time": "2023-04-17T05:04:22.383Z"
   },
   {
    "duration": 73,
    "start_time": "2023-04-17T05:04:23.341Z"
   },
   {
    "duration": 12,
    "start_time": "2023-04-17T05:04:25.487Z"
   },
   {
    "duration": 6,
    "start_time": "2023-04-17T05:04:26.296Z"
   },
   {
    "duration": 50,
    "start_time": "2023-04-17T05:04:28.943Z"
   },
   {
    "duration": 94,
    "start_time": "2023-04-17T05:04:31.086Z"
   },
   {
    "duration": 11,
    "start_time": "2023-04-17T05:04:32.391Z"
   },
   {
    "duration": 12,
    "start_time": "2023-04-17T05:04:34.292Z"
   },
   {
    "duration": 6,
    "start_time": "2023-04-17T05:04:35.519Z"
   },
   {
    "duration": 73881,
    "start_time": "2023-04-17T05:04:36.516Z"
   },
   {
    "duration": 13,
    "start_time": "2023-04-17T05:05:50.399Z"
   },
   {
    "duration": 10,
    "start_time": "2023-04-17T05:08:47.889Z"
   },
   {
    "duration": 23,
    "start_time": "2023-04-17T05:08:51.819Z"
   },
   {
    "duration": 44,
    "start_time": "2023-04-17T05:08:53.573Z"
   },
   {
    "duration": 26,
    "start_time": "2023-04-17T05:08:54.754Z"
   },
   {
    "duration": 30,
    "start_time": "2023-04-17T05:08:56.869Z"
   },
   {
    "duration": 24,
    "start_time": "2023-04-17T05:08:57.774Z"
   },
   {
    "duration": 9,
    "start_time": "2023-04-17T05:08:58.542Z"
   },
   {
    "duration": 5,
    "start_time": "2023-04-17T05:08:59.401Z"
   },
   {
    "duration": 23,
    "start_time": "2023-04-17T05:09:01.701Z"
   },
   {
    "duration": 24,
    "start_time": "2023-04-17T05:09:06.217Z"
   },
   {
    "duration": 177,
    "start_time": "2023-04-17T05:09:07.234Z"
   },
   {
    "duration": 19,
    "start_time": "2023-04-17T05:09:08.561Z"
   },
   {
    "duration": 10,
    "start_time": "2023-04-17T05:09:10.402Z"
   },
   {
    "duration": 25,
    "start_time": "2023-04-17T05:11:12.523Z"
   },
   {
    "duration": 28,
    "start_time": "2023-04-17T05:11:15.341Z"
   },
   {
    "duration": 190,
    "start_time": "2023-04-17T05:11:16.293Z"
   },
   {
    "duration": 24,
    "start_time": "2023-04-17T05:11:16.906Z"
   },
   {
    "duration": 16,
    "start_time": "2023-04-17T05:11:17.703Z"
   },
   {
    "duration": 161,
    "start_time": "2023-04-17T05:11:18.297Z"
   },
   {
    "duration": 16,
    "start_time": "2023-04-17T05:11:18.995Z"
   },
   {
    "duration": 13,
    "start_time": "2023-04-17T05:11:29.783Z"
   },
   {
    "duration": 22,
    "start_time": "2023-04-17T05:11:30.513Z"
   },
   {
    "duration": 194,
    "start_time": "2023-04-17T05:11:31.115Z"
   },
   {
    "duration": 19,
    "start_time": "2023-04-17T05:11:31.773Z"
   },
   {
    "duration": 47,
    "start_time": "2023-04-17T05:11:32.439Z"
   },
   {
    "duration": 169,
    "start_time": "2023-04-17T05:11:33.079Z"
   },
   {
    "duration": 51,
    "start_time": "2023-04-17T05:11:33.875Z"
   },
   {
    "duration": 192,
    "start_time": "2023-04-17T05:11:34.557Z"
   },
   {
    "duration": 26,
    "start_time": "2023-04-17T05:11:35.310Z"
   },
   {
    "duration": 130,
    "start_time": "2023-04-17T05:11:35.964Z"
   },
   {
    "duration": 21,
    "start_time": "2023-04-17T05:21:37.145Z"
   },
   {
    "duration": 125,
    "start_time": "2023-04-17T05:21:38.079Z"
   },
   {
    "duration": 9,
    "start_time": "2023-04-17T05:21:38.977Z"
   },
   {
    "duration": 96,
    "start_time": "2023-04-17T05:21:39.811Z"
   },
   {
    "duration": 17,
    "start_time": "2023-04-17T05:21:40.610Z"
   },
   {
    "duration": 27,
    "start_time": "2023-04-17T05:23:20.449Z"
   },
   {
    "duration": 20,
    "start_time": "2023-04-17T05:25:35.222Z"
   },
   {
    "duration": 17,
    "start_time": "2023-04-17T05:26:10.434Z"
   },
   {
    "duration": 16,
    "start_time": "2023-04-17T05:26:33.021Z"
   },
   {
    "duration": 16,
    "start_time": "2023-04-17T05:27:46.529Z"
   },
   {
    "duration": 34,
    "start_time": "2023-04-17T05:30:27.176Z"
   },
   {
    "duration": 19,
    "start_time": "2023-04-17T05:30:35.555Z"
   },
   {
    "duration": 1350,
    "start_time": "2023-04-17T07:49:30.346Z"
   },
   {
    "duration": 206,
    "start_time": "2023-04-17T07:49:31.698Z"
   },
   {
    "duration": 49,
    "start_time": "2023-04-17T07:49:36.418Z"
   },
   {
    "duration": 26,
    "start_time": "2023-04-17T07:49:38.141Z"
   },
   {
    "duration": 80,
    "start_time": "2023-04-17T07:49:39.542Z"
   },
   {
    "duration": 11,
    "start_time": "2023-04-17T07:49:41.761Z"
   },
   {
    "duration": 7,
    "start_time": "2023-04-17T07:49:42.868Z"
   },
   {
    "duration": 43,
    "start_time": "2023-04-17T07:49:47.460Z"
   },
   {
    "duration": 109,
    "start_time": "2023-04-17T07:49:48.878Z"
   },
   {
    "duration": 12,
    "start_time": "2023-04-17T07:49:50.737Z"
   },
   {
    "duration": 12,
    "start_time": "2023-04-17T07:49:54.523Z"
   },
   {
    "duration": 6,
    "start_time": "2023-04-17T07:49:56.248Z"
   },
   {
    "duration": 68335,
    "start_time": "2023-04-17T07:49:57.908Z"
   },
   {
    "duration": 10,
    "start_time": "2023-04-17T07:51:57.858Z"
   },
   {
    "duration": 15,
    "start_time": "2023-04-17T07:51:58.845Z"
   },
   {
    "duration": 15,
    "start_time": "2023-04-17T07:52:03.418Z"
   },
   {
    "duration": 57,
    "start_time": "2023-04-17T07:52:13.148Z"
   },
   {
    "duration": 15,
    "start_time": "2023-04-17T07:52:15.022Z"
   },
   {
    "duration": 34,
    "start_time": "2023-04-17T07:52:16.448Z"
   },
   {
    "duration": 20,
    "start_time": "2023-04-17T07:52:17.674Z"
   },
   {
    "duration": 6,
    "start_time": "2023-04-17T07:52:18.677Z"
   },
   {
    "duration": 5,
    "start_time": "2023-04-17T07:52:19.630Z"
   },
   {
    "duration": 24,
    "start_time": "2023-04-17T07:52:41.130Z"
   },
   {
    "duration": 109,
    "start_time": "2023-04-17T07:52:45.739Z"
   },
   {
    "duration": 10,
    "start_time": "2023-04-17T07:52:47.122Z"
   },
   {
    "duration": 35,
    "start_time": "2023-04-17T07:53:02.214Z"
   },
   {
    "duration": 171,
    "start_time": "2023-04-17T07:53:07.726Z"
   },
   {
    "duration": 26,
    "start_time": "2023-04-17T07:53:13.028Z"
   },
   {
    "duration": 15,
    "start_time": "2023-04-17T07:53:15.034Z"
   },
   {
    "duration": 10,
    "start_time": "2023-04-17T07:53:16.285Z"
   },
   {
    "duration": 21,
    "start_time": "2023-04-17T07:54:06.538Z"
   },
   {
    "duration": 11,
    "start_time": "2023-04-17T07:54:07.714Z"
   },
   {
    "duration": 12,
    "start_time": "2023-04-17T07:54:17.949Z"
   },
   {
    "duration": 58,
    "start_time": "2023-04-17T07:56:30.244Z"
   },
   {
    "duration": 29,
    "start_time": "2023-04-17T07:56:41.731Z"
   },
   {
    "duration": 203,
    "start_time": "2023-04-17T07:56:43.137Z"
   },
   {
    "duration": 23,
    "start_time": "2023-04-17T07:57:14.422Z"
   },
   {
    "duration": 16,
    "start_time": "2023-04-17T07:57:15.631Z"
   },
   {
    "duration": 214,
    "start_time": "2023-04-17T07:57:16.749Z"
   },
   {
    "duration": 19,
    "start_time": "2023-04-17T08:45:01.017Z"
   },
   {
    "duration": 8,
    "start_time": "2023-04-17T08:45:03.453Z"
   },
   {
    "duration": 16,
    "start_time": "2023-04-17T08:45:04.419Z"
   },
   {
    "duration": 184,
    "start_time": "2023-04-17T08:45:05.609Z"
   },
   {
    "duration": 26,
    "start_time": "2023-04-17T08:45:06.677Z"
   },
   {
    "duration": 42,
    "start_time": "2023-04-17T08:45:08.559Z"
   },
   {
    "duration": 160,
    "start_time": "2023-04-17T08:45:09.509Z"
   },
   {
    "duration": 38,
    "start_time": "2023-04-17T08:45:10.550Z"
   },
   {
    "duration": 136,
    "start_time": "2023-04-17T08:45:11.550Z"
   },
   {
    "duration": 28,
    "start_time": "2023-04-17T08:45:12.522Z"
   },
   {
    "duration": 132,
    "start_time": "2023-04-17T08:45:13.350Z"
   },
   {
    "duration": 20,
    "start_time": "2023-04-17T08:45:18.576Z"
   },
   {
    "duration": 88,
    "start_time": "2023-04-17T08:45:19.492Z"
   },
   {
    "duration": 8,
    "start_time": "2023-04-17T08:45:20.531Z"
   },
   {
    "duration": 91,
    "start_time": "2023-04-17T08:45:21.363Z"
   },
   {
    "duration": 17,
    "start_time": "2023-04-17T08:45:22.338Z"
   },
   {
    "duration": 29,
    "start_time": "2023-04-17T08:50:49.929Z"
   },
   {
    "duration": 26,
    "start_time": "2023-04-17T08:53:06.299Z"
   },
   {
    "duration": 23,
    "start_time": "2023-04-17T08:54:20.631Z"
   },
   {
    "duration": 98,
    "start_time": "2023-04-17T08:54:22.875Z"
   },
   {
    "duration": 8,
    "start_time": "2023-04-17T08:54:27.501Z"
   },
   {
    "duration": 94,
    "start_time": "2023-04-17T08:54:28.652Z"
   },
   {
    "duration": 32,
    "start_time": "2023-04-17T08:54:39.511Z"
   },
   {
    "duration": 19,
    "start_time": "2023-04-17T08:55:26.777Z"
   },
   {
    "duration": 29,
    "start_time": "2023-04-17T08:55:47.079Z"
   },
   {
    "duration": 28,
    "start_time": "2023-04-17T09:00:16.771Z"
   },
   {
    "duration": 40,
    "start_time": "2023-04-17T09:02:19.837Z"
   },
   {
    "duration": 30,
    "start_time": "2023-04-17T09:04:30.115Z"
   },
   {
    "duration": 34,
    "start_time": "2023-04-17T09:05:25.154Z"
   },
   {
    "duration": 30,
    "start_time": "2023-04-17T09:06:26.360Z"
   },
   {
    "duration": 97,
    "start_time": "2023-04-17T09:06:45.803Z"
   },
   {
    "duration": 8,
    "start_time": "2023-04-17T09:06:48.111Z"
   },
   {
    "duration": 84,
    "start_time": "2023-04-17T09:06:50.603Z"
   },
   {
    "duration": 23,
    "start_time": "2023-04-17T09:07:04.305Z"
   },
   {
    "duration": 15,
    "start_time": "2023-04-17T09:09:09.362Z"
   },
   {
    "duration": 83,
    "start_time": "2023-04-17T09:09:17.407Z"
   },
   {
    "duration": 28,
    "start_time": "2023-04-17T09:18:03.958Z"
   },
   {
    "duration": 113,
    "start_time": "2023-04-17T09:18:11.147Z"
   },
   {
    "duration": 11,
    "start_time": "2023-04-17T09:18:13.962Z"
   },
   {
    "duration": 138,
    "start_time": "2023-04-17T09:18:16.099Z"
   },
   {
    "duration": 8,
    "start_time": "2023-04-17T09:50:18.045Z"
   },
   {
    "duration": 65,
    "start_time": "2023-04-17T09:53:28.988Z"
   },
   {
    "duration": 4,
    "start_time": "2023-04-17T09:53:56.347Z"
   },
   {
    "duration": 302,
    "start_time": "2023-04-17T09:57:14.101Z"
   },
   {
    "duration": 238,
    "start_time": "2023-04-17T09:57:36.613Z"
   },
   {
    "duration": 32,
    "start_time": "2023-04-17T10:09:08.015Z"
   },
   {
    "duration": 231,
    "start_time": "2023-04-17T10:09:22.021Z"
   },
   {
    "duration": 281,
    "start_time": "2023-04-17T10:29:54.444Z"
   },
   {
    "duration": 11,
    "start_time": "2023-04-17T11:31:53.322Z"
   },
   {
    "duration": 68,
    "start_time": "2023-04-17T11:32:24.922Z"
   },
   {
    "duration": 31,
    "start_time": "2023-04-17T11:34:42.259Z"
   },
   {
    "duration": 11,
    "start_time": "2023-04-17T11:39:08.386Z"
   },
   {
    "duration": 15,
    "start_time": "2023-04-17T11:43:48.680Z"
   },
   {
    "duration": 12,
    "start_time": "2023-04-17T11:44:03.042Z"
   },
   {
    "duration": 31,
    "start_time": "2023-04-17T11:52:05.936Z"
   },
   {
    "duration": 42,
    "start_time": "2023-04-17T11:52:40.728Z"
   },
   {
    "duration": 33,
    "start_time": "2023-04-17T11:52:47.275Z"
   },
   {
    "duration": 8,
    "start_time": "2023-04-17T12:12:20.226Z"
   },
   {
    "duration": 21,
    "start_time": "2023-04-17T12:13:12.897Z"
   },
   {
    "duration": 75,
    "start_time": "2023-04-17T12:34:04.077Z"
   },
   {
    "duration": 930,
    "start_time": "2023-04-17T12:39:02.053Z"
   },
   {
    "duration": 693,
    "start_time": "2023-04-17T12:39:15.577Z"
   },
   {
    "duration": 18,
    "start_time": "2023-04-17T13:26:48.153Z"
   },
   {
    "duration": 248,
    "start_time": "2023-04-17T13:26:49.865Z"
   },
   {
    "duration": 16,
    "start_time": "2023-04-17T13:28:06.510Z"
   },
   {
    "duration": 17,
    "start_time": "2023-04-17T13:28:21.914Z"
   },
   {
    "duration": 209,
    "start_time": "2023-04-17T13:28:30.937Z"
   },
   {
    "duration": 17,
    "start_time": "2023-04-17T13:28:55.530Z"
   },
   {
    "duration": 190,
    "start_time": "2023-04-17T13:29:04.921Z"
   },
   {
    "duration": 209,
    "start_time": "2023-04-17T13:36:59.410Z"
   },
   {
    "duration": 48,
    "start_time": "2023-04-17T17:43:54.299Z"
   },
   {
    "duration": 1403,
    "start_time": "2023-04-17T17:44:11.279Z"
   },
   {
    "duration": 189,
    "start_time": "2023-04-17T17:44:12.685Z"
   },
   {
    "duration": 50,
    "start_time": "2023-04-17T17:44:13.657Z"
   },
   {
    "duration": 27,
    "start_time": "2023-04-17T17:44:14.344Z"
   },
   {
    "duration": 96,
    "start_time": "2023-04-17T17:44:15.097Z"
   },
   {
    "duration": 11,
    "start_time": "2023-04-17T17:44:16.290Z"
   },
   {
    "duration": 6,
    "start_time": "2023-04-17T17:44:16.916Z"
   },
   {
    "duration": 53,
    "start_time": "2023-04-17T17:44:19.091Z"
   },
   {
    "duration": 103,
    "start_time": "2023-04-17T17:44:19.526Z"
   },
   {
    "duration": 10,
    "start_time": "2023-04-17T17:44:20.514Z"
   },
   {
    "duration": 10,
    "start_time": "2023-04-17T17:44:23.696Z"
   },
   {
    "duration": 5,
    "start_time": "2023-04-17T17:48:15.748Z"
   },
   {
    "duration": 120,
    "start_time": "2023-04-17T17:48:16.495Z"
   },
   {
    "duration": 116,
    "start_time": "2023-04-17T17:49:15.217Z"
   },
   {
    "duration": 9,
    "start_time": "2023-04-17T17:49:38.996Z"
   },
   {
    "duration": 13,
    "start_time": "2023-04-17T17:49:41.250Z"
   },
   {
    "duration": 76,
    "start_time": "2023-04-17T18:02:05.602Z"
   },
   {
    "duration": 9,
    "start_time": "2023-04-17T18:02:06.232Z"
   },
   {
    "duration": 10,
    "start_time": "2023-04-17T18:02:06.919Z"
   },
   {
    "duration": 10,
    "start_time": "2023-04-17T18:02:07.602Z"
   },
   {
    "duration": 10,
    "start_time": "2023-04-17T18:02:08.621Z"
   },
   {
    "duration": 4,
    "start_time": "2023-04-17T18:02:16.651Z"
   },
   {
    "duration": 126,
    "start_time": "2023-04-17T18:02:17.296Z"
   },
   {
    "duration": 46,
    "start_time": "2023-04-17T18:02:19.002Z"
   },
   {
    "duration": 22,
    "start_time": "2023-04-17T18:02:19.553Z"
   },
   {
    "duration": 68,
    "start_time": "2023-04-17T18:02:20.037Z"
   },
   {
    "duration": 11,
    "start_time": "2023-04-17T18:02:21.425Z"
   },
   {
    "duration": 6,
    "start_time": "2023-04-17T18:02:21.903Z"
   },
   {
    "duration": 40,
    "start_time": "2023-04-17T18:02:22.956Z"
   },
   {
    "duration": 95,
    "start_time": "2023-04-17T18:02:23.363Z"
   },
   {
    "duration": 12,
    "start_time": "2023-04-17T18:02:24.002Z"
   },
   {
    "duration": 11,
    "start_time": "2023-04-17T18:02:25.210Z"
   },
   {
    "duration": 5,
    "start_time": "2023-04-17T18:02:25.630Z"
   },
   {
    "duration": 99,
    "start_time": "2023-04-17T18:02:26.064Z"
   },
   {
    "duration": 9,
    "start_time": "2023-04-17T18:02:26.704Z"
   },
   {
    "duration": 10,
    "start_time": "2023-04-17T18:02:27.241Z"
   },
   {
    "duration": 20,
    "start_time": "2023-04-17T18:02:30.599Z"
   },
   {
    "duration": 49,
    "start_time": "2023-04-17T18:02:31.723Z"
   },
   {
    "duration": 14,
    "start_time": "2023-04-17T18:02:32.299Z"
   },
   {
    "duration": 4,
    "start_time": "2023-04-17T18:02:32.701Z"
   },
   {
    "duration": 32,
    "start_time": "2023-04-17T18:02:33.299Z"
   },
   {
    "duration": 21,
    "start_time": "2023-04-17T18:02:33.950Z"
   },
   {
    "duration": 6,
    "start_time": "2023-04-17T18:02:34.603Z"
   },
   {
    "duration": 4,
    "start_time": "2023-04-17T18:02:35.112Z"
   },
   {
    "duration": 22,
    "start_time": "2023-04-17T18:02:36.199Z"
   },
   {
    "duration": 27,
    "start_time": "2023-04-17T18:02:39.440Z"
   },
   {
    "duration": 172,
    "start_time": "2023-04-17T18:02:39.894Z"
   },
   {
    "duration": 27,
    "start_time": "2023-04-17T18:02:40.338Z"
   },
   {
    "duration": 16,
    "start_time": "2023-04-17T18:02:40.820Z"
   },
   {
    "duration": 158,
    "start_time": "2023-04-17T18:02:41.361Z"
   },
   {
    "duration": 17,
    "start_time": "2023-04-17T18:02:42.003Z"
   },
   {
    "duration": 9,
    "start_time": "2023-04-17T18:02:42.605Z"
   },
   {
    "duration": 14,
    "start_time": "2023-04-17T18:02:43.806Z"
   },
   {
    "duration": 180,
    "start_time": "2023-04-17T18:02:45.010Z"
   },
   {
    "duration": 19,
    "start_time": "2023-04-17T18:02:45.704Z"
   },
   {
    "duration": 37,
    "start_time": "2023-04-17T18:02:46.538Z"
   },
   {
    "duration": 152,
    "start_time": "2023-04-17T18:02:47.108Z"
   },
   {
    "duration": 37,
    "start_time": "2023-04-17T18:02:47.702Z"
   },
   {
    "duration": 218,
    "start_time": "2023-04-17T18:02:48.126Z"
   },
   {
    "duration": 25,
    "start_time": "2023-04-17T18:02:48.658Z"
   },
   {
    "duration": 118,
    "start_time": "2023-04-17T18:02:49.304Z"
   },
   {
    "duration": 32,
    "start_time": "2023-04-17T18:02:53.313Z"
   },
   {
    "duration": 100,
    "start_time": "2023-04-17T18:02:54.034Z"
   },
   {
    "duration": 9,
    "start_time": "2023-04-17T18:02:54.715Z"
   },
   {
    "duration": 80,
    "start_time": "2023-04-17T18:02:55.243Z"
   },
   {
    "duration": 32,
    "start_time": "2023-04-17T18:02:58.810Z"
   },
   {
    "duration": 23,
    "start_time": "2023-04-17T18:02:59.420Z"
   },
   {
    "duration": 123,
    "start_time": "2023-04-17T18:03:00.435Z"
   },
   {
    "duration": 12,
    "start_time": "2023-04-17T18:03:00.753Z"
   },
   {
    "duration": 121,
    "start_time": "2023-04-17T18:03:01.356Z"
   },
   {
    "duration": 291,
    "start_time": "2023-04-17T18:03:01.940Z"
   },
   {
    "duration": 79,
    "start_time": "2023-04-17T18:03:02.702Z"
   },
   {
    "duration": 24,
    "start_time": "2023-04-17T18:03:13.202Z"
   },
   {
    "duration": 236,
    "start_time": "2023-04-17T18:18:45.253Z"
   },
   {
    "duration": 40,
    "start_time": "2023-04-17T18:22:14.281Z"
   },
   {
    "duration": 38,
    "start_time": "2023-04-17T18:22:21.004Z"
   },
   {
    "duration": 25,
    "start_time": "2023-04-17T18:37:03.941Z"
   },
   {
    "duration": 24,
    "start_time": "2023-04-17T18:43:54.044Z"
   },
   {
    "duration": 32,
    "start_time": "2023-04-17T18:46:31.201Z"
   },
   {
    "duration": 26,
    "start_time": "2023-04-17T18:56:03.238Z"
   },
   {
    "duration": 27,
    "start_time": "2023-04-17T19:06:56.098Z"
   },
   {
    "duration": 33,
    "start_time": "2023-04-17T19:07:23.445Z"
   },
   {
    "duration": 35,
    "start_time": "2023-04-17T19:07:28.546Z"
   },
   {
    "duration": 27,
    "start_time": "2023-04-17T19:07:42.854Z"
   },
   {
    "duration": 25,
    "start_time": "2023-04-17T19:08:06.636Z"
   },
   {
    "duration": 40,
    "start_time": "2023-04-17T19:08:44.435Z"
   },
   {
    "duration": 99,
    "start_time": "2023-04-17T19:09:16.906Z"
   },
   {
    "duration": 29,
    "start_time": "2023-04-17T19:09:25.127Z"
   },
   {
    "duration": 11,
    "start_time": "2023-04-17T19:11:15.994Z"
   },
   {
    "duration": 25,
    "start_time": "2023-04-17T19:17:46.438Z"
   },
   {
    "duration": 10,
    "start_time": "2023-04-17T19:20:50.537Z"
   },
   {
    "duration": 8,
    "start_time": "2023-04-17T19:20:56.100Z"
   },
   {
    "duration": 9,
    "start_time": "2023-04-17T19:20:57.496Z"
   },
   {
    "duration": 11,
    "start_time": "2023-04-17T19:21:39.475Z"
   },
   {
    "duration": 45,
    "start_time": "2023-04-18T06:03:44.713Z"
   },
   {
    "duration": 1246,
    "start_time": "2023-04-18T06:27:54.376Z"
   },
   {
    "duration": 171,
    "start_time": "2023-04-18T06:27:55.624Z"
   },
   {
    "duration": 41,
    "start_time": "2023-04-18T06:27:56.809Z"
   },
   {
    "duration": 22,
    "start_time": "2023-04-18T06:27:57.133Z"
   },
   {
    "duration": 105,
    "start_time": "2023-04-18T06:27:57.426Z"
   },
   {
    "duration": 10,
    "start_time": "2023-04-18T06:27:57.943Z"
   },
   {
    "duration": 6,
    "start_time": "2023-04-18T06:27:58.166Z"
   },
   {
    "duration": 40,
    "start_time": "2023-04-18T06:27:58.960Z"
   },
   {
    "duration": 86,
    "start_time": "2023-04-18T06:27:59.304Z"
   },
   {
    "duration": 9,
    "start_time": "2023-04-18T06:27:59.667Z"
   },
   {
    "duration": 9,
    "start_time": "2023-04-18T06:28:00.310Z"
   },
   {
    "duration": 6,
    "start_time": "2023-04-18T06:28:00.739Z"
   },
   {
    "duration": 103,
    "start_time": "2023-04-18T06:28:01.167Z"
   },
   {
    "duration": 8,
    "start_time": "2023-04-18T06:28:01.575Z"
   },
   {
    "duration": 9,
    "start_time": "2023-04-18T06:28:01.846Z"
   },
   {
    "duration": 13,
    "start_time": "2023-04-18T06:28:05.266Z"
   },
   {
    "duration": 48,
    "start_time": "2023-04-18T06:28:05.733Z"
   },
   {
    "duration": 13,
    "start_time": "2023-04-18T06:28:05.951Z"
   },
   {
    "duration": 4,
    "start_time": "2023-04-18T06:28:06.179Z"
   },
   {
    "duration": 32,
    "start_time": "2023-04-18T06:28:06.451Z"
   },
   {
    "duration": 18,
    "start_time": "2023-04-18T06:28:06.750Z"
   },
   {
    "duration": 6,
    "start_time": "2023-04-18T06:28:07.036Z"
   },
   {
    "duration": 3,
    "start_time": "2023-04-18T06:28:07.309Z"
   },
   {
    "duration": 22,
    "start_time": "2023-04-18T06:28:07.807Z"
   },
   {
    "duration": 23,
    "start_time": "2023-04-18T06:28:08.716Z"
   },
   {
    "duration": 150,
    "start_time": "2023-04-18T06:28:08.922Z"
   },
   {
    "duration": 25,
    "start_time": "2023-04-18T06:28:09.170Z"
   },
   {
    "duration": 15,
    "start_time": "2023-04-18T06:28:09.394Z"
   },
   {
    "duration": 138,
    "start_time": "2023-04-18T06:28:09.624Z"
   },
   {
    "duration": 15,
    "start_time": "2023-04-18T06:28:09.842Z"
   },
   {
    "duration": 8,
    "start_time": "2023-04-18T06:28:10.110Z"
   },
   {
    "duration": 14,
    "start_time": "2023-04-18T06:28:10.359Z"
   },
   {
    "duration": 156,
    "start_time": "2023-04-18T06:28:10.593Z"
   },
   {
    "duration": 18,
    "start_time": "2023-04-18T06:28:10.841Z"
   },
   {
    "duration": 34,
    "start_time": "2023-04-18T06:28:11.095Z"
   },
   {
    "duration": 133,
    "start_time": "2023-04-18T06:28:11.300Z"
   },
   {
    "duration": 33,
    "start_time": "2023-04-18T06:28:11.468Z"
   },
   {
    "duration": 112,
    "start_time": "2023-04-18T06:28:11.952Z"
   },
   {
    "duration": 24,
    "start_time": "2023-04-18T06:28:12.195Z"
   },
   {
    "duration": 173,
    "start_time": "2023-04-18T06:28:12.404Z"
   },
   {
    "duration": 41,
    "start_time": "2023-04-18T06:28:13.422Z"
   },
   {
    "duration": 76,
    "start_time": "2023-04-18T06:28:13.712Z"
   },
   {
    "duration": 8,
    "start_time": "2023-04-18T06:28:13.995Z"
   },
   {
    "duration": 69,
    "start_time": "2023-04-18T06:28:14.282Z"
   },
   {
    "duration": 28,
    "start_time": "2023-04-18T06:28:15.564Z"
   },
   {
    "duration": 19,
    "start_time": "2023-04-18T06:28:15.974Z"
   },
   {
    "duration": 98,
    "start_time": "2023-04-18T06:28:16.320Z"
   },
   {
    "duration": 8,
    "start_time": "2023-04-18T06:28:16.647Z"
   },
   {
    "duration": 100,
    "start_time": "2023-04-18T06:28:17.031Z"
   },
   {
    "duration": 262,
    "start_time": "2023-04-18T06:28:17.416Z"
   },
   {
    "duration": 21,
    "start_time": "2023-04-18T06:28:17.736Z"
   },
   {
    "duration": 22,
    "start_time": "2023-04-18T06:28:32.710Z"
   },
   {
    "duration": 7,
    "start_time": "2023-04-18T07:42:15.419Z"
   },
   {
    "duration": 4,
    "start_time": "2023-04-18T07:42:37.700Z"
   },
   {
    "duration": 109,
    "start_time": "2023-04-18T07:42:38.099Z"
   },
   {
    "duration": 41,
    "start_time": "2023-04-18T07:42:39.138Z"
   },
   {
    "duration": 22,
    "start_time": "2023-04-18T07:42:39.398Z"
   },
   {
    "duration": 119,
    "start_time": "2023-04-18T07:42:39.605Z"
   },
   {
    "duration": 10,
    "start_time": "2023-04-18T07:42:40.026Z"
   },
   {
    "duration": 6,
    "start_time": "2023-04-18T07:42:40.239Z"
   },
   {
    "duration": 34,
    "start_time": "2023-04-18T07:42:40.861Z"
   },
   {
    "duration": 86,
    "start_time": "2023-04-18T07:42:41.100Z"
   },
   {
    "duration": 9,
    "start_time": "2023-04-18T07:42:41.301Z"
   },
   {
    "duration": 10,
    "start_time": "2023-04-18T07:42:41.705Z"
   },
   {
    "duration": 4,
    "start_time": "2023-04-18T07:42:41.910Z"
   },
   {
    "duration": 103,
    "start_time": "2023-04-18T07:42:42.141Z"
   },
   {
    "duration": 7,
    "start_time": "2023-04-18T07:42:42.365Z"
   },
   {
    "duration": 8,
    "start_time": "2023-04-18T07:42:42.610Z"
   },
   {
    "duration": 12,
    "start_time": "2023-04-18T07:42:44.614Z"
   },
   {
    "duration": 43,
    "start_time": "2023-04-18T07:42:45.099Z"
   },
   {
    "duration": 13,
    "start_time": "2023-04-18T07:42:45.285Z"
   },
   {
    "duration": 4,
    "start_time": "2023-04-18T07:42:45.525Z"
   },
   {
    "duration": 23,
    "start_time": "2023-04-18T07:42:45.766Z"
   },
   {
    "duration": 17,
    "start_time": "2023-04-18T07:42:46.008Z"
   },
   {
    "duration": 5,
    "start_time": "2023-04-18T07:42:46.258Z"
   },
   {
    "duration": 4,
    "start_time": "2023-04-18T07:42:46.512Z"
   },
   {
    "duration": 18,
    "start_time": "2023-04-18T07:42:47.016Z"
   },
   {
    "duration": 22,
    "start_time": "2023-04-18T07:42:48.298Z"
   },
   {
    "duration": 140,
    "start_time": "2023-04-18T07:42:48.504Z"
   },
   {
    "duration": 20,
    "start_time": "2023-04-18T07:42:48.817Z"
   },
   {
    "duration": 13,
    "start_time": "2023-04-18T07:42:49.033Z"
   },
   {
    "duration": 150,
    "start_time": "2023-04-18T07:42:49.356Z"
   },
   {
    "duration": 16,
    "start_time": "2023-04-18T07:42:49.508Z"
   },
   {
    "duration": 8,
    "start_time": "2023-04-18T07:42:49.704Z"
   },
   {
    "duration": 15,
    "start_time": "2023-04-18T07:42:50.170Z"
   },
   {
    "duration": 150,
    "start_time": "2023-04-18T07:42:50.464Z"
   },
   {
    "duration": 19,
    "start_time": "2023-04-18T07:42:50.767Z"
   },
   {
    "duration": 32,
    "start_time": "2023-04-18T07:42:51.102Z"
   },
   {
    "duration": 206,
    "start_time": "2023-04-18T07:42:51.460Z"
   },
   {
    "duration": 33,
    "start_time": "2023-04-18T07:42:51.820Z"
   },
   {
    "duration": 124,
    "start_time": "2023-04-18T07:42:52.096Z"
   },
   {
    "duration": 27,
    "start_time": "2023-04-18T07:42:52.358Z"
   },
   {
    "duration": 102,
    "start_time": "2023-04-18T07:42:52.613Z"
   },
   {
    "duration": 28,
    "start_time": "2023-04-18T07:42:54.639Z"
   },
   {
    "duration": 69,
    "start_time": "2023-04-18T07:42:55.233Z"
   },
   {
    "duration": 10,
    "start_time": "2023-04-18T07:42:55.930Z"
   },
   {
    "duration": 73,
    "start_time": "2023-04-18T07:42:56.509Z"
   },
   {
    "duration": 26,
    "start_time": "2023-04-18T07:42:58.402Z"
   },
   {
    "duration": 20,
    "start_time": "2023-04-18T07:42:59.124Z"
   },
   {
    "duration": 105,
    "start_time": "2023-04-18T07:42:59.566Z"
   },
   {
    "duration": 9,
    "start_time": "2023-04-18T07:43:00.335Z"
   },
   {
    "duration": 104,
    "start_time": "2023-04-18T07:43:01.057Z"
   },
   {
    "duration": 219,
    "start_time": "2023-04-18T07:43:01.867Z"
   },
   {
    "duration": 21,
    "start_time": "2023-04-18T07:43:02.476Z"
   },
   {
    "duration": 22,
    "start_time": "2023-04-18T07:43:03.201Z"
   },
   {
    "duration": 5,
    "start_time": "2023-04-18T07:43:04.404Z"
   },
   {
    "duration": 107,
    "start_time": "2023-04-18T07:43:54.204Z"
   },
   {
    "duration": 3,
    "start_time": "2023-04-18T08:04:23.319Z"
   },
   {
    "duration": 130,
    "start_time": "2023-04-18T08:04:23.953Z"
   },
   {
    "duration": 44,
    "start_time": "2023-04-18T08:04:24.722Z"
   },
   {
    "duration": 22,
    "start_time": "2023-04-18T08:04:24.878Z"
   },
   {
    "duration": 89,
    "start_time": "2023-04-18T08:04:25.045Z"
   },
   {
    "duration": 12,
    "start_time": "2023-04-18T08:04:25.342Z"
   },
   {
    "duration": 6,
    "start_time": "2023-04-18T08:04:25.443Z"
   },
   {
    "duration": 35,
    "start_time": "2023-04-18T08:04:26.017Z"
   },
   {
    "duration": 85,
    "start_time": "2023-04-18T08:04:26.121Z"
   },
   {
    "duration": 9,
    "start_time": "2023-04-18T08:04:26.219Z"
   },
   {
    "duration": 11,
    "start_time": "2023-04-18T08:04:26.819Z"
   },
   {
    "duration": 7,
    "start_time": "2023-04-18T08:04:27.114Z"
   },
   {
    "duration": 105,
    "start_time": "2023-04-18T08:04:27.359Z"
   },
   {
    "duration": 8,
    "start_time": "2023-04-18T08:04:27.624Z"
   },
   {
    "duration": 8,
    "start_time": "2023-04-18T08:04:27.827Z"
   },
   {
    "duration": 12,
    "start_time": "2023-04-18T08:04:30.019Z"
   },
   {
    "duration": 56,
    "start_time": "2023-04-18T08:04:30.717Z"
   },
   {
    "duration": 14,
    "start_time": "2023-04-18T08:04:31.110Z"
   },
   {
    "duration": 4,
    "start_time": "2023-04-18T08:04:31.510Z"
   },
   {
    "duration": 28,
    "start_time": "2023-04-18T08:04:31.972Z"
   },
   {
    "duration": 16,
    "start_time": "2023-04-18T08:04:32.414Z"
   },
   {
    "duration": 6,
    "start_time": "2023-04-18T08:04:33.057Z"
   },
   {
    "duration": 4,
    "start_time": "2023-04-18T08:04:33.513Z"
   },
   {
    "duration": 27,
    "start_time": "2023-04-18T08:04:34.558Z"
   },
   {
    "duration": 22,
    "start_time": "2023-04-18T08:04:37.619Z"
   },
   {
    "duration": 145,
    "start_time": "2023-04-18T08:04:38.411Z"
   },
   {
    "duration": 22,
    "start_time": "2023-04-18T08:04:39.069Z"
   },
   {
    "duration": 15,
    "start_time": "2023-04-18T08:04:40.114Z"
   },
   {
    "duration": 159,
    "start_time": "2023-04-18T08:04:40.919Z"
   },
   {
    "duration": 16,
    "start_time": "2023-04-18T08:04:41.503Z"
   },
   {
    "duration": 8,
    "start_time": "2023-04-18T08:04:42.082Z"
   },
   {
    "duration": 15,
    "start_time": "2023-04-18T08:04:42.815Z"
   },
   {
    "duration": 185,
    "start_time": "2023-04-18T08:04:43.634Z"
   },
   {
    "duration": 21,
    "start_time": "2023-04-18T08:04:44.244Z"
   },
   {
    "duration": 36,
    "start_time": "2023-04-18T08:04:45.010Z"
   },
   {
    "duration": 216,
    "start_time": "2023-04-18T08:04:45.518Z"
   },
   {
    "duration": 35,
    "start_time": "2023-04-18T08:04:46.022Z"
   },
   {
    "duration": 116,
    "start_time": "2023-04-18T08:04:46.518Z"
   },
   {
    "duration": 27,
    "start_time": "2023-04-18T08:04:48.819Z"
   },
   {
    "duration": 117,
    "start_time": "2023-04-18T08:04:49.456Z"
   },
   {
    "duration": 30,
    "start_time": "2023-04-18T08:04:52.374Z"
   },
   {
    "duration": 74,
    "start_time": "2023-04-18T08:04:52.719Z"
   },
   {
    "duration": 8,
    "start_time": "2023-04-18T08:04:53.015Z"
   },
   {
    "duration": 72,
    "start_time": "2023-04-18T08:04:53.322Z"
   },
   {
    "duration": 26,
    "start_time": "2023-04-18T08:04:55.132Z"
   },
   {
    "duration": 21,
    "start_time": "2023-04-18T08:04:55.866Z"
   },
   {
    "duration": 103,
    "start_time": "2023-04-18T08:04:56.719Z"
   },
   {
    "duration": 10,
    "start_time": "2023-04-18T08:04:57.319Z"
   },
   {
    "duration": 103,
    "start_time": "2023-04-18T08:04:57.819Z"
   },
   {
    "duration": 201,
    "start_time": "2023-04-18T08:04:58.149Z"
   },
   {
    "duration": 22,
    "start_time": "2023-04-18T08:04:58.458Z"
   },
   {
    "duration": 22,
    "start_time": "2023-04-18T08:05:08.141Z"
   },
   {
    "duration": 8,
    "start_time": "2023-04-18T08:05:51.018Z"
   },
   {
    "duration": 86,
    "start_time": "2023-04-18T08:05:52.053Z"
   },
   {
    "duration": 6,
    "start_time": "2023-04-18T08:07:13.427Z"
   },
   {
    "duration": 89,
    "start_time": "2023-04-18T08:07:14.551Z"
   },
   {
    "duration": 5,
    "start_time": "2023-04-18T08:07:21.918Z"
   },
   {
    "duration": 1348,
    "start_time": "2023-04-18T08:07:23.920Z"
   },
   {
    "duration": 6,
    "start_time": "2023-04-18T08:07:48.618Z"
   },
   {
    "duration": 6,
    "start_time": "2023-04-18T08:07:59.731Z"
   },
   {
    "duration": 95,
    "start_time": "2023-04-18T08:08:00.615Z"
   },
   {
    "duration": 7,
    "start_time": "2023-04-18T08:20:01.385Z"
   },
   {
    "duration": 1669,
    "start_time": "2023-04-18T08:20:02.493Z"
   },
   {
    "duration": 4,
    "start_time": "2023-04-18T08:21:39.282Z"
   },
   {
    "duration": 7,
    "start_time": "2023-04-18T08:22:04.756Z"
   },
   {
    "duration": 1311,
    "start_time": "2023-04-18T08:22:06.704Z"
   },
   {
    "duration": 5185,
    "start_time": "2023-04-18T08:35:04.461Z"
   },
   {
    "duration": 64,
    "start_time": "2023-04-18T08:35:34.654Z"
   },
   {
    "duration": 56,
    "start_time": "2023-04-18T08:35:44.464Z"
   },
   {
    "duration": 6,
    "start_time": "2023-04-18T08:38:38.135Z"
   },
   {
    "duration": 73,
    "start_time": "2023-04-18T08:48:29.318Z"
   },
   {
    "duration": 32,
    "start_time": "2023-04-18T08:49:04.417Z"
   },
   {
    "duration": 30,
    "start_time": "2023-04-18T08:54:38.118Z"
   },
   {
    "duration": 9,
    "start_time": "2023-04-18T08:55:12.659Z"
   },
   {
    "duration": 1214,
    "start_time": "2023-04-18T08:55:13.614Z"
   },
   {
    "duration": 1191,
    "start_time": "2023-04-18T08:55:47.710Z"
   },
   {
    "duration": 64,
    "start_time": "2023-04-18T08:57:08.422Z"
   },
   {
    "duration": 49,
    "start_time": "2023-04-18T08:57:16.312Z"
   },
   {
    "duration": 5,
    "start_time": "2023-04-18T08:57:39.054Z"
   },
   {
    "duration": 55,
    "start_time": "2023-04-18T08:57:40.513Z"
   },
   {
    "duration": 52,
    "start_time": "2023-04-18T09:14:35.125Z"
   },
   {
    "duration": 9,
    "start_time": "2023-04-18T09:21:16.471Z"
   },
   {
    "duration": 26,
    "start_time": "2023-04-18T09:21:20.008Z"
   },
   {
    "duration": 9,
    "start_time": "2023-04-18T09:21:20.643Z"
   },
   {
    "duration": 5,
    "start_time": "2023-04-18T09:21:27.520Z"
   },
   {
    "duration": 138,
    "start_time": "2023-04-18T09:21:27.949Z"
   },
   {
    "duration": 45,
    "start_time": "2023-04-18T09:21:29.639Z"
   },
   {
    "duration": 23,
    "start_time": "2023-04-18T09:21:29.955Z"
   },
   {
    "duration": 181,
    "start_time": "2023-04-18T09:21:30.276Z"
   },
   {
    "duration": 17,
    "start_time": "2023-04-18T09:21:31.026Z"
   },
   {
    "duration": 9,
    "start_time": "2023-04-18T09:21:31.372Z"
   },
   {
    "duration": 45,
    "start_time": "2023-04-18T09:21:32.136Z"
   },
   {
    "duration": 148,
    "start_time": "2023-04-18T09:21:32.370Z"
   },
   {
    "duration": 15,
    "start_time": "2023-04-18T09:21:32.732Z"
   },
   {
    "duration": 10,
    "start_time": "2023-04-18T09:21:33.071Z"
   },
   {
    "duration": 7,
    "start_time": "2023-04-18T09:21:33.228Z"
   },
   {
    "duration": 121,
    "start_time": "2023-04-18T09:21:33.536Z"
   },
   {
    "duration": 11,
    "start_time": "2023-04-18T09:21:33.736Z"
   },
   {
    "duration": 17,
    "start_time": "2023-04-18T09:21:34.017Z"
   },
   {
    "duration": 27,
    "start_time": "2023-04-18T09:21:39.926Z"
   },
   {
    "duration": 77,
    "start_time": "2023-04-18T09:21:40.747Z"
   },
   {
    "duration": 19,
    "start_time": "2023-04-18T09:21:41.024Z"
   },
   {
    "duration": 4,
    "start_time": "2023-04-18T09:21:41.272Z"
   },
   {
    "duration": 28,
    "start_time": "2023-04-18T09:21:41.532Z"
   },
   {
    "duration": 19,
    "start_time": "2023-04-18T09:21:41.848Z"
   },
   {
    "duration": 5,
    "start_time": "2023-04-18T09:21:42.276Z"
   },
   {
    "duration": 7,
    "start_time": "2023-04-18T09:21:42.652Z"
   },
   {
    "duration": 19,
    "start_time": "2023-04-18T09:21:43.358Z"
   },
   {
    "duration": 10,
    "start_time": "2023-04-18T09:21:43.876Z"
   },
   {
    "duration": 19,
    "start_time": "2023-04-18T09:21:57.231Z"
   },
   {
    "duration": 54,
    "start_time": "2023-04-18T09:44:34.714Z"
   }
  ],
  "kernelspec": {
   "display_name": "Python 3 (ipykernel)",
   "language": "python",
   "name": "python3"
  },
  "language_info": {
   "codemirror_mode": {
    "name": "ipython",
    "version": 3
   },
   "file_extension": ".py",
   "mimetype": "text/x-python",
   "name": "python",
   "nbconvert_exporter": "python",
   "pygments_lexer": "ipython3",
   "version": "3.10.9"
  },
  "toc": {
   "base_numbering": 1,
   "nav_menu": {},
   "number_sections": true,
   "sideBar": true,
   "skip_h1_title": true,
   "title_cell": "Table of Contents",
   "title_sidebar": "Contents",
   "toc_cell": false,
   "toc_position": {},
   "toc_section_display": true,
   "toc_window_display": false
  }
 },
 "nbformat": 4,
 "nbformat_minor": 5
}
