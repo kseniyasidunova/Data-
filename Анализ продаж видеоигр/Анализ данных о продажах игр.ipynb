{
 "cells": [
  {
   "cell_type": "markdown",
   "metadata": {},
   "source": [
    "# Описание: Анализ данных о продажах игр \n",
    "\n",
    "Цель проекта: выявить определяющие успешность игры закономерности, что позволит сделать ставку на потенциально популярный продукт и спланировать рекламные кампании."
   ]
  },
  {
   "cell_type": "markdown",
   "metadata": {},
   "source": [
    "### Часть 1. Откройте файл с данными и изучите общую информацию"
   ]
  },
  {
   "cell_type": "code",
   "execution_count": 1,
   "metadata": {},
   "outputs": [],
   "source": [
    "import pandas as pd \n",
    "import numpy as np\n",
    "import scipy.stats as st\n",
    "import matplotlib.pyplot as plt\n",
    "from datetime import datetime\n",
    "import seaborn as sns\n",
    " \n",
    "import warnings\n",
    "warnings.filterwarnings('ignore')\n",
    "\n"
   ]
  },
  {
   "cell_type": "code",
   "execution_count": 2,
   "metadata": {},
   "outputs": [
    {
     "name": "stdout",
     "output_type": "stream",
     "text": [
      "<class 'pandas.core.frame.DataFrame'>\n",
      "RangeIndex: 16715 entries, 0 to 16714\n",
      "Data columns (total 11 columns):\n",
      " #   Column           Non-Null Count  Dtype  \n",
      "---  ------           --------------  -----  \n",
      " 0   Name             16713 non-null  object \n",
      " 1   Platform         16715 non-null  object \n",
      " 2   Year_of_Release  16446 non-null  float64\n",
      " 3   Genre            16713 non-null  object \n",
      " 4   NA_sales         16715 non-null  float64\n",
      " 5   EU_sales         16715 non-null  float64\n",
      " 6   JP_sales         16715 non-null  float64\n",
      " 7   Other_sales      16715 non-null  float64\n",
      " 8   Critic_Score     8137 non-null   float64\n",
      " 9   User_Score       10014 non-null  object \n",
      " 10  Rating           9949 non-null   object \n",
      "dtypes: float64(6), object(5)\n",
      "memory usage: 1.4+ MB\n",
      "None\n",
      "                                            Name Platform  Year_of_Release  \\\n",
      "0                                     Wii Sports      Wii           2006.0   \n",
      "1                              Super Mario Bros.      NES           1985.0   \n",
      "2                                 Mario Kart Wii      Wii           2008.0   \n",
      "3                              Wii Sports Resort      Wii           2009.0   \n",
      "4                       Pokemon Red/Pokemon Blue       GB           1996.0   \n",
      "5                                         Tetris       GB           1989.0   \n",
      "6                          New Super Mario Bros.       DS           2006.0   \n",
      "7                                       Wii Play      Wii           2006.0   \n",
      "8                      New Super Mario Bros. Wii      Wii           2009.0   \n",
      "9                                      Duck Hunt      NES           1984.0   \n",
      "10                                    Nintendogs       DS           2005.0   \n",
      "11                                 Mario Kart DS       DS           2005.0   \n",
      "12                   Pokemon Gold/Pokemon Silver       GB           1999.0   \n",
      "13                                       Wii Fit      Wii           2007.0   \n",
      "14                            Kinect Adventures!     X360           2010.0   \n",
      "15                                  Wii Fit Plus      Wii           2009.0   \n",
      "16                            Grand Theft Auto V      PS3           2013.0   \n",
      "17                 Grand Theft Auto: San Andreas      PS2           2004.0   \n",
      "18                             Super Mario World     SNES           1990.0   \n",
      "19  Brain Age: Train Your Brain in Minutes a Day       DS           2005.0   \n",
      "\n",
      "           Genre  NA_sales  EU_sales  JP_sales  Other_sales  Critic_Score  \\\n",
      "0         Sports     41.36     28.96      3.77         8.45          76.0   \n",
      "1       Platform     29.08      3.58      6.81         0.77           NaN   \n",
      "2         Racing     15.68     12.76      3.79         3.29          82.0   \n",
      "3         Sports     15.61     10.93      3.28         2.95          80.0   \n",
      "4   Role-Playing     11.27      8.89     10.22         1.00           NaN   \n",
      "5         Puzzle     23.20      2.26      4.22         0.58           NaN   \n",
      "6       Platform     11.28      9.14      6.50         2.88          89.0   \n",
      "7           Misc     13.96      9.18      2.93         2.84          58.0   \n",
      "8       Platform     14.44      6.94      4.70         2.24          87.0   \n",
      "9        Shooter     26.93      0.63      0.28         0.47           NaN   \n",
      "10    Simulation      9.05     10.95      1.93         2.74           NaN   \n",
      "11        Racing      9.71      7.47      4.13         1.90          91.0   \n",
      "12  Role-Playing      9.00      6.18      7.20         0.71           NaN   \n",
      "13        Sports      8.92      8.03      3.60         2.15          80.0   \n",
      "14          Misc     15.00      4.89      0.24         1.69          61.0   \n",
      "15        Sports      9.01      8.49      2.53         1.77          80.0   \n",
      "16        Action      7.02      9.09      0.98         3.96          97.0   \n",
      "17        Action      9.43      0.40      0.41        10.57          95.0   \n",
      "18      Platform     12.78      3.75      3.54         0.55           NaN   \n",
      "19          Misc      4.74      9.20      4.16         2.04          77.0   \n",
      "\n",
      "   User_Score Rating  \n",
      "0           8      E  \n",
      "1         NaN    NaN  \n",
      "2         8.3      E  \n",
      "3           8      E  \n",
      "4         NaN    NaN  \n",
      "5         NaN    NaN  \n",
      "6         8.5      E  \n",
      "7         6.6      E  \n",
      "8         8.4      E  \n",
      "9         NaN    NaN  \n",
      "10        NaN    NaN  \n",
      "11        8.6      E  \n",
      "12        NaN    NaN  \n",
      "13        7.7      E  \n",
      "14        6.3      E  \n",
      "15        7.4      E  \n",
      "16        8.2      M  \n",
      "17          9      M  \n",
      "18        NaN    NaN  \n",
      "19        7.9      E  \n"
     ]
    }
   ],
   "source": [
    "data_games = pd.read_csv ('/datasets/games.csv')\n",
    " \n",
    "print (data_games.info ())\n",
    "\n",
    "print (data_games.head (20))"
   ]
  },
  {
   "cell_type": "code",
   "execution_count": 3,
   "metadata": {
    "scrolled": true
   },
   "outputs": [
    {
     "data": {
      "text/plain": [
       "0"
      ]
     },
     "execution_count": 3,
     "metadata": {},
     "output_type": "execute_result"
    }
   ],
   "source": [
    "data_games.duplicated().sum ()"
   ]
  },
  {
   "cell_type": "markdown",
   "metadata": {},
   "source": [
    "Выводы: \n",
    "- пропуски в оценке критиков, пользователей и рейтинге\n",
    "- разный регистр букв в названиях столбцов, что мешает чтению\n",
    "- год имеет тип данных float, оценка пользователя имеет тип данных object "
   ]
  },
  {
   "cell_type": "markdown",
   "metadata": {},
   "source": [
    "### Часть 2. Подготовка данных\n",
    "- Замените названия столбцов (приведите к нижнему регистру);\n",
    "- Преобразуйте данные в нужные типы. Опишите, в каких столбцах заменили тип данных и почему;\n",
    "- Обработайте пропуски при необходимости:\n",
    "    -Объясните, почему заполнили пропуски определённым образом или почему не стали это делать;\n",
    "    -Опишите причины, которые могли привести к пропускам;\n",
    "- Обратите внимание на аббревиатуру 'tbd' в столбце с оценкой пользователей. Отдельно разберите это значение и опишите, как его обработать;\n",
    "- Посчитайте суммарные продажи во всех регионах и запишите их в отдельный столбец."
   ]
  },
  {
   "cell_type": "code",
   "execution_count": 4,
   "metadata": {},
   "outputs": [
    {
     "name": "stdout",
     "output_type": "stream",
     "text": [
      "                                            name platform  year_of_release  \\\n",
      "0                                     Wii Sports      Wii           2006.0   \n",
      "1                              Super Mario Bros.      NES           1985.0   \n",
      "2                                 Mario Kart Wii      Wii           2008.0   \n",
      "3                              Wii Sports Resort      Wii           2009.0   \n",
      "4                       Pokemon Red/Pokemon Blue       GB           1996.0   \n",
      "5                                         Tetris       GB           1989.0   \n",
      "6                          New Super Mario Bros.       DS           2006.0   \n",
      "7                                       Wii Play      Wii           2006.0   \n",
      "8                      New Super Mario Bros. Wii      Wii           2009.0   \n",
      "9                                      Duck Hunt      NES           1984.0   \n",
      "10                                    Nintendogs       DS           2005.0   \n",
      "11                                 Mario Kart DS       DS           2005.0   \n",
      "12                   Pokemon Gold/Pokemon Silver       GB           1999.0   \n",
      "13                                       Wii Fit      Wii           2007.0   \n",
      "14                            Kinect Adventures!     X360           2010.0   \n",
      "15                                  Wii Fit Plus      Wii           2009.0   \n",
      "16                            Grand Theft Auto V      PS3           2013.0   \n",
      "17                 Grand Theft Auto: San Andreas      PS2           2004.0   \n",
      "18                             Super Mario World     SNES           1990.0   \n",
      "19  Brain Age: Train Your Brain in Minutes a Day       DS           2005.0   \n",
      "\n",
      "           genre  na_sales  eu_sales  jp_sales  other_sales  critic_score  \\\n",
      "0         Sports     41.36     28.96      3.77         8.45          76.0   \n",
      "1       Platform     29.08      3.58      6.81         0.77           NaN   \n",
      "2         Racing     15.68     12.76      3.79         3.29          82.0   \n",
      "3         Sports     15.61     10.93      3.28         2.95          80.0   \n",
      "4   Role-Playing     11.27      8.89     10.22         1.00           NaN   \n",
      "5         Puzzle     23.20      2.26      4.22         0.58           NaN   \n",
      "6       Platform     11.28      9.14      6.50         2.88          89.0   \n",
      "7           Misc     13.96      9.18      2.93         2.84          58.0   \n",
      "8       Platform     14.44      6.94      4.70         2.24          87.0   \n",
      "9        Shooter     26.93      0.63      0.28         0.47           NaN   \n",
      "10    Simulation      9.05     10.95      1.93         2.74           NaN   \n",
      "11        Racing      9.71      7.47      4.13         1.90          91.0   \n",
      "12  Role-Playing      9.00      6.18      7.20         0.71           NaN   \n",
      "13        Sports      8.92      8.03      3.60         2.15          80.0   \n",
      "14          Misc     15.00      4.89      0.24         1.69          61.0   \n",
      "15        Sports      9.01      8.49      2.53         1.77          80.0   \n",
      "16        Action      7.02      9.09      0.98         3.96          97.0   \n",
      "17        Action      9.43      0.40      0.41        10.57          95.0   \n",
      "18      Platform     12.78      3.75      3.54         0.55           NaN   \n",
      "19          Misc      4.74      9.20      4.16         2.04          77.0   \n",
      "\n",
      "   user_score rating  \n",
      "0           8      E  \n",
      "1         NaN    NaN  \n",
      "2         8.3      E  \n",
      "3           8      E  \n",
      "4         NaN    NaN  \n",
      "5         NaN    NaN  \n",
      "6         8.5      E  \n",
      "7         6.6      E  \n",
      "8         8.4      E  \n",
      "9         NaN    NaN  \n",
      "10        NaN    NaN  \n",
      "11        8.6      E  \n",
      "12        NaN    NaN  \n",
      "13        7.7      E  \n",
      "14        6.3      E  \n",
      "15        7.4      E  \n",
      "16        8.2      M  \n",
      "17          9      M  \n",
      "18        NaN    NaN  \n",
      "19        7.9      E  \n"
     ]
    }
   ],
   "source": [
    "data_games.columns = map(str.lower, data_games.columns) #замена названия столбцов (приводим к нижнему регистру)\n",
    "\n",
    "print (data_games.head (20)) #строка использовалась для проверки результата"
   ]
  },
  {
   "cell_type": "code",
   "execution_count": 5,
   "metadata": {},
   "outputs": [],
   "source": [
    "# Преобразуйте данные в нужные типы. Опишите, в каких столбцах заменили тип данных и почему. \n",
    "\n",
    "data_games ['year_of_release'].describe () #изучаем данные в столбце \n",
    "#заменяем строки с пробелами на Nan\n",
    "data_games= data_games.replace(r'^\\s*$', np.nan, regex=True)\n",
    "# удаляем строки с пустыми значениями в столбцах\n",
    "data_games.dropna(subset = ['name', 'year_of_release', 'genre'], inplace = True)\n",
    "\n",
    "data_games ['year_of_release'] = data_games ['year_of_release'].astype('int')  #меняем на целые числа, так как год может быть только целым числом\n",
    "\n",
    "#data_games.info ()\n"
   ]
  },
  {
   "cell_type": "code",
   "execution_count": 6,
   "metadata": {
    "scrolled": false
   },
   "outputs": [
    {
     "name": "stdout",
     "output_type": "stream",
     "text": [
      "0     8.0\n",
      "1     NaN\n",
      "2     8.3\n",
      "3     8.0\n",
      "4     NaN\n",
      "5     NaN\n",
      "6     8.5\n",
      "7     6.6\n",
      "8     8.4\n",
      "9     NaN\n",
      "10    NaN\n",
      "11    8.6\n",
      "12    NaN\n",
      "13    7.7\n",
      "14    6.3\n",
      "15    7.4\n",
      "16    8.2\n",
      "17    9.0\n",
      "18    NaN\n",
      "19    7.9\n",
      "Name: user_score, dtype: float64\n"
     ]
    }
   ],
   "source": [
    "#меняем на числа, нам это будет необходимо для заполнения пропусков, ну и в целом рейтинг - это дробные числа.\n",
    "\n",
    "data_games['user_score'].unique() \n",
    "data_games.loc[data_games['user_score'] == 'tbd', 'user_score'] = ('Nan') #неизвестные данные tbd заменяем на Nan \n",
    "data_games['user_score'] = data_games['user_score'].astype('float') #тип object меняем на float \n",
    "\n",
    "data_games['user_score'].describe ()\n",
    "print (data_games ['user_score'].head (20))"
   ]
  },
  {
   "cell_type": "code",
   "execution_count": 7,
   "metadata": {
    "scrolled": true
   },
   "outputs": [
    {
     "name": "stdout",
     "output_type": "stream",
     "text": [
      "                        name platform  year_of_release         genre  \\\n",
      "0                 Wii Sports      Wii             2006        Sports   \n",
      "1          Super Mario Bros.      NES             1985      Platform   \n",
      "2             Mario Kart Wii      Wii             2008        Racing   \n",
      "3          Wii Sports Resort      Wii             2009        Sports   \n",
      "4   Pokemon Red/Pokemon Blue       GB             1996  Role-Playing   \n",
      "5                     Tetris       GB             1989        Puzzle   \n",
      "6      New Super Mario Bros.       DS             2006      Platform   \n",
      "7                   Wii Play      Wii             2006          Misc   \n",
      "8  New Super Mario Bros. Wii      Wii             2009      Platform   \n",
      "9                  Duck Hunt      NES             1984       Shooter   \n",
      "\n",
      "   na_sales  eu_sales  jp_sales  other_sales  critic_score  user_score  \\\n",
      "0     41.36     28.96      3.77         8.45          76.0         8.0   \n",
      "1     29.08      3.58      6.81         0.77           NaN         NaN   \n",
      "2     15.68     12.76      3.79         3.29          82.0         8.3   \n",
      "3     15.61     10.93      3.28         2.95          80.0         8.0   \n",
      "4     11.27      8.89     10.22         1.00           NaN         NaN   \n",
      "5     23.20      2.26      4.22         0.58           NaN         NaN   \n",
      "6     11.28      9.14      6.50         2.88          89.0         8.5   \n",
      "7     13.96      9.18      2.93         2.84          58.0         6.6   \n",
      "8     14.44      6.94      4.70         2.24          87.0         8.4   \n",
      "9     26.93      0.63      0.28         0.47           NaN         NaN   \n",
      "\n",
      "    rating  \n",
      "0        E  \n",
      "1  unknown  \n",
      "2        E  \n",
      "3        E  \n",
      "4  unknown  \n",
      "5  unknown  \n",
      "6        E  \n",
      "7        E  \n",
      "8        E  \n",
      "9  unknown  \n"
     ]
    }
   ],
   "source": [
    "data_games['rating'] = data_games['rating'].fillna(\"unknown\")\n",
    "print (data_games.head (10))"
   ]
  },
  {
   "cell_type": "code",
   "execution_count": 8,
   "metadata": {
    "scrolled": true
   },
   "outputs": [
    {
     "name": "stdout",
     "output_type": "stream",
     "text": [
      "                       name platform  year_of_release         genre  na_sales  \\\n",
      "0                Wii Sports      Wii             2006        Sports     41.36   \n",
      "1         Super Mario Bros.      NES             1985      Platform     29.08   \n",
      "2            Mario Kart Wii      Wii             2008        Racing     15.68   \n",
      "3         Wii Sports Resort      Wii             2009        Sports     15.61   \n",
      "4  Pokemon Red/Pokemon Blue       GB             1996  Role-Playing     11.27   \n",
      "\n",
      "   eu_sales  jp_sales  other_sales  critic_score  user_score   rating  \\\n",
      "0     28.96      3.77         8.45          76.0         8.0        E   \n",
      "1      3.58      6.81         0.77           NaN         NaN  unknown   \n",
      "2     12.76      3.79         3.29          82.0         8.3        E   \n",
      "3     10.93      3.28         2.95          80.0         8.0        E   \n",
      "4      8.89     10.22         1.00           NaN         NaN  unknown   \n",
      "\n",
      "   sales_sum  \n",
      "0      82.54  \n",
      "1      40.24  \n",
      "2      35.52  \n",
      "3      32.77  \n",
      "4      31.38  \n"
     ]
    }
   ],
   "source": [
    "#добаляем столбец с суммарными продажами\n",
    "\n",
    "data_games ['sales_sum']= data_games[['na_sales','eu_sales','jp_sales', 'other_sales']].sum(axis = 1)\n",
    "print (data_games.head (5))\n",
    "\n"
   ]
  },
  {
   "cell_type": "markdown",
   "metadata": {
    "scrolled": true
   },
   "source": [
    "Мы не можем заполнить оценки, поскольку вряд ли эта величина коррелирует с чем-то еще. То же касается и рейтинга. \n",
    "Пропуски могут быть связаны с тем, что каким-то играм просто не было оценок, например, в силу года выхода. "
   ]
  },
  {
   "cell_type": "markdown",
   "metadata": {},
   "source": [
    "### Часть 3. Исследовательский анализ данных\n",
    "\n",
    "1) Посмотрите, сколько игр выпускалось в разные годы. Важны ли данные за все периоды?\n",
    "2) Посмотрите, как менялись продажи по платформам. Выберите платформы с наибольшими суммарными продажами и постройте распределение по годам. За какой характерный срок появляются новые и исчезают старые платформы?\n",
    "3) Возьмите данные за соответствующий актуальный период. Актуальный период определите самостоятельно в результате исследования предыдущих вопросов. Основной фактор — эти данные помогут построить прогноз на 2017 год.\n",
    "4) Не учитывайте в работе данные за предыдущие годы.\n",
    "5) Какие платформы лидируют по продажам, растут или падают? Выберите несколько потенциально прибыльных платформ.\n",
    "6) Постройте график «ящик с усами» по глобальным продажам игр в разбивке по платформам. Опишите результат.\n",
    "7) Посмотрите, как влияют на продажи внутри одной популярной платформы отзывы пользователей и критиков. Постройте диаграмму рассеяния и посчитайте корреляцию между отзывами и продажами. Сформулируйте выводы.\n",
    "8) Соотнесите выводы с продажами игр на других платформах.\n",
    "9) Посмотрите на общее распределение игр по жанрам. Что можно сказать о самых прибыльных жанрах? Выделяются ли жанры с высокими и низкими продажами?"
   ]
  },
  {
   "cell_type": "code",
   "execution_count": 9,
   "metadata": {},
   "outputs": [
    {
     "data": {
      "image/png": "[encoded data removed]",
      "text/plain": [
       "<Figure size 1296x360 with 1 Axes>"
      ]
     },
     "metadata": {
      "needs_background": "light"
     },
     "output_type": "display_data"
    }
   ],
   "source": [
    "#Посмотрим, сколько игр выпускалось в разные годы. Важны ли данные за все периоды?\n",
    "plt.figure(figsize=(18, 5))\n",
    "sns.countplot(data = data_games, x='year_of_release')\n",
    "plt.title('Количество выпущенных игр по годам')\n",
    "plt.xlabel(\"Год выпуска\")\n",
    "plt.ylabel(\"Продажи\")\n",
    "plt.show()\n"
   ]
  },
  {
   "cell_type": "markdown",
   "metadata": {},
   "source": [
    "Большинство игр было выпущено с 2005 по 2015 год. Однако для исследования нам больше подойдут данный с 2014 по 2016 год, поскольку это ближе к прогнозной дате, а индустрия игр быстро меняется. "
   ]
  },
  {
   "cell_type": "code",
   "execution_count": 10,
   "metadata": {},
   "outputs": [
    {
     "data": {
      "image/png": "[encoded data removed]",
      "text/plain": [
       "<Figure size 1008x432 with 1 Axes>"
      ]
     },
     "metadata": {
      "needs_background": "light"
     },
     "output_type": "display_data"
    }
   ],
   "source": [
    "#Построим распределение по годам по платформам с наибольшими суммарными продажами. \n",
    "\n",
    "games_platform = data_games.pivot_table(index = 'platform', values = 'sales_sum', aggfunc='sum')\n",
    "games_platform.plot.bar(style='o-', figsize=(14,6), grid=True)\n",
    "plt.title('Количество продаж платформ по годам')\n",
    "plt.xlabel(\"Платформа\")\n",
    "plt.ylabel(\"Продажи\")\n",
    "plt.show()\n"
   ]
  },
  {
   "cell_type": "markdown",
   "metadata": {},
   "source": [
    "Наиболе популярные платформы : DS, PS2, PS3, Wii, X360"
   ]
  },
  {
   "cell_type": "code",
   "execution_count": 11,
   "metadata": {
    "scrolled": false
   },
   "outputs": [
    {
     "data": {
      "image/png": "[encoded data removed]",
      "text/plain": [
       "<Figure size 720x216 with 1 Axes>"
      ]
     },
     "metadata": {
      "needs_background": "light"
     },
     "output_type": "display_data"
    },
    {
     "data": {
      "image/png": "[encoded data removed]",
      "text/plain": [
       "<Figure size 720x216 with 1 Axes>"
      ]
     },
     "metadata": {
      "needs_background": "light"
     },
     "output_type": "display_data"
    },
    {
     "data": {
      "image/png": "[encoded data removed]",
      "text/plain": [
       "<Figure size 720x216 with 1 Axes>"
      ]
     },
     "metadata": {
      "needs_background": "light"
     },
     "output_type": "display_data"
    },
    {
     "data": {
      "image/png": "[encoded data removed]",
      "text/plain": [
       "<Figure size 720x216 with 1 Axes>"
      ]
     },
     "metadata": {
      "needs_background": "light"
     },
     "output_type": "display_data"
    },
    {
     "data": {
      "image/png": "[encoded data removed]",
      "text/plain": [
       "<Figure size 720x216 with 1 Axes>"
      ]
     },
     "metadata": {
      "needs_background": "light"
     },
     "output_type": "display_data"
    },
    {
     "data": {
      "image/png": "[encoded data removed]",
      "text/plain": [
       "<Figure size 720x216 with 1 Axes>"
      ]
     },
     "metadata": {
      "needs_background": "light"
     },
     "output_type": "display_data"
    },
    {
     "data": {
      "image/png": "[encoded data removed]",
      "text/plain": [
       "<Figure size 720x216 with 1 Axes>"
      ]
     },
     "metadata": {
      "needs_background": "light"
     },
     "output_type": "display_data"
    },
    {
     "data": {
      "image/png": "[encoded data removed]",
      "text/plain": [
       "<Figure size 720x216 with 1 Axes>"
      ]
     },
     "metadata": {
      "needs_background": "light"
     },
     "output_type": "display_data"
    },
    {
     "data": {
      "image/png": "[encoded data removed]",
      "text/plain": [
       "<Figure size 720x216 with 1 Axes>"
      ]
     },
     "metadata": {
      "needs_background": "light"
     },
     "output_type": "display_data"
    },
    {
     "data": {
      "image/png": "[encoded data removed]",
      "text/plain": [
       "<Figure size 720x216 with 1 Axes>"
      ]
     },
     "metadata": {
      "needs_background": "light"
     },
     "output_type": "display_data"
    }
   ],
   "source": [
    "#Посмотрите, как менялись продажи по платформам.\n",
    "#Определим, за какой характерный срок появляются новые и исчезают старые платформы. \n",
    "\n",
    "platforms_top = data_games.pivot_table(index='platform', values='sales_sum', aggfunc='sum')\n",
    "platforms_top.columns=['sum']\n",
    "platforms_top = platforms_top.sort_values('sum', ascending = False).head(10)\n",
    "platforms_top = platforms_top.reset_index()\n",
    "for i in platforms_top['platform']:\n",
    "    data_games.query('platform ==@i').pivot_table(index='year_of_release', values='sales_sum', aggfunc='sum').plot(kind='bar', grid=True, figsize=(10, 3))\n",
    "    plt.title(i)"
   ]
  },
  {
   "cell_type": "markdown",
   "metadata": {},
   "source": [
    "Судя по графикам, новые платформы живут 7-10 лет и менее. При этом пик плопулярности приходится на середину пути. А вот стартуют все по-разному. У некоторых платформ старт сразу с высоких продаж, а у некоторых с низких и потом растут. \n",
    "Некоторые популярные платформы PSP, GBA, PS, Wi6, PS2 - потреяли продажи к периоду исследования. "
   ]
  },
  {
   "cell_type": "code",
   "execution_count": 12,
   "metadata": {},
   "outputs": [
    {
     "name": "stdout",
     "output_type": "stream",
     "text": [
      "                                          name platform  year_of_release  \\\n",
      "31                   Call of Duty: Black Ops 3      PS4             2015   \n",
      "42                          Grand Theft Auto V      PS4             2014   \n",
      "47   Pokemon Omega Ruby/Pokemon Alpha Sapphire      3DS             2014   \n",
      "77                                     FIFA 16      PS4             2015   \n",
      "87                Star Wars Battlefront (2015)      PS4             2015   \n",
      "92              Call of Duty: Advanced Warfare      PS4             2014   \n",
      "94                                     FIFA 17      PS4             2016   \n",
      "96         Super Smash Bros. for Wii U and 3DS      3DS             2014   \n",
      "99                   Call of Duty: Black Ops 3     XOne             2015   \n",
      "105                                  Fallout 4      PS4             2015   \n",
      "\n",
      "            genre  na_sales  eu_sales  jp_sales  other_sales  critic_score  \\\n",
      "31        Shooter      6.03      5.86      0.36         2.38           NaN   \n",
      "42         Action      3.96      6.31      0.38         1.97          97.0   \n",
      "47   Role-Playing      4.35      3.49      3.10         0.74           NaN   \n",
      "77         Sports      1.12      6.12      0.06         1.28          82.0   \n",
      "87        Shooter      2.99      3.49      0.22         1.28           NaN   \n",
      "92        Shooter      2.81      3.48      0.14         1.23          83.0   \n",
      "94         Sports      0.66      5.75      0.08         1.11          85.0   \n",
      "96       Fighting      3.27      1.37      2.43         0.48           NaN   \n",
      "99        Shooter      4.59      2.11      0.01         0.68           NaN   \n",
      "105  Role-Playing      2.53      3.27      0.24         1.13          87.0   \n",
      "\n",
      "     user_score   rating  sales_sum  \n",
      "31          NaN  unknown      14.63  \n",
      "42          8.3        M      12.62  \n",
      "47          NaN  unknown      11.68  \n",
      "77          4.3        E       8.58  \n",
      "87          NaN  unknown       7.98  \n",
      "92          5.7        M       7.66  \n",
      "94          5.0        E       7.60  \n",
      "96          NaN  unknown       7.55  \n",
      "99          NaN  unknown       7.39  \n",
      "105         6.5        M       7.17  \n"
     ]
    }
   ],
   "source": [
    "#Возьмите данные за соответствующий актуальный период. Актуальный период определите самостоятельно в результате исследования предыдущих вопросов. Основной фактор — эти данные помогут построить прогноз на 2017 год.\n",
    "\n",
    "\n",
    "data_games_query = data_games.query('year_of_release >= 2014')\n",
    "print (data_games_query.head (10))\n"
   ]
  },
  {
   "cell_type": "markdown",
   "metadata": {},
   "source": [
    "Актуальный приод - с 2014 года, за 3 года до периода, на который нам надо стоить прогноз. "
   ]
  },
  {
   "cell_type": "code",
   "execution_count": 13,
   "metadata": {
    "scrolled": false
   },
   "outputs": [
    {
     "data": {
      "image/png": "[encoded data removed]",
      "text/plain": [
       "<Figure size 1166.4x432 with 1 Axes>"
      ]
     },
     "metadata": {
      "needs_background": "light"
     },
     "output_type": "display_data"
    }
   ],
   "source": [
    "#Какие платформы лидируют по продажам, растут или падают? Выберите несколько потенциально прибыльных платформ.\n",
    "#Постройте график «ящик с усами» по глобальным продажам игр в разбивке по платформам. Опишите результат\n",
    "\n",
    "data_games_query.pivot_table(index='platform', values='sales_sum', aggfunc='sum').nlargest(10, 'sales_sum')\n",
    "\n",
    "sns.catplot(x=\"platform\", \n",
    "            y='sales_sum', \n",
    "            kind=\"box\", \n",
    "            data= data_games_query, \n",
    "            orient='v', \n",
    "            height=6, \n",
    "            aspect=2.7, \n",
    "            palette='GnBu_d')\n",
    "plt.title('Продажи игр по платформам')\n",
    "_ = plt.ylim(0, 2)\n",
    "\n"
   ]
  },
  {
   "cell_type": "code",
   "execution_count": 14,
   "metadata": {},
   "outputs": [
    {
     "data": {
      "image/png": "[encoded data removed]",
      "text/plain": [
       "<Figure size 1080x576 with 1 Axes>"
      ]
     },
     "metadata": {
      "needs_background": "light"
     },
     "output_type": "display_data"
    },
    {
     "data": {
      "image/png": "[encoded data removed]",
      "text/plain": [
       "<Figure size 1080x576 with 1 Axes>"
      ]
     },
     "metadata": {
      "needs_background": "light"
     },
     "output_type": "display_data"
    },
    {
     "data": {
      "image/png": "[encoded data removed]",
      "text/plain": [
       "<Figure size 1080x576 with 1 Axes>"
      ]
     },
     "metadata": {
      "needs_background": "light"
     },
     "output_type": "display_data"
    },
    {
     "data": {
      "image/png": "[encoded data removed]",
      "text/plain": [
       "<Figure size 1080x576 with 1 Axes>"
      ]
     },
     "metadata": {
      "needs_background": "light"
     },
     "output_type": "display_data"
    },
    {
     "data": {
      "image/png": "[encoded data removed]",
      "text/plain": [
       "<Figure size 1080x576 with 1 Axes>"
      ]
     },
     "metadata": {
      "needs_background": "light"
     },
     "output_type": "display_data"
    }
   ],
   "source": [
    "#посмотрим зависимость продаж от оценки пользователей\n",
    "\n",
    "actual_platform = ['PS4', 'X360', '3DS', 'XOne', 'WiiU']\n",
    "for name_platform in actual_platform:\n",
    "    platform_data = data_games_query.query('platform == @name_platform')\n",
    "    platform_data.plot(kind='scatter', y='sales_sum' , x='user_score', alpha=0.5, subplots=True, figsize=(15,8), c = 'b', s = 4)\n",
    "    plt.title('Диаграмма рассеяния: оценка пользоватяля — общие продажи'+ name_platform)\n",
    " "
   ]
  },
  {
   "cell_type": "code",
   "execution_count": 15,
   "metadata": {},
   "outputs": [
    {
     "data": {
      "image/png": "[encoded data removed]",
      "text/plain": [
       "<Figure size 1080x576 with 1 Axes>"
      ]
     },
     "metadata": {
      "needs_background": "light"
     },
     "output_type": "display_data"
    },
    {
     "data": {
      "image/png": "[encoded data removed]",
      "text/plain": [
       "<Figure size 1080x576 with 1 Axes>"
      ]
     },
     "metadata": {
      "needs_background": "light"
     },
     "output_type": "display_data"
    },
    {
     "data": {
      "image/png": "[encoded data removed]",
      "text/plain": [
       "<Figure size 1080x576 with 1 Axes>"
      ]
     },
     "metadata": {
      "needs_background": "light"
     },
     "output_type": "display_data"
    },
    {
     "data": {
      "image/png": "[encoded data removed]",
      "text/plain": [
       "<Figure size 1080x576 with 1 Axes>"
      ]
     },
     "metadata": {
      "needs_background": "light"
     },
     "output_type": "display_data"
    },
    {
     "data": {
      "image/png": "[encoded data removed]",
      "text/plain": [
       "<Figure size 1080x576 with 1 Axes>"
      ]
     },
     "metadata": {
      "needs_background": "light"
     },
     "output_type": "display_data"
    },
    {
     "data": {
      "image/png": "[encoded data removed]",
      "text/plain": [
       "<Figure size 1080x576 with 1 Axes>"
      ]
     },
     "metadata": {
      "needs_background": "light"
     },
     "output_type": "display_data"
    }
   ],
   "source": [
    "#посмотрим зависимость продаж от оценки критиков\n",
    "\n",
    "actual_platform = ['PS4', 'PS3', 'X360', '3DS', 'XOne', 'Wi']\n",
    "for name_platform in actual_platform:\n",
    "    platform_data = data_games_query.query('platform == @name_platform')\n",
    "    platform_data.plot(kind='scatter', y='sales_sum' , x='critic_score', alpha=0.5, subplots=True, figsize=(15,8), c = 'b', s = 4)\n",
    "    plt.title('Диаграмма рассеяния: оценка пользоватяля — общие продажи'+ name_platform)"
   ]
  },
  {
   "cell_type": "markdown",
   "metadata": {},
   "source": [
    "Как ни странно, оценки пользователей не влияют на продажи, при этом оценки критиков имеют среднее влияни, то есть при повышенеии оценки есть рост продаж, однако нельзя назвать этот рост взрывным. Тенденция верна для всех платформ. "
   ]
  },
  {
   "cell_type": "code",
   "execution_count": 16,
   "metadata": {},
   "outputs": [
    {
     "name": "stdout",
     "output_type": "stream",
     "text": [
      "           genre  sales_sum\n",
      "0        Shooter      0.515\n",
      "1         Sports      0.180\n",
      "2       Platform      0.140\n",
      "3       Fighting      0.125\n",
      "4   Role-Playing      0.110\n",
      "5     Simulation      0.100\n",
      "6         Action      0.090\n",
      "7           Misc      0.090\n",
      "8         Racing      0.090\n",
      "9       Strategy      0.060\n",
      "10        Puzzle      0.045\n",
      "11     Adventure      0.030\n"
     ]
    }
   ],
   "source": [
    "#Посмотрите на общее распределение игр по жанрам. \n",
    "\n",
    "genre_sales = data_games_query.pivot_table(\n",
    "    index='genre', values='sales_sum', aggfunc= 'median').sort_values(by='sales_sum', ascending=False)\n",
    "genre_sales = genre_sales.reset_index().rename_axis(None, axis=1)\n",
    "print (genre_sales)"
   ]
  },
  {
   "cell_type": "markdown",
   "metadata": {},
   "source": [
    "Согласно распределению по жанрам, самый продаваемы - шутеры, количество продаж примерно в два раза больше, чем у ближайших конкурентов - спортивных, самые не популярные - паззлы и приключения. "
   ]
  },
  {
   "cell_type": "markdown",
   "metadata": {},
   "source": [
    "### Часть 4. Портрет пользователя каждого региона\n",
    "Определите для пользователя каждого региона (NA, EU, JP):\n",
    "1) Самые популярные платформы (топ-5). Опишите различия в долях продаж.\n",
    "2) Самые популярные жанры (топ-5). Поясните разницу.\n",
    "3) Влияет ли рейтинг ESRB на продажи в отдельном регионе?"
   ]
  },
  {
   "cell_type": "code",
   "execution_count": 17,
   "metadata": {},
   "outputs": [],
   "source": [
    "# Самые популярные платформы (топ-5). Опишите различия в долях продаж.\n",
    "\n",
    "na_sales = data_games_query.pivot_table(index='platform', values='na_sales', aggfunc='sum').nlargest(5, 'na_sales')\n",
    "na_sales.columns = ['sales_sum']\n",
    "\n",
    "eu_sales = data_games_query.pivot_table(index='platform', values='eu_sales', aggfunc='sum').nlargest(5, 'eu_sales')\n",
    "eu_sales.columns = ['sales_sum']\n",
    "\n",
    "jp_sales = data_games_query.pivot_table(index='platform', values='jp_sales', aggfunc='sum').nlargest(5, 'jp_sales')\n",
    "jp_sales.columns = ['sales_sum']\n"
   ]
  },
  {
   "cell_type": "code",
   "execution_count": 19,
   "metadata": {
    "scrolled": true
   },
   "outputs": [
    {
     "data": {
      "image/png": "[encoded data removed]",
      "text/plain": [
       "<Figure size 1440x576 with 1 Axes>"
      ]
     },
     "metadata": {
      "needs_background": "light"
     },
     "output_type": "display_data"
    }
   ],
   "source": [
    "#Узнаем популярность платформ\n",
    "\n",
    "# ТОП-5 самых популярных платформ в Северной Америке\n",
    "\n",
    "top_platform_na= data_games_query.groupby('platform')['na_sales'].sum().sort_values(ascending=False)\n",
    "top_platform_na.plot(x = 'platform', y = 'na_sales', kind = 'bar', figsize=(20,8), grid=True, title = 'ТОП-5 самых популярных платформ в Северной Америке')\n",
    "plt.xlabel('Платформа')\n",
    "plt.ylabel('Продажи экземпляров (млн.)')\n",
    "plt.show()\n"
   ]
  },
  {
   "cell_type": "code",
   "execution_count": 20,
   "metadata": {},
   "outputs": [
    {
     "data": {
      "image/png": "[encoded data removed]",
      "text/plain": [
       "<Figure size 1440x576 with 1 Axes>"
      ]
     },
     "metadata": {
      "needs_background": "light"
     },
     "output_type": "display_data"
    }
   ],
   "source": [
    "# ТОП-5 самых популярных платформ в Европе\n",
    "\n",
    "top_platform_na= data_games_query.groupby('platform')['eu_sales'].sum().sort_values(ascending=False)\n",
    "top_platform_na.plot(x = 'platform', y = 'eu_sales', kind = 'bar', figsize=(20,8), grid=True, title = 'ТОП-5 самых популярных платформ в Европе')\n",
    "plt.xlabel('Платформа')\n",
    "plt.ylabel('Продажи экземпляров (млн.)')\n",
    "plt.show()"
   ]
  },
  {
   "cell_type": "code",
   "execution_count": 21,
   "metadata": {},
   "outputs": [
    {
     "data": {
      "image/png": "[encoded data removed]",
      "text/plain": [
       "<Figure size 1440x576 with 1 Axes>"
      ]
     },
     "metadata": {
      "needs_background": "light"
     },
     "output_type": "display_data"
    }
   ],
   "source": [
    "# ТОП-5 самых популярных платформ в Японии\n",
    "\n",
    "top_platform_na= data_games_query.groupby('platform')['jp_sales'].sum().sort_values(ascending=False)\n",
    "top_platform_na.plot(x = 'platform', y = 'jp_sales', kind = 'bar', figsize=(20,8), grid=True, title = 'ТОП-5 самых популярных платформ в Японии')\n",
    "plt.xlabel('Платформа')\n",
    "plt.ylabel('Продажи экземпляров (млн.)')\n",
    "plt.show()"
   ]
  },
  {
   "cell_type": "markdown",
   "metadata": {},
   "source": [
    "Выводы: \n",
    "    1. ТОП-5 самых популярных платформ в Северной Америке: X360, PS2, WII, PS3, DS. \n",
    "    2. ТОП-5 самых пополярных платформ в Европе: PS2, PS3, X360, WII, PS.\n",
    "    3. ТОП-5 самых популярных платформ в Японии: DS, PS, PS2, SNES, 3DS. \n",
    "        \n",
    "В целом самые популярные платформы - во всем мире остаются самыми популярными. Есть небольшие отличиня, например в Японии, в отличие от Северной Америки и Европы, популярна SNES, а в Европе не встречается DS. "
   ]
  },
  {
   "cell_type": "code",
   "execution_count": 22,
   "metadata": {},
   "outputs": [
    {
     "data": {
      "image/png": "[encoded data removed]",
      "text/plain": [
       "<Figure size 432x288 with 1 Axes>"
      ]
     },
     "metadata": {},
     "output_type": "display_data"
    },
    {
     "data": {
      "image/png": "[encoded data removed]",
      "text/plain": [
       "<Figure size 432x288 with 1 Axes>"
      ]
     },
     "metadata": {},
     "output_type": "display_data"
    },
    {
     "data": {
      "image/png": "[encoded data removed]",
      "text/plain": [
       "<Figure size 432x288 with 1 Axes>"
      ]
     },
     "metadata": {},
     "output_type": "display_data"
    }
   ],
   "source": [
    "#Узнаем популярность жанров\n",
    "\n",
    "data_portraits = data_games.groupby('genre')['na_sales', 'eu_sales', 'jp_sales'].sum ()\n",
    "\n",
    "labels = list(data_portraits.index)\n",
    "sizes = data_portraits['na_sales']\n",
    "explode = (0, 0.1, 0, 0, 0, 0, 0, 0, 0, 0, 0, 0)  \n",
    " \n",
    "fig1, ax1 = plt.subplots()\n",
    "ax1.pie(sizes, explode=explode, labels=labels, autopct='%1.1f%%',\n",
    "        shadow=True, startangle=90)\n",
    "ax1.axis('equal') \n",
    "plt.title('Доли продаж по жанрам в Северной Америке')\n",
    " \n",
    "plt.show()\n",
    "\n",
    "data_portraits = data_games.groupby('genre')['na_sales', 'eu_sales', 'jp_sales'].sum ()\n",
    "\n",
    "labels = list(data_portraits.index)\n",
    "sizes = data_portraits['eu_sales']\n",
    "explode = (0, 0.1, 0, 0, 0, 0, 0, 0, 0, 0, 0, 0)  \n",
    " \n",
    "fig1, ax1 = plt.subplots()\n",
    "ax1.pie(sizes, explode=explode, labels=labels, autopct='%1.1f%%',\n",
    "        shadow=True, startangle=90)\n",
    "ax1.axis('equal') \n",
    "plt.title('Доли продаж по жанрам в Европе')\n",
    "plt.show()\n",
    "\n",
    "\n",
    "data_portraits = data_games.groupby('genre')['na_sales', 'eu_sales', 'jp_sales'].sum ()\n",
    "\n",
    "labels = list(data_portraits.index)\n",
    "sizes = data_portraits['jp_sales']\n",
    "explode = (0, 0.1, 0, 0, 0, 0, 0, 0, 0, 0, 0, 0)  \n",
    " \n",
    "fig1, ax1 = plt.subplots()\n",
    "ax1.pie(sizes, explode=explode, labels=labels, autopct='%1.1f%%',\n",
    "        shadow=True, startangle=90)\n",
    "ax1.axis('equal')  \n",
    "plt.title('Доли продаж по жанрам в Японии')\n",
    "plt.show()"
   ]
  },
  {
   "cell_type": "markdown",
   "metadata": {},
   "source": [
    "Выводы: \n",
    "    1. Самые популярные жанры в Северной Америке: Action, Sports, Shooter, Platform, Misc.\n",
    "    2. Самые популярные жанры в Европе: Action, Sports, Shooter, Racing, Strategy. \n",
    "    3. Самые популярные жанры в Японии: Role-Playing, Action, Sports, Platform, Misc. \n",
    "        \n",
    "Видим, что самая большая доля Северной Америке и Европе не совпадает с самым популярным жанром в Японии. Скорее всего, здесь имеет место различия в менталитете.\n"
   ]
  },
  {
   "cell_type": "code",
   "execution_count": 23,
   "metadata": {},
   "outputs": [
    {
     "data": {
      "image/png": "[encoded data removed]",
      "text/plain": [
       "<Figure size 1440x576 with 1 Axes>"
      ]
     },
     "metadata": {
      "needs_background": "light"
     },
     "output_type": "display_data"
    }
   ],
   "source": [
    "#Изучаем, влияет ли рейтинг ESRB на продажи в отдельном регионе\n",
    "rating_na = data_games.groupby('rating')['na_sales'].sum().sort_values(ascending=False)\n",
    "rating_na.plot(x = 'rating', y = 'na_sales', kind = 'bar', figsize=(20,8), grid=True, title = 'Влияние рейтинга ESRB на продажи в Северной Америке')\n",
    "plt.xlabel('Рейтинг')\n",
    "plt.ylabel('Продажи экземпляров (млн.)')\n",
    "plt.show()\n"
   ]
  },
  {
   "cell_type": "code",
   "execution_count": 24,
   "metadata": {},
   "outputs": [
    {
     "data": {
      "image/png": "[encoded data removed]",
      "text/plain": [
       "<Figure size 1440x576 with 1 Axes>"
      ]
     },
     "metadata": {
      "needs_background": "light"
     },
     "output_type": "display_data"
    }
   ],
   "source": [
    "rating_na = data_games.groupby('rating')['eu_sales'].sum().sort_values(ascending=False)\n",
    "rating_na.plot(x = 'rating', y = 'eu_sales', kind = 'bar', figsize=(20,8), grid=True, title = 'Влияние рейтинга ESRB на продажи в Европе')\n",
    "plt.xlabel('Рейтинг')\n",
    "plt.ylabel('Продажи экземпляров (млн.)')\n",
    "plt.show()"
   ]
  },
  {
   "cell_type": "code",
   "execution_count": 25,
   "metadata": {
    "scrolled": true
   },
   "outputs": [
    {
     "data": {
      "image/png": "[encoded data removed]",
      "text/plain": [
       "<Figure size 1440x576 with 1 Axes>"
      ]
     },
     "metadata": {
      "needs_background": "light"
     },
     "output_type": "display_data"
    }
   ],
   "source": [
    "rating_na = data_games.groupby('rating')['jp_sales'].sum().sort_values(ascending=False)\n",
    "rating_na.plot(x = 'rating', y = 'jp_sales', kind = 'bar', figsize=(20,8), grid=True, title = 'Влияние рейтинга ESRB на продажи в Японии')\n",
    "plt.xlabel('Рейтинг')\n",
    "plt.ylabel('Продажи экземпляров (млн.)')\n",
    "plt.show()"
   ]
  },
  {
   "cell_type": "markdown",
   "metadata": {},
   "source": [
    "Вывод: к сожалению, самое большое количество платформ с неизвестным рейтингом, во всех странах колиество продаж игр с рейтнгом E - выше. Далее - T и M в Японии и Северной Америке, и M и T - в Европе. Это означает, что самое большое количество продаж у игр с возарастными ограничениями 6+. Но это можно объяснить не столько популярностью детских игр, сколько тем, что это увеличивает выборку. "
   ]
  },
  {
   "cell_type": "markdown",
   "metadata": {},
   "source": [
    "### Часть 5. Проверка гипотез\n",
    "1) Средние пользовательские рейтинги платформ Xbox One и PC одинаковые.\n",
    "2) Средние пользовательские рейтинги жанров Action (англ. «действие», экшен-игры) и Sports (англ. «спортивные соревнования») разные.\n",
    "3) Задайте самостоятельно пороговое значение alpha."
   ]
  },
  {
   "cell_type": "markdown",
   "metadata": {},
   "source": [
    "Нулевая гипотеза - средний пользовательский рейтинг платформы Xbox One равен среднему пользовательскому рейтингу платформы PC. \n",
    "Альтернативная гипотеза - средний пользовательский рейтинг платформы Xbox One больше или меньше среднего пользовательского рейтинга платформы PC. \n",
    "alpha = 0.05"
   ]
  },
  {
   "cell_type": "code",
   "execution_count": 26,
   "metadata": {},
   "outputs": [
    {
     "name": "stdout",
     "output_type": "stream",
     "text": [
      "p-значение: 0.11601398086668832\n",
      "Не получилось отвергнуть нулевую гипотезу\n"
     ]
    }
   ],
   "source": [
    "#Проверяем гипотезу, что средние пользовательские рейтинги платформ Xbox One и PC одинаковые\n",
    "\n",
    "XOne = data_games_query[(data_games_query['platform'] == 'XOne') &  (data_games_query['user_score'] > 0)]['user_score']\n",
    "PC = data_games_query[(data_games_query['platform'] == 'PC') &  (data_games_query['user_score'] > 0)]['user_score']\n",
    "alpha = .05\n",
    "\n",
    "results = st.ttest_ind(XOne, PC, equal_var=False)\n",
    "\n",
    "print('p-значение:', results.pvalue)\n",
    "\n",
    "\n",
    "if (results.pvalue < alpha):\n",
    "    print(\"Отвергаем нулевую гипотезу\")\n",
    "else:\n",
    "    print(\"Не получилось отвергнуть нулевую гипотезу\")"
   ]
  },
  {
   "cell_type": "markdown",
   "metadata": {},
   "source": [
    "Нулевая гипотеза - средний пользовательский рейтинг Action не равен среднему пользовательскому рейтингу Sports. \n",
    "Альтернативная гипотеза - средний пользовательский рейтинг Action больше или меньше среднего пользовательского рейтинга Sports. \n",
    "alpha = 0.05"
   ]
  },
  {
   "cell_type": "code",
   "execution_count": 27,
   "metadata": {
    "scrolled": true
   },
   "outputs": [
    {
     "name": "stdout",
     "output_type": "stream",
     "text": [
      "p-значение:  2.8711147985105864e-19\n",
      "Отвергаем нулевую гипотезу\n"
     ]
    }
   ],
   "source": [
    "# Проверяем гипотезу, что средние пользовательские рейтинги жанров Action (англ. «действие», экшен-игры) и Sports (англ. «спортивные соревнования») разные.\n",
    "\n",
    "#data_games_query = data_games[data_games['user_score'] != -1]\n",
    "Action = data_games_query[(data_games_query['genre'] == 'Action') &  (data_games_query['user_score'] > 0)]['user_score']\n",
    "Sports = data_games_query[(data_games_query['genre'] == 'Sports') &  (data_games_query['user_score'] > 0)]['user_score']\n",
    "alpha = .05 \n",
    "results = st.ttest_ind(\n",
    "Action,\n",
    "Sports)\n",
    "print('p-значение: ', results.pvalue)\n",
    "if results.pvalue != alpha:\n",
    "    print(\"Отвергаем нулевую гипотезу\")\n",
    "else:\n",
    "    print(\"Не получилось отвергнуть нулевую гипотезу\") \n",
    "\n",
    "\n",
    "    \n",
    "\n"
   ]
  },
  {
   "cell_type": "markdown",
   "metadata": {},
   "source": [
    "### Общий вывод:\n",
    "\n",
    "В проекте проведена работа по исследованию продаж разных игр. Для этого данные необходимо было предобработать, заменить пропуски и привести информацию к более удобному виду. Все промежуточные выводы указаны в самом проекте.\n",
    "\n",
    "Основной целью было составть прогноз на 2017 год. Посколько только две платформы к прогнозному периоды имели достаточно большие продажи и оставались в тренде имеет смысл обратить внимание именно на них. Это PS4 и XOne. Из жанров предпочтения в Северной Америке: Action, Sports, Shooter, Platform, Misc, в Европе: Action, Sports, Shooter, Racing, Strategy, в Японии: Role-Playing, Action, Sports, Platform, Misc. Так что если нужно выбрать только один жанр, то это Action.\n",
    "\n",
    "Что касается возрастных ограничений, то всех странах колиество продаж игр с рейтнгом E - выше. Далее - T и M в Японии и Северной Америке, и M и T - в Европе. Это означает, что самое большое количество продаж у игр с возарастными ограничениями 6+. Но это можно объяснить не столько популярностью детских игр, сколько тем, что это увеличивает выборку.\n",
    "\n",
    "Интересн тот факт, что оценки пользователей не влияют на продажи, а вот оценки критиков - да. Вероятно при выборе игр дл"
   ]
  },
  {
   "cell_type": "code",
   "execution_count": null,
   "metadata": {},
   "outputs": [],
   "source": []
  }
 ],
 "metadata": {
  "ExecuteTimeLog": [
   {
    "duration": 620,
    "start_time": "2022-10-10T19:44:00.059Z"
   },
   {
    "duration": 84,
    "start_time": "2022-10-10T19:44:27.024Z"
   },
   {
    "duration": 445,
    "start_time": "2022-10-11T12:30:03.049Z"
   },
   {
    "duration": 10,
    "start_time": "2022-10-11T12:30:05.947Z"
   },
   {
    "duration": 3,
    "start_time": "2022-10-11T12:30:42.984Z"
   },
   {
    "duration": 1183,
    "start_time": "2022-10-11T15:17:37.492Z"
   },
   {
    "duration": 1182,
    "start_time": "2022-10-11T15:19:07.444Z"
   },
   {
    "duration": 937,
    "start_time": "2022-10-11T15:19:18.762Z"
   },
   {
    "duration": 13,
    "start_time": "2022-10-11T15:19:46.844Z"
   },
   {
    "duration": 48,
    "start_time": "2022-10-11T20:05:23.347Z"
   },
   {
    "duration": 510,
    "start_time": "2022-10-11T20:05:31.293Z"
   },
   {
    "duration": 14,
    "start_time": "2022-10-11T20:05:34.408Z"
   },
   {
    "duration": 31,
    "start_time": "2022-10-11T20:05:51.952Z"
   },
   {
    "duration": 14,
    "start_time": "2022-10-11T20:17:39.285Z"
   },
   {
    "duration": 12,
    "start_time": "2022-10-11T20:18:44.663Z"
   },
   {
    "duration": 13,
    "start_time": "2022-10-11T20:19:25.299Z"
   },
   {
    "duration": 978,
    "start_time": "2022-10-11T20:20:21.355Z"
   },
   {
    "duration": 15,
    "start_time": "2022-10-11T20:20:24.147Z"
   },
   {
    "duration": 46,
    "start_time": "2022-10-11T20:20:24.830Z"
   },
   {
    "duration": 13,
    "start_time": "2022-10-11T20:20:25.843Z"
   },
   {
    "duration": 8,
    "start_time": "2022-10-11T20:22:15.743Z"
   },
   {
    "duration": 10,
    "start_time": "2022-10-11T20:22:39.949Z"
   },
   {
    "duration": 9,
    "start_time": "2022-10-11T20:22:48.603Z"
   },
   {
    "duration": 32,
    "start_time": "2022-10-11T20:23:01.092Z"
   },
   {
    "duration": 8,
    "start_time": "2022-10-11T20:25:25.803Z"
   },
   {
    "duration": 12,
    "start_time": "2022-10-11T20:34:43.321Z"
   },
   {
    "duration": 12,
    "start_time": "2022-10-11T20:37:31.083Z"
   },
   {
    "duration": 12,
    "start_time": "2022-10-11T20:37:43.451Z"
   },
   {
    "duration": 11,
    "start_time": "2022-10-11T20:38:43.100Z"
   },
   {
    "duration": 85,
    "start_time": "2022-10-11T20:41:18.841Z"
   },
   {
    "duration": 89,
    "start_time": "2022-10-11T20:41:25.410Z"
   },
   {
    "duration": 17,
    "start_time": "2022-10-11T20:41:34.467Z"
   },
   {
    "duration": 78,
    "start_time": "2022-10-11T20:46:04.683Z"
   },
   {
    "duration": 81,
    "start_time": "2022-10-11T20:50:42.299Z"
   },
   {
    "duration": 4,
    "start_time": "2022-10-11T21:04:09.702Z"
   },
   {
    "duration": 10,
    "start_time": "2022-10-11T21:04:27.917Z"
   },
   {
    "duration": 8,
    "start_time": "2022-10-11T21:04:41.281Z"
   },
   {
    "duration": 302,
    "start_time": "2022-10-11T21:05:20.199Z"
   },
   {
    "duration": 354,
    "start_time": "2022-10-11T21:05:47.724Z"
   },
   {
    "duration": 18,
    "start_time": "2022-10-11T21:07:51.403Z"
   },
   {
    "duration": 13,
    "start_time": "2022-10-11T21:10:43.285Z"
   },
   {
    "duration": 17,
    "start_time": "2022-10-11T21:15:05.825Z"
   },
   {
    "duration": 15,
    "start_time": "2022-10-11T21:15:17.486Z"
   },
   {
    "duration": 12,
    "start_time": "2022-10-11T21:18:45.491Z"
   },
   {
    "duration": 12,
    "start_time": "2022-10-11T21:23:15.282Z"
   },
   {
    "duration": 13,
    "start_time": "2022-10-11T21:23:32.041Z"
   },
   {
    "duration": 17,
    "start_time": "2022-10-11T21:33:43.393Z"
   },
   {
    "duration": 13,
    "start_time": "2022-10-11T21:34:59.843Z"
   },
   {
    "duration": 15,
    "start_time": "2022-10-11T21:35:51.631Z"
   },
   {
    "duration": 10,
    "start_time": "2022-10-11T21:40:28.394Z"
   },
   {
    "duration": 17,
    "start_time": "2022-10-11T21:40:51.105Z"
   },
   {
    "duration": 15,
    "start_time": "2022-10-11T21:41:53.274Z"
   },
   {
    "duration": 17,
    "start_time": "2022-10-11T21:41:59.229Z"
   },
   {
    "duration": 12,
    "start_time": "2022-10-11T21:43:40.115Z"
   },
   {
    "duration": 17,
    "start_time": "2022-10-11T21:44:06.304Z"
   },
   {
    "duration": 11,
    "start_time": "2022-10-11T21:44:28.156Z"
   },
   {
    "duration": 7,
    "start_time": "2022-10-11T21:49:44.082Z"
   },
   {
    "duration": 1449,
    "start_time": "2022-10-12T14:35:14.127Z"
   },
   {
    "duration": 13,
    "start_time": "2022-10-12T14:35:16.927Z"
   },
   {
    "duration": 99,
    "start_time": "2022-10-12T14:35:17.737Z"
   },
   {
    "duration": 107,
    "start_time": "2022-10-12T14:35:18.479Z"
   },
   {
    "duration": 18,
    "start_time": "2022-10-12T15:30:46.539Z"
   },
   {
    "duration": 1559,
    "start_time": "2022-10-12T20:06:26.243Z"
   },
   {
    "duration": 14,
    "start_time": "2022-10-12T20:06:28.384Z"
   },
   {
    "duration": 104,
    "start_time": "2022-10-12T20:06:29.059Z"
   },
   {
    "duration": 19,
    "start_time": "2022-10-12T20:06:30.098Z"
   },
   {
    "duration": 14,
    "start_time": "2022-10-12T20:06:30.945Z"
   },
   {
    "duration": 312,
    "start_time": "2022-10-12T20:28:15.736Z"
   },
   {
    "duration": 426,
    "start_time": "2022-10-12T20:40:26.020Z"
   },
   {
    "duration": 417,
    "start_time": "2022-10-12T20:40:45.691Z"
   },
   {
    "duration": 271,
    "start_time": "2022-10-12T20:41:59.177Z"
   },
   {
    "duration": 408,
    "start_time": "2022-10-12T20:42:12.109Z"
   },
   {
    "duration": 5,
    "start_time": "2022-10-12T20:53:51.216Z"
   },
   {
    "duration": 121,
    "start_time": "2022-10-12T20:54:15.012Z"
   },
   {
    "duration": 16,
    "start_time": "2022-10-12T20:57:01.389Z"
   },
   {
    "duration": 301,
    "start_time": "2022-10-12T20:57:28.673Z"
   },
   {
    "duration": 18,
    "start_time": "2022-10-12T21:23:27.347Z"
   },
   {
    "duration": 17,
    "start_time": "2022-10-12T21:24:17.862Z"
   },
   {
    "duration": 12,
    "start_time": "2022-10-12T21:27:16.668Z"
   },
   {
    "duration": 10,
    "start_time": "2022-10-12T21:28:46.871Z"
   },
   {
    "duration": 464,
    "start_time": "2022-10-12T21:29:13.136Z"
   },
   {
    "duration": 13,
    "start_time": "2022-10-12T21:36:48.191Z"
   },
   {
    "duration": 21,
    "start_time": "2022-10-12T21:37:28.966Z"
   },
   {
    "duration": 21,
    "start_time": "2022-10-12T21:38:17.680Z"
   },
   {
    "duration": 20,
    "start_time": "2022-10-12T21:38:22.205Z"
   },
   {
    "duration": 1965,
    "start_time": "2022-10-12T21:38:34.015Z"
   },
   {
    "duration": 56,
    "start_time": "2022-10-13T07:05:38.869Z"
   },
   {
    "duration": 44,
    "start_time": "2022-10-15T08:53:35.179Z"
   },
   {
    "duration": 1350,
    "start_time": "2022-10-15T08:53:43.365Z"
   },
   {
    "duration": 11,
    "start_time": "2022-10-15T08:53:45.608Z"
   },
   {
    "duration": 89,
    "start_time": "2022-10-15T08:53:46.379Z"
   },
   {
    "duration": 14,
    "start_time": "2022-10-15T08:53:47.301Z"
   },
   {
    "duration": 10,
    "start_time": "2022-10-15T08:53:47.914Z"
   },
   {
    "duration": 317,
    "start_time": "2022-10-15T08:53:49.328Z"
   },
   {
    "duration": 166,
    "start_time": "2022-10-15T08:53:50.830Z"
   },
   {
    "duration": 1495,
    "start_time": "2022-10-15T08:53:52.681Z"
   },
   {
    "duration": 48,
    "start_time": "2022-10-15T08:53:55.444Z"
   },
   {
    "duration": 63,
    "start_time": "2022-10-15T08:54:32.918Z"
   },
   {
    "duration": 575,
    "start_time": "2022-10-15T08:55:27.496Z"
   },
   {
    "duration": 9,
    "start_time": "2022-10-15T08:59:24.151Z"
   },
   {
    "duration": 12,
    "start_time": "2022-10-15T09:03:45.592Z"
   },
   {
    "duration": 12,
    "start_time": "2022-10-15T09:04:20.880Z"
   },
   {
    "duration": 12,
    "start_time": "2022-10-15T09:04:30.611Z"
   },
   {
    "duration": 10,
    "start_time": "2022-10-15T09:05:56.981Z"
   },
   {
    "duration": 6,
    "start_time": "2022-10-15T09:07:21.754Z"
   },
   {
    "duration": 8,
    "start_time": "2022-10-15T09:12:01.367Z"
   },
   {
    "duration": 11,
    "start_time": "2022-10-15T09:12:45.712Z"
   },
   {
    "duration": 152,
    "start_time": "2022-10-15T09:12:55.886Z"
   },
   {
    "duration": 10,
    "start_time": "2022-10-15T09:26:32.059Z"
   },
   {
    "duration": 12,
    "start_time": "2022-10-15T09:27:14.446Z"
   },
   {
    "duration": 10,
    "start_time": "2022-10-15T09:27:20.142Z"
   },
   {
    "duration": 14,
    "start_time": "2022-10-15T09:27:37.435Z"
   },
   {
    "duration": 829,
    "start_time": "2022-10-15T09:27:59.031Z"
   },
   {
    "duration": 18,
    "start_time": "2022-10-15T09:28:18.003Z"
   },
   {
    "duration": 17,
    "start_time": "2022-10-15T09:29:07.547Z"
   },
   {
    "duration": 20,
    "start_time": "2022-10-15T09:29:24.446Z"
   },
   {
    "duration": 501,
    "start_time": "2022-10-15T09:29:57.358Z"
   },
   {
    "duration": 10,
    "start_time": "2022-10-15T09:43:11.661Z"
   },
   {
    "duration": 804,
    "start_time": "2022-10-15T09:44:13.474Z"
   },
   {
    "duration": 857,
    "start_time": "2022-10-15T09:44:49.268Z"
   },
   {
    "duration": 965,
    "start_time": "2022-10-15T09:48:10.843Z"
   },
   {
    "duration": 821,
    "start_time": "2022-10-15T09:54:41.984Z"
   },
   {
    "duration": 13,
    "start_time": "2022-10-15T09:56:24.089Z"
   },
   {
    "duration": 48,
    "start_time": "2022-10-15T09:56:24.982Z"
   },
   {
    "duration": 431,
    "start_time": "2022-10-15T09:56:25.894Z"
   },
   {
    "duration": 879,
    "start_time": "2022-10-15T09:56:27.428Z"
   },
   {
    "duration": 929,
    "start_time": "2022-10-15T10:01:11.118Z"
   },
   {
    "duration": 974,
    "start_time": "2022-10-15T10:01:51.158Z"
   },
   {
    "duration": 835,
    "start_time": "2022-10-15T10:02:15.872Z"
   },
   {
    "duration": 851,
    "start_time": "2022-10-15T10:02:58.276Z"
   },
   {
    "duration": 1045,
    "start_time": "2022-10-15T10:03:57.609Z"
   },
   {
    "duration": 12,
    "start_time": "2022-10-15T10:32:54.291Z"
   },
   {
    "duration": 9,
    "start_time": "2022-10-15T10:33:31.282Z"
   },
   {
    "duration": 12,
    "start_time": "2022-10-15T10:33:34.898Z"
   },
   {
    "duration": 23,
    "start_time": "2022-10-15T10:34:40.009Z"
   },
   {
    "duration": 10,
    "start_time": "2022-10-15T10:35:24.827Z"
   },
   {
    "duration": 15,
    "start_time": "2022-10-15T10:35:44.220Z"
   },
   {
    "duration": 13,
    "start_time": "2022-10-15T10:36:00.567Z"
   },
   {
    "duration": 11,
    "start_time": "2022-10-15T11:00:14.441Z"
   },
   {
    "duration": 31,
    "start_time": "2022-10-15T11:00:47.000Z"
   },
   {
    "duration": 22,
    "start_time": "2022-10-15T11:00:51.371Z"
   },
   {
    "duration": 33,
    "start_time": "2022-10-15T11:01:35.510Z"
   },
   {
    "duration": 30,
    "start_time": "2022-10-15T11:07:00.068Z"
   },
   {
    "duration": 36,
    "start_time": "2022-10-15T11:09:01.867Z"
   },
   {
    "duration": 122,
    "start_time": "2022-10-15T13:16:40.331Z"
   },
   {
    "duration": 129,
    "start_time": "2022-10-15T13:17:39.771Z"
   },
   {
    "duration": 27,
    "start_time": "2022-10-15T13:23:48.269Z"
   },
   {
    "duration": 221,
    "start_time": "2022-10-15T13:24:50.313Z"
   },
   {
    "duration": 728,
    "start_time": "2022-10-15T13:25:45.552Z"
   },
   {
    "duration": 32,
    "start_time": "2022-10-15T13:25:57.489Z"
   },
   {
    "duration": 31,
    "start_time": "2022-10-15T13:27:22.479Z"
   },
   {
    "duration": 196,
    "start_time": "2022-10-15T13:27:36.668Z"
   },
   {
    "duration": 70,
    "start_time": "2022-10-15T13:28:03.543Z"
   },
   {
    "duration": 448,
    "start_time": "2022-10-15T13:28:13.888Z"
   },
   {
    "duration": 671,
    "start_time": "2022-10-15T13:28:58.226Z"
   },
   {
    "duration": 546,
    "start_time": "2022-10-15T13:30:04.838Z"
   },
   {
    "duration": 26,
    "start_time": "2022-10-15T13:57:32.066Z"
   },
   {
    "duration": 524,
    "start_time": "2022-10-15T13:57:32.950Z"
   },
   {
    "duration": 108,
    "start_time": "2022-10-15T14:00:35.720Z"
   },
   {
    "duration": 21,
    "start_time": "2022-10-15T14:00:49.083Z"
   },
   {
    "duration": 96,
    "start_time": "2022-10-15T14:00:50.020Z"
   },
   {
    "duration": 528,
    "start_time": "2022-10-15T14:01:13.123Z"
   },
   {
    "duration": 206,
    "start_time": "2022-10-15T14:01:39.149Z"
   },
   {
    "duration": 96,
    "start_time": "2022-10-15T14:01:57.248Z"
   },
   {
    "duration": 53,
    "start_time": "2022-10-15T14:05:05.679Z"
   },
   {
    "duration": 189,
    "start_time": "2022-10-15T14:05:20.876Z"
   },
   {
    "duration": 294,
    "start_time": "2022-10-15T14:05:57.036Z"
   },
   {
    "duration": 549,
    "start_time": "2022-10-15T14:11:57.076Z"
   },
   {
    "duration": 682,
    "start_time": "2022-10-15T14:12:24.983Z"
   },
   {
    "duration": 99,
    "start_time": "2022-10-15T15:08:34.619Z"
   },
   {
    "duration": 101,
    "start_time": "2022-10-15T15:08:42.802Z"
   },
   {
    "duration": 55,
    "start_time": "2022-10-15T15:11:22.456Z"
   },
   {
    "duration": 165,
    "start_time": "2022-10-15T15:11:46.371Z"
   },
   {
    "duration": 302,
    "start_time": "2022-10-15T15:16:15.816Z"
   },
   {
    "duration": 287,
    "start_time": "2022-10-15T15:18:21.771Z"
   },
   {
    "duration": 415,
    "start_time": "2022-10-15T15:20:10.858Z"
   },
   {
    "duration": 354,
    "start_time": "2022-10-15T15:20:14.378Z"
   },
   {
    "duration": 197,
    "start_time": "2022-10-15T15:33:13.898Z"
   },
   {
    "duration": 172,
    "start_time": "2022-10-15T15:36:52.773Z"
   },
   {
    "duration": 169,
    "start_time": "2022-10-15T15:36:59.187Z"
   },
   {
    "duration": 78,
    "start_time": "2022-10-15T18:24:55.661Z"
   },
   {
    "duration": 91,
    "start_time": "2022-10-15T18:25:03.040Z"
   },
   {
    "duration": 49,
    "start_time": "2022-10-15T18:25:13.522Z"
   },
   {
    "duration": 1684,
    "start_time": "2022-10-15T18:25:22.199Z"
   },
   {
    "duration": 13,
    "start_time": "2022-10-15T18:25:24.258Z"
   },
   {
    "duration": 102,
    "start_time": "2022-10-15T18:25:24.832Z"
   },
   {
    "duration": 27,
    "start_time": "2022-10-15T18:25:25.367Z"
   },
   {
    "duration": 12,
    "start_time": "2022-10-15T18:25:25.781Z"
   },
   {
    "duration": 347,
    "start_time": "2022-10-15T18:25:26.454Z"
   },
   {
    "duration": 226,
    "start_time": "2022-10-15T18:25:27.104Z"
   },
   {
    "duration": 1980,
    "start_time": "2022-10-15T18:25:27.651Z"
   },
   {
    "duration": 14,
    "start_time": "2022-10-15T18:25:29.633Z"
   },
   {
    "duration": 66,
    "start_time": "2022-10-15T18:25:29.649Z"
   },
   {
    "duration": 0,
    "start_time": "2022-10-15T18:25:29.717Z"
   },
   {
    "duration": 0,
    "start_time": "2022-10-15T18:25:29.718Z"
   },
   {
    "duration": 0,
    "start_time": "2022-10-15T18:25:29.719Z"
   },
   {
    "duration": 0,
    "start_time": "2022-10-15T18:25:29.721Z"
   },
   {
    "duration": 129,
    "start_time": "2022-10-15T18:25:30.186Z"
   },
   {
    "duration": 704,
    "start_time": "2022-10-15T18:25:30.413Z"
   },
   {
    "duration": 378,
    "start_time": "2022-10-15T18:25:31.119Z"
   },
   {
    "duration": 380,
    "start_time": "2022-10-15T18:25:31.498Z"
   },
   {
    "duration": 424,
    "start_time": "2022-10-15T18:25:31.889Z"
   },
   {
    "duration": 762,
    "start_time": "2022-10-15T18:25:32.316Z"
   },
   {
    "duration": 232,
    "start_time": "2022-10-15T18:25:33.081Z"
   },
   {
    "duration": 224,
    "start_time": "2022-10-15T18:25:33.315Z"
   },
   {
    "duration": 217,
    "start_time": "2022-10-15T18:25:33.541Z"
   },
   {
    "duration": 77,
    "start_time": "2022-10-15T18:25:33.760Z"
   },
   {
    "duration": 0,
    "start_time": "2022-10-15T18:25:33.839Z"
   },
   {
    "duration": 15,
    "start_time": "2022-10-15T18:25:51.189Z"
   },
   {
    "duration": 106,
    "start_time": "2022-10-15T18:30:27.384Z"
   },
   {
    "duration": 238,
    "start_time": "2022-10-15T18:35:24.309Z"
   },
   {
    "duration": 166,
    "start_time": "2022-10-15T18:35:41.263Z"
   },
   {
    "duration": 86,
    "start_time": "2022-10-15T18:35:50.159Z"
   },
   {
    "duration": 74,
    "start_time": "2022-10-15T18:36:09.821Z"
   },
   {
    "duration": 10,
    "start_time": "2022-10-15T18:36:15.847Z"
   },
   {
    "duration": 17,
    "start_time": "2022-10-15T18:36:42.805Z"
   },
   {
    "duration": 1473,
    "start_time": "2022-10-16T09:44:15.911Z"
   },
   {
    "duration": 10,
    "start_time": "2022-10-16T09:44:17.386Z"
   },
   {
    "duration": 88,
    "start_time": "2022-10-16T09:44:17.397Z"
   },
   {
    "duration": 18,
    "start_time": "2022-10-16T09:44:17.487Z"
   },
   {
    "duration": 9,
    "start_time": "2022-10-16T09:44:17.507Z"
   },
   {
    "duration": 326,
    "start_time": "2022-10-16T09:44:17.518Z"
   },
   {
    "duration": 165,
    "start_time": "2022-10-16T09:44:17.846Z"
   },
   {
    "duration": 1577,
    "start_time": "2022-10-16T09:44:18.014Z"
   },
   {
    "duration": 12,
    "start_time": "2022-10-16T09:44:19.595Z"
   },
   {
    "duration": 554,
    "start_time": "2022-10-16T09:44:19.608Z"
   },
   {
    "duration": 923,
    "start_time": "2022-10-16T09:44:20.164Z"
   },
   {
    "duration": 943,
    "start_time": "2022-10-16T09:44:21.088Z"
   },
   {
    "duration": 12,
    "start_time": "2022-10-16T09:44:22.033Z"
   },
   {
    "duration": 22,
    "start_time": "2022-10-16T09:44:22.047Z"
   },
   {
    "duration": 2,
    "start_time": "2022-10-16T09:44:22.071Z"
   },
   {
    "duration": 312,
    "start_time": "2022-10-16T09:44:22.074Z"
   },
   {
    "duration": 301,
    "start_time": "2022-10-16T09:44:22.394Z"
   },
   {
    "duration": 438,
    "start_time": "2022-10-16T09:44:22.696Z"
   },
   {
    "duration": 564,
    "start_time": "2022-10-16T09:44:23.135Z"
   },
   {
    "duration": 192,
    "start_time": "2022-10-16T09:44:23.700Z"
   },
   {
    "duration": 185,
    "start_time": "2022-10-16T09:44:23.893Z"
   },
   {
    "duration": 187,
    "start_time": "2022-10-16T09:44:24.080Z"
   },
   {
    "duration": 10,
    "start_time": "2022-10-16T09:44:24.268Z"
   },
   {
    "duration": 22,
    "start_time": "2022-10-16T09:44:24.280Z"
   },
   {
    "duration": 22,
    "start_time": "2022-10-16T10:14:03.378Z"
   },
   {
    "duration": 20,
    "start_time": "2022-10-16T10:14:33.315Z"
   },
   {
    "duration": 32,
    "start_time": "2022-10-16T10:14:39.543Z"
   },
   {
    "duration": 122,
    "start_time": "2022-10-16T10:15:30.581Z"
   },
   {
    "duration": 3,
    "start_time": "2022-10-16T10:15:34.639Z"
   },
   {
    "duration": 3,
    "start_time": "2022-10-16T10:15:41.966Z"
   },
   {
    "duration": 22,
    "start_time": "2022-10-16T10:16:04.635Z"
   },
   {
    "duration": 10,
    "start_time": "2022-10-16T10:18:05.819Z"
   },
   {
    "duration": 1301,
    "start_time": "2022-10-17T18:22:09.888Z"
   },
   {
    "duration": 88,
    "start_time": "2022-10-17T18:22:11.191Z"
   },
   {
    "duration": 51,
    "start_time": "2022-10-17T18:23:38.219Z"
   },
   {
    "duration": 16,
    "start_time": "2022-10-17T18:26:13.349Z"
   },
   {
    "duration": 12,
    "start_time": "2022-10-17T18:28:17.040Z"
   },
   {
    "duration": 50,
    "start_time": "2022-10-17T18:29:19.026Z"
   },
   {
    "duration": 788,
    "start_time": "2022-10-17T18:33:40.618Z"
   },
   {
    "duration": 704,
    "start_time": "2022-10-17T18:34:14.892Z"
   },
   {
    "duration": 3,
    "start_time": "2022-10-17T18:34:30.735Z"
   },
   {
    "duration": 55,
    "start_time": "2022-10-17T18:34:31.349Z"
   },
   {
    "duration": 14,
    "start_time": "2022-10-17T18:34:31.975Z"
   },
   {
    "duration": 10,
    "start_time": "2022-10-17T18:34:38.028Z"
   },
   {
    "duration": 95,
    "start_time": "2022-10-17T18:34:38.885Z"
   },
   {
    "duration": 13,
    "start_time": "2022-10-17T18:34:40.869Z"
   },
   {
    "duration": 10,
    "start_time": "2022-10-17T18:34:41.926Z"
   },
   {
    "duration": 13,
    "start_time": "2022-10-17T18:37:54.373Z"
   },
   {
    "duration": 45,
    "start_time": "2022-10-17T18:39:39.593Z"
   },
   {
    "duration": 9,
    "start_time": "2022-10-17T18:39:52.138Z"
   },
   {
    "duration": 10,
    "start_time": "2022-10-17T18:40:38.022Z"
   },
   {
    "duration": 304,
    "start_time": "2022-10-17T18:42:25.221Z"
   },
   {
    "duration": 13,
    "start_time": "2022-10-17T18:47:10.030Z"
   },
   {
    "duration": 12,
    "start_time": "2022-10-17T18:47:52.597Z"
   },
   {
    "duration": 282,
    "start_time": "2022-10-17T18:48:00.461Z"
   },
   {
    "duration": 300,
    "start_time": "2022-10-17T18:54:50.656Z"
   },
   {
    "duration": 333,
    "start_time": "2022-10-17T18:55:17.673Z"
   },
   {
    "duration": 284,
    "start_time": "2022-10-17T18:57:33.878Z"
   },
   {
    "duration": 279,
    "start_time": "2022-10-17T19:47:28.657Z"
   },
   {
    "duration": 300,
    "start_time": "2022-10-17T19:48:46.029Z"
   },
   {
    "duration": 263,
    "start_time": "2022-10-17T19:52:03.952Z"
   },
   {
    "duration": 266,
    "start_time": "2022-10-17T19:52:39.533Z"
   },
   {
    "duration": 360,
    "start_time": "2022-10-17T19:53:46.057Z"
   },
   {
    "duration": 13,
    "start_time": "2022-10-17T19:56:37.485Z"
   },
   {
    "duration": 11,
    "start_time": "2022-10-17T20:31:35.423Z"
   },
   {
    "duration": 510,
    "start_time": "2022-10-17T20:31:38.046Z"
   },
   {
    "duration": 11,
    "start_time": "2022-10-17T20:32:07.189Z"
   },
   {
    "duration": 389,
    "start_time": "2022-10-17T20:32:10.419Z"
   },
   {
    "duration": 781,
    "start_time": "2022-10-17T20:39:23.539Z"
   },
   {
    "duration": 1015,
    "start_time": "2022-10-17T20:39:25.671Z"
   },
   {
    "duration": 13,
    "start_time": "2022-10-17T20:39:32.982Z"
   },
   {
    "duration": 21,
    "start_time": "2022-10-17T20:39:37.937Z"
   },
   {
    "duration": 3,
    "start_time": "2022-10-17T20:39:38.831Z"
   },
   {
    "duration": 283,
    "start_time": "2022-10-17T20:39:40.597Z"
   },
   {
    "duration": 319,
    "start_time": "2022-10-17T20:39:41.808Z"
   },
   {
    "duration": 287,
    "start_time": "2022-10-17T20:39:43.961Z"
   },
   {
    "duration": 209,
    "start_time": "2022-10-17T20:41:04.435Z"
   },
   {
    "duration": 10,
    "start_time": "2022-10-17T20:41:07.428Z"
   },
   {
    "duration": 9,
    "start_time": "2022-10-17T20:41:08.992Z"
   },
   {
    "duration": 11,
    "start_time": "2022-10-17T20:53:48.993Z"
   },
   {
    "duration": 437,
    "start_time": "2022-10-17T20:59:52.174Z"
   },
   {
    "duration": 860,
    "start_time": "2022-10-17T20:59:55.110Z"
   },
   {
    "duration": 955,
    "start_time": "2022-10-17T20:59:55.972Z"
   },
   {
    "duration": 11,
    "start_time": "2022-10-17T20:59:58.580Z"
   },
   {
    "duration": 21,
    "start_time": "2022-10-17T21:00:02.539Z"
   },
   {
    "duration": 2,
    "start_time": "2022-10-17T21:00:03.403Z"
   },
   {
    "duration": 282,
    "start_time": "2022-10-17T21:00:04.116Z"
   },
   {
    "duration": 291,
    "start_time": "2022-10-17T21:00:04.987Z"
   },
   {
    "duration": 287,
    "start_time": "2022-10-17T21:00:05.750Z"
   },
   {
    "duration": 556,
    "start_time": "2022-10-17T21:00:08.238Z"
   },
   {
    "duration": 179,
    "start_time": "2022-10-17T21:00:11.940Z"
   },
   {
    "duration": 185,
    "start_time": "2022-10-17T21:00:13.012Z"
   },
   {
    "duration": 187,
    "start_time": "2022-10-17T21:00:13.952Z"
   },
   {
    "duration": 9,
    "start_time": "2022-10-17T21:00:22.620Z"
   },
   {
    "duration": 11,
    "start_time": "2022-10-17T21:00:24.681Z"
   },
   {
    "duration": 10,
    "start_time": "2022-10-17T21:05:56.888Z"
   },
   {
    "duration": 12,
    "start_time": "2022-10-17T21:07:26.338Z"
   },
   {
    "duration": 3,
    "start_time": "2022-10-17T21:07:55.619Z"
   },
   {
    "duration": 53,
    "start_time": "2022-10-17T21:07:55.887Z"
   },
   {
    "duration": 14,
    "start_time": "2022-10-17T21:07:56.103Z"
   },
   {
    "duration": 10,
    "start_time": "2022-10-17T21:07:58.253Z"
   },
   {
    "duration": 92,
    "start_time": "2022-10-17T21:07:58.631Z"
   },
   {
    "duration": 13,
    "start_time": "2022-10-17T21:07:59.336Z"
   },
   {
    "duration": 10,
    "start_time": "2022-10-17T21:07:59.749Z"
   },
   {
    "duration": 9,
    "start_time": "2022-10-17T21:08:00.674Z"
   },
   {
    "duration": 299,
    "start_time": "2022-10-17T21:08:01.877Z"
   },
   {
    "duration": 11,
    "start_time": "2022-10-17T21:08:03.166Z"
   },
   {
    "duration": 11,
    "start_time": "2022-10-17T21:08:04.298Z"
   },
   {
    "duration": 10,
    "start_time": "2022-10-17T21:08:22.598Z"
   },
   {
    "duration": 11,
    "start_time": "2022-10-17T21:09:47.879Z"
   },
   {
    "duration": 10,
    "start_time": "2022-10-17T21:11:36.282Z"
   },
   {
    "duration": 271,
    "start_time": "2022-10-17T21:11:43.833Z"
   },
   {
    "duration": 266,
    "start_time": "2022-10-17T21:11:50.711Z"
   },
   {
    "duration": 1617,
    "start_time": "2022-10-17T21:11:53.685Z"
   },
   {
    "duration": 12,
    "start_time": "2022-10-17T21:11:55.801Z"
   },
   {
    "duration": 417,
    "start_time": "2022-10-17T21:11:58.094Z"
   },
   {
    "duration": 811,
    "start_time": "2022-10-17T21:12:06.086Z"
   },
   {
    "duration": 999,
    "start_time": "2022-10-17T21:12:06.898Z"
   },
   {
    "duration": 12,
    "start_time": "2022-10-17T21:12:09.213Z"
   },
   {
    "duration": 21,
    "start_time": "2022-10-17T21:12:12.358Z"
   },
   {
    "duration": 2,
    "start_time": "2022-10-17T21:12:13.287Z"
   },
   {
    "duration": 280,
    "start_time": "2022-10-17T21:12:14.035Z"
   },
   {
    "duration": 299,
    "start_time": "2022-10-17T21:12:14.453Z"
   },
   {
    "duration": 288,
    "start_time": "2022-10-17T21:12:15.101Z"
   },
   {
    "duration": 570,
    "start_time": "2022-10-17T21:12:17.532Z"
   },
   {
    "duration": 188,
    "start_time": "2022-10-17T21:12:19.486Z"
   },
   {
    "duration": 185,
    "start_time": "2022-10-17T21:12:20.105Z"
   },
   {
    "duration": 187,
    "start_time": "2022-10-17T21:12:21.097Z"
   },
   {
    "duration": 11,
    "start_time": "2022-10-17T21:12:25.147Z"
   },
   {
    "duration": 11,
    "start_time": "2022-10-17T21:12:27.191Z"
   },
   {
    "duration": 78,
    "start_time": "2022-10-17T21:13:25.859Z"
   },
   {
    "duration": 1327,
    "start_time": "2022-10-18T17:34:47.196Z"
   },
   {
    "duration": 224,
    "start_time": "2022-10-18T17:34:48.525Z"
   },
   {
    "duration": 15,
    "start_time": "2022-10-18T17:34:48.750Z"
   },
   {
    "duration": 9,
    "start_time": "2022-10-18T17:34:48.766Z"
   },
   {
    "duration": 93,
    "start_time": "2022-10-18T17:34:48.777Z"
   },
   {
    "duration": 12,
    "start_time": "2022-10-18T17:34:48.872Z"
   },
   {
    "duration": 26,
    "start_time": "2022-10-18T17:34:48.886Z"
   },
   {
    "duration": 19,
    "start_time": "2022-10-18T17:34:48.913Z"
   },
   {
    "duration": 321,
    "start_time": "2022-10-18T17:34:48.933Z"
   },
   {
    "duration": 335,
    "start_time": "2022-10-18T17:34:49.255Z"
   },
   {
    "duration": 1592,
    "start_time": "2022-10-18T17:34:49.591Z"
   },
   {
    "duration": 10,
    "start_time": "2022-10-18T17:34:51.185Z"
   },
   {
    "duration": 451,
    "start_time": "2022-10-18T17:34:51.196Z"
   },
   {
    "duration": 778,
    "start_time": "2022-10-18T17:34:51.651Z"
   },
   {
    "duration": 927,
    "start_time": "2022-10-18T17:34:52.431Z"
   },
   {
    "duration": 21,
    "start_time": "2022-10-18T17:34:53.360Z"
   },
   {
    "duration": 56,
    "start_time": "2022-10-18T17:34:53.383Z"
   },
   {
    "duration": 2,
    "start_time": "2022-10-18T17:34:53.441Z"
   },
   {
    "duration": 292,
    "start_time": "2022-10-18T17:34:53.444Z"
   },
   {
    "duration": 406,
    "start_time": "2022-10-18T17:34:53.738Z"
   },
   {
    "duration": 287,
    "start_time": "2022-10-18T17:34:54.146Z"
   },
   {
    "duration": 595,
    "start_time": "2022-10-18T17:34:54.434Z"
   },
   {
    "duration": 190,
    "start_time": "2022-10-18T17:34:55.031Z"
   },
   {
    "duration": 188,
    "start_time": "2022-10-18T17:34:55.223Z"
   },
   {
    "duration": 188,
    "start_time": "2022-10-18T17:34:55.413Z"
   },
   {
    "duration": 21,
    "start_time": "2022-10-18T17:34:55.603Z"
   },
   {
    "duration": 11,
    "start_time": "2022-10-18T17:34:55.626Z"
   },
   {
    "duration": 3,
    "start_time": "2022-10-18T19:27:09.952Z"
   },
   {
    "duration": 6,
    "start_time": "2022-10-18T19:27:18.358Z"
   },
   {
    "duration": 6,
    "start_time": "2022-10-18T19:28:08.919Z"
   },
   {
    "duration": 12,
    "start_time": "2022-10-18T19:28:43.568Z"
   },
   {
    "duration": 22,
    "start_time": "2022-10-18T19:33:50.112Z"
   },
   {
    "duration": 20,
    "start_time": "2022-10-18T19:34:00.155Z"
   },
   {
    "duration": 9,
    "start_time": "2022-10-18T19:41:20.978Z"
   },
   {
    "duration": 1090,
    "start_time": "2022-10-18T19:41:53.224Z"
   },
   {
    "duration": 65,
    "start_time": "2022-10-18T19:41:54.316Z"
   },
   {
    "duration": 13,
    "start_time": "2022-10-18T19:41:54.383Z"
   },
   {
    "duration": 9,
    "start_time": "2022-10-18T19:41:54.398Z"
   },
   {
    "duration": 89,
    "start_time": "2022-10-18T19:41:54.409Z"
   },
   {
    "duration": 14,
    "start_time": "2022-10-18T19:41:54.499Z"
   },
   {
    "duration": 11,
    "start_time": "2022-10-18T19:41:54.521Z"
   },
   {
    "duration": 13,
    "start_time": "2022-10-18T19:41:54.533Z"
   },
   {
    "duration": 339,
    "start_time": "2022-10-18T19:41:54.548Z"
   },
   {
    "duration": 303,
    "start_time": "2022-10-18T19:41:54.889Z"
   },
   {
    "duration": 1612,
    "start_time": "2022-10-18T19:41:55.194Z"
   },
   {
    "duration": 18,
    "start_time": "2022-10-18T19:41:56.808Z"
   },
   {
    "duration": 439,
    "start_time": "2022-10-18T19:41:56.827Z"
   },
   {
    "duration": 805,
    "start_time": "2022-10-18T19:41:57.268Z"
   },
   {
    "duration": 3,
    "start_time": "2022-10-18T19:41:58.074Z"
   },
   {
    "duration": 0,
    "start_time": "2022-10-18T19:41:58.078Z"
   },
   {
    "duration": 0,
    "start_time": "2022-10-18T19:41:58.079Z"
   },
   {
    "duration": 0,
    "start_time": "2022-10-18T19:41:58.081Z"
   },
   {
    "duration": 0,
    "start_time": "2022-10-18T19:41:58.081Z"
   },
   {
    "duration": 0,
    "start_time": "2022-10-18T19:41:58.082Z"
   },
   {
    "duration": 0,
    "start_time": "2022-10-18T19:41:58.084Z"
   },
   {
    "duration": 0,
    "start_time": "2022-10-18T19:41:58.084Z"
   },
   {
    "duration": 0,
    "start_time": "2022-10-18T19:41:58.085Z"
   },
   {
    "duration": 0,
    "start_time": "2022-10-18T19:41:58.087Z"
   },
   {
    "duration": 0,
    "start_time": "2022-10-18T19:41:58.088Z"
   },
   {
    "duration": 0,
    "start_time": "2022-10-18T19:41:58.089Z"
   },
   {
    "duration": 0,
    "start_time": "2022-10-18T19:41:58.090Z"
   },
   {
    "duration": 0,
    "start_time": "2022-10-18T19:41:58.091Z"
   },
   {
    "duration": 4,
    "start_time": "2022-10-18T19:42:30.062Z"
   },
   {
    "duration": 73,
    "start_time": "2022-10-18T19:42:39.550Z"
   },
   {
    "duration": 152,
    "start_time": "2022-10-18T19:42:47.548Z"
   },
   {
    "duration": 77,
    "start_time": "2022-10-18T19:42:52.993Z"
   },
   {
    "duration": 913,
    "start_time": "2022-10-18T19:43:11.680Z"
   },
   {
    "duration": 1100,
    "start_time": "2022-10-18T19:43:19.368Z"
   },
   {
    "duration": 74,
    "start_time": "2022-10-18T19:43:20.470Z"
   },
   {
    "duration": 16,
    "start_time": "2022-10-18T19:43:20.545Z"
   },
   {
    "duration": 13,
    "start_time": "2022-10-18T19:43:20.562Z"
   },
   {
    "duration": 112,
    "start_time": "2022-10-18T19:43:20.577Z"
   },
   {
    "duration": 16,
    "start_time": "2022-10-18T19:43:20.691Z"
   },
   {
    "duration": 23,
    "start_time": "2022-10-18T19:43:20.709Z"
   },
   {
    "duration": 24,
    "start_time": "2022-10-18T19:43:20.734Z"
   },
   {
    "duration": 331,
    "start_time": "2022-10-18T19:43:20.760Z"
   },
   {
    "duration": 293,
    "start_time": "2022-10-18T19:43:21.093Z"
   },
   {
    "duration": 1581,
    "start_time": "2022-10-18T19:43:21.388Z"
   },
   {
    "duration": 14,
    "start_time": "2022-10-18T19:43:22.970Z"
   },
   {
    "duration": 455,
    "start_time": "2022-10-18T19:43:22.985Z"
   },
   {
    "duration": 757,
    "start_time": "2022-10-18T19:43:23.442Z"
   },
   {
    "duration": 880,
    "start_time": "2022-10-18T19:43:24.200Z"
   },
   {
    "duration": 12,
    "start_time": "2022-10-18T19:43:25.081Z"
   },
   {
    "duration": 31,
    "start_time": "2022-10-18T19:43:25.094Z"
   },
   {
    "duration": 2,
    "start_time": "2022-10-18T19:43:25.127Z"
   },
   {
    "duration": 322,
    "start_time": "2022-10-18T19:43:25.131Z"
   },
   {
    "duration": 371,
    "start_time": "2022-10-18T19:43:25.455Z"
   },
   {
    "duration": 347,
    "start_time": "2022-10-18T19:43:25.834Z"
   },
   {
    "duration": 542,
    "start_time": "2022-10-18T19:43:26.183Z"
   },
   {
    "duration": 184,
    "start_time": "2022-10-18T19:43:26.727Z"
   },
   {
    "duration": 178,
    "start_time": "2022-10-18T19:43:26.912Z"
   },
   {
    "duration": 197,
    "start_time": "2022-10-18T19:43:27.092Z"
   },
   {
    "duration": 10,
    "start_time": "2022-10-18T19:43:27.290Z"
   },
   {
    "duration": 105,
    "start_time": "2022-10-18T19:43:27.302Z"
   },
   {
    "duration": 0,
    "start_time": "2022-10-18T19:43:27.409Z"
   },
   {
    "duration": 9,
    "start_time": "2022-10-18T19:43:32.661Z"
   },
   {
    "duration": 11,
    "start_time": "2022-10-18T19:43:58.559Z"
   },
   {
    "duration": 11,
    "start_time": "2022-10-18T19:44:23.759Z"
   },
   {
    "duration": 1344,
    "start_time": "2022-10-19T19:46:40.614Z"
   },
   {
    "duration": 91,
    "start_time": "2022-10-19T19:46:41.961Z"
   },
   {
    "duration": 15,
    "start_time": "2022-10-19T19:46:42.054Z"
   },
   {
    "duration": 12,
    "start_time": "2022-10-19T19:46:47.599Z"
   },
   {
    "duration": 95,
    "start_time": "2022-10-19T19:46:47.903Z"
   },
   {
    "duration": 19,
    "start_time": "2022-10-19T19:46:49.236Z"
   },
   {
    "duration": 10,
    "start_time": "2022-10-19T19:46:49.969Z"
   },
   {
    "duration": 16,
    "start_time": "2022-10-19T19:46:52.432Z"
   },
   {
    "duration": 460,
    "start_time": "2022-10-19T19:46:56.518Z"
   },
   {
    "duration": 325,
    "start_time": "2022-10-19T19:47:09.244Z"
   },
   {
    "duration": 334,
    "start_time": "2022-10-19T19:52:01.841Z"
   },
   {
    "duration": 333,
    "start_time": "2022-10-19T19:53:31.803Z"
   },
   {
    "duration": 404,
    "start_time": "2022-10-19T19:55:28.166Z"
   },
   {
    "duration": 338,
    "start_time": "2022-10-19T19:56:12.792Z"
   },
   {
    "duration": 316,
    "start_time": "2022-10-19T19:56:23.868Z"
   },
   {
    "duration": 319,
    "start_time": "2022-10-19T20:01:27.191Z"
   },
   {
    "duration": 315,
    "start_time": "2022-10-19T20:01:39.018Z"
   },
   {
    "duration": 318,
    "start_time": "2022-10-19T20:01:44.460Z"
   },
   {
    "duration": 1820,
    "start_time": "2022-10-19T20:03:34.541Z"
   },
   {
    "duration": 14,
    "start_time": "2022-10-19T20:03:39.105Z"
   },
   {
    "duration": 13,
    "start_time": "2022-10-19T20:03:59.727Z"
   },
   {
    "duration": 47,
    "start_time": "2022-10-19T20:05:08.094Z"
   },
   {
    "duration": 49,
    "start_time": "2022-10-19T20:13:11.138Z"
   },
   {
    "duration": 14,
    "start_time": "2022-10-19T20:13:20.221Z"
   },
   {
    "duration": 59,
    "start_time": "2022-10-19T20:13:24.422Z"
   },
   {
    "duration": 658,
    "start_time": "2022-10-19T20:13:38.871Z"
   },
   {
    "duration": 137,
    "start_time": "2022-10-19T20:14:05.054Z"
   },
   {
    "duration": 467,
    "start_time": "2022-10-19T20:14:37.131Z"
   },
   {
    "duration": 591,
    "start_time": "2022-10-19T20:15:40.142Z"
   },
   {
    "duration": 599,
    "start_time": "2022-10-19T20:15:56.445Z"
   },
   {
    "duration": 468,
    "start_time": "2022-10-19T20:16:14.444Z"
   },
   {
    "duration": 211,
    "start_time": "2022-10-19T20:21:23.530Z"
   },
   {
    "duration": 234,
    "start_time": "2022-10-19T20:21:24.673Z"
   },
   {
    "duration": 200,
    "start_time": "2022-10-19T20:21:26.193Z"
   },
   {
    "duration": 755,
    "start_time": "2022-10-19T20:22:28.574Z"
   },
   {
    "duration": 643,
    "start_time": "2022-10-19T20:34:17.041Z"
   },
   {
    "duration": 202,
    "start_time": "2022-10-19T20:35:20.372Z"
   },
   {
    "duration": 208,
    "start_time": "2022-10-19T20:35:32.667Z"
   },
   {
    "duration": 219,
    "start_time": "2022-10-19T20:35:47.144Z"
   },
   {
    "duration": 219,
    "start_time": "2022-10-19T20:36:15.437Z"
   },
   {
    "duration": 11,
    "start_time": "2022-10-19T20:39:13.956Z"
   },
   {
    "duration": 11,
    "start_time": "2022-10-19T20:39:31.818Z"
   },
   {
    "duration": 10,
    "start_time": "2022-10-19T20:40:23.040Z"
   },
   {
    "duration": 11,
    "start_time": "2022-10-19T20:40:38.926Z"
   },
   {
    "duration": 25,
    "start_time": "2022-10-19T20:40:53.429Z"
   },
   {
    "duration": 13,
    "start_time": "2022-10-19T20:45:39.611Z"
   },
   {
    "duration": 16,
    "start_time": "2022-10-19T20:46:21.514Z"
   },
   {
    "duration": 85,
    "start_time": "2022-10-19T20:46:31.786Z"
   },
   {
    "duration": 13,
    "start_time": "2022-10-19T20:46:33.182Z"
   },
   {
    "duration": 3,
    "start_time": "2022-10-19T20:46:45.963Z"
   },
   {
    "duration": 55,
    "start_time": "2022-10-19T20:46:46.719Z"
   },
   {
    "duration": 18,
    "start_time": "2022-10-19T20:46:47.376Z"
   },
   {
    "duration": 15,
    "start_time": "2022-10-19T20:46:52.120Z"
   },
   {
    "duration": 96,
    "start_time": "2022-10-19T20:46:52.704Z"
   },
   {
    "duration": 20,
    "start_time": "2022-10-19T20:46:53.764Z"
   },
   {
    "duration": 13,
    "start_time": "2022-10-19T20:46:54.316Z"
   },
   {
    "duration": 13,
    "start_time": "2022-10-19T20:46:57.697Z"
   },
   {
    "duration": 18,
    "start_time": "2022-10-19T20:47:29.686Z"
   },
   {
    "duration": 19,
    "start_time": "2022-10-19T20:47:32.605Z"
   },
   {
    "duration": 12,
    "start_time": "2022-10-19T20:47:43.279Z"
   },
   {
    "duration": 118,
    "start_time": "2022-10-19T20:47:43.655Z"
   },
   {
    "duration": 18,
    "start_time": "2022-10-19T20:47:44.754Z"
   },
   {
    "duration": 4,
    "start_time": "2022-10-19T20:48:01.106Z"
   },
   {
    "duration": 76,
    "start_time": "2022-10-19T20:48:01.594Z"
   },
   {
    "duration": 15,
    "start_time": "2022-10-19T20:48:02.046Z"
   },
   {
    "duration": 15,
    "start_time": "2022-10-19T20:48:05.952Z"
   },
   {
    "duration": 97,
    "start_time": "2022-10-19T20:48:06.494Z"
   },
   {
    "duration": 17,
    "start_time": "2022-10-19T20:48:08.678Z"
   },
   {
    "duration": 15,
    "start_time": "2022-10-19T20:49:00.019Z"
   },
   {
    "duration": 11,
    "start_time": "2022-10-19T20:49:04.150Z"
   },
   {
    "duration": 13,
    "start_time": "2022-10-19T20:49:05.420Z"
   },
   {
    "duration": 351,
    "start_time": "2022-10-19T20:49:06.777Z"
   },
   {
    "duration": 337,
    "start_time": "2022-10-19T20:49:08.368Z"
   },
   {
    "duration": 1900,
    "start_time": "2022-10-19T20:49:09.354Z"
   },
   {
    "duration": 15,
    "start_time": "2022-10-19T20:49:11.256Z"
   },
   {
    "duration": 485,
    "start_time": "2022-10-19T20:49:12.690Z"
   },
   {
    "duration": 177,
    "start_time": "2022-10-19T20:49:14.383Z"
   },
   {
    "duration": 1301,
    "start_time": "2022-10-19T20:49:15.046Z"
   },
   {
    "duration": 17,
    "start_time": "2022-10-19T20:49:17.526Z"
   },
   {
    "duration": 28,
    "start_time": "2022-10-19T20:49:19.618Z"
   },
   {
    "duration": 3,
    "start_time": "2022-10-19T20:49:20.192Z"
   },
   {
    "duration": 210,
    "start_time": "2022-10-19T20:49:20.994Z"
   },
   {
    "duration": 297,
    "start_time": "2022-10-19T20:49:21.448Z"
   },
   {
    "duration": 209,
    "start_time": "2022-10-19T20:49:21.801Z"
   },
   {
    "duration": 642,
    "start_time": "2022-10-19T20:49:23.856Z"
   },
   {
    "duration": 210,
    "start_time": "2022-10-19T20:49:25.798Z"
   },
   {
    "duration": 218,
    "start_time": "2022-10-19T20:49:26.720Z"
   },
   {
    "duration": 233,
    "start_time": "2022-10-19T20:49:27.154Z"
   },
   {
    "duration": 20,
    "start_time": "2022-10-19T20:49:28.622Z"
   },
   {
    "duration": 20,
    "start_time": "2022-10-19T20:50:39.386Z"
   },
   {
    "duration": 25,
    "start_time": "2022-10-19T20:51:01.558Z"
   },
   {
    "duration": 207,
    "start_time": "2022-10-19T20:57:14.102Z"
   },
   {
    "duration": 21,
    "start_time": "2022-10-19T21:00:02.392Z"
   },
   {
    "duration": 22,
    "start_time": "2022-10-19T21:00:29.869Z"
   },
   {
    "duration": 18,
    "start_time": "2022-10-19T21:00:32.603Z"
   },
   {
    "duration": 23,
    "start_time": "2022-10-19T21:00:40.217Z"
   },
   {
    "duration": 18,
    "start_time": "2022-10-19T21:01:02.950Z"
   },
   {
    "duration": 19,
    "start_time": "2022-10-19T21:01:16.026Z"
   },
   {
    "duration": 4,
    "start_time": "2022-10-19T21:01:23.560Z"
   },
   {
    "duration": 59,
    "start_time": "2022-10-19T21:01:23.787Z"
   },
   {
    "duration": 16,
    "start_time": "2022-10-19T21:01:24.218Z"
   },
   {
    "duration": 12,
    "start_time": "2022-10-19T21:01:27.218Z"
   },
   {
    "duration": 94,
    "start_time": "2022-10-19T21:01:27.697Z"
   },
   {
    "duration": 14,
    "start_time": "2022-10-19T21:01:28.864Z"
   },
   {
    "duration": 11,
    "start_time": "2022-10-19T21:01:36.963Z"
   },
   {
    "duration": 13,
    "start_time": "2022-10-19T21:01:37.813Z"
   },
   {
    "duration": 458,
    "start_time": "2022-10-19T21:01:38.836Z"
   },
   {
    "duration": 331,
    "start_time": "2022-10-19T21:01:39.973Z"
   },
   {
    "duration": 1796,
    "start_time": "2022-10-19T21:01:41.613Z"
   },
   {
    "duration": 15,
    "start_time": "2022-10-19T21:01:43.411Z"
   },
   {
    "duration": 461,
    "start_time": "2022-10-19T21:01:45.993Z"
   },
   {
    "duration": 1011,
    "start_time": "2022-10-19T21:01:47.564Z"
   },
   {
    "duration": 1050,
    "start_time": "2022-10-19T21:01:49.549Z"
   },
   {
    "duration": 14,
    "start_time": "2022-10-19T21:01:53.516Z"
   },
   {
    "duration": 26,
    "start_time": "2022-10-19T21:01:55.119Z"
   },
   {
    "duration": 2,
    "start_time": "2022-10-19T21:01:55.448Z"
   },
   {
    "duration": 195,
    "start_time": "2022-10-19T21:01:55.879Z"
   },
   {
    "duration": 207,
    "start_time": "2022-10-19T21:01:56.334Z"
   },
   {
    "duration": 203,
    "start_time": "2022-10-19T21:01:56.816Z"
   },
   {
    "duration": 724,
    "start_time": "2022-10-19T21:01:58.562Z"
   },
   {
    "duration": 203,
    "start_time": "2022-10-19T21:02:00.013Z"
   },
   {
    "duration": 214,
    "start_time": "2022-10-19T21:02:00.292Z"
   },
   {
    "duration": 237,
    "start_time": "2022-10-19T21:02:00.511Z"
   },
   {
    "duration": 12,
    "start_time": "2022-10-19T21:02:02.183Z"
   },
   {
    "duration": 9,
    "start_time": "2022-10-19T21:03:03.135Z"
   },
   {
    "duration": 9,
    "start_time": "2022-10-19T21:04:19.180Z"
   },
   {
    "duration": 11,
    "start_time": "2022-10-19T21:07:16.850Z"
   },
   {
    "duration": 9,
    "start_time": "2022-10-19T21:07:34.415Z"
   },
   {
    "duration": 9,
    "start_time": "2022-10-19T21:07:46.745Z"
   },
   {
    "duration": 10,
    "start_time": "2022-10-19T21:08:39.747Z"
   },
   {
    "duration": 13,
    "start_time": "2022-10-19T21:11:16.765Z"
   },
   {
    "duration": 17,
    "start_time": "2022-10-19T21:11:27.468Z"
   },
   {
    "duration": 17,
    "start_time": "2022-10-19T21:12:06.276Z"
   },
   {
    "duration": 19,
    "start_time": "2022-10-19T21:12:39.809Z"
   },
   {
    "duration": 13,
    "start_time": "2022-10-19T21:13:22.855Z"
   },
   {
    "duration": 8,
    "start_time": "2022-10-19T21:13:43.646Z"
   },
   {
    "duration": 1636,
    "start_time": "2022-10-20T15:39:35.150Z"
   },
   {
    "duration": 89,
    "start_time": "2022-10-20T15:39:36.789Z"
   },
   {
    "duration": 18,
    "start_time": "2022-10-20T15:39:36.879Z"
   },
   {
    "duration": 13,
    "start_time": "2022-10-20T15:39:36.899Z"
   },
   {
    "duration": 118,
    "start_time": "2022-10-20T15:39:36.914Z"
   },
   {
    "duration": 25,
    "start_time": "2022-10-20T15:39:37.034Z"
   },
   {
    "duration": 11,
    "start_time": "2022-10-20T15:39:37.061Z"
   },
   {
    "duration": 17,
    "start_time": "2022-10-20T15:39:37.074Z"
   },
   {
    "duration": 379,
    "start_time": "2022-10-20T15:39:37.093Z"
   },
   {
    "duration": 361,
    "start_time": "2022-10-20T15:39:37.474Z"
   },
   {
    "duration": 1840,
    "start_time": "2022-10-20T15:39:37.837Z"
   },
   {
    "duration": 13,
    "start_time": "2022-10-20T15:39:39.679Z"
   },
   {
    "duration": 539,
    "start_time": "2022-10-20T15:39:39.693Z"
   },
   {
    "duration": 922,
    "start_time": "2022-10-20T15:39:40.234Z"
   },
   {
    "duration": 1180,
    "start_time": "2022-10-20T15:39:41.158Z"
   },
   {
    "duration": 21,
    "start_time": "2022-10-20T15:39:42.340Z"
   },
   {
    "duration": 22,
    "start_time": "2022-10-20T15:39:42.362Z"
   },
   {
    "duration": 2,
    "start_time": "2022-10-20T15:39:42.386Z"
   },
   {
    "duration": 225,
    "start_time": "2022-10-20T15:39:42.389Z"
   },
   {
    "duration": 250,
    "start_time": "2022-10-20T15:39:42.616Z"
   },
   {
    "duration": 337,
    "start_time": "2022-10-20T15:39:42.868Z"
   },
   {
    "duration": 647,
    "start_time": "2022-10-20T15:39:43.207Z"
   },
   {
    "duration": 214,
    "start_time": "2022-10-20T15:39:43.855Z"
   },
   {
    "duration": 211,
    "start_time": "2022-10-20T15:39:44.071Z"
   },
   {
    "duration": 222,
    "start_time": "2022-10-20T15:39:44.283Z"
   },
   {
    "duration": 9,
    "start_time": "2022-10-20T15:39:44.507Z"
   },
   {
    "duration": 11,
    "start_time": "2022-10-20T15:39:44.518Z"
   }
  ],
  "kernelspec": {
   "display_name": "Python 3 (ipykernel)",
   "language": "python",
   "name": "python3"
  },
  "language_info": {
   "codemirror_mode": {
    "name": "ipython",
    "version": 3
   },
   "file_extension": ".py",
   "mimetype": "text/x-python",
   "name": "python",
   "nbconvert_exporter": "python",
   "pygments_lexer": "ipython3",
   "version": "3.10.9"
  },
  "toc": {
   "base_numbering": 1,
   "nav_menu": {},
   "number_sections": true,
   "sideBar": true,
   "skip_h1_title": true,
   "title_cell": "Table of Contents",
   "title_sidebar": "Contents",
   "toc_cell": false,
   "toc_position": {},
   "toc_section_display": true,
   "toc_window_display": false
  }
 },
 "nbformat": 4,
 "nbformat_minor": 2
}
